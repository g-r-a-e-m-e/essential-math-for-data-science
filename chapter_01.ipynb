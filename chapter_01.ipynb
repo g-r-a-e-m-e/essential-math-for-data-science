{
  "nbformat": 4,
  "nbformat_minor": 0,
  "metadata": {
    "colab": {
      "name": "chapter-01.ipynb",
      "provenance": [],
      "authorship_tag": "ABX9TyOJrccenIFJ1e3joKf0jD+b",
      "include_colab_link": true
    },
    "kernelspec": {
      "name": "python3",
      "display_name": "Python 3"
    },
    "language_info": {
      "name": "python"
    }
  },
  "cells": [
    {
      "cell_type": "markdown",
      "metadata": {
        "id": "view-in-github",
        "colab_type": "text"
      },
      "source": [
        "<a href=\"https://colab.research.google.com/github/g-r-a-e-m-e/essential-math-for-data-science/blob/main/chapter_01.ipynb\" target=\"_parent\"><img src=\"https://colab.research.google.com/assets/colab-badge.svg\" alt=\"Open In Colab\"/></a>"
      ]
    },
    {
      "cell_type": "markdown",
      "source": [
        "# Chapter 01\n",
        "## Basic Math and Calculus Review\n"
      ],
      "metadata": {
        "id": "vOjOqJ1ZdJS1"
      }
    },
    {
      "cell_type": "code",
      "execution_count": 1,
      "metadata": {
        "colab": {
          "base_uri": "https://localhost:8080/"
        },
        "id": "mR7wS2Vpc4UC",
        "outputId": "5cac9c32-5e6d-4dbd-f0bf-50a456825899"
      },
      "outputs": [
        {
          "output_type": "stream",
          "name": "stdout",
          "text": [
            "6.0\n"
          ]
        }
      ],
      "source": [
        "# Example 1-1. Solving an expression in Python\n",
        "v = 2 * (3 + 2)**2 / 5 - 4\n",
        "print(v)"
      ]
    },
    {
      "cell_type": "code",
      "source": [
        "# Example 1-2. Making use of parentheses for clarity in Python\n",
        "v = 2 * ((3 + 2)**2 / 5) - 4\n",
        "print(v)"
      ],
      "metadata": {
        "colab": {
          "base_uri": "https://localhost:8080/"
        },
        "id": "f2Mhi6DRdjDH",
        "outputId": "c335fc08-a616-4d84-8e50-f8ba63f42c21"
      },
      "execution_count": 2,
      "outputs": [
        {
          "output_type": "stream",
          "name": "stdout",
          "text": [
            "6.0\n"
          ]
        }
      ]
    },
    {
      "cell_type": "markdown",
      "source": [
        "### Variables"
      ],
      "metadata": {
        "id": "ut3fgFy-d0D3"
      }
    },
    {
      "cell_type": "code",
      "source": [
        "# Example 1-3. A variable in Python that is then multiplied\n",
        "x = int(input(\"Enter a number x:\\n\"))\n",
        "y = int(input(\"Enter a number y:\\n\"))\n",
        "\n",
        "product = x * y\n",
        "\n",
        "print(\"The product of x and y is \" + str(product))"
      ],
      "metadata": {
        "colab": {
          "base_uri": "https://localhost:8080/"
        },
        "id": "fxe6Asp2dxzl",
        "outputId": "01afac46-a3e8-46b6-c808-403fbede3995"
      },
      "execution_count": 4,
      "outputs": [
        {
          "output_type": "stream",
          "name": "stdout",
          "text": [
            "Enter a number x:\n",
            "69\n",
            "Enter a number y:\n",
            "420\n",
            "The product of x and y is 28980\n"
          ]
        }
      ]
    },
    {
      "cell_type": "code",
      "source": [
        ""
      ],
      "metadata": {
        "id": "qfbb4uQSeH9s"
      },
      "execution_count": null,
      "outputs": []
    }
  ]
}