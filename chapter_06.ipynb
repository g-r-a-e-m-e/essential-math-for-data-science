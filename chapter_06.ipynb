{
  "nbformat": 4,
  "nbformat_minor": 0,
  "metadata": {
    "colab": {
      "provenance": [],
      "collapsed_sections": [],
      "toc_visible": true,
      "authorship_tag": "ABX9TyPwZhwH8msXkjK4fK/X1lOJ",
      "include_colab_link": true
    },
    "kernelspec": {
      "name": "python3",
      "display_name": "Python 3"
    },
    "language_info": {
      "name": "python"
    }
  },
  "cells": [
    {
      "cell_type": "markdown",
      "metadata": {
        "id": "view-in-github",
        "colab_type": "text"
      },
      "source": [
        "<a href=\"https://colab.research.google.com/github/g-r-a-e-m-e/essential-math-for-data-science/blob/main/chapter_06.ipynb\" target=\"_parent\"><img src=\"https://colab.research.google.com/assets/colab-badge.svg\" alt=\"Open In Colab\"/></a>"
      ]
    },
    {
      "cell_type": "markdown",
      "source": [
        "# Chapter 06\n",
        "## Logistic Regression and Classification"
      ],
      "metadata": {
        "id": "BYUNPYrEnp5s"
      }
    },
    {
      "cell_type": "markdown",
      "source": [
        "### Performing a Logistic Regression"
      ],
      "metadata": {
        "id": "ar3KlSXToEdq"
      }
    },
    {
      "cell_type": "markdown",
      "source": [
        "#### Logistic Function\n",
        "\n",
        "$y = {\\displaystyle \\frac{1.0}{1.0 + e^{-(\\beta_0 + \\beta_1 x)}}}$"
      ],
      "metadata": {
        "id": "zugkHmURuG6r"
      }
    },
    {
      "cell_type": "code",
      "execution_count": 1,
      "metadata": {
        "id": "3evwPQtGnm7o"
      },
      "outputs": [],
      "source": [
        "# Example 6-1. The logistic function\n",
        "import math\n",
        "\n",
        "# Define function to predict probability\n",
        "def predict_probability(x, b0, b1):\n",
        "  p = 1.0 / (1.0 + math.exp(-(b0 + b1 * x)))\n",
        "  return p"
      ]
    },
    {
      "cell_type": "code",
      "source": [
        "# Example 6-2. Using SymPy to plot a logistic function\n",
        "from sympy import *\n",
        "b0, b1, x = symbols('b0 b1 x')\n",
        "\n",
        "p = 1.0 / (1.0 + exp(-(b0 + b1 * x)))\n",
        "\n",
        "p = p.subs(b0, -2.823)\n",
        "p = p.subs(b1, 0.620)\n",
        "print(p)\n",
        "\n",
        "plot(p)"
      ],
      "metadata": {
        "colab": {
          "base_uri": "https://localhost:8080/",
          "height": 332
        },
        "id": "sLRL9NdNr5L7",
        "outputId": "58bb3519-7a5b-4dfa-8f26-ad6902053699"
      },
      "execution_count": 2,
      "outputs": [
        {
          "output_type": "stream",
          "name": "stdout",
          "text": [
            "1.0/(1.0 + 16.8272567955368*exp(-0.62*x))\n"
          ]
        },
        {
          "output_type": "display_data",
          "data": {
            "text/plain": [
              "<Figure size 432x288 with 1 Axes>"
            ],
            "image/png": "[encoded data removed]"
          },
          "metadata": {
            "needs_background": "light"
          }
        },
        {
          "output_type": "execute_result",
          "data": {
            "text/plain": [
              "<sympy.plotting.plot.Plot at 0x7fc12f04d750>"
            ]
          },
          "metadata": {},
          "execution_count": 2
        }
      ]
    },
    {
      "cell_type": "markdown",
      "source": [
        "Alternative logistic function\n",
        "\n",
        "$p = {\\displaystyle \\frac{e^{\\beta_0 + \\beta_1 x}}{1.0 + e^{\\beta_0 + \\beta_1 x}}}$\n",
        "\n",
        "Extending logistic function to more variables\n",
        "\n",
        "$p = {\\displaystyle \\frac{1.0}{e^{-(\\beta_0 + \\beta_1 x_1 + \\beta_2 x_2 + ... \\beta_n x_n)}}}$"
      ],
      "metadata": {
        "id": "3jCpI4XDrjoG"
      }
    },
    {
      "cell_type": "markdown",
      "source": [
        "#### Fitting the Logistic Curve\n"
      ],
      "metadata": {
        "id": "bkXlHZAYt7jB"
      }
    },
    {
      "cell_type": "markdown",
      "source": [
        "##### Using SciPy"
      ],
      "metadata": {
        "id": "0tSdKNmo2PLm"
      }
    },
    {
      "cell_type": "code",
      "source": [
        "# Example 6-3. Using a plain logistic regression in SciPy\n",
        "import pandas as pd\n",
        "from sklearn.linear_model import LogisticRegression\n",
        "import seaborn as sns\n",
        "\n",
        "# Load data\n",
        "df = pd.read_csv('https://bit.ly/33ebs2R', delimiter = ',')\n",
        "\n",
        "# Extract input variables\n",
        "X = df.values[:, :-1]\n",
        "\n",
        "# Extract output column\n",
        "y = df.values[:, -1]\n",
        "\n",
        "# Perform logistic regression\n",
        "model = LogisticRegression(penalty = 'none')\n",
        "\n",
        "# Fit model\n",
        "model.fit(X, y)\n",
        "\n",
        "# Print beta_1\n",
        "print(model.coef_.flatten())\n",
        "\n",
        "# Print beta_0\n",
        "print(model.intercept_.flatten())\n",
        "\n",
        "# Plot results\n",
        "sns.regplot(x = X, y = y, data = df, logistic = True)"
      ],
      "metadata": {
        "colab": {
          "base_uri": "https://localhost:8080/",
          "height": 319
        },
        "id": "520x-gW1rhYl",
        "outputId": "7be8eab9-e7a0-46da-deda-f7faff04d1dc"
      },
      "execution_count": 3,
      "outputs": [
        {
          "output_type": "stream",
          "name": "stdout",
          "text": [
            "[0.69267212]\n",
            "[-3.17576395]\n"
          ]
        },
        {
          "output_type": "execute_result",
          "data": {
            "text/plain": [
              "<matplotlib.axes._subplots.AxesSubplot at 0x7fc1199e1d90>"
            ]
          },
          "metadata": {},
          "execution_count": 3
        },
        {
          "output_type": "display_data",
          "data": {
            "text/plain": [
              "<Figure size 432x288 with 1 Axes>"
            ],
            "image/png": "[encoded data removed]"
          },
          "metadata": {
            "needs_background": "light"
          }
        }
      ]
    },
    {
      "cell_type": "markdown",
      "source": [
        "##### Using Maximum Likelihood and Gradient Descent"
      ],
      "metadata": {
        "id": "twE8Jp502Q2B"
      }
    },
    {
      "cell_type": "code",
      "source": [
        "# Example 6-4. Calculating the joint likelihood for a given logistic regression\n",
        "import math\n",
        "import pandas as pd\n",
        "\n",
        "# Import data\n",
        "patient_data = pd.read_csv('https://bit.ly/33ebs2R', delimiter = ',').itertuples()\n",
        "\n",
        "# Set beta coefficients\n",
        "b0 = -3.17576395\n",
        "b1 = 0.69267212\n",
        "\n",
        "# Define logistic function\n",
        "def logistic_function(x):\n",
        "  p = 1.0 / (1.0 + math.exp(-(b0 + b1 * x)))\n",
        "  return p\n",
        "\n",
        "# Calculate joint likelihood\n",
        "joint_likelihood = 1.0\n",
        "\n",
        "for p in patient_data:\n",
        "  if p.y == 1.0:\n",
        "    joint_likelihood *= logistic_function(p.x)\n",
        "  elif p.y == 0.0:\n",
        "    joint_likelihood *= (1.0 - logistic_function(p.x))\n",
        "\n",
        "# Print results\n",
        "print(joint_likelihood)"
      ],
      "metadata": {
        "colab": {
          "base_uri": "https://localhost:8080/"
        },
        "id": "QvzkrBEZ0QzM",
        "outputId": "1e19b0fc-30ae-4f40-b8e0-d353e9a0ed3a"
      },
      "execution_count": 4,
      "outputs": [
        {
          "output_type": "stream",
          "name": "stdout",
          "text": [
            "4.7911180221699105e-05\n"
          ]
        }
      ]
    },
    {
      "cell_type": "markdown",
      "source": [
        "$\\text{joint likelihood} = {\\displaystyle \\prod_{i = 1}^n \n",
        "\\left( \\frac{1.0}{1.0 + e^{-(\\beta_0 + \\beta_1 x_i)}} \\right)^{y_i} \n",
        "\\times \n",
        "\\left( \\frac{1.0}{1.0 + e^{-(\\beta_0 + \\beta_1 x_i)}} \\right)^{1.0 - y_i}}$"
      ],
      "metadata": {
        "id": "BJKrEf0O3Wq4"
      }
    },
    {
      "cell_type": "code",
      "source": [
        "# Example 6-5. Compressing the joint likelihood function without an if\n",
        "for p in patient_data:\n",
        "  joint_likelihood *= logistic_function(p.x) ** p.y *\\\n",
        "                      (1.0 - logistic_function(p.x) ** (1.0 - p.y))\n",
        "\n",
        "print(joint_likelihood)"
      ],
      "metadata": {
        "colab": {
          "base_uri": "https://localhost:8080/"
        },
        "id": "daYJSBWr3Rv4",
        "outputId": "963a680f-75ed-42bc-e435-8c713349ef2e"
      },
      "execution_count": 5,
      "outputs": [
        {
          "output_type": "stream",
          "name": "stdout",
          "text": [
            "4.7911180221699105e-05\n"
          ]
        }
      ]
    },
    {
      "cell_type": "code",
      "source": [
        "# Example 6-6. Using logarithmic addition\n",
        "# Calculate the joint likelihood\n",
        "joint_likelihood = 0.0\n",
        "\n",
        "for p in patient_data:\n",
        "  joint_likelihood += math.log(logistic_function(p.x) ** p.y * \\\n",
        "                              (1.0 - logistic_function(p.x)) ** (1.0 - p.y))\n",
        "\n",
        "joint_likelihood = math.exp(joint_likelihood)\n",
        "\n",
        "print(joint_likelihood)"
      ],
      "metadata": {
        "colab": {
          "base_uri": "https://localhost:8080/"
        },
        "id": "_YTRzdRr5Plj",
        "outputId": "cef91d5c-c764-4c8f-89e5-c1d9179d5d80"
      },
      "execution_count": 7,
      "outputs": [
        {
          "output_type": "stream",
          "name": "stdout",
          "text": [
            "1.0\n"
          ]
        }
      ]
    },
    {
      "cell_type": "markdown",
      "source": [
        "$\\text{joint likelihood} = \n",
        "{\\displaystyle \n",
        "\\sum_{i = 1}^n \\log \n",
        "\\left( \n",
        "  \\left( \\frac{1.0}{1.0 + e^{-(\\beta_0 + \\beta_1 x_i)}} \\right)^{y_i} \n",
        "  \\times \n",
        "  \\left( \\frac{1.0}{1.0 + e^{-(\\beta_0 + \\beta_1 x_i)}} \\right)^{1.0 - y_i}\n",
        "\\right)}\n",
        "$"
      ],
      "metadata": {
        "id": "Z3wrBX43H_Cw"
      }
    },
    {
      "cell_type": "code",
      "source": [
        "# Example 6-7. Expressing a joint likelihood for a logistic regression in SymPy\n",
        "#joint_likelihood = Sum(log((1.0 / (1.0 + exp(-(b + m * x(i))))) ** y(i) \\\n",
        "#                           (1.0 - (1.0 / (1.0 + exp(-(b + m * x(i)))))) ** (1 - y(i))), (i, 0, n))"
      ],
      "metadata": {
        "id": "8bkqUxatGVjA"
      },
      "execution_count": 9,
      "outputs": []
    },
    {
      "cell_type": "code",
      "source": [
        "# Example 6-8. Using gradient descent on logistic regression\n",
        "from sympy import *\n",
        "import pandas as pd\n",
        "\n",
        "# Import data\n",
        "points = list(pd.read_csv('https://tinyurl.com/y2cocoo7').itertuples())\n",
        "\n",
        "# Declare variables\n",
        "b1, b0, i, n = symbols('b1 b0 i n')\n",
        "x, y = symbols('x y', cls = Function)\n",
        "\n",
        "joint_likelihood = Sum(log((1.0 / (1.0 + exp(-(b0 + b1 * x(i))))) ** y(i) \\\n",
        "                          * (1.0 - (1.0 / (1.0 + exp(-(b0 + b1 * x(i)))))) ** (1 - y(i))), (i, 0, n))\n",
        "\n",
        "# Partial derivative for m, with points substituted\n",
        "d_b1 = diff(joint_likelihood, b1) \\\n",
        "                  .subs(n, len(points) - 1).doit() \\\n",
        "                  .replace(x, lambda i: points[i].x) \\\n",
        "                  .replace(y, lambda i: points[i].y)\n",
        "\n",
        "# Partial derivative for m, with points substituted\n",
        "d_b0 = diff(joint_likelihood, b0) \\\n",
        "                  .subs(n, len(points) - 1).doit() \\\n",
        "                  .replace(x, lambda i: points[i].x) \\\n",
        "                  .replace(y, lambda i: points[i].y)\n",
        "\n",
        "# Compile using lambdify for faster computation\n",
        "d_b1 = lambdify([b1, b0], d_b1)\n",
        "d_b0 = lambdify([b1, b0], d_b0)\n",
        "\n",
        "# Perform gradient descent\n",
        "b1 = 0.01\n",
        "b0 = 0.01\n",
        "L = 0.01\n",
        "\n",
        "for j in range(10000):\n",
        "  b1 += d_b1(b1, b0) * L\n",
        "  b0 += d_b0(b1, b0) * L\n",
        "\n",
        "print(b1, b0)"
      ],
      "metadata": {
        "colab": {
          "base_uri": "https://localhost:8080/"
        },
        "id": "m4NrS7alieof",
        "outputId": "0cf8bcb8-1df7-4bd2-965c-6d49127beab0"
      },
      "execution_count": 11,
      "outputs": [
        {
          "output_type": "stream",
          "name": "stdout",
          "text": [
            "0.6926693075370812 -3.175751550409821\n"
          ]
        }
      ]
    },
    {
      "cell_type": "code",
      "source": [],
      "metadata": {
        "id": "lOIsgZ6KkT38"
      },
      "execution_count": null,
      "outputs": []
    }
  ]
}