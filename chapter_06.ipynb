{
  "nbformat": 4,
  "nbformat_minor": 0,
  "metadata": {
    "colab": {
      "provenance": [],
      "collapsed_sections": [],
      "toc_visible": true,
      "authorship_tag": "ABX9TyMg76TXAKl0sTvq4uDpagBt",
      "include_colab_link": true
    },
    "kernelspec": {
      "name": "python3",
      "display_name": "Python 3"
    },
    "language_info": {
      "name": "python"
    }
  },
  "cells": [
    {
      "cell_type": "markdown",
      "metadata": {
        "id": "view-in-github",
        "colab_type": "text"
      },
      "source": [
        "<a href=\"https://colab.research.google.com/github/g-r-a-e-m-e/essential-math-for-data-science/blob/main/chapter_06.ipynb\" target=\"_parent\"><img src=\"https://colab.research.google.com/assets/colab-badge.svg\" alt=\"Open In Colab\"/></a>"
      ]
    },
    {
      "cell_type": "markdown",
      "source": [
        "# Chapter 06\n",
        "## Logistic Regression and Classification"
      ],
      "metadata": {
        "id": "BYUNPYrEnp5s"
      }
    },
    {
      "cell_type": "markdown",
      "source": [
        "### Performing a Logistic Regression"
      ],
      "metadata": {
        "id": "ar3KlSXToEdq"
      }
    },
    {
      "cell_type": "markdown",
      "source": [
        "#### Logistic Function\n",
        "\n",
        "$y = {\\displaystyle \\frac{1.0}{1.0 + e^{-(\\beta_0 + \\beta_1 x)}}}$"
      ],
      "metadata": {
        "id": "zugkHmURuG6r"
      }
    },
    {
      "cell_type": "code",
      "execution_count": null,
      "metadata": {
        "id": "3evwPQtGnm7o"
      },
      "outputs": [],
      "source": [
        "# Example 6-1. The logistic function\n",
        "import math\n",
        "\n",
        "# Define function to predict probability\n",
        "def predict_probability(x, b0, b1):\n",
        "  p = 1.0 / (1.0 + math.exp(-(b0 + b1 * x)))\n",
        "  return p"
      ]
    },
    {
      "cell_type": "code",
      "source": [
        "# Example 6-2. Using SymPy to plot a logistic function\n",
        "from sympy import *\n",
        "b0, b1, x = symbols('b0 b1 x')\n",
        "\n",
        "p = 1.0 / (1.0 + exp(-(b0 + b1 * x)))\n",
        "\n",
        "p = p.subs(b0, -2.823)\n",
        "p = p.subs(b1, 0.620)\n",
        "print(p)\n",
        "\n",
        "plot(p)"
      ],
      "metadata": {
        "colab": {
          "base_uri": "https://localhost:8080/",
          "height": 332
        },
        "id": "sLRL9NdNr5L7",
        "outputId": "13d70356-9277-43d1-be18-502e58edc94d"
      },
      "execution_count": null,
      "outputs": [
        {
          "output_type": "stream",
          "name": "stdout",
          "text": [
            "1.0/(1.0 + 16.8272567955368*exp(-0.62*x))\n"
          ]
        },
        {
          "output_type": "display_data",
          "data": {
            "text/plain": [
              "<Figure size 432x288 with 1 Axes>"
            ],
            "image/png": "[encoded data removed]"
          },
          "metadata": {
            "needs_background": "light"
          }
        },
        {
          "output_type": "execute_result",
          "data": {
            "text/plain": [
              "<sympy.plotting.plot.Plot at 0x7f5872c73490>"
            ]
          },
          "metadata": {},
          "execution_count": 2
        }
      ]
    },
    {
      "cell_type": "markdown",
      "source": [
        "Alternative logistic function\n",
        "\n",
        "$p = {\\displaystyle \\frac{e^{\\beta_0 + \\beta_1 x}}{1.0 + e^{\\beta_0 + \\beta_1 x}}}$\n",
        "\n",
        "Extending logistic function to more variables\n",
        "\n",
        "$p = {\\displaystyle \\frac{1.0}{e^{-(\\beta_0 + \\beta_1 x_1 + \\beta_2 x_2 + ... \\beta_n x_n)}}}$"
      ],
      "metadata": {
        "id": "3jCpI4XDrjoG"
      }
    },
    {
      "cell_type": "markdown",
      "source": [
        "#### Fitting the Logistic Curve\n"
      ],
      "metadata": {
        "id": "bkXlHZAYt7jB"
      }
    },
    {
      "cell_type": "markdown",
      "source": [
        "##### Using SciPy"
      ],
      "metadata": {
        "id": "0tSdKNmo2PLm"
      }
    },
    {
      "cell_type": "code",
      "source": [
        "# Example 6-3. Using a plain logistic regression in SciPy\n",
        "import pandas as pd\n",
        "from sklearn.linear_model import LogisticRegression\n",
        "import seaborn as sns\n",
        "\n",
        "# Load data\n",
        "df = pd.read_csv('https://bit.ly/33ebs2R', delimiter = ',')\n",
        "\n",
        "# Extract input variables\n",
        "X = df.values[:, :-1]\n",
        "\n",
        "# Extract output column\n",
        "y = df.values[:, -1]\n",
        "\n",
        "# Perform logistic regression\n",
        "model = LogisticRegression(penalty = 'none')\n",
        "\n",
        "# Fit model\n",
        "model.fit(X, y)\n",
        "\n",
        "# Print beta_1\n",
        "print(model.coef_.flatten())\n",
        "\n",
        "# Print beta_0\n",
        "print(model.intercept_.flatten())\n",
        "\n",
        "# Plot results\n",
        "sns.regplot(x = X, y = y, data = df, logistic = True)"
      ],
      "metadata": {
        "colab": {
          "base_uri": "https://localhost:8080/"
        },
        "id": "520x-gW1rhYl",
        "outputId": "0233422a-ad85-42e4-e173-4f4be40f9b07"
      },
      "execution_count": null,
      "outputs": [
        {
          "output_type": "stream",
          "name": "stdout",
          "text": [
            "[0.69267212]\n",
            "[-3.17576395]\n"
          ]
        },
        {
          "output_type": "execute_result",
          "data": {
            "text/plain": [
              "<matplotlib.axes._subplots.AxesSubplot at 0x7f585d04e190>"
            ]
          },
          "metadata": {},
          "execution_count": 3
        },
        {
          "output_type": "display_data",
          "data": {
            "text/plain": [
              "<Figure size 432x288 with 1 Axes>"
            ],
            "image/png": "[encoded data removed]"
          },
          "metadata": {
            "needs_background": "light"
          }
        }
      ]
    },
    {
      "cell_type": "markdown",
      "source": [
        "##### Using Maximum Likelihood and Gradient Descent"
      ],
      "metadata": {
        "id": "twE8Jp502Q2B"
      }
    },
    {
      "cell_type": "code",
      "source": [
        "# Example 6-4. Calculating the joint likelihood for a given logistic regression\n",
        "import math\n",
        "import pandas as pd\n",
        "\n",
        "# Import data\n",
        "patient_data = pd.read_csv('https://bit.ly/33ebs2R', delimiter = ',').itertuples()\n",
        "\n",
        "# Set beta coefficients\n",
        "b0 = -3.17576395\n",
        "b1 = 0.69267212\n",
        "\n",
        "# Define logistic function\n",
        "def logistic_function(x):\n",
        "  p = 1.0 / (1.0 + math.exp(-(b0 + b1 * x)))\n",
        "  return p\n",
        "\n",
        "# Calculate joint likelihood\n",
        "joint_likelihood = 1.0\n",
        "\n",
        "for p in patient_data:\n",
        "  if p.y == 1.0:\n",
        "    joint_likelihood *= logistic_function(p.x)\n",
        "  elif p.y == 0.0:\n",
        "    joint_likelihood *= (1.0 - logistic_function(p.x))\n",
        "\n",
        "# Print results\n",
        "print(joint_likelihood)"
      ],
      "metadata": {
        "colab": {
          "base_uri": "https://localhost:8080/"
        },
        "id": "QvzkrBEZ0QzM",
        "outputId": "4c3ae9d2-de30-4e99-843c-e9a3a75a6e6a"
      },
      "execution_count": null,
      "outputs": [
        {
          "output_type": "stream",
          "name": "stdout",
          "text": [
            "4.7911180221699105e-05\n"
          ]
        }
      ]
    },
    {
      "cell_type": "markdown",
      "source": [
        "$\\text{joint likelihood} = {\\displaystyle \\prod_{i = 1}^n \n",
        "\\left( \\frac{1.0}{1.0 + e^{-(\\beta_0 + \\beta_1 x_i)}} \\right)^{y_i} \n",
        "\\times \n",
        "\\left( \\frac{1.0}{1.0 + e^{-(\\beta_0 + \\beta_1 x_i)}} \\right)^{1.0 - y_i}}$"
      ],
      "metadata": {
        "id": "BJKrEf0O3Wq4"
      }
    },
    {
      "cell_type": "code",
      "source": [
        "# Example 6-5. Compressing the joint likelihood function without an if\n",
        "for p in patient_data:\n",
        "  joint_likelihood *= logistic_function(p.x) ** p.y *\\\n",
        "                      (1.0 - logistic_function(p.x) ** (1.0 - p.y))\n",
        "\n",
        "print(joint_likelihood)"
      ],
      "metadata": {
        "colab": {
          "base_uri": "https://localhost:8080/"
        },
        "id": "daYJSBWr3Rv4",
        "outputId": "3ac1deb8-b2c2-4345-e526-d822dda188d7"
      },
      "execution_count": null,
      "outputs": [
        {
          "output_type": "stream",
          "name": "stdout",
          "text": [
            "4.7911180221699105e-05\n"
          ]
        }
      ]
    },
    {
      "cell_type": "code",
      "source": [
        "# Example 6-6. Using logarithmic addition\n",
        "# Calculate the joint likelihood\n",
        "joint_likelihood = 0.0\n",
        "\n",
        "for p in patient_data:\n",
        "  joint_likelihood += math.log(logistic_function(p.x) ** p.y * \\\n",
        "                              (1.0 - logistic_function(p.x)) ** (1.0 - p.y))\n",
        "\n",
        "joint_likelihood = math.exp(joint_likelihood)\n",
        "\n",
        "print(joint_likelihood)"
      ],
      "metadata": {
        "colab": {
          "base_uri": "https://localhost:8080/"
        },
        "id": "_YTRzdRr5Plj",
        "outputId": "3eb78fc2-cde8-4f33-b826-c8631c5f49ef"
      },
      "execution_count": null,
      "outputs": [
        {
          "output_type": "stream",
          "name": "stdout",
          "text": [
            "1.0\n"
          ]
        }
      ]
    },
    {
      "cell_type": "markdown",
      "source": [
        "$\\text{joint likelihood} = \n",
        "{\\displaystyle \n",
        "\\sum_{i = 1}^n \\log \n",
        "\\left( \n",
        "  \\left( \\frac{1.0}{1.0 + e^{-(\\beta_0 + \\beta_1 x_i)}} \\right)^{y_i} \n",
        "  \\times \n",
        "  \\left( \\frac{1.0}{1.0 + e^{-(\\beta_0 + \\beta_1 x_i)}} \\right)^{1.0 - y_i}\n",
        "\\right)}\n",
        "$"
      ],
      "metadata": {
        "id": "Z3wrBX43H_Cw"
      }
    },
    {
      "cell_type": "code",
      "source": [
        "# Example 6-7. Expressing a joint likelihood for a logistic regression in SymPy\n",
        "#joint_likelihood = Sum(log((1.0 / (1.0 + exp(-(b + m * x(i))))) ** y(i) \\\n",
        "#                           (1.0 - (1.0 / (1.0 + exp(-(b + m * x(i)))))) ** (1 - y(i))), (i, 0, n))"
      ],
      "metadata": {
        "id": "8bkqUxatGVjA"
      },
      "execution_count": null,
      "outputs": []
    },
    {
      "cell_type": "code",
      "source": [
        "# Example 6-8. Using gradient descent on logistic regression\n",
        "from sympy import *\n",
        "import pandas as pd\n",
        "\n",
        "# Import data\n",
        "points = list(pd.read_csv('https://tinyurl.com/y2cocoo7').itertuples())\n",
        "\n",
        "# Declare variables\n",
        "b1, b0, i, n = symbols('b1 b0 i n')\n",
        "x, y = symbols('x y', cls = Function)\n",
        "\n",
        "joint_likelihood = Sum(log((1.0 / (1.0 + exp(-(b0 + b1 * x(i))))) ** y(i) \\\n",
        "                          * (1.0 - (1.0 / (1.0 + exp(-(b0 + b1 * x(i)))))) ** (1 - y(i))), (i, 0, n))\n",
        "\n",
        "# Partial derivative for m, with points substituted\n",
        "d_b1 = diff(joint_likelihood, b1) \\\n",
        "                  .subs(n, len(points) - 1).doit() \\\n",
        "                  .replace(x, lambda i: points[i].x) \\\n",
        "                  .replace(y, lambda i: points[i].y)\n",
        "\n",
        "# Partial derivative for m, with points substituted\n",
        "d_b0 = diff(joint_likelihood, b0) \\\n",
        "                  .subs(n, len(points) - 1).doit() \\\n",
        "                  .replace(x, lambda i: points[i].x) \\\n",
        "                  .replace(y, lambda i: points[i].y)\n",
        "\n",
        "# Compile using lambdify for faster computation\n",
        "d_b1 = lambdify([b1, b0], d_b1)\n",
        "d_b0 = lambdify([b1, b0], d_b0)\n",
        "\n",
        "# Perform gradient descent\n",
        "b1 = 0.01\n",
        "b0 = 0.01\n",
        "L = 0.01\n",
        "\n",
        "for j in range(10000):\n",
        "  b1 += d_b1(b1, b0) * L\n",
        "  b0 += d_b0(b1, b0) * L\n",
        "\n",
        "print(b1, b0)"
      ],
      "metadata": {
        "colab": {
          "base_uri": "https://localhost:8080/"
        },
        "id": "m4NrS7alieof",
        "outputId": "23e2aba6-c7e7-48cc-ddeb-a90f94dd273b"
      },
      "execution_count": null,
      "outputs": [
        {
          "output_type": "stream",
          "name": "stdout",
          "text": [
            "0.6926693075370812 -3.175751550409821\n"
          ]
        }
      ]
    },
    {
      "cell_type": "markdown",
      "source": [
        "### Multivariable Logistic Regression\n",
        "\n",
        "$y = {\\displaystyle \\frac{1.0}{1 + e^{-(\\beta_0 + \\beta_1 x_1 + \\beta_2 x_2 + ... \\beta_n x_n)}}}$"
      ],
      "metadata": {
        "id": "HrYypgWcsQ92"
      }
    },
    {
      "cell_type": "code",
      "source": [
        "# Example 6-9. Multivariable logistic regression\n",
        "import pandas as pd\n",
        "from sklearn.linear_model import LogisticRegression\n",
        "\n",
        "# Import data\n",
        "employee_data = pd.read_csv('https://tinyurl.com/y6r7qjrp')\n",
        "\n",
        "# Get inputs\n",
        "inputs = employee_data.iloc[:, :-1]\n",
        "\n",
        "# Get output variable\n",
        "output = employee_data.iloc[:, -1]\n",
        "\n",
        "# Build logistic regression\n",
        "fit = LogisticRegression(penalty = 'none').fit(inputs, output)\n",
        "\n",
        "# Print coefficients\n",
        "print(f\"Coefficients: {fit.coef_.flatten()}\")\n",
        "print(f\"Intercept: {fit.intercept_.flatten()}\")\n",
        "\n",
        "# Test with new employee data\n",
        "def predict_employee_will_stay(sex, age, promotions, years_employed):\n",
        "  prediction = fit.predict([[sex, age, promotions, years_employed]])\n",
        "  probabilities = fit.predict_proba([[sex, age, promotions, years_employed]])\n",
        "  if prediction == 1:\n",
        "    return f\"WILL LEAVE: {probabilities}\"\n",
        "  else:\n",
        "    return f\"WILL STAY: {probabilities}\"\n",
        "\n",
        "# Test a prediction\n",
        "#while True:\n",
        "#  n = input(\"Predict an employee will stay or leave {sex}, {age}, {promotions}, {years_employed}: \")\n",
        "#  (sex, age, promotions, years_employed) = n.split(',')\n",
        "#  print(predict_employee_will_stay(int(sex), int(age), int(promotions), int(years_employed)))"
      ],
      "metadata": {
        "colab": {
          "base_uri": "https://localhost:8080/"
        },
        "id": "lOIsgZ6KkT38",
        "outputId": "5c36e323-dc33-45b5-939d-376dd7722378"
      },
      "execution_count": null,
      "outputs": [
        {
          "output_type": "stream",
          "name": "stdout",
          "text": [
            "Coefficients: [ 0.03213405  0.03682453 -2.50410028  0.9742266 ]\n",
            "Intercept: [-2.73485302]\n"
          ]
        }
      ]
    },
    {
      "cell_type": "markdown",
      "source": [
        "### Understanding the Log-Odds\n",
        "\n",
        "$p = {\\displaystyle \\frac{1.0}\n",
        "{1.0 + e^{-(\\beta_0 + \\beta_1 x)}}}$\n",
        "\n",
        "$\\text{odds} = {\\displaystyle \\frac{p}{1 - p}}$ \n",
        "\n",
        "$\\text{logit} = {\\displaystyle \\log \\left( \\frac{p}{1 - p} \\right)}$\n",
        "\n",
        "$\\text{log-odds} = {\\displaystyle \\beta_0 + \\beta_1 x}$\n",
        "\n",
        "${\\displaystyle \\log \\left( \\frac{p}{1 - p} \\right) = \\beta_0 + \\beta_1 x}$"
      ],
      "metadata": {
        "id": "6yz_iM-Z04h7"
      }
    },
    {
      "cell_type": "markdown",
      "source": [
        "### R-Squared\n",
        "\n",
        "${R^2} = {\\displaystyle \\frac{(\\text{log likelihood}) - (\\text{log likelihood fit})}{\\text{(log likelihood)}}}$"
      ],
      "metadata": {
        "id": "RWQ7YrcMGNfE"
      }
    },
    {
      "cell_type": "code",
      "source": [
        "# Example 6-10. Calculating the log likelihood of the fit\n",
        "from math import log, exp\n",
        "import pandas as pd\n",
        "\n",
        "# Import data\n",
        "patient_data = pd.read_csv('https://bit.ly/33ebs2R', delimiter = ',').itertuples()\n",
        "\n",
        "# Intercept and coefficient\n",
        "b0 = -3.17576395\n",
        "b1 = 0.69267212\n",
        "\n",
        "# Define logistic function\n",
        "def logistic_function(x):\n",
        "  p = 1.0 / (1.0 + exp(-(b0 + b1 * x)))\n",
        "  return p\n",
        "\n",
        "# Sum the log likelihoods\n",
        "log_likelihood_fit = 0.0\n",
        "\n",
        "for p in patient_data:\n",
        "  if p.y == 1.0:\n",
        "    log_likelihood_fit += log(logistic_function(p.x))\n",
        "  elif p.y == 0.0:\n",
        "    log_likelihood_fit += log(1.0 - logistic_function(p.x))\n",
        "\n",
        "# Print results\n",
        "print(log_likelihood_fit)"
      ],
      "metadata": {
        "colab": {
          "base_uri": "https://localhost:8080/"
        },
        "id": "PDEkf9zOukx2",
        "outputId": "fe78d11d-0cc1-4c7c-92e3-d0ab8bea3614"
      },
      "execution_count": null,
      "outputs": [
        {
          "output_type": "stream",
          "name": "stdout",
          "text": [
            "-9.946161673231583\n"
          ]
        }
      ]
    },
    {
      "cell_type": "code",
      "source": [
        "# Example 6-11. Consolidating log likelihood into a single line\n",
        "log_likelihood_fit = sum((log(logistic_function(p.x)) * p.y) + \\\n",
        "                         (log(1.0 - logistic_function(p.x)) * (1.0 - p.y)) \\\n",
        "                         for p in patient_data)\n",
        "\n",
        "print(log_likelihood_fit)"
      ],
      "metadata": {
        "colab": {
          "base_uri": "https://localhost:8080/"
        },
        "id": "XjSTTj-cIPnY",
        "outputId": "c2585293-b44c-452f-add5-f95ec556bb83"
      },
      "execution_count": null,
      "outputs": [
        {
          "output_type": "stream",
          "name": "stdout",
          "text": [
            "0\n"
          ]
        }
      ]
    },
    {
      "cell_type": "markdown",
      "source": [
        "$\\text{log likelihood fit} = \\displaystyle \\sum_{i = 1}^n \n",
        "\\left( log(f_{x_i}) \\times y_i \\right) \n",
        "+ \\left( log(1.0 - f(x_i)) \\times (1 - y_i) \\right)$\n",
        "\n",
        "\n",
        "$\\text{log likelihood} = \\displaystyle \\frac{\\sum y_i}{n} \n",
        "\\times y_i + \n",
        "\\left( 1 - \\frac{\\sum y_i}{n} \\right)\n",
        "\\times (1 - y_i)$"
      ],
      "metadata": {
        "id": "KQdsbNtt10Z0"
      }
    },
    {
      "cell_type": "code",
      "source": [
        "# Example 6-12. Log likelihood\n",
        "import pandas as pd\n",
        "from math import log, exp\n",
        "\n",
        "# Import data\n",
        "patient_data = list(pd.read_csv('https://bit.ly/33ebs2R', delimiter = ',').itertuples())\n",
        "\n",
        "# Calculate likelihood\n",
        "likelihood = sum(p.y for p in patient_data) / len(patient_data)\n",
        "\n",
        "# Set log likelihood variable\n",
        "log_likelihood = 0.0\n",
        "\n",
        "# Initialize loop\n",
        "for p in patient_data:\n",
        "  if p.y == 1.0:\n",
        "    log_likelihood += log(likelihood)\n",
        "  elif p.y == 0.0:\n",
        "    log_likelihood += log(1.0 - likelihood)\n",
        "\n",
        "# Print results\n",
        "print(log_likelihood)"
      ],
      "metadata": {
        "colab": {
          "base_uri": "https://localhost:8080/"
        },
        "id": "pbR-CCSiIw-3",
        "outputId": "08aaa3b5-36b5-42c2-d47c-fc87495996f2"
      },
      "execution_count": null,
      "outputs": [
        {
          "output_type": "stream",
          "name": "stdout",
          "text": [
            "-14.341070198709906\n"
          ]
        }
      ]
    },
    {
      "cell_type": "code",
      "source": [],
      "metadata": {
        "id": "WIDrolUZJH2O"
      },
      "execution_count": null,
      "outputs": []
    }
  ]
}