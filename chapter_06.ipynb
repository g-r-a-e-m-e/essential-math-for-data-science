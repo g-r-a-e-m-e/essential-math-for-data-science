{
  "nbformat": 4,
  "nbformat_minor": 0,
  "metadata": {
    "colab": {
      "provenance": [],
      "collapsed_sections": [],
      "toc_visible": true,
      "authorship_tag": "ABX9TyOX4uAMCN3XdBY4A8HXziQB",
      "include_colab_link": true
    },
    "kernelspec": {
      "name": "python3",
      "display_name": "Python 3"
    },
    "language_info": {
      "name": "python"
    }
  },
  "cells": [
    {
      "cell_type": "markdown",
      "metadata": {
        "id": "view-in-github",
        "colab_type": "text"
      },
      "source": [
        "<a href=\"https://colab.research.google.com/github/g-r-a-e-m-e/essential-math-for-data-science/blob/main/chapter_06.ipynb\" target=\"_parent\"><img src=\"https://colab.research.google.com/assets/colab-badge.svg\" alt=\"Open In Colab\"/></a>"
      ]
    },
    {
      "cell_type": "markdown",
      "source": [
        "# Chapter 06\n",
        "## Logistic Regression and Classification"
      ],
      "metadata": {
        "id": "BYUNPYrEnp5s"
      }
    },
    {
      "cell_type": "markdown",
      "source": [
        "### Performing a Logistic Regression"
      ],
      "metadata": {
        "id": "ar3KlSXToEdq"
      }
    },
    {
      "cell_type": "markdown",
      "source": [
        "#### Logistic Function\n",
        "\n",
        "$y = {\\displaystyle \\frac{1.0}{1.0 + e^{-(\\beta_0 + \\beta_1 x)}}}$"
      ],
      "metadata": {
        "id": "zugkHmURuG6r"
      }
    },
    {
      "cell_type": "code",
      "execution_count": 1,
      "metadata": {
        "id": "3evwPQtGnm7o"
      },
      "outputs": [],
      "source": [
        "# Example 6-1. The logistic function\n",
        "import math\n",
        "\n",
        "# Define function to predict probability\n",
        "def predict_probability(x, b0, b1):\n",
        "  p = 1.0 / (1.0 + math.exp(-(b0 + b1 * x)))\n",
        "  return p"
      ]
    },
    {
      "cell_type": "code",
      "source": [
        "# Example 6-2. Using SymPy to plot a logistic function\n",
        "from sympy import *\n",
        "b0, b1, x = symbols('b0 b1 x')\n",
        "\n",
        "p = 1.0 / (1.0 + exp(-(b0 + b1 * x)))\n",
        "\n",
        "p = p.subs(b0, -2.823)\n",
        "p = p.subs(b1, 0.620)\n",
        "print(p)\n",
        "\n",
        "plot(p)"
      ],
      "metadata": {
        "colab": {
          "base_uri": "https://localhost:8080/",
          "height": 332
        },
        "id": "sLRL9NdNr5L7",
        "outputId": "06449885-da12-40d5-e715-2e22b14af7cb"
      },
      "execution_count": 3,
      "outputs": [
        {
          "output_type": "stream",
          "name": "stdout",
          "text": [
            "1.0/(1.0 + 16.8272567955368*exp(-0.62*x))\n"
          ]
        },
        {
          "output_type": "display_data",
          "data": {
            "text/plain": [
              "<Figure size 432x288 with 1 Axes>"
            ],
            "image/png": "[encoded data removed]"
          },
          "metadata": {
            "needs_background": "light"
          }
        },
        {
          "output_type": "execute_result",
          "data": {
            "text/plain": [
              "<sympy.plotting.plot.Plot at 0x7f430b0960d0>"
            ]
          },
          "metadata": {},
          "execution_count": 3
        }
      ]
    },
    {
      "cell_type": "markdown",
      "source": [
        "Alternative logistic function\n",
        "\n",
        "$p = {\\displaystyle \\frac{e^{\\beta_0 + \\beta_1 x}}{1.0 + e^{\\beta_0 + \\beta_1 x}}}$\n",
        "\n",
        "Extending logistic function to more variables\n",
        "\n",
        "$p = {\\displaystyle \\frac{1.0}{e^{-(\\beta_0 + \\beta_1 x_1 + \\beta_2 x_2 + ... \\beta_n x_n)}}}$"
      ],
      "metadata": {
        "id": "3jCpI4XDrjoG"
      }
    },
    {
      "cell_type": "markdown",
      "source": [
        "#### Fitting the Logistic Curve\n",
        "##### Using SciPy"
      ],
      "metadata": {
        "id": "bkXlHZAYt7jB"
      }
    },
    {
      "cell_type": "code",
      "source": [
        "# Example 6-3. Using a plain logistic regression in SciPy\n",
        "import pandas as pd\n",
        "from sklearn.linear_model import LogisticRegression\n",
        "\n",
        "# Load data\n",
        "df = pd.read_csv('https://bit.ly/33ebs2R', delimiter = ',')\n",
        "\n",
        "# Extract input variables\n",
        "X = df.values[:, :-1]\n",
        "\n",
        "# Extract output column\n",
        "y = df.values[:, -1]\n",
        "\n",
        "# Perform logistic regression\n",
        "model = LogisticRegression(penalty = 'none')\n",
        "\n",
        "# Fit model\n",
        "model.fit(X, y)\n",
        "\n",
        "# Print beta_1\n",
        "print(model.coef_.flatten())\n",
        "\n",
        "# Print beta_0\n",
        "print(model.intercept_.flatten())"
      ],
      "metadata": {
        "id": "520x-gW1rhYl"
      },
      "execution_count": null,
      "outputs": []
    }
  ]
}