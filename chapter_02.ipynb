{
  "nbformat": 4,
  "nbformat_minor": 0,
  "metadata": {
    "colab": {
      "name": "chapter-02.ipynb",
      "provenance": [],
      "collapsed_sections": [],
      "authorship_tag": "ABX9TyNbAQdcHKp8TRIUOqffB/kW",
      "include_colab_link": true
    },
    "kernelspec": {
      "name": "python3",
      "display_name": "Python 3"
    },
    "language_info": {
      "name": "python"
    }
  },
  "cells": [
    {
      "cell_type": "markdown",
      "metadata": {
        "id": "view-in-github",
        "colab_type": "text"
      },
      "source": [
        "<a href=\"https://colab.research.google.com/github/g-r-a-e-m-e/essential-math-for-data-science/blob/main/chapter_02.ipynb\" target=\"_parent\"><img src=\"https://colab.research.google.com/assets/colab-badge.svg\" alt=\"Open In Colab\"/></a>"
      ]
    },
    {
      "cell_type": "markdown",
      "source": [
        "# Chapter 02\n",
        "## Probability"
      ],
      "metadata": {
        "id": "H5IpO6-lo4Jn"
      }
    },
    {
      "cell_type": "markdown",
      "source": [
        "### Probability Math\n",
        "#### Conditional Probability and Bayes' Theorem"
      ],
      "metadata": {
        "id": "12kJH5xCpHXA"
      }
    },
    {
      "cell_type": "code",
      "execution_count": 1,
      "metadata": {
        "colab": {
          "base_uri": "https://localhost:8080/"
        },
        "id": "KfRKUIiKoxZL",
        "outputId": "edf96068-93a1-4552-9176-d45e2864e5d9"
      },
      "outputs": [
        {
          "output_type": "stream",
          "name": "stdout",
          "text": [
            "0.006538461538461539\n"
          ]
        }
      ],
      "source": [
        "# Example 2-1. Usine Bayes' Theorem\n",
        "p_coffee_drinker = .65\n",
        "p_cancer = 0.005\n",
        "p_coffee_drinker_given_cancer = 0.85\n",
        "\n",
        "p_cancer_given_coffee_drinker = p_coffee_drinker_given_cancer * p_cancer / p_coffee_drinker\n",
        "\n",
        "print(p_cancer_given_coffee_drinker)"
      ]
    },
    {
      "cell_type": "markdown",
      "source": [
        "### Binomial Distribution"
      ],
      "metadata": {
        "id": "et6JovbjqQYO"
      }
    },
    {
      "cell_type": "code",
      "source": [
        "# Example 2-2. Using SciPy for the binomial distribution\n",
        "from scipy.stats import binom\n",
        "\n",
        "n = 10\n",
        "p = 0.9\n",
        "\n",
        "for k in range(n + 1):\n",
        "  prob = binom.pmf(k, n, p)\n",
        "  print(f\"{k}: {prob}\")"
      ],
      "metadata": {
        "colab": {
          "base_uri": "https://localhost:8080/"
        },
        "id": "DFlhfi9VqFWv",
        "outputId": "86347dbb-8901-42d2-aabe-9b55a139ddbf"
      },
      "execution_count": 2,
      "outputs": [
        {
          "output_type": "stream",
          "name": "stdout",
          "text": [
            "0: 9.999999999999978e-11\n",
            "1: 8.999999999999978e-09\n",
            "2: 3.6449999999999943e-07\n",
            "3: 8.747999999999991e-06\n",
            "4: 0.00013778099999999974\n",
            "5: 0.0014880347999999982\n",
            "6: 0.011160260999999996\n",
            "7: 0.05739562799999997\n",
            "8: 0.1937102444999998\n",
            "9: 0.38742048899999976\n",
            "10: 0.3486784401000001\n"
          ]
        }
      ]
    },
    {
      "cell_type": "markdown",
      "source": [
        "### Beta Distribution"
      ],
      "metadata": {
        "id": "DNRRj4W_rDDM"
      }
    },
    {
      "cell_type": "code",
      "source": [
        "# Example 2-3. Beta distribution using SciPy\n",
        "from scipy.stats import beta\n",
        "\n",
        "a = 8\n",
        "b = 2\n",
        "p = 0.9\n",
        "\n",
        "prob = beta.cdf(p, a, b)\n",
        "print(prob)"
      ],
      "metadata": {
        "colab": {
          "base_uri": "https://localhost:8080/"
        },
        "id": "KM-6xvXYqvr7",
        "outputId": "e1df974c-43dc-4f91-e629-32ba433f5852"
      },
      "execution_count": 3,
      "outputs": [
        {
          "output_type": "stream",
          "name": "stdout",
          "text": [
            "0.7748409780000002\n"
          ]
        }
      ]
    },
    {
      "cell_type": "code",
      "source": [
        "# Example 2-4. Subtracting to get the right area in a beta distribution\n",
        "from scipy.stats import beta\n",
        "\n",
        "a = 8\n",
        "b = 2\n",
        "p = 0.9\n",
        "\n",
        "prob = 1.0 - beta.cdf(p, a, b)\n",
        "print(prob)"
      ],
      "metadata": {
        "colab": {
          "base_uri": "https://localhost:8080/"
        },
        "id": "nO00_woyrZ7G",
        "outputId": "07ea50a7-d396-410f-cf45-96ab7ef134d7"
      },
      "execution_count": 4,
      "outputs": [
        {
          "output_type": "stream",
          "name": "stdout",
          "text": [
            "0.22515902199999982\n"
          ]
        }
      ]
    },
    {
      "cell_type": "code",
      "source": [
        "# Example 2-5. A beta distribution with more trials\n",
        "from scipy.stats import beta\n",
        "\n",
        "a = 30\n",
        "b = 6\n",
        "p = 0.9\n",
        "\n",
        "prob = 1.0 - beta.cdf(p, a, b)\n",
        "print(prob)"
      ],
      "metadata": {
        "colab": {
          "base_uri": "https://localhost:8080/"
        },
        "id": "o48qcRferoMY",
        "outputId": "800120ac-c9ee-4dc9-9d4f-73c137758221"
      },
      "execution_count": 5,
      "outputs": [
        {
          "output_type": "stream",
          "name": "stdout",
          "text": [
            "0.13163577484183697\n"
          ]
        }
      ]
    },
    {
      "cell_type": "code",
      "source": [
        "# Example 2-6. Beta distribution middle area using SciPy\n",
        "from scipy.stats import beta\n",
        "\n",
        "a = 8\n",
        "b = 2\n",
        "p_1 = 0.9\n",
        "p_2 = 0.8\n",
        "\n",
        "prob = beta.cdf(p_1, a, b) - beta.cdf(p_2, a, b)\n",
        "print(prob)"
      ],
      "metadata": {
        "colab": {
          "base_uri": "https://localhost:8080/"
        },
        "id": "BQDD5Q_wry4q",
        "outputId": "f6781e22-d136-4114-80a1-fc06e79c3c6f"
      },
      "execution_count": 6,
      "outputs": [
        {
          "output_type": "stream",
          "name": "stdout",
          "text": [
            "0.33863336199999994\n"
          ]
        }
      ]
    }
  ]
}