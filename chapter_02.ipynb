{
  "nbformat": 4,
  "nbformat_minor": 0,
  "metadata": {
    "colab": {
      "name": "chapter-02.ipynb",
      "provenance": [],
      "collapsed_sections": [],
      "authorship_tag": "ABX9TyNHAT7cd37Uyb6BLm8PJoAQ",
      "include_colab_link": true
    },
    "kernelspec": {
      "name": "python3",
      "display_name": "Python 3"
    },
    "language_info": {
      "name": "python"
    }
  },
  "cells": [
    {
      "cell_type": "markdown",
      "metadata": {
        "id": "view-in-github",
        "colab_type": "text"
      },
      "source": [
        "<a href=\"https://colab.research.google.com/github/g-r-a-e-m-e/essential-math-for-data-science/blob/main/chapter_02.ipynb\" target=\"_parent\"><img src=\"https://colab.research.google.com/assets/colab-badge.svg\" alt=\"Open In Colab\"/></a>"
      ]
    },
    {
      "cell_type": "markdown",
      "source": [
        "# Chapter 02\n",
        "## Probability"
      ],
      "metadata": {
        "id": "H5IpO6-lo4Jn"
      }
    },
    {
      "cell_type": "markdown",
      "source": [
        "### Probability Math\n",
        "#### Conditional Probability and Bayes' Theorem"
      ],
      "metadata": {
        "id": "12kJH5xCpHXA"
      }
    },
    {
      "cell_type": "code",
      "execution_count": 1,
      "metadata": {
        "colab": {
          "base_uri": "https://localhost:8080/"
        },
        "id": "KfRKUIiKoxZL",
        "outputId": "b529014d-1d9b-43d2-bab9-2319e9e30e86"
      },
      "outputs": [
        {
          "output_type": "stream",
          "name": "stdout",
          "text": [
            "0.006538461538461539\n"
          ]
        }
      ],
      "source": [
        "# Example 2-1. Usine Bayes' Theorem\n",
        "p_coffee_drinker = .65\n",
        "p_cancer = 0.005\n",
        "p_coffee_drinker_given_cancer = 0.85\n",
        "\n",
        "p_cancer_given_coffee_drinker = p_coffee_drinker_given_cancer * p_cancer / p_coffee_drinker\n",
        "\n",
        "print(p_cancer_given_coffee_drinker)"
      ]
    },
    {
      "cell_type": "markdown",
      "source": [
        "### Binomial Distribution"
      ],
      "metadata": {
        "id": "et6JovbjqQYO"
      }
    },
    {
      "cell_type": "code",
      "source": [
        "# Example 2-2. Using SciPy for the binomial distribution\n",
        "from scipy.stats import binom\n",
        "\n",
        "n = 10\n",
        "p = 0.9\n",
        "\n",
        "for k in range(n + 1):\n",
        "  prob = binom.pmf(k, n, p)\n",
        "  print(f\"{k}: {prob}\")"
      ],
      "metadata": {
        "colab": {
          "base_uri": "https://localhost:8080/"
        },
        "id": "DFlhfi9VqFWv",
        "outputId": "ab89c15d-7e66-4046-dec4-8b945ff070db"
      },
      "execution_count": 2,
      "outputs": [
        {
          "output_type": "stream",
          "name": "stdout",
          "text": [
            "0: 9.999999999999978e-11\n",
            "1: 8.999999999999978e-09\n",
            "2: 3.6449999999999943e-07\n",
            "3: 8.747999999999991e-06\n",
            "4: 0.00013778099999999974\n",
            "5: 0.0014880347999999982\n",
            "6: 0.011160260999999996\n",
            "7: 0.05739562799999997\n",
            "8: 0.1937102444999998\n",
            "9: 0.38742048899999976\n",
            "10: 0.3486784401000001\n"
          ]
        }
      ]
    },
    {
      "cell_type": "markdown",
      "source": [
        "### Beta Distribution"
      ],
      "metadata": {
        "id": "DNRRj4W_rDDM"
      }
    },
    {
      "cell_type": "code",
      "source": [
        "# Example 2-3. Beta distribution using SciPy\n",
        "from scipy.stats import beta\n",
        "\n",
        "a = 8\n",
        "b = 2\n",
        "p = 0.9\n",
        "\n",
        "prob = beta.cdf(p, a, b)\n",
        "print(prob)"
      ],
      "metadata": {
        "colab": {
          "base_uri": "https://localhost:8080/"
        },
        "id": "KM-6xvXYqvr7",
        "outputId": "c7353332-cd91-486e-db52-869159f4cde2"
      },
      "execution_count": 3,
      "outputs": [
        {
          "output_type": "stream",
          "name": "stdout",
          "text": [
            "0.7748409780000002\n"
          ]
        }
      ]
    },
    {
      "cell_type": "code",
      "source": [
        "# Example 2-4. Subtracting to get the right area in a beta distribution\n",
        "from scipy.stats import beta\n",
        "\n",
        "a = 8\n",
        "b = 2\n",
        "p = 0.9\n",
        "\n",
        "prob = 1.0 - beta.cdf(p, a, b)\n",
        "print(prob)"
      ],
      "metadata": {
        "colab": {
          "base_uri": "https://localhost:8080/"
        },
        "id": "nO00_woyrZ7G",
        "outputId": "e86b070b-71a0-4e56-a738-b567fcf36680"
      },
      "execution_count": 4,
      "outputs": [
        {
          "output_type": "stream",
          "name": "stdout",
          "text": [
            "0.22515902199999982\n"
          ]
        }
      ]
    },
    {
      "cell_type": "code",
      "source": [
        "# Example 2-5. A beta distribution with more trials\n",
        "from scipy.stats import beta\n",
        "\n",
        "a = 30\n",
        "b = 6\n",
        "p = 0.9\n",
        "\n",
        "prob = 1.0 - beta.cdf(p, a, b)\n",
        "print(prob)"
      ],
      "metadata": {
        "colab": {
          "base_uri": "https://localhost:8080/"
        },
        "id": "o48qcRferoMY",
        "outputId": "5829639a-cbd7-4350-fe4d-8eb884c0e44b"
      },
      "execution_count": 5,
      "outputs": [
        {
          "output_type": "stream",
          "name": "stdout",
          "text": [
            "0.13163577484183697\n"
          ]
        }
      ]
    },
    {
      "cell_type": "code",
      "source": [
        "# Example 2-6. Beta distribution middle area using SciPy\n",
        "from scipy.stats import beta\n",
        "\n",
        "a = 8\n",
        "b = 2\n",
        "p_1 = 0.9\n",
        "p_2 = 0.8\n",
        "\n",
        "prob = beta.cdf(p_1, a, b) - beta.cdf(p_2, a, b)\n",
        "print(prob)"
      ],
      "metadata": {
        "colab": {
          "base_uri": "https://localhost:8080/"
        },
        "id": "BQDD5Q_wry4q",
        "outputId": "e22a7818-67e9-4757-e585-8826258f08a6"
      },
      "execution_count": 6,
      "outputs": [
        {
          "output_type": "stream",
          "name": "stdout",
          "text": [
            "0.33863336199999994\n"
          ]
        }
      ]
    },
    {
      "cell_type": "markdown",
      "source": [
        "### Exercises"
      ],
      "metadata": {
        "id": "qOQYMcKIsjx4"
      }
    },
    {
      "cell_type": "markdown",
      "source": [
        "1. There is a 30% chance of rain today, and a 40% chance your umbrella order will arrive on time. You are eager to walk in the rain today and cannot do so without either! What is the probability it will rain AND your umbrella will arrive?"
      ],
      "metadata": {
        "id": "osqtCB7msmhK"
      }
    },
    {
      "cell_type": "code",
      "source": [
        "p_rain = 0.30\n",
        "p_umbrella = 0.40\n",
        "\n",
        "prob = p_rain * p_umbrella\n",
        "\n",
        "print(f\"There is a {100*round(prob, 4)}% chance I will be able to walk in the rain today.\")"
      ],
      "metadata": {
        "colab": {
          "base_uri": "https://localhost:8080/"
        },
        "id": "RrA3UHP8slpR",
        "outputId": "5196d666-52db-4ff1-f856-fb094c314306"
      },
      "execution_count": 7,
      "outputs": [
        {
          "output_type": "stream",
          "name": "stdout",
          "text": [
            "There is a 12.0% chance I will be able to walk in the rain today.\n"
          ]
        }
      ]
    },
    {
      "cell_type": "markdown",
      "source": [
        "2. There is a 30% chance of rain today, and a 40% chance your umbrella order will arrive on time. You will be able to run errands only if it does not rain or your umbrella arrives. What is the probability it will not rain OR your umbrella arrives?"
      ],
      "metadata": {
        "id": "fgT7507GtJLa"
      }
    },
    {
      "cell_type": "code",
      "source": [
        "p_rain = 0.30\n",
        "p_umbrella = 0.40\n",
        "\n",
        "prob = (1.0 - p_rain) + p_umbrella - (p_rain * p_umbrella)\n",
        "\n",
        "print(f\"There is a {100*round(prob, 4)}% chance I can run errands.\")"
      ],
      "metadata": {
        "colab": {
          "base_uri": "https://localhost:8080/"
        },
        "id": "GfEtXFgttExK",
        "outputId": "f8770086-8be6-4fb4-e089-af9a91277380"
      },
      "execution_count": 8,
      "outputs": [
        {
          "output_type": "stream",
          "name": "stdout",
          "text": [
            "There is a 98.0% chance I can run errands.\n"
          ]
        }
      ]
    },
    {
      "cell_type": "markdown",
      "source": [
        "3. There is a 30% chance of rain today, and a 40% chance your umbrella will arrive on time. However, you found out if it rains there is only a 20% chance your umbrella will arrive on time. What is the probability it will rain AND your umbrella will arrive on time?"
      ],
      "metadata": {
        "id": "Nkm8b4U9troE"
      }
    },
    {
      "cell_type": "code",
      "source": [
        "p_rain = 0.30\n",
        "p_umbrella = 0.40\n",
        "p_umbrella_given_rain = 0.20\n",
        "\n",
        "p_rain_and_umbrella = p_umbrella_given_rain * p_rain \n",
        "\n",
        "print(f\"There is a {round(100*p_rain_and_umbrella, 2)}% chance it will rain and I'll get my umbrella.\")"
      ],
      "metadata": {
        "colab": {
          "base_uri": "https://localhost:8080/"
        },
        "id": "1FeeFsXKto0h",
        "outputId": "d74ab415-3712-46a6-9e27-2e40655b6e6d"
      },
      "execution_count": 9,
      "outputs": [
        {
          "output_type": "stream",
          "name": "stdout",
          "text": [
            "There is a 6.0% chance it will rain and I'll get my umbrella.\n"
          ]
        }
      ]
    },
    {
      "cell_type": "markdown",
      "source": [
        "4. You have 137 passengers booked on a flight from Las Vegas to Dallas. However, it is Las Vegas on a Sunday morning and you estimate each passenger is 40% likely not to show up. You are trying to figure out how many seats to overbook so the plane does not fly empty. How likely is it that at least 50 passengers will not show up?"
      ],
      "metadata": {
        "id": "5OmKRHtiuxds"
      }
    },
    {
      "cell_type": "code",
      "source": [
        "n_pass = 137\n",
        "p = 0.40\n",
        "min_no_show = 50\n",
        "p_no_show = 0.0\n",
        "\n",
        "for i in range(min_no_show, n_pass + 1):\n",
        "  p_no_show += binom.pmf(i, n_pass, p)\n",
        "\n",
        "print(f\"There is a {round(100*p_no_show,2)}% chance at least 50 passengers will not show up.\")\n"
      ],
      "metadata": {
        "colab": {
          "base_uri": "https://localhost:8080/"
        },
        "id": "QPZO0RbdvLaf",
        "outputId": "50c53fbf-19f3-4ec1-bc1c-e180c2ddf475"
      },
      "execution_count": 10,
      "outputs": [
        {
          "output_type": "stream",
          "name": "stdout",
          "text": [
            "There is a 82.21% chance at least 50 passengers will not show up.\n"
          ]
        }
      ]
    },
    {
      "cell_type": "markdown",
      "source": [
        "5. You flipped a coin 19 times and got heads 15 times and tails 4 times. Do you think this coin has any good probability of being fair? Why or why not?"
      ],
      "metadata": {
        "id": "W4wkrfbHvZZ3"
      }
    },
    {
      "cell_type": "code",
      "source": [
        "heads = 15\n",
        "tails = 4\n",
        "prob = 1.0 - beta.cdf(.5, heads, tails)\n",
        "\n",
        "print(f\"There is a {round(100*prob, 2)}% chance of this coin being unfair.\")"
      ],
      "metadata": {
        "colab": {
          "base_uri": "https://localhost:8080/"
        },
        "id": "y9fyLXyEum5n",
        "outputId": "028699e4-b804-4239-e39a-9cc6f51c6346"
      },
      "execution_count": 11,
      "outputs": [
        {
          "output_type": "stream",
          "name": "stdout",
          "text": [
            "There is a 99.62% chance of this coin being unfair.\n"
          ]
        }
      ]
    }
  ]
}