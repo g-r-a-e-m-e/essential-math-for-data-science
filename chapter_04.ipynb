{
  "nbformat": 4,
  "nbformat_minor": 0,
  "metadata": {
    "colab": {
      "name": "chapter-04.ipynb",
      "provenance": [],
      "collapsed_sections": [],
      "authorship_tag": "ABX9TyNHIQTJe/b0+qseLSm8uoxf",
      "include_colab_link": true
    },
    "kernelspec": {
      "name": "python3",
      "display_name": "Python 3"
    },
    "language_info": {
      "name": "python"
    }
  },
  "cells": [
    {
      "cell_type": "markdown",
      "metadata": {
        "id": "view-in-github",
        "colab_type": "text"
      },
      "source": [
        "<a href=\"https://colab.research.google.com/github/g-r-a-e-m-e/essential-math-for-data-science/blob/main/chapter_04.ipynb\" target=\"_parent\"><img src=\"https://colab.research.google.com/assets/colab-badge.svg\" alt=\"Open In Colab\"/></a>"
      ]
    },
    {
      "cell_type": "markdown",
      "source": [
        "# Chapter 04\n",
        "\n",
        "## Linear Algebra"
      ],
      "metadata": {
        "id": "RU0j8OLcLrhG"
      }
    },
    {
      "cell_type": "markdown",
      "source": [
        "### What is a Vector?"
      ],
      "metadata": {
        "id": "2YWxnsvfnAak"
      }
    },
    {
      "cell_type": "code",
      "execution_count": 1,
      "metadata": {
        "id": "n2bBhc91LiET",
        "colab": {
          "base_uri": "https://localhost:8080/"
        },
        "outputId": "3d1b2385-1a94-45ec-db7f-18486e6de313"
      },
      "outputs": [
        {
          "output_type": "stream",
          "name": "stdout",
          "text": [
            "[3, 2]\n"
          ]
        }
      ],
      "source": [
        "# Example 4-1. Declaring a vector in Python using a list\n",
        "v = [3, 2]\n",
        "print(v)"
      ]
    },
    {
      "cell_type": "code",
      "source": [
        "# Example 4-2. Declaring a vector in Python using NumPy\n",
        "\n",
        "import numpy as np\n",
        "v = np.array([3, 2])\n",
        "print(v)"
      ],
      "metadata": {
        "colab": {
          "base_uri": "https://localhost:8080/"
        },
        "id": "ejHXFxKFlYTg",
        "outputId": "192e2944-b37d-4a03-bdd3-2b5d0d3c6ee8"
      },
      "execution_count": 2,
      "outputs": [
        {
          "output_type": "stream",
          "name": "stdout",
          "text": [
            "[3 2]\n"
          ]
        }
      ]
    },
    {
      "cell_type": "code",
      "source": [
        "# Example 4-3. Declaring a three-dimensional vector in Python using NumPy\n",
        "\n",
        "import numpy as np\n",
        "v = np.array([4, 1, 2])\n",
        "print(v)"
      ],
      "metadata": {
        "colab": {
          "base_uri": "https://localhost:8080/"
        },
        "id": "PTTIFqcYlk4T",
        "outputId": "1476a3cc-149c-4eb6-f8c5-07c7f83553e6"
      },
      "execution_count": 3,
      "outputs": [
        {
          "output_type": "stream",
          "name": "stdout",
          "text": [
            "[4 1 2]\n"
          ]
        }
      ]
    },
    {
      "cell_type": "code",
      "source": [
        "# Example 4-4. Declaring a five-dimensional vector in Python using NumPy\n",
        "\n",
        "import numpy as np\n",
        "v = np.array([6, 1, 5, 8 ,3])\n",
        "print(v)"
      ],
      "metadata": {
        "colab": {
          "base_uri": "https://localhost:8080/"
        },
        "id": "PK5kOgCQmmnw",
        "outputId": "a5d01a22-ec0f-4275-c95f-2c0a923405b6"
      },
      "execution_count": 4,
      "outputs": [
        {
          "output_type": "stream",
          "name": "stdout",
          "text": [
            "[6 1 5 8 3]\n"
          ]
        }
      ]
    },
    {
      "cell_type": "markdown",
      "source": [
        "#### Adding and Combining Vectors"
      ],
      "metadata": {
        "id": "qROy3um5nEk6"
      }
    },
    {
      "cell_type": "code",
      "source": [
        "# Example 4-5. Adding two vectors in Python using NumPy\n",
        "\n",
        "from numpy import array\n",
        "\n",
        "v = array([3, 2])\n",
        "w = array([2, -1])\n",
        "\n",
        "# sum the vectors\n",
        "v_plus_w = v + w\n",
        "\n",
        "# display the summed vector\n",
        "print(v_plus_w)"
      ],
      "metadata": {
        "colab": {
          "base_uri": "https://localhost:8080/"
        },
        "id": "77E6oT-5m0Ji",
        "outputId": "507a8329-f744-4f19-e8a1-ffc8a1f0fc7f"
      },
      "execution_count": 5,
      "outputs": [
        {
          "output_type": "stream",
          "name": "stdout",
          "text": [
            "[5 1]\n"
          ]
        }
      ]
    },
    {
      "cell_type": "markdown",
      "source": [
        "#### Scaling Vectors"
      ],
      "metadata": {
        "id": "lFNoLtUnn9hQ"
      }
    },
    {
      "cell_type": "code",
      "source": [
        "# Example 4-6. Scaling a number in Python using NumPy\n",
        "\n",
        "from numpy import array\n",
        "v = array([3, 1])\n",
        "\n",
        "# scale the vector\n",
        "scaled_v = 2.0 * v\n",
        "\n",
        "# display the scaled vector\n",
        "print(scaled_v)"
      ],
      "metadata": {
        "colab": {
          "base_uri": "https://localhost:8080/"
        },
        "id": "LxNWhQkPnah9",
        "outputId": "1317af65-6392-4257-dc67-f2c416f52d2f"
      },
      "execution_count": 6,
      "outputs": [
        {
          "output_type": "stream",
          "name": "stdout",
          "text": [
            "[6. 2.]\n"
          ]
        }
      ]
    },
    {
      "cell_type": "markdown",
      "source": [
        "### Linear Transformations\n",
        "#### Matrix Vector Multiplication"
      ],
      "metadata": {
        "id": "dnh8A9tgs20m"
      }
    },
    {
      "cell_type": "code",
      "source": [
        "# Example 4-7. Matrix vector multiplication in NumPy\n",
        "\n",
        "from numpy import array\n",
        "\n",
        "# compose basis matrix with i-hat and j-hat\n",
        "basis = array([[3, 0],\n",
        "              [0, 2]])\n",
        "\n",
        "# declare vector v\n",
        "v = array([1, 1])\n",
        "\n",
        "# create new vector by transforming v with dot product\n",
        "new_v = basis.dot(v)\n",
        "\n",
        "print(new_v)"
      ],
      "metadata": {
        "colab": {
          "base_uri": "https://localhost:8080/"
        },
        "id": "N_E7xXQlpB1z",
        "outputId": "7e2586e4-0e3e-490d-d2ce-dc2ceabb8359"
      },
      "execution_count": 8,
      "outputs": [
        {
          "output_type": "stream",
          "name": "stdout",
          "text": [
            "[3 2]\n"
          ]
        }
      ]
    },
    {
      "cell_type": "code",
      "source": [
        "# Example 4-8. Separating the basis vectors and applying them as a transformation\n",
        "\n",
        "from numpy import array\n",
        "\n",
        "# Declare i-hat and j-hat\n",
        "i_hat = array([2, 0])\n",
        "j_hat = array([0, 3])\n",
        "\n",
        "# Compose basis matrix using i-hat and j-hat; transpose rows to columns\n",
        "basis = array([i_hat, j_hat]).transpose()\n",
        "\n",
        "# Declare vector v\n",
        "v = array([1, 1])\n",
        "\n",
        "# Create new vector by transforming v with dot product\n",
        "new_v = basis.dot(v)\n",
        "\n",
        "print(new_v)"
      ],
      "metadata": {
        "colab": {
          "base_uri": "https://localhost:8080/"
        },
        "id": "3u63G_8otTe2",
        "outputId": "e3f443f7-a02d-467f-8a9e-fdd4bd4f39ea"
      },
      "execution_count": 9,
      "outputs": [
        {
          "output_type": "stream",
          "name": "stdout",
          "text": [
            "[2 3]\n"
          ]
        }
      ]
    },
    {
      "cell_type": "code",
      "source": [
        "# Example 4-9. Transforming a vector using NumPy\n",
        "\n",
        "from numpy import array\n",
        "\n",
        "# Declare i-hat and j-hat\n",
        "i_hat = array([2, 0])\n",
        "j_hat = array([0, 3])\n",
        "\n",
        "# Compose basis matrix using i-hat and j-hat; transpose rows to columns\n",
        "basis = array([i_hat, j_hat]).transpose()\n",
        "\n",
        "# Declare vector v\n",
        "v = array([2, 1])\n",
        "\n",
        "# Create new vector by transforming v with dot product\n",
        "new_v = basis.dot(v)\n",
        "\n",
        "print(new_v)"
      ],
      "metadata": {
        "colab": {
          "base_uri": "https://localhost:8080/"
        },
        "id": "V1_18_74wW5U",
        "outputId": "4eadb475-51b5-4fe2-b442-f913ce1a901c"
      },
      "execution_count": 10,
      "outputs": [
        {
          "output_type": "stream",
          "name": "stdout",
          "text": [
            "[4 3]\n"
          ]
        }
      ]
    },
    {
      "cell_type": "code",
      "source": [
        "# Example 4-10. A more complicated transformation\n",
        "\n",
        "from numpy import array\n",
        "\n",
        "# Declare i-hat and j-hat\n",
        "i_hat = array([2, 3])\n",
        "j_hat = array([2, -1])\n",
        "\n",
        "# Compose basis matrix using i-hat and j-hat; transpose rows to columns\n",
        "basis = array([i_hat, j_hat]).transpose()\n",
        "\n",
        "# Declare vector v\n",
        "v = array([2, 1])\n",
        "\n",
        "# Create new vector by transforming v with dot product\n",
        "new_v = basis.dot(v)\n",
        "\n",
        "print(new_v)"
      ],
      "metadata": {
        "colab": {
          "base_uri": "https://localhost:8080/"
        },
        "id": "kMA6Z3OqyTlH",
        "outputId": "66de8b3a-1c64-42e5-cc88-46a41e9bb4eb"
      },
      "execution_count": 11,
      "outputs": [
        {
          "output_type": "stream",
          "name": "stdout",
          "text": [
            "[6 5]\n"
          ]
        }
      ]
    },
    {
      "cell_type": "code",
      "source": [
        ""
      ],
      "metadata": {
        "id": "9n-3F9JKy3_3"
      },
      "execution_count": null,
      "outputs": []
    }
  ]
}