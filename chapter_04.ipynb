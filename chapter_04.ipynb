{
  "nbformat": 4,
  "nbformat_minor": 0,
  "metadata": {
    "colab": {
      "name": "chapter-04.ipynb",
      "provenance": [],
      "collapsed_sections": [],
      "authorship_tag": "ABX9TyPftt9mSp7MIDmS9zFmYHyA",
      "include_colab_link": true
    },
    "kernelspec": {
      "name": "python3",
      "display_name": "Python 3"
    },
    "language_info": {
      "name": "python"
    }
  },
  "cells": [
    {
      "cell_type": "markdown",
      "metadata": {
        "id": "view-in-github",
        "colab_type": "text"
      },
      "source": [
        "<a href=\"https://colab.research.google.com/github/g-r-a-e-m-e/essential-math-for-data-science/blob/main/chapter_04.ipynb\" target=\"_parent\"><img src=\"https://colab.research.google.com/assets/colab-badge.svg\" alt=\"Open In Colab\"/></a>"
      ]
    },
    {
      "cell_type": "markdown",
      "source": [
        "# Chapter 04\n",
        "\n",
        "## Linear Algebra"
      ],
      "metadata": {
        "id": "RU0j8OLcLrhG"
      }
    },
    {
      "cell_type": "markdown",
      "source": [
        "### What is a Vector?"
      ],
      "metadata": {
        "id": "2YWxnsvfnAak"
      }
    },
    {
      "cell_type": "code",
      "execution_count": 1,
      "metadata": {
        "id": "n2bBhc91LiET",
        "colab": {
          "base_uri": "https://localhost:8080/"
        },
        "outputId": "acd8a4fa-c7da-4431-8fd7-622a59e7a299"
      },
      "outputs": [
        {
          "output_type": "stream",
          "name": "stdout",
          "text": [
            "[3, 2]\n"
          ]
        }
      ],
      "source": [
        "# Example 4-1. Declaring a vector in Python using a list\n",
        "v = [3, 2]\n",
        "print(v)"
      ]
    },
    {
      "cell_type": "code",
      "source": [
        "# Example 4-2. Declaring a vector in Python using NumPy\n",
        "\n",
        "import numpy as np\n",
        "v = np.array([3, 2])\n",
        "print(v)"
      ],
      "metadata": {
        "colab": {
          "base_uri": "https://localhost:8080/"
        },
        "id": "ejHXFxKFlYTg",
        "outputId": "5ad3c3b9-b78b-4f2f-f3ce-a3890968a57e"
      },
      "execution_count": 2,
      "outputs": [
        {
          "output_type": "stream",
          "name": "stdout",
          "text": [
            "[3 2]\n"
          ]
        }
      ]
    },
    {
      "cell_type": "code",
      "source": [
        "# Example 4-3. Declaring a three-dimensional vector in Python using NumPy\n",
        "\n",
        "import numpy as np\n",
        "v = np.array([4, 1, 2])\n",
        "print(v)"
      ],
      "metadata": {
        "colab": {
          "base_uri": "https://localhost:8080/"
        },
        "id": "PTTIFqcYlk4T",
        "outputId": "14190d62-ca21-4426-85c8-4c542894539f"
      },
      "execution_count": 3,
      "outputs": [
        {
          "output_type": "stream",
          "name": "stdout",
          "text": [
            "[4 1 2]\n"
          ]
        }
      ]
    },
    {
      "cell_type": "code",
      "source": [
        "# Example 4-4. Declaring a five-dimensional vector in Python using NumPy\n",
        "\n",
        "import numpy as np\n",
        "v = np.array([6, 1, 5, 8 ,3])\n",
        "print(v)"
      ],
      "metadata": {
        "colab": {
          "base_uri": "https://localhost:8080/"
        },
        "id": "PK5kOgCQmmnw",
        "outputId": "3951cb45-0049-4518-ee67-0caaf49851e1"
      },
      "execution_count": 4,
      "outputs": [
        {
          "output_type": "stream",
          "name": "stdout",
          "text": [
            "[6 1 5 8 3]\n"
          ]
        }
      ]
    },
    {
      "cell_type": "markdown",
      "source": [
        "#### Adding and Combining Vectors"
      ],
      "metadata": {
        "id": "qROy3um5nEk6"
      }
    },
    {
      "cell_type": "code",
      "source": [
        "# Example 4-5. Adding two vectors in Python using NumPy\n",
        "\n",
        "from numpy import array\n",
        "\n",
        "v = array([3, 2])\n",
        "w = array([2, -1])\n",
        "\n",
        "# sum the vectors\n",
        "v_plus_w = v + w\n",
        "\n",
        "# display the summed vector\n",
        "print(v_plus_w)"
      ],
      "metadata": {
        "colab": {
          "base_uri": "https://localhost:8080/"
        },
        "id": "77E6oT-5m0Ji",
        "outputId": "8239872b-f70e-4457-fb14-ceebaccb6e44"
      },
      "execution_count": 5,
      "outputs": [
        {
          "output_type": "stream",
          "name": "stdout",
          "text": [
            "[5 1]\n"
          ]
        }
      ]
    },
    {
      "cell_type": "markdown",
      "source": [
        "#### Scaling Vectors"
      ],
      "metadata": {
        "id": "lFNoLtUnn9hQ"
      }
    },
    {
      "cell_type": "code",
      "source": [
        "# Example 4-6. Scaling a number in Python using NumPy\n",
        "\n",
        "from numpy import array\n",
        "v = array([3, 1])\n",
        "\n",
        "# scale the vector\n",
        "scaled_v = 2.0 * v\n",
        "\n",
        "# display the scaled vector\n",
        "print(scaled_v)"
      ],
      "metadata": {
        "colab": {
          "base_uri": "https://localhost:8080/"
        },
        "id": "LxNWhQkPnah9",
        "outputId": "a0f26260-72d9-4c73-e2c0-36bedbdac24f"
      },
      "execution_count": 6,
      "outputs": [
        {
          "output_type": "stream",
          "name": "stdout",
          "text": [
            "[6. 2.]\n"
          ]
        }
      ]
    },
    {
      "cell_type": "markdown",
      "source": [
        "### Linear Transformations\n",
        "#### Matrix Vector Multiplication"
      ],
      "metadata": {
        "id": "dnh8A9tgs20m"
      }
    },
    {
      "cell_type": "code",
      "source": [
        "# Example 4-7. Matrix vector multiplication in NumPy\n",
        "\n",
        "from numpy import array\n",
        "\n",
        "# compose basis matrix with i-hat and j-hat\n",
        "basis = array([[3, 0],\n",
        "              [0, 2]])\n",
        "\n",
        "# declare vector v\n",
        "v = array([1, 1])\n",
        "\n",
        "# create new vector by transforming v with dot product\n",
        "new_v = basis.dot(v)\n",
        "\n",
        "print(new_v)"
      ],
      "metadata": {
        "colab": {
          "base_uri": "https://localhost:8080/"
        },
        "id": "N_E7xXQlpB1z",
        "outputId": "0114d486-ac83-4aac-f39d-61143159ef13"
      },
      "execution_count": 7,
      "outputs": [
        {
          "output_type": "stream",
          "name": "stdout",
          "text": [
            "[3 2]\n"
          ]
        }
      ]
    },
    {
      "cell_type": "code",
      "source": [
        "# Example 4-8. Separating the basis vectors and applying them as a transformation\n",
        "\n",
        "from numpy import array\n",
        "\n",
        "# Declare i-hat and j-hat\n",
        "i_hat = array([2, 0])\n",
        "j_hat = array([0, 3])\n",
        "\n",
        "# Compose basis matrix using i-hat and j-hat; transpose rows to columns\n",
        "basis = array([i_hat, j_hat]).transpose()\n",
        "\n",
        "# Declare vector v\n",
        "v = array([1, 1])\n",
        "\n",
        "# Create new vector by transforming v with dot product\n",
        "new_v = basis.dot(v)\n",
        "\n",
        "print(new_v)"
      ],
      "metadata": {
        "colab": {
          "base_uri": "https://localhost:8080/"
        },
        "id": "3u63G_8otTe2",
        "outputId": "3a9f3ccb-0b32-4d8d-c1ab-a9a2d64c59fc"
      },
      "execution_count": 8,
      "outputs": [
        {
          "output_type": "stream",
          "name": "stdout",
          "text": [
            "[2 3]\n"
          ]
        }
      ]
    },
    {
      "cell_type": "code",
      "source": [
        "# Example 4-9. Transforming a vector using NumPy\n",
        "\n",
        "from numpy import array\n",
        "\n",
        "# Declare i-hat and j-hat\n",
        "i_hat = array([2, 0])\n",
        "j_hat = array([0, 3])\n",
        "\n",
        "# Compose basis matrix using i-hat and j-hat; transpose rows to columns\n",
        "basis = array([i_hat, j_hat]).transpose()\n",
        "\n",
        "# Declare vector v\n",
        "v = array([2, 1])\n",
        "\n",
        "# Create new vector by transforming v with dot product\n",
        "new_v = basis.dot(v)\n",
        "\n",
        "print(new_v)"
      ],
      "metadata": {
        "colab": {
          "base_uri": "https://localhost:8080/"
        },
        "id": "V1_18_74wW5U",
        "outputId": "b26a4ea2-6fcc-436b-cdd9-ead3528c2b59"
      },
      "execution_count": 9,
      "outputs": [
        {
          "output_type": "stream",
          "name": "stdout",
          "text": [
            "[4 3]\n"
          ]
        }
      ]
    },
    {
      "cell_type": "code",
      "source": [
        "# Example 4-10. A more complicated transformation\n",
        "\n",
        "from numpy import array\n",
        "\n",
        "# Declare i-hat and j-hat\n",
        "i_hat = array([2, 3])\n",
        "j_hat = array([2, -1])\n",
        "\n",
        "# Compose basis matrix using i-hat and j-hat; transpose rows to columns\n",
        "basis = array([i_hat, j_hat]).transpose()\n",
        "\n",
        "# Declare vector v\n",
        "v = array([2, 1])\n",
        "\n",
        "# Create new vector by transforming v with dot product\n",
        "new_v = basis.dot(v)\n",
        "\n",
        "print(new_v)"
      ],
      "metadata": {
        "colab": {
          "base_uri": "https://localhost:8080/"
        },
        "id": "kMA6Z3OqyTlH",
        "outputId": "cd7644b5-6bde-4df0-9bf4-c084ea193575"
      },
      "execution_count": 10,
      "outputs": [
        {
          "output_type": "stream",
          "name": "stdout",
          "text": [
            "[6 5]\n"
          ]
        }
      ]
    },
    {
      "cell_type": "markdown",
      "source": [
        "### Matrix Multiplication"
      ],
      "metadata": {
        "id": "0IQO_ipCqkm5"
      }
    },
    {
      "cell_type": "code",
      "source": [
        "# Example 4-11. Combining two transformations\n",
        "\n",
        "import numpy as np\n",
        "\n",
        "# Transformation 1\n",
        "i_hat_1 = np.array([0, 1])\n",
        "j_hat_1 = np.array([-1, 0])\n",
        "transform_1 = np.array([i_hat_1, j_hat_1]).transpose()\n",
        "\n",
        "# Transformation 2\n",
        "i_hat_2 = np.array([1, 0])\n",
        "j_hat_2 = np.array([1, 1])\n",
        "transform_2 = np.array([i_hat_2, j_hat_2]).transpose()\n",
        "\n",
        "# Combine transformations\n",
        "combined = np.matmul(transform_2, transform_1)\n",
        "\n",
        "print(f\"Combined Matrix:\\n{combined}\")\n",
        "\n",
        "v = array([1, 2])\n",
        "\n",
        "print(combined.dot(v))"
      ],
      "metadata": {
        "colab": {
          "base_uri": "https://localhost:8080/"
        },
        "id": "9n-3F9JKy3_3",
        "outputId": "d211eb52-f804-476b-fcd1-3dad414de88d"
      },
      "execution_count": 11,
      "outputs": [
        {
          "output_type": "stream",
          "name": "stdout",
          "text": [
            "Combined Matrix:\n",
            "[[ 1 -1]\n",
            " [ 1  0]]\n",
            "[-1  1]\n"
          ]
        }
      ]
    },
    {
      "cell_type": "code",
      "source": [
        "# Example 4-12. Applying the transformations in reverse\n",
        "\n",
        "import numpy as np\n",
        "\n",
        "# Transformation 1\n",
        "i_hat_1 = np.array([0, 1])\n",
        "j_hat_1 = np.array([-1, 0])\n",
        "transform_1 = np.array([i_hat_1, j_hat_1]).transpose()\n",
        "\n",
        "# Transformation 2\n",
        "i_hat_2 = np.array([1, 0])\n",
        "j_hat_2 = np.array([1, 1])\n",
        "transform_2 = np.array([i_hat_2, j_hat_2]).transpose()\n",
        "\n",
        "# Combine transformations\n",
        "combined = np.matmul(transform_1, transform_2)\n",
        "\n",
        "print(f\"Combined Matrix:\\n{combined}\")\n",
        "\n",
        "v = array([1, 2])\n",
        "\n",
        "print(combined.dot(v))"
      ],
      "metadata": {
        "id": "E1iFXhFVsUoa",
        "colab": {
          "base_uri": "https://localhost:8080/"
        },
        "outputId": "0df08200-90a3-42d6-a82f-65db4f2190a1"
      },
      "execution_count": 12,
      "outputs": [
        {
          "output_type": "stream",
          "name": "stdout",
          "text": [
            "Combined Matrix:\n",
            "[[ 0 -1]\n",
            " [ 1  1]]\n",
            "[-2  3]\n"
          ]
        }
      ]
    },
    {
      "cell_type": "markdown",
      "source": [
        "#### Determinants"
      ],
      "metadata": {
        "id": "yYu5RQKumAOI"
      }
    },
    {
      "cell_type": "code",
      "source": [
        "# Example 4-13. Calculating a determinant\n",
        "\n",
        "import numpy as np\n",
        "from numpy.linalg import det\n",
        "\n",
        "i_hat = np.array([3, 0])\n",
        "j_hat = np.array([0, 2])\n",
        "\n",
        "basis = np.array([i_hat, j_hat]).transpose()\n",
        "\n",
        "determinant = det(basis)\n",
        "\n",
        "print(determinant)"
      ],
      "metadata": {
        "colab": {
          "base_uri": "https://localhost:8080/"
        },
        "id": "Y5rW9rZelZPh",
        "outputId": "fcd30590-bb4a-4a64-cbe6-8ecb53c10e62"
      },
      "execution_count": 13,
      "outputs": [
        {
          "output_type": "stream",
          "name": "stdout",
          "text": [
            "6.0\n"
          ]
        }
      ]
    },
    {
      "cell_type": "code",
      "source": [
        "# Example 4-14. A determinant for a shear\n",
        "\n",
        "import numpy as np\n",
        "from numpy.linalg import det\n",
        "\n",
        "i_hat = np.array([1, 0])\n",
        "j_hat = np.array([1, 1])\n",
        "\n",
        "basis = np.array([i_hat, j_hat]).transpose()\n",
        "\n",
        "determinant = det(basis)\n",
        "\n",
        "print(determinant)"
      ],
      "metadata": {
        "colab": {
          "base_uri": "https://localhost:8080/"
        },
        "id": "qUktDybxnFHY",
        "outputId": "cbaa4278-e97d-4448-f000-596c7d94a789"
      },
      "execution_count": 14,
      "outputs": [
        {
          "output_type": "stream",
          "name": "stdout",
          "text": [
            "1.0\n"
          ]
        }
      ]
    },
    {
      "cell_type": "code",
      "source": [
        "# Example 4-15. A negative determinant\n",
        "\n",
        "import numpy as np\n",
        "from numpy.linalg import det\n",
        "\n",
        "i_hat = np.array([-2, 1])\n",
        "j_hat = np.array([1, 2])\n",
        "\n",
        "basis = np.array([i_hat, j_hat]).transpose()\n",
        "\n",
        "determinant = det(basis)\n",
        "\n",
        "print(determinant)"
      ],
      "metadata": {
        "colab": {
          "base_uri": "https://localhost:8080/"
        },
        "id": "4_WDohvTnScr",
        "outputId": "de8cd3eb-637d-4a2d-d3ac-2d1cf1548c2a"
      },
      "execution_count": 15,
      "outputs": [
        {
          "output_type": "stream",
          "name": "stdout",
          "text": [
            "-5.000000000000001\n"
          ]
        }
      ]
    },
    {
      "cell_type": "code",
      "source": [
        "# Example 4-16. A determinant of zero\n",
        "\n",
        "import numpy as np\n",
        "from numpy.linalg import det\n",
        "\n",
        "i_hat = np.array([-2, 1])\n",
        "j_hat = np.array([3, -1.5])\n",
        "\n",
        "basis = np.array([i_hat, j_hat]).transpose()\n",
        "\n",
        "determinant = det(basis)\n",
        "\n",
        "print(determinant)"
      ],
      "metadata": {
        "colab": {
          "base_uri": "https://localhost:8080/"
        },
        "id": "-siIvlUwnwAy",
        "outputId": "8c518bb7-5a7a-4075-c551-f0ed6d46351b"
      },
      "execution_count": 16,
      "outputs": [
        {
          "output_type": "stream",
          "name": "stdout",
          "text": [
            "0.0\n"
          ]
        }
      ]
    },
    {
      "cell_type": "markdown",
      "source": [
        "#### Systems of Equations and Inverse Matrices"
      ],
      "metadata": {
        "id": "-dvtGZZKp-Cw"
      }
    },
    {
      "cell_type": "code",
      "source": [
        "# Example 4-17. Using SymPy to study the inverse and identity matrix\n",
        "\n",
        "from sympy import *\n",
        "\n",
        "# 4x + 2y + 4z = 44\n",
        "# 5x + 3y + 7z = 56\n",
        "# 9x + 3y + 6z = 72\n",
        "\n",
        "A = Matrix([\n",
        "    [4, 2, 4],\n",
        "    [5, 3, 7],\n",
        "    [9, 3, 6]\n",
        "])\n",
        "\n",
        "# dot product between A and its inverse will produce the identity function\n",
        "inverse = A.inv()\n",
        "identity = inverse * A\n",
        "\n",
        "print(f\"INVERSE: {inverse}\")\n",
        "print(f\"IDENTITY: {identity}\")"
      ],
      "metadata": {
        "colab": {
          "base_uri": "https://localhost:8080/"
        },
        "id": "V1EkWTeCoLN7",
        "outputId": "241b46ff-f800-4805-ba6d-19f47a8ca994"
      },
      "execution_count": 17,
      "outputs": [
        {
          "output_type": "stream",
          "name": "stdout",
          "text": [
            "INVERSE: Matrix([[-1/2, 0, 1/3], [11/2, -2, -4/3], [-2, 1, 1/3]])\n",
            "IDENTITY: Matrix([[1, 0, 0], [0, 1, 0], [0, 0, 1]])\n"
          ]
        }
      ]
    },
    {
      "cell_type": "code",
      "source": [
        "# Example 4-18. Using NumPy to solve a system of equations\n",
        "\n",
        "import numpy as np\n",
        "from numpy.linalg import inv\n",
        "\n",
        "# 4x + 2y + 4z = 44\n",
        "# 5x + 3y + 7z = 56\n",
        "# 9x + 3y + 6z = 72\n",
        "\n",
        "A = array([\n",
        "    [4, 2, 4],\n",
        "    [5, 3, 7],\n",
        "    [9, 3, 6]\n",
        "])\n",
        "\n",
        "B = array([\n",
        "    44,\n",
        "    56,\n",
        "    72\n",
        "])\n",
        "\n",
        "X = inv(A).dot(B)\n",
        "\n",
        "print(X)"
      ],
      "metadata": {
        "colab": {
          "base_uri": "https://localhost:8080/"
        },
        "id": "F1OhVSrMqzCy",
        "outputId": "92a9f15b-ec01-4035-d2a0-787bbd797ffc"
      },
      "execution_count": 18,
      "outputs": [
        {
          "output_type": "stream",
          "name": "stdout",
          "text": [
            "[ 2. 34. -8.]\n"
          ]
        }
      ]
    },
    {
      "cell_type": "code",
      "source": [
        "# Example 4-19. Using SymPy to solve a system of equations\n",
        "\n",
        "from sympy import *\n",
        "\n",
        "# 4x + 2y + 4z = 44\n",
        "# 5x + 3y + 7z = 56\n",
        "# 9x + 3y + 6z = 72\n",
        "\n",
        "A = Matrix([\n",
        "    [4, 2, 4],\n",
        "    [5, 3, 7],\n",
        "    [9, 3, 6]\n",
        "])\n",
        "\n",
        "B = Matrix([\n",
        "    44,\n",
        "    56,\n",
        "    72\n",
        "])\n",
        "\n",
        "X = A.inv() * B\n",
        "\n",
        "print(X)"
      ],
      "metadata": {
        "colab": {
          "base_uri": "https://localhost:8080/"
        },
        "id": "Qmx8B6RyrfL8",
        "outputId": "8f2b8699-46f6-48df-ab4b-50d70787f219"
      },
      "execution_count": 19,
      "outputs": [
        {
          "output_type": "stream",
          "name": "stdout",
          "text": [
            "Matrix([[2], [34], [-8]])\n"
          ]
        }
      ]
    },
    {
      "cell_type": "markdown",
      "source": [
        "#### Eigenvectors and Eigenvalues"
      ],
      "metadata": {
        "id": "H2HAyFnTs69S"
      }
    },
    {
      "cell_type": "code",
      "source": [
        "# Example 4-20. Performing eigendecomposition in NumPy\n",
        "\n",
        "import numpy as np\n",
        "from numpy.linalg import eig, inv\n",
        "\n",
        "A = array([\n",
        "    [1, 2],\n",
        "    [4, 5]\n",
        "])\n",
        "\n",
        "eigenvalues, eigenvectors = eig(A)\n",
        "\n",
        "print(f\"EIGENVALUES: \\n{eigenvalues}\")\n",
        "print(f\"EIGENVECTORS: \\n{eigenvectors}\")"
      ],
      "metadata": {
        "colab": {
          "base_uri": "https://localhost:8080/"
        },
        "id": "LtDZc4RGr2p8",
        "outputId": "b8392265-b026-4fb6-fab6-91a4d46957c4"
      },
      "execution_count": 20,
      "outputs": [
        {
          "output_type": "stream",
          "name": "stdout",
          "text": [
            "EIGENVALUES: \n",
            "[-0.46410162  6.46410162]\n",
            "EIGENVECTORS: \n",
            "[[-0.80689822 -0.34372377]\n",
            " [ 0.59069049 -0.9390708 ]]\n"
          ]
        }
      ]
    },
    {
      "cell_type": "code",
      "source": [
        "# Example 4-21. Decomposing and recomposing a matrix in NumPy\n",
        "\n",
        "import numpy as np\n",
        "from numpy.linalg import eig, inv\n",
        "\n",
        "A = array([\n",
        "    [1, 2],\n",
        "    [4, 5]\n",
        "])\n",
        "\n",
        "eigenvalues, eigenvectors = eig(A)\n",
        "\n",
        "print(f\"EIGENVALUES: \\n{eigenvalues}\")\n",
        "print(f\"EIGENVECTORS: \\n{eigenvectors}\")\n",
        "\n",
        "Q = eigenvectors\n",
        "R = inv(Q)\n",
        "\n",
        "L = np.diag(eigenvalues)\n",
        "B = Q @ L @ R\n",
        "\n",
        "print(f\"REBUILD MATRIX: \\n {B}\")"
      ],
      "metadata": {
        "colab": {
          "base_uri": "https://localhost:8080/"
        },
        "id": "vjMJh4rZt8X8",
        "outputId": "f470f5da-8b85-47e4-d30b-06ad44f85d84"
      },
      "execution_count": 21,
      "outputs": [
        {
          "output_type": "stream",
          "name": "stdout",
          "text": [
            "EIGENVALUES: \n",
            "[-0.46410162  6.46410162]\n",
            "EIGENVECTORS: \n",
            "[[-0.80689822 -0.34372377]\n",
            " [ 0.59069049 -0.9390708 ]]\n",
            "REBUILD MATRIX: \n",
            " [[1. 2.]\n",
            " [4. 5.]]\n"
          ]
        }
      ]
    },
    {
      "cell_type": "markdown",
      "source": [
        "## Conclusion"
      ],
      "metadata": {
        "id": "8NZ0A95Ks6cA"
      }
    },
    {
      "cell_type": "markdown",
      "source": [
        "### Exercises\n",
        "\n",
        "#### 1. Vector $\\vec{v}$ has a value of $[1,2]$ but then a transformation happens. $\\hat{i}$ lands at $[2,0]$ and $\\hat{j}$ lands at $[0,1.5]$. Where does $\\vec{v}$ land?"
      ],
      "metadata": {
        "id": "75Gfxcf0uzEf"
      }
    },
    {
      "cell_type": "code",
      "source": [
        "import numpy as np\n",
        "\n",
        "v_1 = np.array([1, 2])\n",
        "\n",
        "i_hat = np.array([2, 0])\n",
        "j_hat = np.array([0, 1.5])\n",
        "\n",
        "basis = np.array([i_hat, j_hat])\n",
        "\n",
        "v_2 = basis.dot(v_1)\n",
        "\n",
        "print(v_2)"
      ],
      "metadata": {
        "colab": {
          "base_uri": "https://localhost:8080/"
        },
        "id": "yjD3XnEMuq2r",
        "outputId": "f8fc0c26-9876-4213-a184-82ea5f3ad54a"
      },
      "execution_count": 22,
      "outputs": [
        {
          "output_type": "stream",
          "name": "stdout",
          "text": [
            "[2. 3.]\n"
          ]
        }
      ]
    },
    {
      "cell_type": "markdown",
      "source": [
        "####2. Vector $\\vec{v}$ has a value of $[1,2]$ but then a transformation happens. $\\hat{i}$ lands at $[-2,1]$ and $\\hat{j}$ lands at $[1,-2]$. Where does $\\vec{v}$ land?"
      ],
      "metadata": {
        "id": "UEzRUXUVv-RJ"
      }
    },
    {
      "cell_type": "code",
      "source": [
        "import numpy as np\n",
        "\n",
        "v_1 = np.array([1, 2])\n",
        "\n",
        "i_hat = np.array([-2, 1])\n",
        "j_hat = np.array([1, -2])\n",
        "\n",
        "basis = np.array([i_hat, j_hat])\n",
        "\n",
        "v_2 = basis.dot(v_1)\n",
        "\n",
        "print(v_2)"
      ],
      "metadata": {
        "colab": {
          "base_uri": "https://localhost:8080/"
        },
        "id": "NUlMJz-cvTA-",
        "outputId": "22a52aa7-e8d1-4b44-a942-ebb7cfe33e2d"
      },
      "execution_count": 23,
      "outputs": [
        {
          "output_type": "stream",
          "name": "stdout",
          "text": [
            "[ 0 -3]\n"
          ]
        }
      ]
    },
    {
      "cell_type": "markdown",
      "source": [
        "#### 3. A transformation $\\hat{i}$ lands at $[1,0]$ and $\\hat{j}$ lands at $[2,2]$. What is the determinant of this transformation?"
      ],
      "metadata": {
        "id": "H6uXEw7Xwuaa"
      }
    },
    {
      "cell_type": "code",
      "source": [
        "import numpy as np\n",
        "from numpy.linalg import det\n",
        "\n",
        "i_hat = np.array([1, 0])\n",
        "j_hat = np.array([2, 2])\n",
        "\n",
        "basis = np.array([i_hat, j_hat]).transpose()\n",
        "\n",
        "determinant = det(basis)\n",
        "\n",
        "print(determinant)"
      ],
      "metadata": {
        "colab": {
          "base_uri": "https://localhost:8080/"
        },
        "id": "OYAcJcJowmK4",
        "outputId": "0eeec185-0db9-4f65-9c49-91aa17555ebb"
      },
      "execution_count": 24,
      "outputs": [
        {
          "output_type": "stream",
          "name": "stdout",
          "text": [
            "2.0\n"
          ]
        }
      ]
    },
    {
      "cell_type": "markdown",
      "source": [
        "#### 4. Can two or more linear transformations be done in a single linear transformation? Why or why not?\n",
        "\n",
        "Yes. A linear transformation can contain multiple transformations of the types scale, rotate, shear, and inversion."
      ],
      "metadata": {
        "id": "PKBHAN5xxc6k"
      }
    },
    {
      "cell_type": "markdown",
      "source": [
        "#### 5. Solve the system of equations for $x$, $y$, and $z$:\n",
        "\n",
        "$\\mbox{3x + 1y + 0z = 54}$\n",
        "\n",
        "$\\mbox{2x + 4y + 1z = 12}$\n",
        "\n",
        "$\\mbox{3x + 1y + 8z = 6}$"
      ],
      "metadata": {
        "id": "Gqx1sOGH07NK"
      }
    },
    {
      "cell_type": "code",
      "source": [
        "import numpy as np\n",
        "from numpy.linalg import inv\n",
        "\n",
        "A = np.array([\n",
        "    [3, 1, 0],\n",
        "    [2, 4, 1],\n",
        "    [3, 1, 8]\n",
        "])\n",
        "\n",
        "B = np.array([\n",
        "    54,\n",
        "    12,\n",
        "    6\n",
        "])\n",
        "\n",
        "X = inv(A).dot(B)\n",
        "\n",
        "print(X)"
      ],
      "metadata": {
        "colab": {
          "base_uri": "https://localhost:8080/"
        },
        "id": "ctYny7sfxbnH",
        "outputId": "a1aaa477-6ee2-4539-c3e5-12f331bfa879"
      },
      "execution_count": 25,
      "outputs": [
        {
          "output_type": "stream",
          "name": "stdout",
          "text": [
            "[19.8 -5.4 -6. ]\n"
          ]
        }
      ]
    },
    {
      "cell_type": "markdown",
      "source": [
        "#### 6. Is the following matrix linearly dependent? Why or why not?\n",
        "\n",
        "$\\begin{bmatrix}\n",
        "  2 & 1 \\\\\n",
        "  6 & 3\n",
        "\\end{bmatrix}$\n"
      ],
      "metadata": {
        "id": "c24re20C2eP-"
      }
    },
    {
      "cell_type": "code",
      "source": [
        "import numpy as np\n",
        "from numpy.linalg import det\n",
        "\n",
        "i_hat = np.array([2, 1])\n",
        "j_hat = np.array([6, 3])\n",
        "\n",
        "basis = np.array([i_hat, j_hat]).transpose()\n",
        "\n",
        "determinant = det(basis)\n",
        "\n",
        "print(f\"Yes, this matrix is linearly dependent because the determinant is {determinant}.\")"
      ],
      "metadata": {
        "colab": {
          "base_uri": "https://localhost:8080/"
        },
        "id": "oD6knHnR2CUY",
        "outputId": "71edf93d-befe-4fae-9f86-0ff813c7213d"
      },
      "execution_count": 26,
      "outputs": [
        {
          "output_type": "stream",
          "name": "stdout",
          "text": [
            "Yes, this matrix is linearly dependent because the determinant is 0.0.\n"
          ]
        }
      ]
    },
    {
      "cell_type": "code",
      "source": [
        ""
      ],
      "metadata": {
        "id": "TrxBLH995Xb1"
      },
      "execution_count": 26,
      "outputs": []
    }
  ]
}