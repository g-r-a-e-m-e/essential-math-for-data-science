{
  "nbformat": 4,
  "nbformat_minor": 0,
  "metadata": {
    "colab": {
      "name": "chapter-04.ipynb",
      "provenance": [],
      "collapsed_sections": [],
      "authorship_tag": "ABX9TyNtry6Ua4pjMYQioCC22RPd",
      "include_colab_link": true
    },
    "kernelspec": {
      "name": "python3",
      "display_name": "Python 3"
    },
    "language_info": {
      "name": "python"
    }
  },
  "cells": [
    {
      "cell_type": "markdown",
      "metadata": {
        "id": "view-in-github",
        "colab_type": "text"
      },
      "source": [
        "<a href=\"https://colab.research.google.com/github/g-r-a-e-m-e/essential-math-for-data-science/blob/main/chapter_04.ipynb\" target=\"_parent\"><img src=\"https://colab.research.google.com/assets/colab-badge.svg\" alt=\"Open In Colab\"/></a>"
      ]
    },
    {
      "cell_type": "markdown",
      "source": [
        "# Chapter 04\n",
        "\n",
        "## Linear Algebra"
      ],
      "metadata": {
        "id": "RU0j8OLcLrhG"
      }
    },
    {
      "cell_type": "markdown",
      "source": [
        "### What is a Vector?"
      ],
      "metadata": {
        "id": "2YWxnsvfnAak"
      }
    },
    {
      "cell_type": "code",
      "execution_count": 1,
      "metadata": {
        "id": "n2bBhc91LiET",
        "colab": {
          "base_uri": "https://localhost:8080/"
        },
        "outputId": "757c690b-b434-4941-c3a6-592d15065101"
      },
      "outputs": [
        {
          "output_type": "stream",
          "name": "stdout",
          "text": [
            "[3, 2]\n"
          ]
        }
      ],
      "source": [
        "# Example 4-1. Declaring a vector in Python using a list\n",
        "v = [3, 2]\n",
        "print(v)"
      ]
    },
    {
      "cell_type": "code",
      "source": [
        "# Example 4-2. Declaring a vector in Python using NumPy\n",
        "\n",
        "import numpy as np\n",
        "v = np.array([3, 2])\n",
        "print(v)"
      ],
      "metadata": {
        "colab": {
          "base_uri": "https://localhost:8080/"
        },
        "id": "ejHXFxKFlYTg",
        "outputId": "da9e1302-0366-4741-a67b-d119aa35a9ff"
      },
      "execution_count": 2,
      "outputs": [
        {
          "output_type": "stream",
          "name": "stdout",
          "text": [
            "[3 2]\n"
          ]
        }
      ]
    },
    {
      "cell_type": "code",
      "source": [
        "# Example 4-3. Declaring a three-dimensional vector in Python using NumPy\n",
        "\n",
        "import numpy as np\n",
        "v = np.array([4, 1, 2])\n",
        "print(v)"
      ],
      "metadata": {
        "colab": {
          "base_uri": "https://localhost:8080/"
        },
        "id": "PTTIFqcYlk4T",
        "outputId": "b0c35f84-3025-427f-fc7e-bbb4ab0a44a8"
      },
      "execution_count": 3,
      "outputs": [
        {
          "output_type": "stream",
          "name": "stdout",
          "text": [
            "[4 1 2]\n"
          ]
        }
      ]
    },
    {
      "cell_type": "code",
      "source": [
        "# Example 4-4. Declaring a five-dimensional vector in Python using NumPy\n",
        "\n",
        "import numpy as np\n",
        "v = np.array([6, 1, 5, 8 ,3])\n",
        "print(v)"
      ],
      "metadata": {
        "colab": {
          "base_uri": "https://localhost:8080/"
        },
        "id": "PK5kOgCQmmnw",
        "outputId": "887f22ec-461b-43a0-d4f9-806474b07068"
      },
      "execution_count": 4,
      "outputs": [
        {
          "output_type": "stream",
          "name": "stdout",
          "text": [
            "[6 1 5 8 3]\n"
          ]
        }
      ]
    },
    {
      "cell_type": "markdown",
      "source": [
        "#### Adding and Combining Vectors"
      ],
      "metadata": {
        "id": "qROy3um5nEk6"
      }
    },
    {
      "cell_type": "code",
      "source": [
        "# Example 4-5. Adding two vectors in Python using NumPy\n",
        "\n",
        "from numpy import array\n",
        "\n",
        "v = array([3, 2])\n",
        "w = array([2, -1])\n",
        "\n",
        "# sum the vectors\n",
        "v_plus_w = v + w\n",
        "\n",
        "# display the summed vector\n",
        "print(v_plus_w)"
      ],
      "metadata": {
        "colab": {
          "base_uri": "https://localhost:8080/"
        },
        "id": "77E6oT-5m0Ji",
        "outputId": "5a07eada-e45c-43ce-85e3-58ce3ed3befc"
      },
      "execution_count": 5,
      "outputs": [
        {
          "output_type": "stream",
          "name": "stdout",
          "text": [
            "[5 1]\n"
          ]
        }
      ]
    },
    {
      "cell_type": "markdown",
      "source": [
        "#### Scaling Vectors"
      ],
      "metadata": {
        "id": "lFNoLtUnn9hQ"
      }
    },
    {
      "cell_type": "code",
      "source": [
        "# Example 4-6. Scaling a number in Python using NumPy\n",
        "\n",
        "from numpy import array\n",
        "v = array([3, 1])\n",
        "\n",
        "# scale the vector\n",
        "scaled_v = 2.0 * v\n",
        "\n",
        "# display the scaled vector\n",
        "print(scaled_v)"
      ],
      "metadata": {
        "colab": {
          "base_uri": "https://localhost:8080/"
        },
        "id": "LxNWhQkPnah9",
        "outputId": "55045df7-3da1-46e9-b977-0173b32ad638"
      },
      "execution_count": 6,
      "outputs": [
        {
          "output_type": "stream",
          "name": "stdout",
          "text": [
            "[6. 2.]\n"
          ]
        }
      ]
    },
    {
      "cell_type": "markdown",
      "source": [
        "### Linear Transformations\n",
        "#### Matrix Vector Multiplication"
      ],
      "metadata": {
        "id": "dnh8A9tgs20m"
      }
    },
    {
      "cell_type": "code",
      "source": [
        "# Example 4-7. Matrix vector multiplication in NumPy\n",
        "\n",
        "from numpy import array\n",
        "\n",
        "# compose basis matrix with i-hat and j-hat\n",
        "basis = array([[3, 0],\n",
        "              [0, 2]])\n",
        "\n",
        "# declare vector v\n",
        "v = array([1, 1])\n",
        "\n",
        "# create new vector by transforming v with dot product\n",
        "new_v = basis.dot(v)\n",
        "\n",
        "print(new_v)"
      ],
      "metadata": {
        "colab": {
          "base_uri": "https://localhost:8080/"
        },
        "id": "N_E7xXQlpB1z",
        "outputId": "2340a23b-2354-41c2-ab10-7320d8945e8f"
      },
      "execution_count": 7,
      "outputs": [
        {
          "output_type": "stream",
          "name": "stdout",
          "text": [
            "[3 2]\n"
          ]
        }
      ]
    },
    {
      "cell_type": "code",
      "source": [
        "# Example 4-8. Separating the basis vectors and applying them as a transformation\n",
        "\n",
        "from numpy import array\n",
        "\n",
        "# Declare i-hat and j-hat\n",
        "i_hat = array([2, 0])\n",
        "j_hat = array([0, 3])\n",
        "\n",
        "# Compose basis matrix using i-hat and j-hat; transpose rows to columns\n",
        "basis = array([i_hat, j_hat]).transpose()\n",
        "\n",
        "# Declare vector v\n",
        "v = array([1, 1])\n",
        "\n",
        "# Create new vector by transforming v with dot product\n",
        "new_v = basis.dot(v)\n",
        "\n",
        "print(new_v)"
      ],
      "metadata": {
        "colab": {
          "base_uri": "https://localhost:8080/"
        },
        "id": "3u63G_8otTe2",
        "outputId": "52fc978a-6a66-422d-dfe9-f84291f1ec38"
      },
      "execution_count": 8,
      "outputs": [
        {
          "output_type": "stream",
          "name": "stdout",
          "text": [
            "[2 3]\n"
          ]
        }
      ]
    },
    {
      "cell_type": "code",
      "source": [
        "# Example 4-9. Transforming a vector using NumPy\n",
        "\n",
        "from numpy import array\n",
        "\n",
        "# Declare i-hat and j-hat\n",
        "i_hat = array([2, 0])\n",
        "j_hat = array([0, 3])\n",
        "\n",
        "# Compose basis matrix using i-hat and j-hat; transpose rows to columns\n",
        "basis = array([i_hat, j_hat]).transpose()\n",
        "\n",
        "# Declare vector v\n",
        "v = array([2, 1])\n",
        "\n",
        "# Create new vector by transforming v with dot product\n",
        "new_v = basis.dot(v)\n",
        "\n",
        "print(new_v)"
      ],
      "metadata": {
        "colab": {
          "base_uri": "https://localhost:8080/"
        },
        "id": "V1_18_74wW5U",
        "outputId": "03781e6f-52af-4eea-ce8e-1230a19b7723"
      },
      "execution_count": 9,
      "outputs": [
        {
          "output_type": "stream",
          "name": "stdout",
          "text": [
            "[4 3]\n"
          ]
        }
      ]
    },
    {
      "cell_type": "code",
      "source": [
        "# Example 4-10. A more complicated transformation\n",
        "\n",
        "from numpy import array\n",
        "\n",
        "# Declare i-hat and j-hat\n",
        "i_hat = array([2, 3])\n",
        "j_hat = array([2, -1])\n",
        "\n",
        "# Compose basis matrix using i-hat and j-hat; transpose rows to columns\n",
        "basis = array([i_hat, j_hat]).transpose()\n",
        "\n",
        "# Declare vector v\n",
        "v = array([2, 1])\n",
        "\n",
        "# Create new vector by transforming v with dot product\n",
        "new_v = basis.dot(v)\n",
        "\n",
        "print(new_v)"
      ],
      "metadata": {
        "colab": {
          "base_uri": "https://localhost:8080/"
        },
        "id": "kMA6Z3OqyTlH",
        "outputId": "44057c3a-5215-4a44-d0e9-e554f1f18907"
      },
      "execution_count": 10,
      "outputs": [
        {
          "output_type": "stream",
          "name": "stdout",
          "text": [
            "[6 5]\n"
          ]
        }
      ]
    },
    {
      "cell_type": "markdown",
      "source": [
        "### Matrix Multiplication"
      ],
      "metadata": {
        "id": "0IQO_ipCqkm5"
      }
    },
    {
      "cell_type": "code",
      "source": [
        "# Example 4-11. Combining two transformations\n",
        "\n",
        "import numpy as np\n",
        "\n",
        "# Transformation 1\n",
        "i_hat_1 = np.array([0, 1])\n",
        "j_hat_1 = np.array([-1, 0])\n",
        "transform_1 = np.array([i_hat_1, j_hat_1]).transpose()\n",
        "\n",
        "# Transformation 2\n",
        "i_hat_2 = np.array([1, 0])\n",
        "j_hat_2 = np.array([1, 1])\n",
        "transform_2 = np.array([i_hat_2, j_hat_2]).transpose()\n",
        "\n",
        "# Combine transformations\n",
        "combined = np.matmul(transform_2, transform_1)\n",
        "\n",
        "print(f\"Combined Matrix:\\n{combined}\")"
      ],
      "metadata": {
        "colab": {
          "base_uri": "https://localhost:8080/"
        },
        "id": "9n-3F9JKy3_3",
        "outputId": "60e087c7-04d9-4d37-d9c4-4389faaa6db7"
      },
      "execution_count": 11,
      "outputs": [
        {
          "output_type": "stream",
          "name": "stdout",
          "text": [
            "Combined Matrix:\n",
            "[[ 1 -1]\n",
            " [ 1  0]]\n"
          ]
        }
      ]
    },
    {
      "cell_type": "code",
      "source": [
        ""
      ],
      "metadata": {
        "id": "E1iFXhFVsUoa"
      },
      "execution_count": 11,
      "outputs": []
    }
  ]
}