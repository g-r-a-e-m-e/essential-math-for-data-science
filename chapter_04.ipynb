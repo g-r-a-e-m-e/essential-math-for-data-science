{
  "nbformat": 4,
  "nbformat_minor": 0,
  "metadata": {
    "colab": {
      "name": "chapter-04.ipynb",
      "provenance": [],
      "collapsed_sections": [],
      "authorship_tag": "ABX9TyP5OIk1OfvVXNraoI5dqTN4",
      "include_colab_link": true
    },
    "kernelspec": {
      "name": "python3",
      "display_name": "Python 3"
    },
    "language_info": {
      "name": "python"
    }
  },
  "cells": [
    {
      "cell_type": "markdown",
      "metadata": {
        "id": "view-in-github",
        "colab_type": "text"
      },
      "source": [
        "<a href=\"https://colab.research.google.com/github/g-r-a-e-m-e/essential-math-for-data-science/blob/main/chapter_04.ipynb\" target=\"_parent\"><img src=\"https://colab.research.google.com/assets/colab-badge.svg\" alt=\"Open In Colab\"/></a>"
      ]
    },
    {
      "cell_type": "markdown",
      "source": [
        "# Chapter 04\n",
        "\n",
        "## Linear Algebra"
      ],
      "metadata": {
        "id": "RU0j8OLcLrhG"
      }
    },
    {
      "cell_type": "markdown",
      "source": [
        "### What is a Vector?"
      ],
      "metadata": {
        "id": "2YWxnsvfnAak"
      }
    },
    {
      "cell_type": "code",
      "execution_count": 1,
      "metadata": {
        "id": "n2bBhc91LiET",
        "colab": {
          "base_uri": "https://localhost:8080/"
        },
        "outputId": "b31ba0d8-b670-4606-fba7-b015e2ff2118"
      },
      "outputs": [
        {
          "output_type": "stream",
          "name": "stdout",
          "text": [
            "[3, 2]\n"
          ]
        }
      ],
      "source": [
        "# Example 4-1. Declaring a vector in Python using a list\n",
        "v = [3, 2]\n",
        "print(v)"
      ]
    },
    {
      "cell_type": "code",
      "source": [
        "# Example 4-2. Declaring a vector in Python using NumPy\n",
        "\n",
        "import numpy as np\n",
        "v = np.array([3, 2])\n",
        "print(v)"
      ],
      "metadata": {
        "colab": {
          "base_uri": "https://localhost:8080/"
        },
        "id": "ejHXFxKFlYTg",
        "outputId": "5c0f2ea2-0b26-4fec-f69c-e7b07e677986"
      },
      "execution_count": 2,
      "outputs": [
        {
          "output_type": "stream",
          "name": "stdout",
          "text": [
            "[3 2]\n"
          ]
        }
      ]
    },
    {
      "cell_type": "code",
      "source": [
        "# Example 4-3. Declaring a three-dimensional vector in Python using NumPy\n",
        "\n",
        "import numpy as np\n",
        "v = np.array([4, 1, 2])\n",
        "print(v)"
      ],
      "metadata": {
        "colab": {
          "base_uri": "https://localhost:8080/"
        },
        "id": "PTTIFqcYlk4T",
        "outputId": "751ec2b4-fbf5-455b-9f62-938ba33a46ef"
      },
      "execution_count": 3,
      "outputs": [
        {
          "output_type": "stream",
          "name": "stdout",
          "text": [
            "[4 1 2]\n"
          ]
        }
      ]
    },
    {
      "cell_type": "code",
      "source": [
        "# Example 4-4. Declaring a five-dimensional vector in Python using NumPy\n",
        "\n",
        "import numpy as np\n",
        "v = np.array([6, 1, 5, 8 ,3])\n",
        "print(v)"
      ],
      "metadata": {
        "colab": {
          "base_uri": "https://localhost:8080/"
        },
        "id": "PK5kOgCQmmnw",
        "outputId": "99ddf04c-acff-4810-b9e4-6963eecaa2d5"
      },
      "execution_count": 4,
      "outputs": [
        {
          "output_type": "stream",
          "name": "stdout",
          "text": [
            "[6 1 5 8 3]\n"
          ]
        }
      ]
    },
    {
      "cell_type": "markdown",
      "source": [
        "#### Adding and Combining Vectors"
      ],
      "metadata": {
        "id": "qROy3um5nEk6"
      }
    },
    {
      "cell_type": "code",
      "source": [
        "# Example 4-5. Adding two vectors in Python using NumPy\n",
        "\n",
        "from numpy import array\n",
        "\n",
        "v = array([3, 2])\n",
        "w = array([2, -1])\n",
        "\n",
        "# sum the vectors\n",
        "v_plus_w = v + w\n",
        "\n",
        "# display the summed vector\n",
        "print(v_plus_w)"
      ],
      "metadata": {
        "colab": {
          "base_uri": "https://localhost:8080/"
        },
        "id": "77E6oT-5m0Ji",
        "outputId": "871dd7ef-4024-4874-a730-65d62f17c55d"
      },
      "execution_count": 5,
      "outputs": [
        {
          "output_type": "stream",
          "name": "stdout",
          "text": [
            "[5 1]\n"
          ]
        }
      ]
    },
    {
      "cell_type": "markdown",
      "source": [
        "#### Scaling Vectors"
      ],
      "metadata": {
        "id": "lFNoLtUnn9hQ"
      }
    },
    {
      "cell_type": "code",
      "source": [
        "# Example 4-6. Scaling a number in Python using NumPy\n",
        "\n",
        "from numpy import array\n",
        "v = array([3, 1])\n",
        "\n",
        "# scale the vector\n",
        "scaled_v = 2.0 * v\n",
        "\n",
        "# display the scaled vector\n",
        "print(scaled_v)"
      ],
      "metadata": {
        "colab": {
          "base_uri": "https://localhost:8080/"
        },
        "id": "LxNWhQkPnah9",
        "outputId": "dec24fcc-aac7-4d49-9fec-4227fa61d73a"
      },
      "execution_count": 6,
      "outputs": [
        {
          "output_type": "stream",
          "name": "stdout",
          "text": [
            "[6. 2.]\n"
          ]
        }
      ]
    },
    {
      "cell_type": "markdown",
      "source": [
        "### Linear Transformations\n",
        "#### Matrix Vector Multiplication"
      ],
      "metadata": {
        "id": "dnh8A9tgs20m"
      }
    },
    {
      "cell_type": "code",
      "source": [
        "# Example 4-7. Matrix vector multiplication in NumPy\n",
        "\n",
        "from numpy import array\n",
        "\n",
        "# compose basis matrix with i-hat and j-hat\n",
        "basis = array([[3, 0],\n",
        "              [0, 2]])\n",
        "\n",
        "# declare vector v\n",
        "v = array([1, 1])\n",
        "\n",
        "# create new vector by transforming v with dot product\n",
        "new_v = basis.dot(v)\n",
        "\n",
        "print(new_v)"
      ],
      "metadata": {
        "colab": {
          "base_uri": "https://localhost:8080/"
        },
        "id": "N_E7xXQlpB1z",
        "outputId": "d0e79318-2c6f-4979-8d84-2469931e3056"
      },
      "execution_count": 7,
      "outputs": [
        {
          "output_type": "stream",
          "name": "stdout",
          "text": [
            "[3 2]\n"
          ]
        }
      ]
    },
    {
      "cell_type": "code",
      "source": [
        "# Example 4-8. Separating the basis vectors and applying them as a transformation\n",
        "\n",
        "from numpy import array\n",
        "\n",
        "# Declare i-hat and j-hat\n",
        "i_hat = array([2, 0])\n",
        "j_hat = array([0, 3])\n",
        "\n",
        "# Compose basis matrix using i-hat and j-hat; transpose rows to columns\n",
        "basis = array([i_hat, j_hat]).transpose()\n",
        "\n",
        "# Declare vector v\n",
        "v = array([1, 1])\n",
        "\n",
        "# Create new vector by transforming v with dot product\n",
        "new_v = basis.dot(v)\n",
        "\n",
        "print(new_v)"
      ],
      "metadata": {
        "colab": {
          "base_uri": "https://localhost:8080/"
        },
        "id": "3u63G_8otTe2",
        "outputId": "3481f66b-7193-4f4a-de0b-3db3749be08e"
      },
      "execution_count": 8,
      "outputs": [
        {
          "output_type": "stream",
          "name": "stdout",
          "text": [
            "[2 3]\n"
          ]
        }
      ]
    },
    {
      "cell_type": "code",
      "source": [
        "# Example 4-9. Transforming a vector using NumPy\n",
        "\n",
        "from numpy import array\n",
        "\n",
        "# Declare i-hat and j-hat\n",
        "i_hat = array([2, 0])\n",
        "j_hat = array([0, 3])\n",
        "\n",
        "# Compose basis matrix using i-hat and j-hat; transpose rows to columns\n",
        "basis = array([i_hat, j_hat]).transpose()\n",
        "\n",
        "# Declare vector v\n",
        "v = array([2, 1])\n",
        "\n",
        "# Create new vector by transforming v with dot product\n",
        "new_v = basis.dot(v)\n",
        "\n",
        "print(new_v)"
      ],
      "metadata": {
        "colab": {
          "base_uri": "https://localhost:8080/"
        },
        "id": "V1_18_74wW5U",
        "outputId": "16056aaa-c693-4b43-ee49-a596359d11e3"
      },
      "execution_count": 9,
      "outputs": [
        {
          "output_type": "stream",
          "name": "stdout",
          "text": [
            "[4 3]\n"
          ]
        }
      ]
    },
    {
      "cell_type": "code",
      "source": [
        "# Example 4-10. A more complicated transformation\n",
        "\n",
        "from numpy import array\n",
        "\n",
        "# Declare i-hat and j-hat\n",
        "i_hat = array([2, 3])\n",
        "j_hat = array([2, -1])\n",
        "\n",
        "# Compose basis matrix using i-hat and j-hat; transpose rows to columns\n",
        "basis = array([i_hat, j_hat]).transpose()\n",
        "\n",
        "# Declare vector v\n",
        "v = array([2, 1])\n",
        "\n",
        "# Create new vector by transforming v with dot product\n",
        "new_v = basis.dot(v)\n",
        "\n",
        "print(new_v)"
      ],
      "metadata": {
        "colab": {
          "base_uri": "https://localhost:8080/"
        },
        "id": "kMA6Z3OqyTlH",
        "outputId": "102c75f4-aa42-46d8-ab6c-634cfbb8cd3c"
      },
      "execution_count": 10,
      "outputs": [
        {
          "output_type": "stream",
          "name": "stdout",
          "text": [
            "[6 5]\n"
          ]
        }
      ]
    },
    {
      "cell_type": "markdown",
      "source": [
        "### Matrix Multiplication"
      ],
      "metadata": {
        "id": "0IQO_ipCqkm5"
      }
    },
    {
      "cell_type": "code",
      "source": [
        "# Example 4-11. Combining two transformations\n",
        "\n",
        "import numpy as np\n",
        "\n",
        "# Transformation 1\n",
        "i_hat_1 = np.array([0, 1])\n",
        "j_hat_1 = np.array([-1, 0])\n",
        "transform_1 = np.array([i_hat_1, j_hat_1]).transpose()\n",
        "\n",
        "# Transformation 2\n",
        "i_hat_2 = np.array([1, 0])\n",
        "j_hat_2 = np.array([1, 1])\n",
        "transform_2 = np.array([i_hat_2, j_hat_2]).transpose()\n",
        "\n",
        "# Combine transformations\n",
        "combined = np.matmul(transform_2, transform_1)\n",
        "\n",
        "print(f\"Combined Matrix:\\n{combined}\")\n",
        "\n",
        "v = array([1, 2])\n",
        "\n",
        "print(combined.dot(v))"
      ],
      "metadata": {
        "colab": {
          "base_uri": "https://localhost:8080/"
        },
        "id": "9n-3F9JKy3_3",
        "outputId": "f53b88ee-341a-4457-8917-1fc3895e2d36"
      },
      "execution_count": 11,
      "outputs": [
        {
          "output_type": "stream",
          "name": "stdout",
          "text": [
            "Combined Matrix:\n",
            "[[ 1 -1]\n",
            " [ 1  0]]\n",
            "[-1  1]\n"
          ]
        }
      ]
    },
    {
      "cell_type": "code",
      "source": [
        "# Example 4-12. Applying the transformations in reverse\n",
        "\n",
        "import numpy as np\n",
        "\n",
        "# Transformation 1\n",
        "i_hat_1 = np.array([0, 1])\n",
        "j_hat_1 = np.array([-1, 0])\n",
        "transform_1 = np.array([i_hat_1, j_hat_1]).transpose()\n",
        "\n",
        "# Transformation 2\n",
        "i_hat_2 = np.array([1, 0])\n",
        "j_hat_2 = np.array([1, 1])\n",
        "transform_2 = np.array([i_hat_2, j_hat_2]).transpose()\n",
        "\n",
        "# Combine transformations\n",
        "combined = np.matmul(transform_1, transform_2)\n",
        "\n",
        "print(f\"Combined Matrix:\\n{combined}\")\n",
        "\n",
        "v = array([1, 2])\n",
        "\n",
        "print(combined.dot(v))"
      ],
      "metadata": {
        "id": "E1iFXhFVsUoa",
        "colab": {
          "base_uri": "https://localhost:8080/"
        },
        "outputId": "ca56536e-4bc7-434a-b71e-bfd2ed9972ca"
      },
      "execution_count": 12,
      "outputs": [
        {
          "output_type": "stream",
          "name": "stdout",
          "text": [
            "Combined Matrix:\n",
            "[[ 0 -1]\n",
            " [ 1  1]]\n",
            "[-2  3]\n"
          ]
        }
      ]
    },
    {
      "cell_type": "markdown",
      "source": [
        "#### Determinants"
      ],
      "metadata": {
        "id": "yYu5RQKumAOI"
      }
    },
    {
      "cell_type": "code",
      "source": [
        "# Example 4-13. Calculating a determinant\n",
        "\n",
        "import numpy as np\n",
        "from numpy.linalg import det\n",
        "\n",
        "i_hat = np.array([3, 0])\n",
        "j_hat = np.array([0, 2])\n",
        "\n",
        "basis = np.array([i_hat, j_hat]).transpose()\n",
        "\n",
        "determinant = det(basis)\n",
        "\n",
        "print(determinant)"
      ],
      "metadata": {
        "colab": {
          "base_uri": "https://localhost:8080/"
        },
        "id": "Y5rW9rZelZPh",
        "outputId": "10ab5670-76cb-4643-a8bc-4efeab18f4f0"
      },
      "execution_count": 13,
      "outputs": [
        {
          "output_type": "stream",
          "name": "stdout",
          "text": [
            "6.0\n"
          ]
        }
      ]
    },
    {
      "cell_type": "code",
      "source": [
        "# Example 4-14. A determinant for a shear\n",
        "\n",
        "import numpy as np\n",
        "from numpy.linalg import det\n",
        "\n",
        "i_hat = np.array([1, 0])\n",
        "j_hat = np.array([1, 1])\n",
        "\n",
        "basis = np.array([i_hat, j_hat]).transpose()\n",
        "\n",
        "determinant = det(basis)\n",
        "\n",
        "print(determinant)"
      ],
      "metadata": {
        "colab": {
          "base_uri": "https://localhost:8080/"
        },
        "id": "qUktDybxnFHY",
        "outputId": "89c936a6-a54c-4659-9faa-cca9c35f38e1"
      },
      "execution_count": 14,
      "outputs": [
        {
          "output_type": "stream",
          "name": "stdout",
          "text": [
            "1.0\n"
          ]
        }
      ]
    },
    {
      "cell_type": "code",
      "source": [
        "# Example 4-15. A negative determinant\n",
        "\n",
        "import numpy as np\n",
        "from numpy.linalg import det\n",
        "\n",
        "i_hat = np.array([-2, 1])\n",
        "j_hat = np.array([1, 2])\n",
        "\n",
        "basis = np.array([i_hat, j_hat]).transpose()\n",
        "\n",
        "determinant = det(basis)\n",
        "\n",
        "print(determinant)"
      ],
      "metadata": {
        "colab": {
          "base_uri": "https://localhost:8080/"
        },
        "id": "4_WDohvTnScr",
        "outputId": "56d73d62-1826-42bb-fc8b-1b55320e42f3"
      },
      "execution_count": 15,
      "outputs": [
        {
          "output_type": "stream",
          "name": "stdout",
          "text": [
            "-5.000000000000001\n"
          ]
        }
      ]
    },
    {
      "cell_type": "code",
      "source": [
        "# Example 4-16. A determinant of zero\n",
        "\n",
        "import numpy as np\n",
        "from numpy.linalg import det\n",
        "\n",
        "i_hat = np.array([-2, 1])\n",
        "j_hat = np.array([3, -1.5])\n",
        "\n",
        "basis = np.array([i_hat, j_hat]).transpose()\n",
        "\n",
        "determinant = det(basis)\n",
        "\n",
        "print(determinant)"
      ],
      "metadata": {
        "colab": {
          "base_uri": "https://localhost:8080/"
        },
        "id": "-siIvlUwnwAy",
        "outputId": "c02439ca-b59d-4f86-c57b-999827b9bae5"
      },
      "execution_count": 16,
      "outputs": [
        {
          "output_type": "stream",
          "name": "stdout",
          "text": [
            "0.0\n"
          ]
        }
      ]
    },
    {
      "cell_type": "markdown",
      "source": [
        "#### Systems of Equations and Inverse Matrices"
      ],
      "metadata": {
        "id": "-dvtGZZKp-Cw"
      }
    },
    {
      "cell_type": "code",
      "source": [
        "# Example 4-17. Using SymPy to study the inverse and identity matrix\n",
        "\n",
        "from sympy import *\n",
        "\n",
        "# 4x + 2y + 4z = 44\n",
        "# 5x + 3y + 7z = 56\n",
        "# 9x + 3y + 6z = 72\n",
        "\n",
        "A = Matrix([\n",
        "    [4, 2, 4],\n",
        "    [5, 3, 7],\n",
        "    [9, 3, 6]\n",
        "])\n",
        "\n",
        "# dot product between A and its inverse will produce the identity function\n",
        "inverse = A.inv()\n",
        "identity = inverse * A\n",
        "\n",
        "print(f\"INVERSE: {inverse}\")\n",
        "print(f\"IDENTITY: {identity}\")"
      ],
      "metadata": {
        "colab": {
          "base_uri": "https://localhost:8080/"
        },
        "id": "V1EkWTeCoLN7",
        "outputId": "d5ba4ce4-082f-4f61-bd9d-e838bf549870"
      },
      "execution_count": 17,
      "outputs": [
        {
          "output_type": "stream",
          "name": "stdout",
          "text": [
            "INVERSE: Matrix([[-1/2, 0, 1/3], [11/2, -2, -4/3], [-2, 1, 1/3]])\n",
            "IDENTITY: Matrix([[1, 0, 0], [0, 1, 0], [0, 0, 1]])\n"
          ]
        }
      ]
    },
    {
      "cell_type": "code",
      "source": [
        "# Example 4-18. Using NumPy to solve a system of equations\n",
        "\n",
        "import numpy as np\n",
        "from numpy.linalg import inv\n",
        "\n",
        "# 4x + 2y + 4z = 44\n",
        "# 5x + 3y + 7z = 56\n",
        "# 9x + 3y + 6z = 72\n",
        "\n",
        "A = array([\n",
        "    [4, 2, 4],\n",
        "    [5, 3, 7],\n",
        "    [9, 3, 6]\n",
        "])\n",
        "\n",
        "B = array([\n",
        "    44,\n",
        "    56,\n",
        "    72\n",
        "])\n",
        "\n",
        "X = inv(A).dot(B)\n",
        "\n",
        "print(X)"
      ],
      "metadata": {
        "colab": {
          "base_uri": "https://localhost:8080/"
        },
        "id": "F1OhVSrMqzCy",
        "outputId": "acb805c1-09f0-48fe-b7bc-88b4344bc52d"
      },
      "execution_count": 18,
      "outputs": [
        {
          "output_type": "stream",
          "name": "stdout",
          "text": [
            "[ 2. 34. -8.]\n"
          ]
        }
      ]
    },
    {
      "cell_type": "code",
      "source": [
        "# Example 4-19. Using SymPy to solve a system of equations\n",
        "\n",
        "from sympy import *\n",
        "\n",
        "# 4x + 2y + 4z = 44\n",
        "# 5x + 3y + 7z = 56\n",
        "# 9x + 3y + 6z = 72\n",
        "\n",
        "A = Matrix([\n",
        "    [4, 2, 4],\n",
        "    [5, 3, 7],\n",
        "    [9, 3, 6]\n",
        "])\n",
        "\n",
        "B = Matrix([\n",
        "    44,\n",
        "    56,\n",
        "    72\n",
        "])\n",
        "\n",
        "X = A.inv() * B\n",
        "\n",
        "print(X)"
      ],
      "metadata": {
        "colab": {
          "base_uri": "https://localhost:8080/"
        },
        "id": "Qmx8B6RyrfL8",
        "outputId": "e5ea501a-4f10-4440-aa3c-d19571695325"
      },
      "execution_count": 19,
      "outputs": [
        {
          "output_type": "stream",
          "name": "stdout",
          "text": [
            "Matrix([[2], [34], [-8]])\n"
          ]
        }
      ]
    },
    {
      "cell_type": "markdown",
      "source": [
        "#### Eigenvectors and Eigenvalues"
      ],
      "metadata": {
        "id": "H2HAyFnTs69S"
      }
    },
    {
      "cell_type": "code",
      "source": [
        "# Example 4-20. Performing eigendecomposition in NumPy\n",
        "\n",
        "import numpy as np\n",
        "from numpy.linalg import eig, inv\n",
        "\n",
        "A = array([\n",
        "    [1, 2],\n",
        "    [4, 5]\n",
        "])\n",
        "\n",
        "eigenvalues, eigenvectors = eig(A)\n",
        "\n",
        "print(f\"EIGENVALUES: \\n{eigenvalues}\")\n",
        "print(f\"EIGENVECTORS: \\n{eigenvectors}\")"
      ],
      "metadata": {
        "colab": {
          "base_uri": "https://localhost:8080/"
        },
        "id": "LtDZc4RGr2p8",
        "outputId": "5a9c22ff-6ac5-4631-ec11-20d152637e8f"
      },
      "execution_count": 20,
      "outputs": [
        {
          "output_type": "stream",
          "name": "stdout",
          "text": [
            "EIGENVALUES: \n",
            "[-0.46410162  6.46410162]\n",
            "EIGENVECTORS: \n",
            "[[-0.80689822 -0.34372377]\n",
            " [ 0.59069049 -0.9390708 ]]\n"
          ]
        }
      ]
    },
    {
      "cell_type": "code",
      "source": [
        "# Example 4-21. Decomposing and recomposing a matrix in NumPy\n",
        "\n",
        "import numpy as np\n",
        "from numpy.linalg import eig, inv\n",
        "\n",
        "A = array([\n",
        "    [1, 2],\n",
        "    [4, 5]\n",
        "])\n",
        "\n",
        "eigenvalues, eigenvectors = eig(A)\n",
        "\n",
        "print(f\"EIGENVALUES: \\n{eigenvalues}\")\n",
        "print(f\"EIGENVECTORS: \\n{eigenvectors}\")\n",
        "\n",
        "Q = eigenvectors\n",
        "R = inv(Q)\n",
        "\n",
        "L = np.diag(eigenvalues)\n",
        "B = Q @ L @ R\n",
        "\n",
        "print(f\"REBUILD MATRIX: \\n {B}\")"
      ],
      "metadata": {
        "colab": {
          "base_uri": "https://localhost:8080/"
        },
        "id": "vjMJh4rZt8X8",
        "outputId": "e3364624-6e61-45b6-a861-a233de24bd02"
      },
      "execution_count": 21,
      "outputs": [
        {
          "output_type": "stream",
          "name": "stdout",
          "text": [
            "EIGENVALUES: \n",
            "[-0.46410162  6.46410162]\n",
            "EIGENVECTORS: \n",
            "[[-0.80689822 -0.34372377]\n",
            " [ 0.59069049 -0.9390708 ]]\n",
            "REBUILD MATRIX: \n",
            " [[1. 2.]\n",
            " [4. 5.]]\n"
          ]
        }
      ]
    },
    {
      "cell_type": "markdown",
      "source": [
        "## Conclusion"
      ],
      "metadata": {
        "id": "8NZ0A95Ks6cA"
      }
    },
    {
      "cell_type": "markdown",
      "source": [
        "### Exercises\n",
        "\n",
        "#### 1. Vector $\\vec{v}$ has a value of $[1,2]$ but then a transformation happens. $\\hat{i}$ lands at $[2,0]$ and $\\hat{j}$ lands at $[0,1.5]$. Where does $\\vec{v}$ land?"
      ],
      "metadata": {
        "id": "75Gfxcf0uzEf"
      }
    },
    {
      "cell_type": "code",
      "source": [
        "import numpy as np\n",
        "\n",
        "v_1 = np.array([1, 2])\n",
        "\n",
        "i_hat = np.array([2, 0])\n",
        "j_hat = np.array([0, 1.5])\n",
        "\n",
        "basis = np.array([i_hat, j_hat])\n",
        "\n",
        "v_2 = basis.dot(v_1)\n",
        "\n",
        "print(v_2)"
      ],
      "metadata": {
        "colab": {
          "base_uri": "https://localhost:8080/"
        },
        "id": "yjD3XnEMuq2r",
        "outputId": "5b0a6a67-492b-4516-958c-42d0a83adff4"
      },
      "execution_count": 22,
      "outputs": [
        {
          "output_type": "stream",
          "name": "stdout",
          "text": [
            "[2. 3.]\n"
          ]
        }
      ]
    },
    {
      "cell_type": "markdown",
      "source": [
        "####2. Vector $\\vec{v}$ has a value of $[1,2]$ but then a transformation happens. $\\hat{i}$ lands at $[-2,1]$ and $\\hat{j}$ lands at $[1,-2]$. Where does $\\vec{v}$ land?"
      ],
      "metadata": {
        "id": "UEzRUXUVv-RJ"
      }
    },
    {
      "cell_type": "code",
      "source": [
        "import numpy as np\n",
        "\n",
        "v_1 = np.array([1, 2])\n",
        "\n",
        "i_hat = np.array([-2, 1])\n",
        "j_hat = np.array([1, -2])\n",
        "\n",
        "basis = np.array([i_hat, j_hat])\n",
        "\n",
        "v_2 = basis.dot(v_1)\n",
        "\n",
        "print(v_2)"
      ],
      "metadata": {
        "colab": {
          "base_uri": "https://localhost:8080/"
        },
        "id": "NUlMJz-cvTA-",
        "outputId": "28b95c68-8bd5-47b3-a3e7-3706c826324a"
      },
      "execution_count": 23,
      "outputs": [
        {
          "output_type": "stream",
          "name": "stdout",
          "text": [
            "[ 0 -3]\n"
          ]
        }
      ]
    },
    {
      "cell_type": "markdown",
      "source": [
        "#### 3. A transformation $\\hat{i}$ lands at $[1,0]$ and $\\hat{j}$ lands at $[2,2]$. What is the determinant of this transformation?"
      ],
      "metadata": {
        "id": "H6uXEw7Xwuaa"
      }
    },
    {
      "cell_type": "code",
      "source": [
        "import numpy as np\n",
        "from numpy.linalg import det\n",
        "\n",
        "i_hat = np.array([1, 0])\n",
        "j_hat = np.array([2, 2])\n",
        "\n",
        "basis = np.array([i_hat, j_hat]).transpose()\n",
        "\n",
        "determinant = det(basis)\n",
        "\n",
        "print(determinant)"
      ],
      "metadata": {
        "colab": {
          "base_uri": "https://localhost:8080/"
        },
        "id": "OYAcJcJowmK4",
        "outputId": "f0a4def2-b674-4e47-cb6f-8418c16cfc6b"
      },
      "execution_count": 24,
      "outputs": [
        {
          "output_type": "stream",
          "name": "stdout",
          "text": [
            "2.0\n"
          ]
        }
      ]
    },
    {
      "cell_type": "markdown",
      "source": [
        "#### 4. Can two or more linear transformations be done in a single linear transformation? Why or why not?\n",
        "\n",
        "Yes. A linear transformation can contain multiple transformations of the types scale, rotate, shear, and inversion."
      ],
      "metadata": {
        "id": "PKBHAN5xxc6k"
      }
    },
    {
      "cell_type": "code",
      "source": [
        ""
      ],
      "metadata": {
        "id": "ctYny7sfxbnH"
      },
      "execution_count": null,
      "outputs": []
    }
  ]
}