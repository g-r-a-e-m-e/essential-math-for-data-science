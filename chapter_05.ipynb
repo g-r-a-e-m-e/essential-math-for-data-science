{
  "nbformat": 4,
  "nbformat_minor": 0,
  "metadata": {
    "colab": {
      "name": "chapter-05.ipynb",
      "provenance": [],
      "collapsed_sections": [],
      "authorship_tag": "ABX9TyMUMuJ36strAos0ZNhPVzvH",
      "include_colab_link": true
    },
    "kernelspec": {
      "name": "python3",
      "display_name": "Python 3"
    },
    "language_info": {
      "name": "python"
    }
  },
  "cells": [
    {
      "cell_type": "markdown",
      "metadata": {
        "id": "view-in-github",
        "colab_type": "text"
      },
      "source": [
        "<a href=\"https://colab.research.google.com/github/g-r-a-e-m-e/essential-math-for-data-science/blob/main/chapter_05.ipynb\" target=\"_parent\"><img src=\"https://colab.research.google.com/assets/colab-badge.svg\" alt=\"Open In Colab\"/></a>"
      ]
    },
    {
      "cell_type": "markdown",
      "source": [
        "# Chapter 05\n",
        "## Linear Regression"
      ],
      "metadata": {
        "id": "L7eo13hn6Can"
      }
    },
    {
      "cell_type": "markdown",
      "source": [
        "### A Basic Linear Regression"
      ],
      "metadata": {
        "id": "l5deNTRv7lvA"
      }
    },
    {
      "cell_type": "code",
      "execution_count": 1,
      "metadata": {
        "colab": {
          "base_uri": "https://localhost:8080/",
          "height": 301
        },
        "id": "aNwOd-GX5_Et",
        "outputId": "ece6445a-c12b-4434-8efc-35b1d9989f56"
      },
      "outputs": [
        {
          "output_type": "stream",
          "name": "stdout",
          "text": [
            "m = [1.93939394]\n",
            "b = [4.73333333]\n"
          ]
        },
        {
          "output_type": "display_data",
          "data": {
            "text/plain": [
              "<Figure size 432x288 with 1 Axes>"
            ],
            "image/png": "[encoded data removed]"
          },
          "metadata": {
            "needs_background": "light"
          }
        }
      ],
      "source": [
        "# Example 5-1. Using scikit-learn to do a linear regression\n",
        "\n",
        "import pandas as pd\n",
        "import matplotlib.pyplot as plt\n",
        "from sklearn.linear_model import LinearRegression\n",
        "\n",
        "# Import points\n",
        "df = pd.read_csv('https://bit.ly/3goOAnt', delimiter = ',')\n",
        "\n",
        "# Extract input variables\n",
        "X = df.values[:, : -1]\n",
        "\n",
        "# Extract output\n",
        "Y = df.values[:, -1]\n",
        "\n",
        "# Fit a line to the points\n",
        "model = LinearRegression().fit(X, Y)\n",
        "\n",
        "# Get parameters\n",
        "m = model.coef_.flatten()\n",
        "b = model.intercept_.flatten()\n",
        "\n",
        "# Print coefficient and intercept\n",
        "print(f\"m = {m}\\nb = {b}\")\n",
        "\n",
        "# Plot\n",
        "plt.plot(X, Y, 'o')\n",
        "plt.plot(X, m*X+b)\n",
        "plt.show()"
      ]
    },
    {
      "cell_type": "markdown",
      "source": [
        "#### Residuals and Squared Errors"
      ],
      "metadata": {
        "id": "1SirAjpi9QIM"
      }
    },
    {
      "cell_type": "code",
      "source": [
        "# Example 5-2. Calculating the residuals for a given line and data\n",
        "\n",
        "import pandas as pd\n",
        "import matplotlib.pyplot as plt\n",
        "from sklearn.linear_model import LinearRegression\n",
        "\n",
        "# Import points\n",
        "points = pd.read_csv('https://bit.ly/3goOAnt', delimiter = ',').itertuples()\n",
        "\n",
        "# Test with a given line\n",
        "m = 1.93939\n",
        "b = 4.73333\n",
        "\n",
        "# Calculate the residuals\n",
        "for p in points:\n",
        "  y_actual = p.y\n",
        "  y_predict = m*p.x+b\n",
        "  residual = y_actual - y_predict\n",
        "  print(residual)"
      ],
      "metadata": {
        "colab": {
          "base_uri": "https://localhost:8080/"
        },
        "id": "lfH7OBKU7sYh",
        "outputId": "0f65f8f3-e3ca-4ae7-89f7-699925ea7402"
      },
      "execution_count": 2,
      "outputs": [
        {
          "output_type": "stream",
          "name": "stdout",
          "text": [
            "-1.67272\n",
            "1.3878900000000005\n",
            "-0.5515000000000008\n",
            "2.5091099999999997\n",
            "-0.4302799999999998\n",
            "-1.3696699999999993\n",
            "0.6909400000000012\n",
            "-2.2484499999999983\n",
            "2.812160000000002\n",
            "-1.1272299999999973\n"
          ]
        }
      ]
    },
    {
      "cell_type": "code",
      "source": [
        "# Example 5-4. Calculating the sum of squares for a given line and data\n",
        "\n",
        "import pandas as pd\n",
        "\n",
        "# Import points\n",
        "points = pd.read_csv('https://bit.ly/3goOAnt', delimiter = ',').itertuples()\n",
        "\n",
        "# Test with a given line\n",
        "m = 1.93939\n",
        "b = 4.73333\n",
        "\n",
        "sum_of_squares = 0.0\n",
        "\n",
        "# Calculate the sum of squares\n",
        "for p in points:\n",
        "  y_actual = p.y\n",
        "  y_predict = m*p.x+b\n",
        "  residual_squared = (y_predict - y_actual)**2\n",
        "  sum_of_squares += residual_squared\n",
        "  \n",
        "print(f\"Sum of squares = {sum_of_squares}\")"
      ],
      "metadata": {
        "colab": {
          "base_uri": "https://localhost:8080/"
        },
        "id": "A6b9b8Ys9-RV",
        "outputId": "1a0cc3b3-f719-4c4a-92eb-ab84b029d3e8"
      },
      "execution_count": 3,
      "outputs": [
        {
          "output_type": "stream",
          "name": "stdout",
          "text": [
            "Sum of squares = 28.096969704500005\n"
          ]
        }
      ]
    },
    {
      "cell_type": "markdown",
      "source": [
        "### Finding the Best Fit Line"
      ],
      "metadata": {
        "id": "zH5TI2n4Bwba"
      }
    },
    {
      "cell_type": "markdown",
      "source": [
        "#### Closed Form Equation"
      ],
      "metadata": {
        "id": "WnRxRICRB47v"
      }
    },
    {
      "cell_type": "code",
      "source": [
        "# Example 5-5\n",
        "\n",
        "import pandas as pd\n",
        "\n",
        "points = list(pd.read_csv('https://bit.ly/3goOAnt', delimiter = ',').itertuples())\n",
        "\n",
        "n = len(points)\n",
        "\n",
        "m = (n * sum(p.x * p.y for p in points) - sum(p.x for p in points) *\n",
        "     sum(p.y for p in points)) / (n * sum(p.x**2 for p in points) - \n",
        "                                  sum(p.x for p in points)**2)\n",
        "\n",
        "b = (sum(p.y for p in points) / n) - m * sum(p.x for p in points) / n\n",
        "\n",
        "print(m, b)"
      ],
      "metadata": {
        "id": "fyxbxB7eBI26",
        "colab": {
          "base_uri": "https://localhost:8080/"
        },
        "outputId": "e7dbe326-c65a-4f67-ee2a-bad5633b8a2c"
      },
      "execution_count": 4,
      "outputs": [
        {
          "output_type": "stream",
          "name": "stdout",
          "text": [
            "1.9393939393939394 4.7333333333333325\n"
          ]
        }
      ]
    },
    {
      "cell_type": "markdown",
      "source": [
        "#### Inverse Matrix Techniques"
      ],
      "metadata": {
        "id": "oBHgs4ls6LVh"
      }
    },
    {
      "cell_type": "code",
      "source": [
        "from operator import inv\n",
        "# Example 5-6 Using inverse and transposes matrices to fit a linear regression\n",
        "\n",
        "import pandas as pd\n",
        "from numpy.linalg import inv\n",
        "import numpy as np\n",
        "\n",
        "# Import points\n",
        "df = pd.read_csv('https://bit.ly/3goOAnt', delimiter = ',')\n",
        "\n",
        "# Extract input variables\n",
        "X = df.values[:, : -1].flatten()\n",
        "\n",
        "# Add dummy variable column to generate intercept\n",
        "X_1 = np.vstack([X, np.ones(len(X))]).T\n",
        "\n",
        "# Extract output column\n",
        "y = df.values[:, -1]\n",
        "\n",
        "# Calculate coefficients for slope an intercept\n",
        "b = inv(X_1.transpose() @ X_1) @ (X_1.transpose() @ y)\n",
        "print(b)\n",
        "\n",
        "# Predict against the y-values\n",
        "y_predict = X_1.dot(b)\n"
      ],
      "metadata": {
        "colab": {
          "base_uri": "https://localhost:8080/"
        },
        "id": "R25tin8n4Pr1",
        "outputId": "1b4415d1-149b-43ab-c1a8-0950320e5655"
      },
      "execution_count": 5,
      "outputs": [
        {
          "output_type": "stream",
          "name": "stdout",
          "text": [
            "[1.93939394 4.73333333]\n"
          ]
        }
      ]
    },
    {
      "cell_type": "code",
      "source": [
        ""
      ],
      "metadata": {
        "id": "7k-q-zzp7MPS"
      },
      "execution_count": 5,
      "outputs": []
    }
  ]
}