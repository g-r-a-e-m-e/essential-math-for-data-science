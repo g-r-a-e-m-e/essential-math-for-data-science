{
  "nbformat": 4,
  "nbformat_minor": 0,
  "metadata": {
    "colab": {
      "name": "chapter-05.ipynb",
      "provenance": [],
      "collapsed_sections": [],
      "authorship_tag": "ABX9TyMubKkSaQ9VbbMbwZryZnF8",
      "include_colab_link": true
    },
    "kernelspec": {
      "name": "python3",
      "display_name": "Python 3"
    },
    "language_info": {
      "name": "python"
    }
  },
  "cells": [
    {
      "cell_type": "markdown",
      "metadata": {
        "id": "view-in-github",
        "colab_type": "text"
      },
      "source": [
        "<a href=\"https://colab.research.google.com/github/g-r-a-e-m-e/essential-math-for-data-science/blob/main/chapter_05.ipynb\" target=\"_parent\"><img src=\"https://colab.research.google.com/assets/colab-badge.svg\" alt=\"Open In Colab\"/></a>"
      ]
    },
    {
      "cell_type": "markdown",
      "source": [
        "# Chapter 05\n",
        "## Linear Regression"
      ],
      "metadata": {
        "id": "L7eo13hn6Can"
      }
    },
    {
      "cell_type": "markdown",
      "source": [
        "### A Basic Linear Regression"
      ],
      "metadata": {
        "id": "l5deNTRv7lvA"
      }
    },
    {
      "cell_type": "code",
      "execution_count": 1,
      "metadata": {
        "colab": {
          "base_uri": "https://localhost:8080/",
          "height": 301
        },
        "id": "aNwOd-GX5_Et",
        "outputId": "13512112-b484-4bef-fbfa-b333df9a46ac"
      },
      "outputs": [
        {
          "output_type": "stream",
          "name": "stdout",
          "text": [
            "m = [1.93939394]\n",
            "b = [4.73333333]\n"
          ]
        },
        {
          "output_type": "display_data",
          "data": {
            "text/plain": [
              "<Figure size 432x288 with 1 Axes>"
            ],
            "image/png": "[encoded data removed]"
          },
          "metadata": {
            "needs_background": "light"
          }
        }
      ],
      "source": [
        "# Example 5-1. Using scikit-learn to do a linear regression\n",
        "\n",
        "import pandas as pd\n",
        "import matplotlib.pyplot as plt\n",
        "from sklearn.linear_model import LinearRegression\n",
        "\n",
        "# Import points\n",
        "df = pd.read_csv('https://bit.ly/3goOAnt', delimiter = ',')\n",
        "\n",
        "# Extract input variables\n",
        "X = df.values[:, : -1]\n",
        "\n",
        "# Extract output\n",
        "Y = df.values[:, -1]\n",
        "\n",
        "# Fit a line to the points\n",
        "model = LinearRegression().fit(X, Y)\n",
        "\n",
        "# Get parameters\n",
        "m = model.coef_.flatten()\n",
        "b = model.intercept_.flatten()\n",
        "\n",
        "# Print coefficient and intercept\n",
        "print(f\"m = {m}\\nb = {b}\")\n",
        "\n",
        "# Plot\n",
        "plt.plot(X, Y, 'o')\n",
        "plt.plot(X, m*X+b)\n",
        "plt.show()"
      ]
    },
    {
      "cell_type": "markdown",
      "source": [
        "#### Residuals and Squared Errors"
      ],
      "metadata": {
        "id": "1SirAjpi9QIM"
      }
    },
    {
      "cell_type": "code",
      "source": [
        "# Example 5-2. Calculating the residuals for a given line and data\n",
        "\n",
        "import pandas as pd\n",
        "import matplotlib.pyplot as plt\n",
        "from sklearn.linear_model import LinearRegression\n",
        "\n",
        "# Import points\n",
        "points = pd.read_csv('https://bit.ly/3goOAnt', delimiter = ',').itertuples()\n",
        "\n",
        "# Test with a given line\n",
        "m = 1.93939\n",
        "b = 4.73333\n",
        "\n",
        "# Calculate the residuals\n",
        "for p in points:\n",
        "  y_actual = p.y\n",
        "  y_predict = m*p.x+b\n",
        "  residual = y_actual - y_predict\n",
        "  print(residual)"
      ],
      "metadata": {
        "colab": {
          "base_uri": "https://localhost:8080/"
        },
        "id": "lfH7OBKU7sYh",
        "outputId": "3713b237-6771-4f0a-8c12-e0d9f1499858"
      },
      "execution_count": 2,
      "outputs": [
        {
          "output_type": "stream",
          "name": "stdout",
          "text": [
            "-1.67272\n",
            "1.3878900000000005\n",
            "-0.5515000000000008\n",
            "2.5091099999999997\n",
            "-0.4302799999999998\n",
            "-1.3696699999999993\n",
            "0.6909400000000012\n",
            "-2.2484499999999983\n",
            "2.812160000000002\n",
            "-1.1272299999999973\n"
          ]
        }
      ]
    },
    {
      "cell_type": "code",
      "source": [
        "# Example 5-4. Calculating the sum of squares for a given line and data\n",
        "\n",
        "import pandas as pd\n",
        "\n",
        "# Import points\n",
        "points = pd.read_csv('https://bit.ly/3goOAnt', delimiter = ',').itertuples()\n",
        "\n",
        "# Test with a given line\n",
        "m = 1.93939\n",
        "b = 4.73333\n",
        "\n",
        "sum_of_squares = 0.0\n",
        "\n",
        "# Calculate the sum of squares\n",
        "for p in points:\n",
        "  y_actual = p.y\n",
        "  y_predict = m*p.x+b\n",
        "  residual_squared = (y_predict - y_actual)**2\n",
        "  sum_of_squares += residual_squared\n",
        "  \n",
        "print(f\"Sum of squares = {sum_of_squares}\")"
      ],
      "metadata": {
        "colab": {
          "base_uri": "https://localhost:8080/"
        },
        "id": "A6b9b8Ys9-RV",
        "outputId": "f8c3d8e8-4b24-47c5-c8f9-0a693aaccc35"
      },
      "execution_count": 3,
      "outputs": [
        {
          "output_type": "stream",
          "name": "stdout",
          "text": [
            "Sum of squares = 28.096969704500005\n"
          ]
        }
      ]
    },
    {
      "cell_type": "markdown",
      "source": [
        "### Finding the Best Fit Line"
      ],
      "metadata": {
        "id": "zH5TI2n4Bwba"
      }
    },
    {
      "cell_type": "markdown",
      "source": [
        "#### Closed Form Equation"
      ],
      "metadata": {
        "id": "WnRxRICRB47v"
      }
    },
    {
      "cell_type": "code",
      "source": [
        "# Example 5-5\n",
        "\n",
        "import pandas as pd\n",
        "\n",
        "points = list(pd.read_csv('https://bit.ly/3goOAnt', delimiter = ',').itertuples())\n",
        "\n",
        "n = len(points)\n",
        "\n",
        "m = (n * sum(p.x * p.y for p in points) - sum(p.x for p in points) *\n",
        "     sum(p.y for p in points)) / (n * sum(p.x**2 for p in points) - \n",
        "                                  sum(p.x for p in points)**2)\n",
        "\n",
        "b = (sum(p.y for p in points) / n) - m * sum(p.x for p in points) / n\n",
        "\n",
        "print(m, b)"
      ],
      "metadata": {
        "id": "fyxbxB7eBI26",
        "colab": {
          "base_uri": "https://localhost:8080/"
        },
        "outputId": "76eb16a2-2a97-475e-e015-8bb1e991f050"
      },
      "execution_count": 4,
      "outputs": [
        {
          "output_type": "stream",
          "name": "stdout",
          "text": [
            "1.9393939393939394 4.7333333333333325\n"
          ]
        }
      ]
    },
    {
      "cell_type": "markdown",
      "source": [
        "#### Inverse Matrix Techniques"
      ],
      "metadata": {
        "id": "oBHgs4ls6LVh"
      }
    },
    {
      "cell_type": "code",
      "source": [
        "from operator import inv\n",
        "# Example 5-6 Using inverse and transposes matrices to fit a linear regression\n",
        "\n",
        "import pandas as pd\n",
        "from numpy.linalg import inv\n",
        "import numpy as np\n",
        "\n",
        "# Import points\n",
        "df = pd.read_csv('https://bit.ly/3goOAnt', delimiter = ',')\n",
        "\n",
        "# Extract input variables\n",
        "X = df.values[:, : -1].flatten()\n",
        "\n",
        "# Add dummy variable column to generate intercept\n",
        "X_1 = np.vstack([X, np.ones(len(X))]).T\n",
        "\n",
        "# Extract output column\n",
        "y = df.values[:, -1]\n",
        "\n",
        "# Calculate coefficients for slope an intercept\n",
        "b = inv(X_1.transpose() @ X_1) @ (X_1.transpose() @ y)\n",
        "print(b)\n",
        "\n",
        "# Predict against the y-values\n",
        "y_predict = X_1.dot(b)\n"
      ],
      "metadata": {
        "colab": {
          "base_uri": "https://localhost:8080/"
        },
        "id": "R25tin8n4Pr1",
        "outputId": "48775d38-4a38-495d-ff3a-aef0488e98f8"
      },
      "execution_count": 5,
      "outputs": [
        {
          "output_type": "stream",
          "name": "stdout",
          "text": [
            "[1.93939394 4.73333333]\n"
          ]
        }
      ]
    },
    {
      "cell_type": "code",
      "source": [
        "# Example 5-7 Using QR decomposition to perform a linear regression\n",
        "\n",
        "import pandas as pd\n",
        "from numpy.linalg import qr, inv\n",
        "import numpy as np\n",
        "\n",
        "# Import points\n",
        "df = pd.read_csv('https://bit.ly/3goOAnt', delimiter = ',')\n",
        "\n",
        "# Extract input variables\n",
        "X = df.values[:, : -1].flatten()\n",
        "\n",
        "# Add dummy variable column to generate intercept\n",
        "X_1 = np.vstack([X, np.ones(len(X))]).transpose()\n",
        "\n",
        "# Extract output column\n",
        "y = df.values[:, -1]\n",
        "\n",
        "# Calculate coefficients for slope and intercept using QR decomposition\n",
        "Q, R = qr(X_1)\n",
        "b = inv(R).dot(Q.transpose()).dot(y)\n",
        "\n",
        "print(b)"
      ],
      "metadata": {
        "colab": {
          "base_uri": "https://localhost:8080/"
        },
        "id": "7k-q-zzp7MPS",
        "outputId": "15e3f6a8-cd71-43c5-894d-ef5fb54bf43e"
      },
      "execution_count": 6,
      "outputs": [
        {
          "output_type": "stream",
          "name": "stdout",
          "text": [
            "[1.93939394 4.73333333]\n"
          ]
        }
      ]
    },
    {
      "cell_type": "markdown",
      "source": [
        "#### Gradient Descent"
      ],
      "metadata": {
        "id": "T1fSLzwKs72a"
      }
    },
    {
      "cell_type": "code",
      "source": [
        "# Example 5-8 Using gradient descent to find the minimum of a parabola\n",
        "\n",
        "import random\n",
        "\n",
        "def f(x):\n",
        "  return (x - 3) ** 2 + 4\n",
        "\n",
        "def dx_f(x):\n",
        "  return 2 * (x - 3)\n",
        "\n",
        "# The learning rate\n",
        "L = 0.001\n",
        "\n",
        "# Number of iterations to perform gradient descent\n",
        "iterations = 100000\n",
        "\n",
        "# Start at a random x\n",
        "x = random.randint(-15, 15)\n",
        "\n",
        "for i in range(iterations):\n",
        "  # Get slope\n",
        "  d_x = dx_f(x)\n",
        "\n",
        "  # Update x by subtracting the (learning rate) * (slope)\n",
        "  x -= L * d_x\n",
        "\n",
        "print(x, f(x))"
      ],
      "metadata": {
        "colab": {
          "base_uri": "https://localhost:8080/"
        },
        "id": "bQUMBM-rs9ah",
        "outputId": "6fbc8dc0-0611-4810-bfaa-9bebda40e6d0"
      },
      "execution_count": 7,
      "outputs": [
        {
          "output_type": "stream",
          "name": "stdout",
          "text": [
            "3.000000000000111 4.0\n"
          ]
        }
      ]
    },
    {
      "cell_type": "markdown",
      "source": [
        "##### Gradient Descent and Linear Regression"
      ],
      "metadata": {
        "id": "LaxMmb6lv2AM"
      }
    },
    {
      "cell_type": "code",
      "source": [
        "# Example 5-9 Performing gradient descent for a linear regression\n",
        "\n",
        "import pandas as pd\n",
        "\n",
        "# Import points from csv\n",
        "points = list(pd.read_csv(\"https://bit.ly/2KF29Bd\").itertuples())\n",
        "\n",
        "# Building the model\n",
        "m = 0.0\n",
        "b = 0.0\n",
        "\n",
        "# Learning rate\n",
        "L = 0.001\n",
        "\n",
        "# Number of iterations\n",
        "iterations = 100000\n",
        "\n",
        "# Number of elements in X\n",
        "n = float(len(points))\n",
        "\n",
        "# Perform gradient descent\n",
        "for i in range(iterations):\n",
        "  # Slope with respect to m\n",
        "  D_m = sum(2 * p.x * ((m * p.x + b) - p.y) for p in points)\n",
        "\n",
        "  # Slope with respect to b\n",
        "  D_b = sum(2 * ((m * p.x + b) - p.y) for p in points)\n",
        "\n",
        "  # Update m and b\n",
        "  m -= L * D_m\n",
        "  b -= L * D_b\n",
        "\n",
        "print(f\"y = {m}x + {b}\")"
      ],
      "metadata": {
        "colab": {
          "base_uri": "https://localhost:8080/"
        },
        "id": "ZPAEPlqguEEH",
        "outputId": "96b9705e-4d93-4bf8-dc42-62c9e5c55c62"
      },
      "execution_count": 8,
      "outputs": [
        {
          "output_type": "stream",
          "name": "stdout",
          "text": [
            "y = 1.9393939393939548x + 4.733333333333227\n"
          ]
        }
      ]
    },
    {
      "cell_type": "markdown",
      "source": [
        "##### Gradient Descent for Linear Regression Using SymPy"
      ],
      "metadata": {
        "id": "FTyphs5Kw6Um"
      }
    },
    {
      "cell_type": "code",
      "source": [
        "# Example 5-10. Calculating partial derivatives for m and b\n",
        "\n",
        "from sympy import *\n",
        "\n",
        "m, b, i, n = symbols('m b i n')\n",
        "x, y = symbols('x y', cls = Function)\n",
        "\n",
        "sum_of_squares = Sum((m * x(i) + b - y(i))**2, (i, 0, n))\n",
        "\n",
        "d_m = diff(sum_of_squares, m)\n",
        "d_b = diff(sum_of_squares, b)\n",
        "\n",
        "print(d_m)\n",
        "print(d_b)"
      ],
      "metadata": {
        "colab": {
          "base_uri": "https://localhost:8080/"
        },
        "id": "6fVDNq5Ywp7W",
        "outputId": "ff2ff5ca-7c21-4c5f-b07a-caeadf496498"
      },
      "execution_count": 9,
      "outputs": [
        {
          "output_type": "stream",
          "name": "stdout",
          "text": [
            "Sum(2*(b + m*x(i) - y(i))*x(i), (i, 0, n))\n",
            "Sum(2*b + 2*m*x(i) - 2*y(i), (i, 0, n))\n"
          ]
        }
      ]
    },
    {
      "cell_type": "code",
      "source": [
        "# Example 5-11. Solving linear regression using SymPy\n",
        "\n",
        "from sympy import *\n",
        "\n",
        "# Import points from csv\n",
        "points = list(pd.read_csv(\"https://bit.ly/2KF29Bd\").itertuples())\n",
        "\n",
        "m, b, i, n = symbols('m b i n')\n",
        "x, y = symbols('x y', cls = Function)\n",
        "\n",
        "sum_of_squares = Sum((m * x(i) + b - y(i))**2, (i, 0, n))\n",
        "\n",
        "d_m = diff(sum_of_squares, m) \\\n",
        "      .subs(n, len(points) - 1).doit() \\\n",
        "      .replace(x, lambda i: points[i].x) \\\n",
        "      .replace(y, lambda i: points[i].y)\n",
        "\n",
        "d_b = diff(sum_of_squares, b) \\\n",
        "      .subs(n, len(points) - 1).doit() \\\n",
        "      .replace(x, lambda i: points[i].x) \\\n",
        "      .replace(y, lambda i: points[i].y)\n",
        "\n",
        "# Compile using lambdify for faster computation\n",
        "d_m = lambdify([m, b], d_m)\n",
        "d_b = lambdify([m, b], d_b)\n",
        "\n",
        "# Building the model\n",
        "m = 0.0\n",
        "b = 0.0\n",
        "\n",
        "# The learning rate\n",
        "L = 0.001\n",
        "\n",
        "# Number of iterations\n",
        "iterations = 100000\n",
        "\n",
        "# Perform gradient descent\n",
        "for i in range(iterations):\n",
        "  # Update m and b\n",
        "  m -= d_m(m, b) * L\n",
        "  b -= d_b(m, b) * L\n",
        "\n",
        "print(f\"y = {m}x + {b}\")"
      ],
      "metadata": {
        "colab": {
          "base_uri": "https://localhost:8080/"
        },
        "id": "59FGfVXcxfo4",
        "outputId": "ea46edb1-3a7e-4173-afbe-a9ccc9503b1e"
      },
      "execution_count": 10,
      "outputs": [
        {
          "output_type": "stream",
          "name": "stdout",
          "text": [
            "y = 1.939393939393954x + 4.733333333333231\n"
          ]
        }
      ]
    },
    {
      "cell_type": "code",
      "source": [
        "# Example 5-12. Plotting the loss function for linear regression\n",
        "\n",
        "from sympy import *\n",
        "from sympy.plotting import plot3d\n",
        "import pandas as pd\n",
        "\n",
        "# Import points from csv\n",
        "points = list(pd.read_csv(\"https://bit.ly/2KF29Bd\").itertuples())\n",
        "\n",
        "m, b, i, n = symbols('m b i n')\n",
        "x, y = symbols('x y', cls = Function)\n",
        "\n",
        "sum_of_squares = Sum((m * x(i) + b - y(i))**2, (i, 0, n)) \\\n",
        "                 .subs(n, len(points) - 1).doit() \\\n",
        "                 .replace(x, lambda i: points[i].x) \\\n",
        "                 .replace(y, lambda i: points[i].y)\n",
        "\n",
        "plot3d(sum_of_squares)"
      ],
      "metadata": {
        "colab": {
          "base_uri": "https://localhost:8080/",
          "height": 315
        },
        "id": "qLlq6U9GzMuD",
        "outputId": "0932faca-42b4-449a-e885-0e2f165cebb8"
      },
      "execution_count": 11,
      "outputs": [
        {
          "output_type": "display_data",
          "data": {
            "text/plain": [
              "<Figure size 432x288 with 1 Axes>"
            ],
            "image/png": "[encoded data removed]"
          },
          "metadata": {
            "needs_background": "light"
          }
        },
        {
          "output_type": "execute_result",
          "data": {
            "text/plain": [
              "<sympy.plotting.plot.Plot at 0x7fc0daa9bc50>"
            ]
          },
          "metadata": {},
          "execution_count": 11
        }
      ]
    },
    {
      "cell_type": "markdown",
      "source": [
        "### Stochastic Gradient Descent"
      ],
      "metadata": {
        "id": "nefpYJHM1NjM"
      }
    },
    {
      "cell_type": "code",
      "source": [
        "# Example 5-13. Performing stochastic gradient descent for a linear regression\n",
        "\n",
        "import pandas as pd\n",
        "import numpy as np\n",
        "\n",
        "data = pd.read_csv(\"https://bit.ly/2KF29Bd\", header = 0)\n",
        "\n",
        "X = data.iloc[:, 0].values\n",
        "y = data.iloc[:, 1].values\n",
        "\n",
        "n = data.shape[0]\n",
        "\n",
        "# Building the model\n",
        "m = 0.0\n",
        "b = 0.0\n",
        "\n",
        "# Sample size\n",
        "sample_size = 1\n",
        "\n",
        "# Learning rate\n",
        "L = 0.0001\n",
        "\n",
        "# Number of iterations\n",
        "epochs = 100000\n",
        "\n",
        "# Perform SGD\n",
        "for i in range(epochs):\n",
        "  idx = np.random.choice(n, sample_size, replace = False)\n",
        "\n",
        "  X_sample = X[idx]\n",
        "  y_sample = y[idx]\n",
        "\n",
        "  # Current predicted value of y\n",
        "  y_pred = m * X_sample + b\n",
        "\n",
        "  # d/dm derivative of loss function\n",
        "  D_m = (-2 / sample_size) * sum(X_sample * (y_sample - y_pred))\n",
        "\n",
        "  # d/db derivative of loss function\n",
        "  D_b = (-2 / sample_size) * sum(y_sample - y_pred)\n",
        "  \n",
        "  # Update m\n",
        "  m = m - L * D_m\n",
        "\n",
        "  # Update b\n",
        "  b = b - L * D_b\n",
        "\n",
        "  # Print progress\n",
        "  if i % 10000 == 0:\n",
        "    print(i, m, b)\n",
        "\n",
        "print(f\"y = {m}x + {b}\")"
      ],
      "metadata": {
        "colab": {
          "base_uri": "https://localhost:8080/"
        },
        "id": "cKuFQzzV1G_d",
        "outputId": "baac30dc-878a-462f-88c7-d9308526ecf4"
      },
      "execution_count": 12,
      "outputs": [
        {
          "output_type": "stream",
          "name": "stdout",
          "text": [
            "0 0.004 0.002\n",
            "10000 2.389941053158785 1.8674125426516324\n",
            "20000 2.153090138991622 2.8558503480897883\n",
            "30000 2.1213889829637416 3.4997328806845966\n",
            "40000 2.051899317222376 3.896610322360982\n",
            "50000 2.01343113946793 4.197047197703404\n",
            "60000 2.0002986004494137 4.380002159122791\n",
            "70000 1.9693435780475894 4.50240604412044\n",
            "80000 1.9780463587343913 4.573961032658137\n",
            "90000 1.9477383554046896 4.635118911466066\n",
            "y = 1.9546821430140866x + 4.6649629788899585\n"
          ]
        }
      ]
    },
    {
      "cell_type": "markdown",
      "source": [
        "### The Correlation Coefficient"
      ],
      "metadata": {
        "id": "HzJIAY_i4snd"
      }
    },
    {
      "cell_type": "code",
      "source": [
        "# Example 5-14. Using Pandas to see the correlation coefficient between every pair of variables\n",
        "\n",
        "import pandas as pd\n",
        "\n",
        "# Import data from csv\n",
        "df = pd.read_csv(\"https://bit.ly/2KF29Bd\", delimiter = ',')\n",
        "\n",
        "# Print correlations between variables\n",
        "correlations = df.corr(method = 'pearson')\n",
        "print(correlations)"
      ],
      "metadata": {
        "colab": {
          "base_uri": "https://localhost:8080/"
        },
        "id": "M4UimEua4bHq",
        "outputId": "d77c13a1-a37b-4cb2-d5dd-84de1d9beb55"
      },
      "execution_count": 13,
      "outputs": [
        {
          "output_type": "stream",
          "name": "stdout",
          "text": [
            "          x         y\n",
            "x  1.000000  0.957586\n",
            "y  0.957586  1.000000\n"
          ]
        }
      ]
    },
    {
      "cell_type": "code",
      "source": [
        "# Example 5-16. Calculating the critical value from a T-distribution\n",
        "\n",
        "from scipy.stats import t\n",
        "\n",
        "n = 10\n",
        "lower_cv = t(n - 1).ppf(.025)\n",
        "upper_cv = t(n - 1).ppf(.975)\n",
        "\n",
        "print(lower_cv, upper_cv)"
      ],
      "metadata": {
        "colab": {
          "base_uri": "https://localhost:8080/"
        },
        "id": "MM8Wq4fi5trK",
        "outputId": "82e3c466-6bfd-4f74-8d07-2c36383a37de"
      },
      "execution_count": 14,
      "outputs": [
        {
          "output_type": "stream",
          "name": "stdout",
          "text": [
            "-2.262157162740992 2.2621571627409915\n"
          ]
        }
      ]
    },
    {
      "cell_type": "code",
      "source": [
        "# Example 5-17. Testing significance for linear-looking data\n",
        "\n",
        "from scipy.stats import t\n",
        "from math import sqrt\n",
        "\n",
        "# Sample size\n",
        "n = 10\n",
        "\n",
        "# Critical values\n",
        "lower_cv = t(n - 1).ppf(.025)\n",
        "upper_cv = t(n - 1).ppf(.975)\n",
        "\n",
        "# Correlation coefficient derived from https://bit.ly/2KF29Bd\n",
        "r = 0.957586\n",
        "\n",
        "# Perform the test\n",
        "test_value = r / sqrt((1 - r**2) / (n - 2))\n",
        "\n",
        "print(f\"TEST VALUE: {test_value}\")\n",
        "print(f\"CRITICAL RANGE: {lower_cv}, {upper_cv}\")\n",
        "\n",
        "if test_value < lower_cv or test_value > upper_cv:\n",
        "  print(\"Correlation proven, Reject H0\")\n",
        "else:\n",
        "    print(\"Correlation not proven, Failed to reject H0\")\n",
        "\n",
        "# Calculate p-value\n",
        "if test_value > 0:\n",
        "    p_value = 1.0 - t(n - 1).cdf(test_value)\n",
        "else:\n",
        "    p_value = t(n - 1).cdf(test_value)\n",
        "\n",
        "# Two-tailed test\n",
        "p_value = 2 * p_value\n",
        "print(f\"P-value: {p_value}\")"
      ],
      "metadata": {
        "colab": {
          "base_uri": "https://localhost:8080/"
        },
        "id": "reAb0awT87NS",
        "outputId": "74bc9912-1f9d-4188-c904-57115ea1a566"
      },
      "execution_count": 15,
      "outputs": [
        {
          "output_type": "stream",
          "name": "stdout",
          "text": [
            "TEST VALUE: 9.399564671312076\n",
            "CRITICAL RANGE: -2.262157162740992, 2.2621571627409915\n",
            "Correlation proven, Reject H0\n",
            "P-value: 5.9763860877914965e-06\n"
          ]
        }
      ]
    },
    {
      "cell_type": "markdown",
      "source": [
        "### Coefficient of Determination"
      ],
      "metadata": {
        "id": "h1N_Y9cweFn0"
      }
    },
    {
      "cell_type": "code",
      "source": [
        "# Example 5-18. Creating a correlation matrix in Pandas\n",
        "\n",
        "import pandas as pd\n",
        "\n",
        "# Import data from csv\n",
        "df = pd.read_csv(\"https://bit.ly/2KF29Bd\", delimiter = ',')\n",
        "\n",
        "# Print correlations between variables\n",
        "coeff_determination = df.corr(method = 'pearson') ** 2\n",
        "print(coeff_determination)"
      ],
      "metadata": {
        "colab": {
          "base_uri": "https://localhost:8080/"
        },
        "id": "KD9achPx-kdH",
        "outputId": "03fe6248-7f9d-49e0-cb0f-4fd90d621adc"
      },
      "execution_count": 16,
      "outputs": [
        {
          "output_type": "stream",
          "name": "stdout",
          "text": [
            "          x         y\n",
            "x  1.000000  0.916971\n",
            "y  0.916971  1.000000\n"
          ]
        }
      ]
    },
    {
      "cell_type": "markdown",
      "source": [
        "### Standard Error of the Estimate"
      ],
      "metadata": {
        "id": "79D_L_BwfBxk"
      }
    },
    {
      "cell_type": "code",
      "source": [
        "# Example 5-19. Calculating the standard error of the estimate\n",
        "\n",
        "import pandas as pd\n",
        "from math import sqrt\n",
        "\n",
        "# Load the data\n",
        "points = list(pd.read_csv(\"https://bit.ly/2KF29Bd\", delimiter = ',').itertuples())\n",
        "\n",
        "n = len(points)\n",
        "\n",
        "# Regression line\n",
        "m = 1.939\n",
        "b = 4.733\n",
        "\n",
        "# Calculate the standard error of estimate\n",
        "S_e = sqrt((sum((p.y - (m * p.x + b))**2 for p in points)) / (n - 2))\n",
        "\n",
        "print(S_e)"
      ],
      "metadata": {
        "colab": {
          "base_uri": "https://localhost:8080/"
        },
        "id": "UQltCTHEfBL3",
        "outputId": "f4bdac0e-9b76-446d-a88f-6f1496821666"
      },
      "execution_count": 17,
      "outputs": [
        {
          "output_type": "stream",
          "name": "stdout",
          "text": [
            "1.87406793500129\n"
          ]
        }
      ]
    },
    {
      "cell_type": "markdown",
      "source": [
        "### Prediction Intervals"
      ],
      "metadata": {
        "id": "LEIjThDLftLz"
      }
    },
    {
      "cell_type": "code",
      "source": [
        "# Example 5-20. Calculating a prediction interval of vet visits for a dog that's 8.5 years old\n",
        "\n",
        "import pandas as pd\n",
        "from scipy.stats import t\n",
        "from math import sqrt\n",
        "\n",
        "# Load the data\n",
        "points = list(pd.read_csv(\"https://bit.ly/2KF29Bd\", delimiter = ',').itertuples())\n",
        "\n",
        "n = len(points)\n",
        "\n",
        "# Linear regression line\n",
        "m = 1.939\n",
        "b = 4.733\n",
        "\n",
        "# Calculate prediction interval for x = 8.5\n",
        "x_0 = 8.5\n",
        "x_mean = sum(p.x for p in points) / n\n",
        "\n",
        "# T-value\n",
        "t_value = t(n - 2).ppf(.975)\n",
        "\n",
        "# Standard error\n",
        "S_e = sqrt((sum((p.y - (m * p.x + b))**2 for p in points)) / (n - 2))\n",
        "\n",
        "# Margin of error\n",
        "margin_of_error = t_value * S_e * \\\n",
        "                  sqrt(1 + (1 / n) + (n * (x_0 - x_mean) ** 2) / \\\n",
        "                       (n * sum(p.x**2 for p in points) - \\\n",
        "                        sum(p.x for p in points)**2))\n",
        "\n",
        "predicted_y = m * x_0 + b\n",
        "\n",
        "# Calculate prediction interval\n",
        "print(predicted_y - margin_of_error, predicted_y + margin_of_error)"
      ],
      "metadata": {
        "colab": {
          "base_uri": "https://localhost:8080/"
        },
        "id": "lBudM-TKfmWz",
        "outputId": "5e48d831-ede5-4e7e-d9d7-3198d799749c"
      },
      "execution_count": 18,
      "outputs": [
        {
          "output_type": "stream",
          "name": "stdout",
          "text": [
            "16.462516875955465 25.966483124044537\n"
          ]
        }
      ]
    },
    {
      "cell_type": "markdown",
      "source": [
        "### Train/Test Splits"
      ],
      "metadata": {
        "id": "HIczWcn0iPgU"
      }
    },
    {
      "cell_type": "code",
      "source": [
        "# Example 5-21. Doing a train/test split on linear regression\n",
        "\n",
        "import pandas as pd\n",
        "from sklearn.linear_model import LinearRegression\n",
        "from sklearn.model_selection import train_test_split\n",
        "\n",
        "# Import data from csv\n",
        "df = pd.read_csv(\"https://bit.ly/3cIH97A\", delimiter = ',')\n",
        "\n",
        "# Extract input variables\n",
        "X = df.values[:, : -1]\n",
        "\n",
        "# Extract output column\n",
        "y = df.values[:, -1]\n",
        "\n",
        "# Separate training and testing data\n",
        "X_train, X_test, y_train, y_test = train_test_split(X, y, test_size = 1/3)\n",
        "\n",
        "# Build the model\n",
        "model = LinearRegression()\n",
        "\n",
        "# Train the model on the training data\n",
        "model.fit(X_train, y_train)\n",
        "\n",
        "# Score the model and display results\n",
        "result = model.score(X_test, y_test)\n",
        "print(f\"r^2: {round(result, 3)}\")"
      ],
      "metadata": {
        "colab": {
          "base_uri": "https://localhost:8080/"
        },
        "id": "XyCpgDOKhU6d",
        "outputId": "95557c8e-caf1-44bd-e1c4-19569c0927b0"
      },
      "execution_count": 19,
      "outputs": [
        {
          "output_type": "stream",
          "name": "stdout",
          "text": [
            "r^2: 0.994%\n"
          ]
        }
      ]
    },
    {
      "cell_type": "code",
      "source": [
        "# Example 5-22. Using three-fold cross-validation for a linear regression\n",
        "\n",
        "import pandas as pd\n",
        "from sklearn.linear_model import LinearRegression\n",
        "from sklearn.model_selection import KFold, cross_val_score\n",
        "\n",
        "# Import data from csv\n",
        "df = pd.read_csv(\"https://bit.ly/3cIH97A\", delimiter = ',')\n",
        "\n",
        "# Extract input variables\n",
        "X = df.values[:, : -1]\n",
        "\n",
        "# Extract output column\n",
        "y = df.values[:, -1]\n",
        "\n",
        "# Perform simple linear regression\n",
        "kfold = KFold(n_splits = 3, random_state = 7, shuffle = True)\n",
        "model = LinearRegression()\n",
        "results = cross_val_score(model, X, y, cv = kfold)\n",
        "print(results)\n",
        "print(f\"Mean: {round(results.mean(), 3)}\\nSD: {round(results.std(), 3)}\")"
      ],
      "metadata": {
        "colab": {
          "base_uri": "https://localhost:8080/"
        },
        "id": "UFzDfWJNjWQO",
        "outputId": "b745415d-d8af-457b-a415-11b947447596"
      },
      "execution_count": 20,
      "outputs": [
        {
          "output_type": "stream",
          "name": "stdout",
          "text": [
            "[0.99337354 0.99345032 0.99251425]\n",
            "Mean: 0.993\n",
            "SD: 0.0\n"
          ]
        }
      ]
    },
    {
      "cell_type": "code",
      "source": [
        "# Example 5-23. Using a random-fold validation for a linear regression\n",
        "\n",
        "import pandas as pd\n",
        "from sklearn.linear_model import LinearRegression\n",
        "from sklearn.model_selection import cross_val_score, ShuffleSplit\n",
        "\n",
        "# Read in data\n",
        "df = pd.read_csv(\"https://bit.ly/38XwbeB\", delimiter = ',')\n",
        "\n",
        "# Extract input variables\n",
        "X = df.values[:, :-1]\n",
        "\n",
        "# Extract output variable\n",
        "y = df.values[:, -1]\n",
        "\n",
        "# Perform a simple linear regression\n",
        "kfold = ShuffleSplit(n_splits = 10, test_size = 1/3, random_state = 7)\n",
        "model = LinearRegression()\n",
        "results = cross_val_score(model, X, y, cv = kfold)\n",
        "\n",
        "print(results)\n",
        "print(f\"Mean: {round(results.mean(), 3)}\\nSD: {round(results.std(), 3)}\")"
      ],
      "metadata": {
        "colab": {
          "base_uri": "https://localhost:8080/"
        },
        "id": "EZeGEKSQl_k_",
        "outputId": "d83e8463-0750-42d9-c93d-cc32f2caaa20"
      },
      "execution_count": 21,
      "outputs": [
        {
          "output_type": "stream",
          "name": "stdout",
          "text": [
            "[0.82514286 0.23552344 0.92653455 0.91620594 0.73260142 0.8698865\n",
            " 0.55254014 0.89593526 0.91570078 0.82086621]\n",
            "Mean: 0.769\n",
            "SD: 0.208\n"
          ]
        }
      ]
    },
    {
      "cell_type": "markdown",
      "source": [
        "### Multiple Linear Regression"
      ],
      "metadata": {
        "id": "YUCP9iZYpbtt"
      }
    },
    {
      "cell_type": "code",
      "source": [
        "# Example 5-24. A Linear regression with two input variables\n",
        "\n",
        "import pandas as pd\n",
        "from sklearn.linear_model import LinearRegression\n",
        "\n",
        "# Load data\n",
        "df = pd.read_csv(\"https://bit.ly/2X1HWH7\", delimiter = ',')\n",
        "\n",
        "# Extract input variables\n",
        "X = df.values[:, :-1]\n",
        "\n",
        "# Extract output variable\n",
        "y = df.values[:, -1]\n",
        "\n",
        "# Training\n",
        "fit = LinearRegression().fit(X, y)\n",
        "\n",
        "# Print results\n",
        "print(f\"Coefficients: {fit.coef_}\")\n",
        "print(f\"Intercept: {fit.intercept_}\")\n",
        "print(f\"z = {fit.intercept_} + {fit.coef_[0]}x + {fit.coef_[1]}y\")"
      ],
      "metadata": {
        "colab": {
          "base_uri": "https://localhost:8080/"
        },
        "id": "vbCxEtGHpLd_",
        "outputId": "a738acc0-caee-49c4-b2f8-32d1cd2bb89d"
      },
      "execution_count": 22,
      "outputs": [
        {
          "output_type": "stream",
          "name": "stdout",
          "text": [
            "Coefficients: [2.00672647 3.00203798]\n",
            "Intercept: 20.109432820035963\n",
            "z = 20.109432820035963 + 2.006726472512807x + 3.0020379766466925y\n"
          ]
        }
      ]
    },
    {
      "cell_type": "markdown",
      "source": [
        "### Exercises"
      ],
      "metadata": {
        "id": "HZf-DX57qqIK"
      }
    },
    {
      "cell_type": "code",
      "source": [
        ""
      ],
      "metadata": {
        "id": "ChmCTkBkqhd6"
      },
      "execution_count": null,
      "outputs": []
    }
  ]
}