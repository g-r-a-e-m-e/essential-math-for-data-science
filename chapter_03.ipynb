{
  "nbformat": 4,
  "nbformat_minor": 0,
  "metadata": {
    "colab": {
      "name": "chapter-03.ipynb",
      "provenance": [],
      "collapsed_sections": [],
      "authorship_tag": "ABX9TyMJxaFO3ChdkNAWgIyLWImx",
      "include_colab_link": true
    },
    "kernelspec": {
      "name": "python3",
      "display_name": "Python 3"
    },
    "language_info": {
      "name": "python"
    }
  },
  "cells": [
    {
      "cell_type": "markdown",
      "metadata": {
        "id": "view-in-github",
        "colab_type": "text"
      },
      "source": [
        "<a href=\"https://colab.research.google.com/github/g-r-a-e-m-e/essential-math-for-data-science/blob/main/chapter_03.ipynb\" target=\"_parent\"><img src=\"https://colab.research.google.com/assets/colab-badge.svg\" alt=\"Open In Colab\"/></a>"
      ]
    },
    {
      "cell_type": "markdown",
      "source": [
        "# Chapter 03\n",
        "\n",
        "## Descriptive and Inferential Statistics"
      ],
      "metadata": {
        "id": "TgrtYkrLcYhJ"
      }
    },
    {
      "cell_type": "markdown",
      "source": [
        "### Descriptive Statistics"
      ],
      "metadata": {
        "id": "W0cLdOmXcfU_"
      }
    },
    {
      "cell_type": "markdown",
      "source": [
        "#### Mean and Weighted Mean"
      ],
      "metadata": {
        "id": "U-eYmIOMciTF"
      }
    },
    {
      "cell_type": "code",
      "execution_count": 1,
      "metadata": {
        "colab": {
          "base_uri": "https://localhost:8080/"
        },
        "id": "LUxNdyJ2cUbH",
        "outputId": "3b64ee51-f096-46c5-d4e9-dc59250e35be"
      },
      "outputs": [
        {
          "output_type": "stream",
          "name": "stdout",
          "text": [
            "2.875\n"
          ]
        }
      ],
      "source": [
        "# Example 3-1. Calculating mean\n",
        "# Number of pets each person owns\n",
        "sample = [1, 3, 2, 5, 7, 0, 2, 3]\n",
        "\n",
        "mean = sum(sample) / len(sample)\n",
        "\n",
        "print(mean)"
      ]
    },
    {
      "cell_type": "code",
      "source": [
        "# Exampl 3-2. Calculating a weighted mean\n",
        "sample = [90, 80, 63, 87]\n",
        "weights = [.20, .20, .20, .40]\n",
        "\n",
        "weighted_mean = sum(s * w for s, w in zip(sample, weights)) / sum(weights)\n",
        "\n",
        "print(weighted_mean)"
      ],
      "metadata": {
        "colab": {
          "base_uri": "https://localhost:8080/"
        },
        "id": "6iOykly2cwIv",
        "outputId": "81cddd0e-a6f3-4765-b280-2faae32eeab9"
      },
      "execution_count": 2,
      "outputs": [
        {
          "output_type": "stream",
          "name": "stdout",
          "text": [
            "81.4\n"
          ]
        }
      ]
    },
    {
      "cell_type": "code",
      "source": [
        "# Example 3-3. Calculating another weighted mean\n",
        "sample = [90, 80, 63, 87]\n",
        "weights = [1.0, 1.0, 1.0, 2.0]\n",
        "\n",
        "weighted_mean = sum(s * w for s, w in zip(sample, weights)) / sum(weights)\n",
        "\n",
        "print(weighted_mean)"
      ],
      "metadata": {
        "colab": {
          "base_uri": "https://localhost:8080/"
        },
        "id": "9UPZx8aeelz-",
        "outputId": "d13e7dfd-4880-4079-f8bd-1cb078543c4a"
      },
      "execution_count": 3,
      "outputs": [
        {
          "output_type": "stream",
          "name": "stdout",
          "text": [
            "81.4\n"
          ]
        }
      ]
    },
    {
      "cell_type": "markdown",
      "source": [
        "#### Median"
      ],
      "metadata": {
        "id": "zoY__JF7fE2Y"
      }
    },
    {
      "cell_type": "code",
      "source": [
        "# Example 3-4. Calculating the median\n",
        "# Number of pets each person owns\n",
        "sample = [0, 1, 5, 7, 9, 10, 14]\n",
        "\n",
        "def median(values):\n",
        "  ordered = sorted(values)\n",
        "  print(ordered)\n",
        "  n = len(ordered)\n",
        "  mid = int(n / 2) - 1 if n % 2 == 0 else int(n / 2)\n",
        "\n",
        "  if n % 2 == 0:\n",
        "    return (ordered[mid] + ordered[mid + 1]) / 2.0\n",
        "  else:\n",
        "    return ordered[mid]\n",
        "\n",
        "print(median(sample))"
      ],
      "metadata": {
        "colab": {
          "base_uri": "https://localhost:8080/"
        },
        "id": "FaoEfoBJe_8M",
        "outputId": "afd715a1-676b-4aa3-e41e-49243f454655"
      },
      "execution_count": 4,
      "outputs": [
        {
          "output_type": "stream",
          "name": "stdout",
          "text": [
            "[0, 1, 5, 7, 9, 10, 14]\n",
            "7\n"
          ]
        }
      ]
    },
    {
      "cell_type": "markdown",
      "source": [
        "#### Mode"
      ],
      "metadata": {
        "id": "iAmqNX5IgPms"
      }
    },
    {
      "cell_type": "code",
      "source": [
        "# Example 3-5. Calculating the mode\n",
        "from collections import defaultdict\n",
        "\n",
        "sample = [1, 3, 2, 5, 7, 0, 2, 3]\n",
        "\n",
        "def mode(values):\n",
        "  counts = defaultdict(lambda: 0)\n",
        "\n",
        "  for s in values:\n",
        "    counts[s] += 1\n",
        "  \n",
        "  max_count = max(counts.values())\n",
        "  modes = [v for v in set(values) if counts[v] == max_count]\n",
        "\n",
        "  return modes\n",
        "\n",
        "print(mode(sample))"
      ],
      "metadata": {
        "colab": {
          "base_uri": "https://localhost:8080/"
        },
        "id": "-iD8OxlJfqn1",
        "outputId": "d661aa92-44ba-435a-dfcb-67606200c64a"
      },
      "execution_count": 5,
      "outputs": [
        {
          "output_type": "stream",
          "name": "stdout",
          "text": [
            "[2, 3]\n"
          ]
        }
      ]
    },
    {
      "cell_type": "markdown",
      "source": [
        "#### Variance and Standard Deviation"
      ],
      "metadata": {
        "id": "tbWan5h3hBBB"
      }
    },
    {
      "cell_type": "code",
      "source": [
        "# Example 3-6: Calculating variance\n",
        "\n",
        "data = [0, 1, 5, 7, 9, 10, 14]\n",
        "\n",
        "def variance(values):\n",
        "  mean = sum(values) / len(values)\n",
        "  _variance = sum((v - mean) ** 2 for v in values) / len(values)\n",
        "  return _variance\n",
        "\n",
        "print(variance(data))"
      ],
      "metadata": {
        "colab": {
          "base_uri": "https://localhost:8080/"
        },
        "id": "2I80jbDpg0jx",
        "outputId": "ec160cca-a31a-485f-916f-61b8cf132c5a"
      },
      "execution_count": 6,
      "outputs": [
        {
          "output_type": "stream",
          "name": "stdout",
          "text": [
            "21.387755102040813\n"
          ]
        }
      ]
    },
    {
      "cell_type": "code",
      "source": [
        "# Example 3-7. Calculating standard deviation\n",
        "from math import sqrt\n",
        "\n",
        "data = [0, 1, 5, 7, 9, 10, 14]\n",
        "\n",
        "def variance(values):\n",
        "  mean = sum(values) / len(values)\n",
        "  _variance = sum((v - mean) ** 2 for v in values) / len(values)\n",
        "  return _variance\n",
        "\n",
        "def std_dev(values):\n",
        "  return sqrt(variance(values))\n",
        "\n",
        "print(std_dev(data))"
      ],
      "metadata": {
        "colab": {
          "base_uri": "https://localhost:8080/"
        },
        "id": "7pamHvVHjA0d",
        "outputId": "c1a376e3-67f4-49d7-ba96-1a7157bdd86e"
      },
      "execution_count": 7,
      "outputs": [
        {
          "output_type": "stream",
          "name": "stdout",
          "text": [
            "4.624689730353898\n"
          ]
        }
      ]
    },
    {
      "cell_type": "markdown",
      "source": [
        "##### Sample Variance and Standard Deviation"
      ],
      "metadata": {
        "id": "dmqw2XoQjvrE"
      }
    },
    {
      "cell_type": "code",
      "source": [
        "# Example 3-8. Calculating standard deviation for a sample\n",
        "from math import sqrt\n",
        "\n",
        "data = [0, 1, 5, 7, 9, 10, 14]\n",
        "\n",
        "def variance(values, is_sample: bool = False):\n",
        "  mean = sum(values) / len(values)\n",
        "  _variance = sum((v - mean) ** 2 for v in values) / (len(values) - (1 if is_sample else 0))\n",
        "  \n",
        "  return _variance\n",
        "\n",
        "def std_dev(values, is_sample: bool = False):\n",
        "  return sqrt(variance(values, is_sample))\n",
        "\n",
        "print(f\"Variance = {variance(data, True)}\")\n",
        "print(f\"Standard Deviation = {std_dev(data, True)}\")"
      ],
      "metadata": {
        "colab": {
          "base_uri": "https://localhost:8080/"
        },
        "id": "vArR_6i7jksU",
        "outputId": "7dcd49a9-b7f7-4e0c-8c64-fac8ab8e1952"
      },
      "execution_count": 8,
      "outputs": [
        {
          "output_type": "stream",
          "name": "stdout",
          "text": [
            "Variance = 24.95238095238095\n",
            "Standard Deviation = 4.99523582550223\n"
          ]
        }
      ]
    },
    {
      "cell_type": "markdown",
      "source": [
        "##### Probability Density Function"
      ],
      "metadata": {
        "id": "rxA3cvewX04h"
      }
    },
    {
      "cell_type": "code",
      "source": [
        "# Example 3-9 The normal distribution PDF\n",
        "import math\n",
        "def normal_pdf(x: float, mean: float, std_dev: float):\n",
        "  return (1.0 / (2.0* math.pi * std_dev ** 2) ** 0.5) * math.exp(-1.0 * ((x - mean) ** 2 / (2.0 * std_dev ** 2)))\n",
        "\n",
        "normal_pdf(6.0, 3.0, 1.0)"
      ],
      "metadata": {
        "colab": {
          "base_uri": "https://localhost:8080/"
        },
        "id": "FkxoOJj6ktWr",
        "outputId": "b1a1fc5c-f636-40ee-95a3-59f5a162512a"
      },
      "execution_count": 9,
      "outputs": [
        {
          "output_type": "execute_result",
          "data": {
            "text/plain": [
              "0.0044318484119380075"
            ]
          },
          "metadata": {},
          "execution_count": 9
        }
      ]
    },
    {
      "cell_type": "markdown",
      "source": [
        "##### Cumulative Density Function"
      ],
      "metadata": {
        "id": "UEDLMUZBY8Ur"
      }
    },
    {
      "cell_type": "code",
      "source": [
        "# Example 3-10. The normal distribution CDF\n",
        "from scipy.stats import norm\n",
        "\n",
        "mean = 64.43\n",
        "sdev = 2.99\n",
        "\n",
        "x = norm.cdf(64.43, mean, sdev)\n",
        "\n",
        "print(x)"
      ],
      "metadata": {
        "colab": {
          "base_uri": "https://localhost:8080/"
        },
        "id": "Ub8Bll00YkKz",
        "outputId": "9bf22fab-9b5d-45e8-b97d-0e3746f5c061"
      },
      "execution_count": 10,
      "outputs": [
        {
          "output_type": "stream",
          "name": "stdout",
          "text": [
            "0.5\n"
          ]
        }
      ]
    },
    {
      "cell_type": "code",
      "source": [
        "# Example 3-11. Getting a middle range probability using the CDF\n",
        "from scipy.stats import norm\n",
        "\n",
        "mean = 64.43\n",
        "sdev = 2.99\n",
        "\n",
        "x = norm.cdf(66, mean, sdev) - norm.cdf(62, mean, sdev)\n",
        "\n",
        "print(x)"
      ],
      "metadata": {
        "colab": {
          "base_uri": "https://localhost:8080/"
        },
        "id": "MgUANq1NZUK6",
        "outputId": "3146c15d-7edd-474e-8802-3f46f42956b8"
      },
      "execution_count": 11,
      "outputs": [
        {
          "output_type": "stream",
          "name": "stdout",
          "text": [
            "0.4920450147062894\n"
          ]
        }
      ]
    },
    {
      "cell_type": "markdown",
      "source": [
        "#### The Inverse CDF"
      ],
      "metadata": {
        "id": "qKFR4eR1Z3Yf"
      }
    },
    {
      "cell_type": "code",
      "source": [
        "# Example 3-12. Using the inverse CDF\n",
        "from scipy.stats import norm\n",
        "\n",
        "x = norm.ppf(.95, loc = 64.43, scale = 2.99)\n",
        "\n",
        "print(x)"
      ],
      "metadata": {
        "id": "ZPB2AQTFZxIl",
        "colab": {
          "base_uri": "https://localhost:8080/"
        },
        "outputId": "0cb91e35-66d2-4bdd-ce2c-99488836547e"
      },
      "execution_count": 12,
      "outputs": [
        {
          "output_type": "stream",
          "name": "stdout",
          "text": [
            "69.3481123445849\n"
          ]
        }
      ]
    },
    {
      "cell_type": "code",
      "source": [
        "# Example 3-13. Generating random numbers from a normal distribution\n",
        "import random\n",
        "import matplotlib.pyplot as plt\n",
        "\n",
        "x = []\n",
        "\n",
        "for i in range(0, 1000):\n",
        "  random_p = random.uniform(0.0, 1.0)\n",
        "  random_weight = norm.ppf(random_p, loc = 64.43, scale = 2.99)\n",
        "  x.append(random_weight)\n",
        "\n",
        "plt.hist(x, bins = 50)"
      ],
      "metadata": {
        "colab": {
          "base_uri": "https://localhost:8080/",
          "height": 555
        },
        "id": "uPlBuFw50kxV",
        "outputId": "ab52f848-115c-4f0a-bcd4-ebec2897364d"
      },
      "execution_count": 13,
      "outputs": [
        {
          "output_type": "execute_result",
          "data": {
            "text/plain": [
              "(array([ 1.,  0.,  0.,  0.,  0.,  0.,  1.,  1.,  4.,  0.,  2.,  2.,  4.,\n",
              "        12.,  8., 12., 21., 17., 26., 32., 37., 37., 42., 43., 54., 48.,\n",
              "        58., 47., 60., 66., 50., 39., 41., 40., 46., 25., 23., 20., 18.,\n",
              "        15.,  8.,  9.,  6.,  7.,  6.,  5.,  2.,  0.,  1.,  4.]),\n",
              " array([52.6934517 , 53.11539053, 53.53732935, 53.95926817, 54.381207  ,\n",
              "        54.80314582, 55.22508465, 55.64702347, 56.0689623 , 56.49090112,\n",
              "        56.91283995, 57.33477877, 57.7567176 , 58.17865642, 58.60059524,\n",
              "        59.02253407, 59.44447289, 59.86641172, 60.28835054, 60.71028937,\n",
              "        61.13222819, 61.55416702, 61.97610584, 62.39804466, 62.81998349,\n",
              "        63.24192231, 63.66386114, 64.08579996, 64.50773879, 64.92967761,\n",
              "        65.35161644, 65.77355526, 66.19549408, 66.61743291, 67.03937173,\n",
              "        67.46131056, 67.88324938, 68.30518821, 68.72712703, 69.14906586,\n",
              "        69.57100468, 69.99294351, 70.41488233, 70.83682115, 71.25875998,\n",
              "        71.6806988 , 72.10263763, 72.52457645, 72.94651528, 73.3684541 ,\n",
              "        73.79039293]),\n",
              " <a list of 50 Patch objects>)"
            ]
          },
          "metadata": {},
          "execution_count": 13
        },
        {
          "output_type": "display_data",
          "data": {
            "text/plain": [
              "<Figure size 432x288 with 1 Axes>"
            ],
            "image/png": "[encoded data removed]"
          },
          "metadata": {
            "needs_background": "light"
          }
        }
      ]
    },
    {
      "cell_type": "markdown",
      "source": [
        "#### Z-scores"
      ],
      "metadata": {
        "id": "1sSkrVvb6sCh"
      }
    },
    {
      "cell_type": "code",
      "source": [
        "# Example 3-14. TUrn Z-scores into x-values and vice versa\n",
        "\n",
        "def z_score(x, mean, std):\n",
        "  return (x - mean) / std\n",
        "\n",
        "def z_to_x(z, mean, std):\n",
        "  return (z * std) + mean\n",
        "\n",
        "mean = 140000\n",
        "std_dev = 3000\n",
        "x = 150000\n",
        "\n",
        "# Convert to Z-score then back to X\n",
        "z = z_score(x, mean, std_dev)\n",
        "back_to_x = z_to_x(z, mean, std_dev)\n",
        "\n",
        "print(f\"Z-score: {z}\")\n",
        "print(f\"Back to X: {back_to_x}\")"
      ],
      "metadata": {
        "colab": {
          "base_uri": "https://localhost:8080/"
        },
        "id": "jXr-DwIh05c5",
        "outputId": "44a2f4ef-937a-4273-98b5-161046e13059"
      },
      "execution_count": 15,
      "outputs": [
        {
          "output_type": "stream",
          "name": "stdout",
          "text": [
            "Z-score: 3.3333333333333335\n",
            "Back to X: 150000.0\n"
          ]
        }
      ]
    },
    {
      "cell_type": "markdown",
      "source": [
        "### Inferential Statistics"
      ],
      "metadata": {
        "id": "RvNZ-AlH7puW"
      }
    },
    {
      "cell_type": "markdown",
      "source": [
        "#### The Central Limit Theorem"
      ],
      "metadata": {
        "id": "uHTSPRlP7wQr"
      }
    },
    {
      "cell_type": "code",
      "source": [
        "# Example 3-15. Exploring the central limit theorem\n",
        "# Samples of the uniform distribution will average out to a normal distribution\n",
        "import random\n",
        "import plotly.express as px\n",
        "\n",
        "sample_size = 300\n",
        "sample_count = 1000\n",
        "\n",
        "# Central limit theorem, 1000 samples each with 31 random numbers in [0.0, 1.0]\n",
        "x_values = [(sum([random.uniform(0.0, 1.0) for i in range(sample_size)]) / \\\n",
        "                 sample_size) \\\n",
        "             for _ in range(sample_count)]\n",
        "\n",
        "y_values = [1 for _ in range(sample_count)]\n",
        "\n",
        "px.histogram(x = x_values, y = y_values, nbins = 20).show()"
      ],
      "metadata": {
        "colab": {
          "base_uri": "https://localhost:8080/",
          "height": 542
        },
        "id": "t_aZnlyI7ykC",
        "outputId": "7f97a123-4334-4665-8a1d-365294dded44"
      },
      "execution_count": 17,
      "outputs": [
        {
          "output_type": "display_data",
          "data": {
            "text/html": [
              "<html>\n",
              "<head><meta charset=\"utf-8\" /></head>\n",
              "<body>\n",
              "    <div>            <script src=\"https://cdnjs.cloudflare.com/ajax/libs/mathjax/2.7.5/MathJax.js?config=TeX-AMS-MML_SVG\"></script><script type=\"text/javascript\">if (window.MathJax) {MathJax.Hub.Config({SVG: {font: \"STIX-Web\"}});}</script>                <script type=\"text/javascript\">window.PlotlyConfig = {MathJaxConfig: 'local'};</script>\n",
              "        <script src=\"https://cdn.plot.ly/plotly-2.8.3.min.js\"></script>                <div id=\"3155dfe9-933c-4d52-900c-0a080b9b7ed9\" class=\"plotly-graph-div\" style=\"height:525px; width:100%;\"></div>            <script type=\"text/javascript\">                                    window.PLOTLYENV=window.PLOTLYENV || {};                                    if (document.getElementById(\"3155dfe9-933c-4d52-900c-0a080b9b7ed9\")) {                    Plotly.newPlot(                        \"3155dfe9-933c-4d52-900c-0a080b9b7ed9\",                        [{\"alignmentgroup\":\"True\",\"bingroup\":\"x\",\"histfunc\":\"sum\",\"hovertemplate\":\"x=%{x}<br>sum of y=%{y}<extra></extra>\",\"legendgroup\":\"\",\"marker\":{\"color\":\"#636efa\",\"pattern\":{\"shape\":\"\"}},\"name\":\"\",\"nbinsx\":20,\"offsetgroup\":\"\",\"orientation\":\"v\",\"showlegend\":false,\"x\":[0.4947483008400453,0.486000533016075,0.493447741426066,0.5037194897203598,0.48998960708101613,0.4772859145489765,0.48686306358505904,0.49050619421952146,0.48355773522659073,0.46588143731095044,0.46903231815662705,0.47388500899327407,0.5063368026606138,0.48574127141865214,0.5192817830506474,0.502858166573242,0.4962519979897925,0.5197803277465862,0.4877725353394618,0.5323867305706583,0.4688196753814783,0.5124116315425402,0.4971439704772663,0.49354722673894136,0.4902929922034148,0.4876720234417053,0.47880317423562035,0.4803684623739056,0.4945528389144134,0.49167494657967475,0.4961505596882462,0.49157813505686687,0.5020517171537066,0.5259767419226422,0.5267731306421514,0.5016917992491369,0.4648175986952658,0.47636580917055626,0.4920732836540183,0.5184028832309884,0.48293575705547437,0.48581311159747076,0.4880985197299987,0.49148007836452184,0.4880113197790778,0.4850132462443201,0.4699790081803442,0.5246202625036359,0.5254354182089715,0.47335566894654374,0.49435473289562,0.4960392064793377,0.4957441940028853,0.47352763720027125,0.5136670624508174,0.5001949335996945,0.5108798105074698,0.5154755648967446,0.5067128620661485,0.49106552962442596,0.5133004585947151,0.48799326758506933,0.518385447713495,0.4855626712143221,0.5137102406511546,0.46529452482055905,0.4878879404217174,0.4980224079909701,0.4869906534154827,0.458886566093281,0.48706064794595705,0.5274553464084933,0.5360244395320826,0.4942875324763792,0.5137965813702329,0.49538020583225867,0.5442602673999537,0.529219928226238,0.47745940731651104,0.49616096445475555,0.5236877181498284,0.5309003711666893,0.48406461828912983,0.5126381942259122,0.4790130662944331,0.5449143055928377,0.4937555828031168,0.5160028797615299,0.4907462899090671,0.5079946514620711,0.5334089155092673,0.4807227324359735,0.5020016450785695,0.4735502890806807,0.4933537282272427,0.4805522874835019,0.5262759824866426,0.4911481385434514,0.5226512558076688,0.487622132646194,0.5129616140250457,0.4866839992640295,0.5066380351362525,0.4923363207477781,0.4853510008344833,0.49614245065466905,0.5020212215753764,0.5268100661627682,0.5261154096702013,0.49510923314579314,0.4976013072332697,0.5098368591378739,0.4974370085612019,0.5217392900061518,0.4825739495380805,0.48903468319525056,0.5064686397680255,0.4971311177069875,0.5017557729342447,0.5140776165131251,0.4966065454513558,0.5056140880730027,0.48414368581775497,0.5063791246857519,0.4954793974608459,0.4967966639577577,0.4955107371196621,0.515015781529019,0.5235031404402981,0.5036592346657278,0.5176920161468231,0.5028688471150385,0.49702595219544604,0.48073518835057133,0.4794866888203833,0.49464543659288374,0.4646760817846276,0.5161246131369925,0.5146033256355632,0.4801684205322249,0.5171782500470898,0.5192434234677709,0.5001985656790906,0.4987548196516063,0.5211378895147007,0.4979080049976606,0.48516814060220903,0.49665265356657345,0.49779800062212576,0.5106519201816238,0.49042694863612385,0.521636543581515,0.5015194193349075,0.499148215759439,0.4583874438409635,0.5033193402913999,0.5062514207112759,0.5118097865007912,0.49913564322535403,0.48499876033929346,0.48254101076332984,0.4858371945191401,0.4905800855036528,0.5071975663435853,0.5184350540635976,0.5457616549030027,0.5034301110152211,0.4976046896343948,0.5153658283331687,0.47570632459851026,0.5106624098552469,0.48656323855673955,0.5011858973392945,0.47147520403775267,0.5054318853548054,0.5103544498006418,0.49738493399367467,0.510707188308904,0.4785841631356085,0.5113933505779701,0.5038574278965705,0.5004008368811903,0.5166848701443917,0.5026828385839174,0.5081411012493312,0.5192969156099262,0.485996121728119,0.5066349195627168,0.5056806195052118,0.5039706018970276,0.4877730171659398,0.4585598900368364,0.4784351842013327,0.5203442242862848,0.5379192971288987,0.5168565473854188,0.4785193813967133,0.49137616744574547,0.5206833735664155,0.5055136582125223,0.504718783520507,0.4823021062905793,0.5177469260877356,0.49060421625920003,0.5120243443462457,0.5007254863397455,0.5218388391507127,0.49696952217201795,0.49778151688213823,0.5016847813109948,0.5088961607752138,0.5025387387865263,0.5054859449720849,0.5053063099149893,0.48963194716211866,0.48900326446929965,0.5138235741563743,0.4810964616686342,0.49693918254910197,0.5102594457894268,0.5258258635937502,0.5007629694991144,0.5216558429551075,0.4988883233896838,0.5536436656494484,0.47854377782403273,0.4715714094370683,0.4827202239564224,0.5187117703838967,0.5012917313644261,0.5008557402108221,0.5008068191263629,0.5025939338348732,0.49455723075124247,0.5146837630078577,0.5136155217029942,0.5025037084709789,0.4855669154778644,0.5498204486778704,0.5076632747305663,0.5083536069701492,0.5136141668678356,0.4797909255934765,0.48491773211702044,0.5163790666426206,0.4928197669979415,0.49986064500706323,0.5077407545222916,0.5121417628379795,0.5216956429433293,0.5121993078902215,0.5127806224418865,0.4842196303118427,0.5345828684098473,0.4995918100784961,0.4874455035513481,0.48944480257281936,0.49918045569651365,0.4913706309462357,0.5002658198524261,0.5264471944377211,0.5397218381793341,0.4899647627345524,0.47327133878977423,0.501143670767744,0.4986308592684582,0.4858680420611924,0.47776504771936884,0.5060454480712128,0.4854141106405956,0.5160057483556822,0.5009030186435964,0.5131644172673708,0.5019408330456889,0.4743578311757144,0.5095904647524959,0.5250437330366853,0.5106375445252056,0.4956269740947867,0.4824100469219752,0.46068882591733123,0.4899409530849266,0.4990355652947692,0.47298359984920607,0.49877513256307576,0.5124903334873544,0.5015881785327528,0.5081642241269858,0.47081385291122096,0.4770915768140283,0.4929976733967454,0.49794021336975275,0.47255961621215675,0.5147532994905769,0.5162906925740285,0.5237285056070868,0.4840191545518697,0.5166185989584843,0.4880595738765504,0.4934975324781139,0.49341464749743486,0.5095192856839783,0.5011678288329414,0.507043091840483,0.48863568307534555,0.5095341515943415,0.4950066675967276,0.4843771638192381,0.4992488792265505,0.5183380478128775,0.5214145090827691,0.5033142791093222,0.4654350686908675,0.47728390227171674,0.5365780485207798,0.4934039844173959,0.504803741496684,0.5097556237555513,0.5024654266166383,0.547325354206476,0.4883909267069595,0.48249087810625335,0.5064156340005772,0.4980410479777859,0.5145183566001551,0.4909526064045596,0.5034219458735146,0.5033137086756144,0.5039504996097066,0.49091868083877005,0.5142855727656187,0.5104849072857088,0.5023469168152759,0.5094624491056714,0.5146332351750315,0.4912185826562498,0.47640864547730255,0.47529778919516746,0.48457457432458656,0.4639260544474997,0.5323986943107963,0.5010480862913063,0.49438420564578756,0.5190681665910346,0.5059023963173573,0.539445648185018,0.49067533602089686,0.5177664236557078,0.5074255526695801,0.47062209705309965,0.49508408332176673,0.5088224878230473,0.5075557093493818,0.5032935453257644,0.5010814305175167,0.4926070967051267,0.4862498376101462,0.48183852311003733,0.5136769714194641,0.49299621698413515,0.5096520910948791,0.4956077028226197,0.5440573018897126,0.4770497209959548,0.4936376111497997,0.5124999725933272,0.4838828793419695,0.5363326832995916,0.5042371123443569,0.49753141157010494,0.5066280735643875,0.47829193006420184,0.5170711532047972,0.4833768559674445,0.5052329790743929,0.5084642176440094,0.5075603294140811,0.4992815177666015,0.507544129212194,0.4736086965037512,0.5112555756341184,0.5339717617808473,0.5253415751679716,0.49651284156353415,0.5132441412878245,0.49910651809630396,0.4861448559200922,0.4899540212005982,0.4823059220997977,0.5109747208894272,0.5103266052617038,0.4883466080519557,0.4838064678966323,0.4604629233076114,0.5306539007051473,0.47800629064705713,0.49374494548451914,0.4780097027795322,0.48015112818938266,0.4883169321187854,0.5036375895907962,0.4852984794203758,0.5001849475884032,0.47634373860741336,0.48167393614225706,0.5069269179979224,0.48460792978449224,0.5187393131510415,0.5096975073149784,0.5223095154784574,0.48660335425977574,0.49012140619290734,0.4861670577732567,0.4906959498684088,0.4925252312998788,0.4869124624776406,0.49244486660154946,0.5038928888608626,0.5203898743939103,0.49339898119292136,0.4743976625502203,0.48614264178728406,0.47270037048912306,0.5141605027684732,0.512932742133991,0.5008480110012273,0.5144297268649503,0.48173106879915734,0.5170090976758263,0.5002957728141987,0.5081024068690627,0.5081830690598201,0.49733903093979764,0.5245166624036254,0.5125710240485627,0.4869093763313008,0.504284028343009,0.4860805525350731,0.4858975369676848,0.4769596867925345,0.5095463839579941,0.49010214130524227,0.5178385648936177,0.49659620857388065,0.4795922686706362,0.521443625429897,0.4807842936048968,0.5152318177907227,0.5044746393700229,0.5076280808034049,0.5135068416550147,0.49170213962292386,0.4684029311780931,0.4881752901366597,0.5018309071198632,0.5343690079612983,0.4974472713151085,0.48659311002651007,0.5431377997538034,0.48966751705614797,0.4834161388013241,0.502947276092231,0.49145756560468234,0.5235830165885621,0.49277739739544424,0.4882911020501314,0.497453331925607,0.5250209026931045,0.5178239544281067,0.4917835076068334,0.46285497366329953,0.526093139300863,0.4970724049405543,0.5334723811014692,0.48395934379175204,0.49946783665643174,0.49431449787840764,0.5067595070875776,0.4779354514142367,0.49198701394566663,0.5139901530618778,0.5131586155704128,0.490217861312113,0.48565049708051977,0.5167433649286317,0.4884979036882883,0.4870773713049949,0.4832874364282364,0.4755548701386479,0.49733840564218107,0.5388394698532583,0.5113215094407908,0.47939191689483723,0.5106006101193218,0.5041104707904466,0.48119198772932187,0.48572375404242946,0.47713626694017686,0.5243200685687475,0.5134021069108875,0.5109206329542333,0.5046609870253274,0.5125186213968839,0.487728757144334,0.5000217632963704,0.4998147082979018,0.4827017131991899,0.5118656277721515,0.48733027523409345,0.4900931727176271,0.5121947123413559,0.5038498516916052,0.4988272513024495,0.5077817074598713,0.4807763948431951,0.498122959098042,0.5109620099875805,0.4957201474873517,0.48397464279294977,0.5244707477226617,0.4654323102413368,0.5107136007469116,0.4946484388387405,0.4707742105579026,0.484569128625675,0.524503053441988,0.4766463400368311,0.4999859443025832,0.533281140352703,0.4898316926155663,0.518470185196096,0.4870232996764939,0.5115433462444802,0.4909326213632003,0.5004333340526013,0.4971738465133276,0.4700663687793763,0.47859649943429666,0.5173843683162505,0.5065748095280903,0.5097362776992197,0.4870077483480359,0.48333632192429943,0.5158242808305076,0.5028647420444549,0.49726185153984487,0.5245812604341636,0.5134506038202852,0.5299866105587311,0.49805021817011125,0.49652763564821045,0.49150364023167603,0.5209583341541777,0.49214340152203884,0.49237923040090464,0.49540311558611383,0.5170072221143436,0.4901206748011903,0.508046713966717,0.5082363030936918,0.5023688672373637,0.5011498837835475,0.5211847381583379,0.46589233975934186,0.5032769087009673,0.48227610745009797,0.5022921043000194,0.5117929700463791,0.48595568826831337,0.5075454263941813,0.5141939923127198,0.5121370452411905,0.5037366146961154,0.504791431200319,0.5028804180948253,0.4826595471023013,0.5219747249144056,0.48054488466464457,0.512605878643967,0.5219646289344199,0.525170365063923,0.5153499210643363,0.5126820128971381,0.5427492260064178,0.512227677866974,0.5063206826421784,0.4987812365753166,0.5054938160622967,0.5347947682511013,0.516126901057949,0.5106997206886332,0.5050310247248184,0.5213804296730745,0.5170262694669058,0.49319234419110025,0.5271819557660621,0.48244771767409844,0.49382710920109324,0.5054994372969537,0.5089063708323536,0.5069160887370069,0.481451905933313,0.5206692742370955,0.4966154801892471,0.49186498329770356,0.52121565093153,0.5246330013849716,0.4880196831362041,0.48827472669274735,0.5356476906534551,0.48749596363879355,0.48040513129592,0.5065892955449799,0.5136572003668488,0.44602406806000033,0.5179539524350765,0.48779687594191284,0.48833941059338837,0.536317090357727,0.5114603383313772,0.5153129752188174,0.5247414581077146,0.49300188833102065,0.5170824491041592,0.5098939212389378,0.5092254503152887,0.5015145493955021,0.5391512439310785,0.511308117377229,0.47960453857320745,0.4747517891931765,0.5089684575857334,0.5150904570687799,0.4881911762945031,0.4885793497221629,0.49932692930712724,0.49082867676700564,0.4631244673783699,0.4790918129202955,0.49642594617525637,0.4898340248692592,0.4661287277754159,0.498993600223469,0.5052557918715682,0.502425389748469,0.5272705764940117,0.4689882407618117,0.47864347801883156,0.4836940199386046,0.5240118948880468,0.5395148331047606,0.5062928034187818,0.5039976135017615,0.48761560535597975,0.5013506776609513,0.5066713402591774,0.5055194360150851,0.5305072693991487,0.4842303139030398,0.4958156211595147,0.49974604732944716,0.48654763851905625,0.4815902067325247,0.4687076608770757,0.44790957484894167,0.4843962374657188,0.49794980947468803,0.5077889216504161,0.48138960949054055,0.5199561113829531,0.5136757433618591,0.5080106225647765,0.4833635172962869,0.4802573182033009,0.5109884127622286,0.5345566803035199,0.5170798764179254,0.5101523181187613,0.4839818800089783,0.4993475516504955,0.4622366697333329,0.490479435037775,0.5031055204088087,0.48285853581262556,0.4987797792699563,0.4913766798908549,0.4963513974262677,0.49823810990604867,0.47382962092138475,0.5130388500392135,0.4764821949165659,0.5050984155282948,0.5257125366756241,0.48938682815121914,0.5109595958084394,0.5097605666988306,0.5047352451274864,0.5258415072918012,0.5225748853270428,0.486154540594588,0.5039450800807237,0.5331910839408629,0.5010284265503714,0.5200125953916473,0.5057981790543067,0.47578946646868797,0.5131376244090169,0.5019437822863921,0.4603456486210081,0.4816078669016981,0.5000956850016323,0.5138998432290796,0.49099814220399746,0.4840401542534014,0.5195322173595487,0.4821713354278817,0.5009463676239998,0.49963897255609047,0.49806826809761484,0.49681612739810826,0.5308797034050236,0.4817421049998788,0.4967630201703736,0.4927315011979391,0.4967784109374235,0.50921886658489,0.5139392307291312,0.5078677911057968,0.4958351236200065,0.49858594678584883,0.5092321231904872,0.5041066479351956,0.48583255092120986,0.499822107991664,0.4795028778000279,0.4902529114666706,0.49893669785400657,0.491052433128646,0.5123487437329329,0.5217626172838212,0.5207210544560886,0.4915773327954802,0.4772244554202385,0.4797794094668938,0.5190916580629097,0.48930105581547867,0.4838935845761016,0.5347522600260417,0.485241167837305,0.504876891837458,0.5146806159847483,0.5176444033173704,0.4934090263439238,0.5031499783055129,0.4915974461945321,0.47311319913639116,0.5039229061010585,0.5037647934987575,0.5042501937979854,0.535582946585549,0.5099112325940882,0.518257409874352,0.4764953337665453,0.4978125844163036,0.49537171031414357,0.48424697958967766,0.5001186702855734,0.48220019290638033,0.5167333449346727,0.49717866362947233,0.5066675439397403,0.5026024569725484,0.49964456964970777,0.4620268017391863,0.4962154128269752,0.4936704243512875,0.48963338726827954,0.4678823405649474,0.5182739785653244,0.47574399455345684,0.495515686165545,0.5128175906639235,0.49581835419809656,0.504294539630209,0.496602843849417,0.49400422733921306,0.4851653220648346,0.4884528964262148,0.5145747839669527,0.5183312579273531,0.4781522856372936,0.48536515496463833,0.5667019574410793,0.49318269132702963,0.5190855724517486,0.48743656888668063,0.4845924902227975,0.5199263249272961,0.48658576137362936,0.4973554455759713,0.5116658309422802,0.49645983575209907,0.519198991101668,0.5085587826856562,0.5133751105930793,0.5179519316152635,0.4824116110050603,0.5123024806964206,0.48165110344803025,0.510264761236905,0.4953613640048533,0.5008544020343295,0.5087663765120203,0.5162420450976853,0.5007993383638378,0.5265525977755039,0.5018057597244607,0.4925778949407892,0.5057113025340935,0.5088547735033638,0.46926418349261545,0.5153574894689229,0.5004998052896551,0.4836712251763181,0.48777059594129035,0.4882653816222084,0.5003032634830522,0.5128113895606424,0.48666362385117634,0.5120457057833405,0.5089447859013563,0.48233331908349014,0.5188400311202026,0.5177773788925042,0.4723965621634475,0.4890552613435916,0.4921239906795331,0.4908607581257068,0.5211115169563199,0.4821702305691229,0.5292464116960666,0.5083686150847245,0.503937177367486,0.48681293314568175,0.49712865325394373,0.4877926032761112,0.4657667545449508,0.5047258659411722,0.4876238641225288,0.4909608806428244,0.5145959904078108,0.5134488724080475,0.4823756195146197,0.4850950516479789,0.5099751517497595,0.516937203774188,0.49175205375504316,0.5089313006122321,0.4769119605950954,0.4782037742500045,0.5072459118478143,0.5066099098320767,0.5271761386595029,0.5130296809374651,0.5084316783013777,0.5139377675939764,0.4944356307352474,0.5012411126320334,0.4902641070440173,0.4656200284201165,0.48043750217570674,0.5024041517407033,0.5049824294486468,0.5104150661114466,0.5234654513530399,0.5047988719891058,0.5213187233595941,0.48305527928715747,0.5367300603860745,0.5177559864737608,0.5221381358352187,0.5169717994415518,0.4719600654808938,0.5104229510713271,0.5121673395584891,0.49551121387525576,0.5100699690011288,0.5087331272521302,0.46149386413523247,0.47733949859819175,0.4979749527310368,0.5095873343936428,0.48337395089647583,0.5137839207942148,0.5182609298178004,0.5182693626651079,0.5227997064072046,0.5006054460810476,0.5312161513741646,0.4810837016340471,0.5095753094837873,0.4978113726793063,0.4874558821952319,0.5222919377556049,0.512777081036728,0.5245352864316682,0.500605564471748,0.5189540506844712,0.50964683279593,0.47910977386521675,0.4517177381431323,0.5169619726012399,0.501949017848768,0.4996295527247825,0.5138915764078024,0.4907515779371929,0.4767236780711079,0.47929153014921333,0.48930431719325557,0.4911168547855475,0.49880614775280774,0.49112301160942345,0.5222020678839108,0.5210793432728008,0.48690035305896867,0.5063567736757797,0.47464662993070666,0.4868681560119562,0.4924265464673933,0.45414714656157457,0.4828902590841487,0.5130982261022926,0.504334707550325,0.5025229987548869,0.5180087900802043,0.504321365766319,0.4608471812126709,0.5215851598409468,0.5296554939744291,0.48613101084409804,0.5107328671069212,0.5139573661135369,0.5096846024568766,0.4874222220624981,0.507028421822483,0.5312662130518216,0.5116306897748181,0.5100663218831798,0.5058820830233408,0.5187532473236385,0.5112920660712791,0.5209660007135416,0.47329012437962587,0.4943371017986685,0.5182749440814293,0.530553389867185,0.5159508448622528,0.5037400453764264,0.5003505291544843,0.47090598925975785,0.5005213113528388,0.5101144811805487,0.48776069877186234,0.5246979162760331,0.4950698877224943,0.4767319841486012,0.48465326901045586,0.5000879531789141,0.4787718509152492,0.4899007313881137,0.4801648313504774,0.4828927806217455,0.48934517754580137,0.5061670889209258,0.49752249800788595,0.4935843779232748,0.5350893953238056,0.5146504298822214,0.48818633519250104,0.47389868902348514,0.515089099452203,0.5126299411318804,0.49762298263453364,0.47047114326111333,0.5322836429970966,0.5308771201984336,0.5107019789101507,0.4935812943159281,0.5043924581299145,0.4889378402581044,0.4954942944794275,0.5216230917410365,0.5310647739375205,0.5181496550720266,0.47733549449129065,0.4901620262491961,0.5336168172482926,0.5101941489548895,0.5193549621395694,0.48318273861992445],\"xaxis\":\"x\",\"y\":[1,1,1,1,1,1,1,1,1,1,1,1,1,1,1,1,1,1,1,1,1,1,1,1,1,1,1,1,1,1,1,1,1,1,1,1,1,1,1,1,1,1,1,1,1,1,1,1,1,1,1,1,1,1,1,1,1,1,1,1,1,1,1,1,1,1,1,1,1,1,1,1,1,1,1,1,1,1,1,1,1,1,1,1,1,1,1,1,1,1,1,1,1,1,1,1,1,1,1,1,1,1,1,1,1,1,1,1,1,1,1,1,1,1,1,1,1,1,1,1,1,1,1,1,1,1,1,1,1,1,1,1,1,1,1,1,1,1,1,1,1,1,1,1,1,1,1,1,1,1,1,1,1,1,1,1,1,1,1,1,1,1,1,1,1,1,1,1,1,1,1,1,1,1,1,1,1,1,1,1,1,1,1,1,1,1,1,1,1,1,1,1,1,1,1,1,1,1,1,1,1,1,1,1,1,1,1,1,1,1,1,1,1,1,1,1,1,1,1,1,1,1,1,1,1,1,1,1,1,1,1,1,1,1,1,1,1,1,1,1,1,1,1,1,1,1,1,1,1,1,1,1,1,1,1,1,1,1,1,1,1,1,1,1,1,1,1,1,1,1,1,1,1,1,1,1,1,1,1,1,1,1,1,1,1,1,1,1,1,1,1,1,1,1,1,1,1,1,1,1,1,1,1,1,1,1,1,1,1,1,1,1,1,1,1,1,1,1,1,1,1,1,1,1,1,1,1,1,1,1,1,1,1,1,1,1,1,1,1,1,1,1,1,1,1,1,1,1,1,1,1,1,1,1,1,1,1,1,1,1,1,1,1,1,1,1,1,1,1,1,1,1,1,1,1,1,1,1,1,1,1,1,1,1,1,1,1,1,1,1,1,1,1,1,1,1,1,1,1,1,1,1,1,1,1,1,1,1,1,1,1,1,1,1,1,1,1,1,1,1,1,1,1,1,1,1,1,1,1,1,1,1,1,1,1,1,1,1,1,1,1,1,1,1,1,1,1,1,1,1,1,1,1,1,1,1,1,1,1,1,1,1,1,1,1,1,1,1,1,1,1,1,1,1,1,1,1,1,1,1,1,1,1,1,1,1,1,1,1,1,1,1,1,1,1,1,1,1,1,1,1,1,1,1,1,1,1,1,1,1,1,1,1,1,1,1,1,1,1,1,1,1,1,1,1,1,1,1,1,1,1,1,1,1,1,1,1,1,1,1,1,1,1,1,1,1,1,1,1,1,1,1,1,1,1,1,1,1,1,1,1,1,1,1,1,1,1,1,1,1,1,1,1,1,1,1,1,1,1,1,1,1,1,1,1,1,1,1,1,1,1,1,1,1,1,1,1,1,1,1,1,1,1,1,1,1,1,1,1,1,1,1,1,1,1,1,1,1,1,1,1,1,1,1,1,1,1,1,1,1,1,1,1,1,1,1,1,1,1,1,1,1,1,1,1,1,1,1,1,1,1,1,1,1,1,1,1,1,1,1,1,1,1,1,1,1,1,1,1,1,1,1,1,1,1,1,1,1,1,1,1,1,1,1,1,1,1,1,1,1,1,1,1,1,1,1,1,1,1,1,1,1,1,1,1,1,1,1,1,1,1,1,1,1,1,1,1,1,1,1,1,1,1,1,1,1,1,1,1,1,1,1,1,1,1,1,1,1,1,1,1,1,1,1,1,1,1,1,1,1,1,1,1,1,1,1,1,1,1,1,1,1,1,1,1,1,1,1,1,1,1,1,1,1,1,1,1,1,1,1,1,1,1,1,1,1,1,1,1,1,1,1,1,1,1,1,1,1,1,1,1,1,1,1,1,1,1,1,1,1,1,1,1,1,1,1,1,1,1,1,1,1,1,1,1,1,1,1,1,1,1,1,1,1,1,1,1,1,1,1,1,1,1,1,1,1,1,1,1,1,1,1,1,1,1,1,1,1,1,1,1,1,1,1,1,1,1,1,1,1,1,1,1,1,1,1,1,1,1,1,1,1,1,1,1,1,1,1,1,1,1,1,1,1,1,1,1,1,1,1,1,1,1,1,1,1,1,1,1,1,1,1,1,1,1,1,1,1,1,1,1,1,1,1,1,1,1,1,1,1,1,1,1,1,1,1,1,1,1,1,1,1,1,1,1,1,1,1,1,1,1,1,1,1,1,1,1,1,1,1,1,1,1,1,1,1,1,1,1,1,1,1,1,1,1,1,1,1,1,1,1,1,1,1,1,1,1,1,1,1,1,1,1,1,1,1,1,1,1,1],\"yaxis\":\"y\",\"type\":\"histogram\"}],                        {\"template\":{\"data\":{\"bar\":[{\"error_x\":{\"color\":\"#2a3f5f\"},\"error_y\":{\"color\":\"#2a3f5f\"},\"marker\":{\"line\":{\"color\":\"#E5ECF6\",\"width\":0.5},\"pattern\":{\"fillmode\":\"overlay\",\"size\":10,\"solidity\":0.2}},\"type\":\"bar\"}],\"barpolar\":[{\"marker\":{\"line\":{\"color\":\"#E5ECF6\",\"width\":0.5},\"pattern\":{\"fillmode\":\"overlay\",\"size\":10,\"solidity\":0.2}},\"type\":\"barpolar\"}],\"carpet\":[{\"aaxis\":{\"endlinecolor\":\"#2a3f5f\",\"gridcolor\":\"white\",\"linecolor\":\"white\",\"minorgridcolor\":\"white\",\"startlinecolor\":\"#2a3f5f\"},\"baxis\":{\"endlinecolor\":\"#2a3f5f\",\"gridcolor\":\"white\",\"linecolor\":\"white\",\"minorgridcolor\":\"white\",\"startlinecolor\":\"#2a3f5f\"},\"type\":\"carpet\"}],\"choropleth\":[{\"colorbar\":{\"outlinewidth\":0,\"ticks\":\"\"},\"type\":\"choropleth\"}],\"contour\":[{\"colorbar\":{\"outlinewidth\":0,\"ticks\":\"\"},\"colorscale\":[[0.0,\"#0d0887\"],[0.1111111111111111,\"#46039f\"],[0.2222222222222222,\"#7201a8\"],[0.3333333333333333,\"#9c179e\"],[0.4444444444444444,\"#bd3786\"],[0.5555555555555556,\"#d8576b\"],[0.6666666666666666,\"#ed7953\"],[0.7777777777777778,\"#fb9f3a\"],[0.8888888888888888,\"#fdca26\"],[1.0,\"#f0f921\"]],\"type\":\"contour\"}],\"contourcarpet\":[{\"colorbar\":{\"outlinewidth\":0,\"ticks\":\"\"},\"type\":\"contourcarpet\"}],\"heatmap\":[{\"colorbar\":{\"outlinewidth\":0,\"ticks\":\"\"},\"colorscale\":[[0.0,\"#0d0887\"],[0.1111111111111111,\"#46039f\"],[0.2222222222222222,\"#7201a8\"],[0.3333333333333333,\"#9c179e\"],[0.4444444444444444,\"#bd3786\"],[0.5555555555555556,\"#d8576b\"],[0.6666666666666666,\"#ed7953\"],[0.7777777777777778,\"#fb9f3a\"],[0.8888888888888888,\"#fdca26\"],[1.0,\"#f0f921\"]],\"type\":\"heatmap\"}],\"heatmapgl\":[{\"colorbar\":{\"outlinewidth\":0,\"ticks\":\"\"},\"colorscale\":[[0.0,\"#0d0887\"],[0.1111111111111111,\"#46039f\"],[0.2222222222222222,\"#7201a8\"],[0.3333333333333333,\"#9c179e\"],[0.4444444444444444,\"#bd3786\"],[0.5555555555555556,\"#d8576b\"],[0.6666666666666666,\"#ed7953\"],[0.7777777777777778,\"#fb9f3a\"],[0.8888888888888888,\"#fdca26\"],[1.0,\"#f0f921\"]],\"type\":\"heatmapgl\"}],\"histogram\":[{\"marker\":{\"pattern\":{\"fillmode\":\"overlay\",\"size\":10,\"solidity\":0.2}},\"type\":\"histogram\"}],\"histogram2d\":[{\"colorbar\":{\"outlinewidth\":0,\"ticks\":\"\"},\"colorscale\":[[0.0,\"#0d0887\"],[0.1111111111111111,\"#46039f\"],[0.2222222222222222,\"#7201a8\"],[0.3333333333333333,\"#9c179e\"],[0.4444444444444444,\"#bd3786\"],[0.5555555555555556,\"#d8576b\"],[0.6666666666666666,\"#ed7953\"],[0.7777777777777778,\"#fb9f3a\"],[0.8888888888888888,\"#fdca26\"],[1.0,\"#f0f921\"]],\"type\":\"histogram2d\"}],\"histogram2dcontour\":[{\"colorbar\":{\"outlinewidth\":0,\"ticks\":\"\"},\"colorscale\":[[0.0,\"#0d0887\"],[0.1111111111111111,\"#46039f\"],[0.2222222222222222,\"#7201a8\"],[0.3333333333333333,\"#9c179e\"],[0.4444444444444444,\"#bd3786\"],[0.5555555555555556,\"#d8576b\"],[0.6666666666666666,\"#ed7953\"],[0.7777777777777778,\"#fb9f3a\"],[0.8888888888888888,\"#fdca26\"],[1.0,\"#f0f921\"]],\"type\":\"histogram2dcontour\"}],\"mesh3d\":[{\"colorbar\":{\"outlinewidth\":0,\"ticks\":\"\"},\"type\":\"mesh3d\"}],\"parcoords\":[{\"line\":{\"colorbar\":{\"outlinewidth\":0,\"ticks\":\"\"}},\"type\":\"parcoords\"}],\"pie\":[{\"automargin\":true,\"type\":\"pie\"}],\"scatter\":[{\"marker\":{\"colorbar\":{\"outlinewidth\":0,\"ticks\":\"\"}},\"type\":\"scatter\"}],\"scatter3d\":[{\"line\":{\"colorbar\":{\"outlinewidth\":0,\"ticks\":\"\"}},\"marker\":{\"colorbar\":{\"outlinewidth\":0,\"ticks\":\"\"}},\"type\":\"scatter3d\"}],\"scattercarpet\":[{\"marker\":{\"colorbar\":{\"outlinewidth\":0,\"ticks\":\"\"}},\"type\":\"scattercarpet\"}],\"scattergeo\":[{\"marker\":{\"colorbar\":{\"outlinewidth\":0,\"ticks\":\"\"}},\"type\":\"scattergeo\"}],\"scattergl\":[{\"marker\":{\"colorbar\":{\"outlinewidth\":0,\"ticks\":\"\"}},\"type\":\"scattergl\"}],\"scattermapbox\":[{\"marker\":{\"colorbar\":{\"outlinewidth\":0,\"ticks\":\"\"}},\"type\":\"scattermapbox\"}],\"scatterpolar\":[{\"marker\":{\"colorbar\":{\"outlinewidth\":0,\"ticks\":\"\"}},\"type\":\"scatterpolar\"}],\"scatterpolargl\":[{\"marker\":{\"colorbar\":{\"outlinewidth\":0,\"ticks\":\"\"}},\"type\":\"scatterpolargl\"}],\"scatterternary\":[{\"marker\":{\"colorbar\":{\"outlinewidth\":0,\"ticks\":\"\"}},\"type\":\"scatterternary\"}],\"surface\":[{\"colorbar\":{\"outlinewidth\":0,\"ticks\":\"\"},\"colorscale\":[[0.0,\"#0d0887\"],[0.1111111111111111,\"#46039f\"],[0.2222222222222222,\"#7201a8\"],[0.3333333333333333,\"#9c179e\"],[0.4444444444444444,\"#bd3786\"],[0.5555555555555556,\"#d8576b\"],[0.6666666666666666,\"#ed7953\"],[0.7777777777777778,\"#fb9f3a\"],[0.8888888888888888,\"#fdca26\"],[1.0,\"#f0f921\"]],\"type\":\"surface\"}],\"table\":[{\"cells\":{\"fill\":{\"color\":\"#EBF0F8\"},\"line\":{\"color\":\"white\"}},\"header\":{\"fill\":{\"color\":\"#C8D4E3\"},\"line\":{\"color\":\"white\"}},\"type\":\"table\"}]},\"layout\":{\"annotationdefaults\":{\"arrowcolor\":\"#2a3f5f\",\"arrowhead\":0,\"arrowwidth\":1},\"autotypenumbers\":\"strict\",\"coloraxis\":{\"colorbar\":{\"outlinewidth\":0,\"ticks\":\"\"}},\"colorscale\":{\"diverging\":[[0,\"#8e0152\"],[0.1,\"#c51b7d\"],[0.2,\"#de77ae\"],[0.3,\"#f1b6da\"],[0.4,\"#fde0ef\"],[0.5,\"#f7f7f7\"],[0.6,\"#e6f5d0\"],[0.7,\"#b8e186\"],[0.8,\"#7fbc41\"],[0.9,\"#4d9221\"],[1,\"#276419\"]],\"sequential\":[[0.0,\"#0d0887\"],[0.1111111111111111,\"#46039f\"],[0.2222222222222222,\"#7201a8\"],[0.3333333333333333,\"#9c179e\"],[0.4444444444444444,\"#bd3786\"],[0.5555555555555556,\"#d8576b\"],[0.6666666666666666,\"#ed7953\"],[0.7777777777777778,\"#fb9f3a\"],[0.8888888888888888,\"#fdca26\"],[1.0,\"#f0f921\"]],\"sequentialminus\":[[0.0,\"#0d0887\"],[0.1111111111111111,\"#46039f\"],[0.2222222222222222,\"#7201a8\"],[0.3333333333333333,\"#9c179e\"],[0.4444444444444444,\"#bd3786\"],[0.5555555555555556,\"#d8576b\"],[0.6666666666666666,\"#ed7953\"],[0.7777777777777778,\"#fb9f3a\"],[0.8888888888888888,\"#fdca26\"],[1.0,\"#f0f921\"]]},\"colorway\":[\"#636efa\",\"#EF553B\",\"#00cc96\",\"#ab63fa\",\"#FFA15A\",\"#19d3f3\",\"#FF6692\",\"#B6E880\",\"#FF97FF\",\"#FECB52\"],\"font\":{\"color\":\"#2a3f5f\"},\"geo\":{\"bgcolor\":\"white\",\"lakecolor\":\"white\",\"landcolor\":\"#E5ECF6\",\"showlakes\":true,\"showland\":true,\"subunitcolor\":\"white\"},\"hoverlabel\":{\"align\":\"left\"},\"hovermode\":\"closest\",\"mapbox\":{\"style\":\"light\"},\"paper_bgcolor\":\"white\",\"plot_bgcolor\":\"#E5ECF6\",\"polar\":{\"angularaxis\":{\"gridcolor\":\"white\",\"linecolor\":\"white\",\"ticks\":\"\"},\"bgcolor\":\"#E5ECF6\",\"radialaxis\":{\"gridcolor\":\"white\",\"linecolor\":\"white\",\"ticks\":\"\"}},\"scene\":{\"xaxis\":{\"backgroundcolor\":\"#E5ECF6\",\"gridcolor\":\"white\",\"gridwidth\":2,\"linecolor\":\"white\",\"showbackground\":true,\"ticks\":\"\",\"zerolinecolor\":\"white\"},\"yaxis\":{\"backgroundcolor\":\"#E5ECF6\",\"gridcolor\":\"white\",\"gridwidth\":2,\"linecolor\":\"white\",\"showbackground\":true,\"ticks\":\"\",\"zerolinecolor\":\"white\"},\"zaxis\":{\"backgroundcolor\":\"#E5ECF6\",\"gridcolor\":\"white\",\"gridwidth\":2,\"linecolor\":\"white\",\"showbackground\":true,\"ticks\":\"\",\"zerolinecolor\":\"white\"}},\"shapedefaults\":{\"line\":{\"color\":\"#2a3f5f\"}},\"ternary\":{\"aaxis\":{\"gridcolor\":\"white\",\"linecolor\":\"white\",\"ticks\":\"\"},\"baxis\":{\"gridcolor\":\"white\",\"linecolor\":\"white\",\"ticks\":\"\"},\"bgcolor\":\"#E5ECF6\",\"caxis\":{\"gridcolor\":\"white\",\"linecolor\":\"white\",\"ticks\":\"\"}},\"title\":{\"x\":0.05},\"xaxis\":{\"automargin\":true,\"gridcolor\":\"white\",\"linecolor\":\"white\",\"ticks\":\"\",\"title\":{\"standoff\":15},\"zerolinecolor\":\"white\",\"zerolinewidth\":2},\"yaxis\":{\"automargin\":true,\"gridcolor\":\"white\",\"linecolor\":\"white\",\"ticks\":\"\",\"title\":{\"standoff\":15},\"zerolinecolor\":\"white\",\"zerolinewidth\":2}}},\"xaxis\":{\"anchor\":\"y\",\"domain\":[0.0,1.0],\"title\":{\"text\":\"x\"}},\"yaxis\":{\"anchor\":\"x\",\"domain\":[0.0,1.0],\"title\":{\"text\":\"sum of y\"}},\"legend\":{\"tracegroupgap\":0},\"margin\":{\"t\":60},\"barmode\":\"relative\"},                        {\"responsive\": true}                    ).then(function(){\n",
              "                            \n",
              "var gd = document.getElementById('3155dfe9-933c-4d52-900c-0a080b9b7ed9');\n",
              "var x = new MutationObserver(function (mutations, observer) {{\n",
              "        var display = window.getComputedStyle(gd).display;\n",
              "        if (!display || display === 'none') {{\n",
              "            console.log([gd, 'removed!']);\n",
              "            Plotly.purge(gd);\n",
              "            observer.disconnect();\n",
              "        }}\n",
              "}});\n",
              "\n",
              "// Listen for the removal of the full notebook cells\n",
              "var notebookContainer = gd.closest('#notebook-container');\n",
              "if (notebookContainer) {{\n",
              "    x.observe(notebookContainer, {childList: true});\n",
              "}}\n",
              "\n",
              "// Listen for the clearing of the current output cell\n",
              "var outputEl = gd.closest('.output');\n",
              "if (outputEl) {{\n",
              "    x.observe(outputEl, {childList: true});\n",
              "}}\n",
              "\n",
              "                        })                };                            </script>        </div>\n",
              "</body>\n",
              "</html>"
            ]
          },
          "metadata": {}
        }
      ]
    },
    {
      "cell_type": "markdown",
      "source": [
        "#### Confidence Intervals"
      ],
      "metadata": {
        "id": "4uTAbxov_2Se"
      }
    },
    {
      "cell_type": "code",
      "source": [
        "# Example 3-16. Retrieving a critical z-value\n",
        "from scipy.stats import norm\n",
        "\n",
        "def critical_z_value(p):\n",
        "  norm_dist = norm(loc = 0.0, scale = 1.0)\n",
        "  lower_area = (1.0 - p) / 2.0\n",
        "  upper_area = 1.0 - ((1.0 - p) / 2.0)\n",
        "  return norm_dist.ppf(lower_area), norm_dist.ppf(upper_area)\n",
        "\n",
        "print(critical_z_value(p = 0.95))"
      ],
      "metadata": {
        "colab": {
          "base_uri": "https://localhost:8080/"
        },
        "id": "J9Oz-tHO9aTC",
        "outputId": "76cec780-a39d-437f-b3b2-cb1f742f3254"
      },
      "execution_count": 19,
      "outputs": [
        {
          "output_type": "stream",
          "name": "stdout",
          "text": [
            "(-1.959963984540054, 1.959963984540054)\n"
          ]
        }
      ]
    },
    {
      "cell_type": "code",
      "source": [
        ""
      ],
      "metadata": {
        "id": "j9Q7lItrAhBJ"
      },
      "execution_count": null,
      "outputs": []
    }
  ]
}