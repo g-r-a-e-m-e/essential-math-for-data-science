{
  "nbformat": 4,
  "nbformat_minor": 0,
  "metadata": {
    "colab": {
      "name": "chapter-03.ipynb",
      "provenance": [],
      "collapsed_sections": [],
      "authorship_tag": "ABX9TyNMMNAWReOJ/GHEacj4G0Gf",
      "include_colab_link": true
    },
    "kernelspec": {
      "name": "python3",
      "display_name": "Python 3"
    },
    "language_info": {
      "name": "python"
    }
  },
  "cells": [
    {
      "cell_type": "markdown",
      "metadata": {
        "id": "view-in-github",
        "colab_type": "text"
      },
      "source": [
        "<a href=\"https://colab.research.google.com/github/g-r-a-e-m-e/essential-math-for-data-science/blob/main/chapter_03.ipynb\" target=\"_parent\"><img src=\"https://colab.research.google.com/assets/colab-badge.svg\" alt=\"Open In Colab\"/></a>"
      ]
    },
    {
      "cell_type": "markdown",
      "source": [
        "# Chapter 03\n",
        "\n",
        "## Descriptive and Inferential Statistics"
      ],
      "metadata": {
        "id": "TgrtYkrLcYhJ"
      }
    },
    {
      "cell_type": "markdown",
      "source": [
        "### Descriptive Statistics"
      ],
      "metadata": {
        "id": "W0cLdOmXcfU_"
      }
    },
    {
      "cell_type": "markdown",
      "source": [
        "#### Mean and Weighted Mean"
      ],
      "metadata": {
        "id": "U-eYmIOMciTF"
      }
    },
    {
      "cell_type": "code",
      "execution_count": 1,
      "metadata": {
        "colab": {
          "base_uri": "https://localhost:8080/"
        },
        "id": "LUxNdyJ2cUbH",
        "outputId": "7fa3ed97-2c91-4769-ea3f-a3fa6a9c8358"
      },
      "outputs": [
        {
          "output_type": "stream",
          "name": "stdout",
          "text": [
            "2.875\n"
          ]
        }
      ],
      "source": [
        "# Example 3-1. Calculating mean\n",
        "# Number of pets each person owns\n",
        "sample = [1, 3, 2, 5, 7, 0, 2, 3]\n",
        "\n",
        "mean = sum(sample) / len(sample)\n",
        "\n",
        "print(mean)"
      ]
    },
    {
      "cell_type": "code",
      "source": [
        "# Exampl 3-2. Calculating a weighted mean\n",
        "sample = [90, 80, 63, 87]\n",
        "weights = [.20, .20, .20, .40]\n",
        "\n",
        "weighted_mean = sum(s * w for s, w in zip(sample, weights)) / sum(weights)\n",
        "\n",
        "print(weighted_mean)"
      ],
      "metadata": {
        "colab": {
          "base_uri": "https://localhost:8080/"
        },
        "id": "6iOykly2cwIv",
        "outputId": "6c169796-0b26-493d-a934-0adc8182ba75"
      },
      "execution_count": 2,
      "outputs": [
        {
          "output_type": "stream",
          "name": "stdout",
          "text": [
            "81.4\n"
          ]
        }
      ]
    },
    {
      "cell_type": "code",
      "source": [
        "# Example 3-3. Calculating another weighted mean\n",
        "sample = [90, 80, 63, 87]\n",
        "weights = [1.0, 1.0, 1.0, 2.0]\n",
        "\n",
        "weighted_mean = sum(s * w for s, w in zip(sample, weights)) / sum(weights)\n",
        "\n",
        "print(weighted_mean)"
      ],
      "metadata": {
        "colab": {
          "base_uri": "https://localhost:8080/"
        },
        "id": "9UPZx8aeelz-",
        "outputId": "75ef908f-d419-4aff-b705-85af6384c02f"
      },
      "execution_count": 3,
      "outputs": [
        {
          "output_type": "stream",
          "name": "stdout",
          "text": [
            "81.4\n"
          ]
        }
      ]
    },
    {
      "cell_type": "markdown",
      "source": [
        "#### Median"
      ],
      "metadata": {
        "id": "zoY__JF7fE2Y"
      }
    },
    {
      "cell_type": "code",
      "source": [
        "# Example 3-4. Calculating the median\n",
        "# Number of pets each person owns\n",
        "sample = [0, 1, 5, 7, 9, 10, 14]\n",
        "\n",
        "def median(values):\n",
        "  ordered = sorted(values)\n",
        "  print(ordered)\n",
        "  n = len(ordered)\n",
        "  mid = int(n / 2) - 1 if n % 2 == 0 else int(n / 2)\n",
        "\n",
        "  if n % 2 == 0:\n",
        "    return (ordered[mid] + ordered[mid + 1]) / 2.0\n",
        "  else:\n",
        "    return ordered[mid]\n",
        "\n",
        "print(median(sample))"
      ],
      "metadata": {
        "colab": {
          "base_uri": "https://localhost:8080/"
        },
        "id": "FaoEfoBJe_8M",
        "outputId": "b352238c-df42-490e-bbaf-94cb01157d7c"
      },
      "execution_count": 4,
      "outputs": [
        {
          "output_type": "stream",
          "name": "stdout",
          "text": [
            "[0, 1, 5, 7, 9, 10, 14]\n",
            "7\n"
          ]
        }
      ]
    },
    {
      "cell_type": "markdown",
      "source": [
        "#### Mode"
      ],
      "metadata": {
        "id": "iAmqNX5IgPms"
      }
    },
    {
      "cell_type": "code",
      "source": [
        "# Example 3-5. Calculating the mode\n",
        "from collections import defaultdict\n",
        "\n",
        "sample = [1, 3, 2, 5, 7, 0, 2, 3]\n",
        "\n",
        "def mode(values):\n",
        "  counts = defaultdict(lambda: 0)\n",
        "\n",
        "  for s in values:\n",
        "    counts[s] += 1\n",
        "  \n",
        "  max_count = max(counts.values())\n",
        "  modes = [v for v in set(values) if counts[v] == max_count]\n",
        "\n",
        "  return modes\n",
        "\n",
        "print(mode(sample))"
      ],
      "metadata": {
        "colab": {
          "base_uri": "https://localhost:8080/"
        },
        "id": "-iD8OxlJfqn1",
        "outputId": "e010139e-211f-48e5-f4a5-a8b3edab274b"
      },
      "execution_count": 5,
      "outputs": [
        {
          "output_type": "stream",
          "name": "stdout",
          "text": [
            "[2, 3]\n"
          ]
        }
      ]
    },
    {
      "cell_type": "markdown",
      "source": [
        "#### Variance and Standard Deviation"
      ],
      "metadata": {
        "id": "tbWan5h3hBBB"
      }
    },
    {
      "cell_type": "code",
      "source": [
        "# Example 3-6: Calculating variance\n",
        "\n",
        "data = [0, 1, 5, 7, 9, 10, 14]\n",
        "\n",
        "def variance(values):\n",
        "  mean = sum(values) / len(values)\n",
        "  _variance = sum((v - mean) ** 2 for v in values) / len(values)\n",
        "  return _variance\n",
        "\n",
        "print(variance(data))"
      ],
      "metadata": {
        "colab": {
          "base_uri": "https://localhost:8080/"
        },
        "id": "2I80jbDpg0jx",
        "outputId": "a0cca0f2-e8d4-4b4a-ed67-175da5abcb7d"
      },
      "execution_count": 6,
      "outputs": [
        {
          "output_type": "stream",
          "name": "stdout",
          "text": [
            "21.387755102040813\n"
          ]
        }
      ]
    },
    {
      "cell_type": "code",
      "source": [
        "# Example 3-7. Calculating standard deviation\n",
        "from math import sqrt\n",
        "\n",
        "data = [0, 1, 5, 7, 9, 10, 14]\n",
        "\n",
        "def variance(values):\n",
        "  mean = sum(values) / len(values)\n",
        "  _variance = sum((v - mean) ** 2 for v in values) / len(values)\n",
        "  return _variance\n",
        "\n",
        "def std_dev(values):\n",
        "  return sqrt(variance(values))\n",
        "\n",
        "print(std_dev(data))"
      ],
      "metadata": {
        "colab": {
          "base_uri": "https://localhost:8080/"
        },
        "id": "7pamHvVHjA0d",
        "outputId": "c4503ee0-2f37-49e1-833a-db590e3179ed"
      },
      "execution_count": 7,
      "outputs": [
        {
          "output_type": "stream",
          "name": "stdout",
          "text": [
            "4.624689730353898\n"
          ]
        }
      ]
    },
    {
      "cell_type": "markdown",
      "source": [
        "##### Sample Variance and Standard Deviation"
      ],
      "metadata": {
        "id": "dmqw2XoQjvrE"
      }
    },
    {
      "cell_type": "code",
      "source": [
        "# Example 3-8. Calculating standard deviation for a sample\n",
        "from math import sqrt\n",
        "\n",
        "data = [0, 1, 5, 7, 9, 10, 14]\n",
        "\n",
        "def variance(values, is_sample: bool = False):\n",
        "  mean = sum(values) / len(values)\n",
        "  _variance = sum((v - mean) ** 2 for v in values) / (len(values) - (1 if is_sample else 0))\n",
        "  \n",
        "  return _variance\n",
        "\n",
        "def std_dev(values, is_sample: bool = False):\n",
        "  return sqrt(variance(values, is_sample))\n",
        "\n",
        "print(f\"Variance = {variance(data, True)}\")\n",
        "print(f\"Standard Deviation = {std_dev(data, True)}\")"
      ],
      "metadata": {
        "colab": {
          "base_uri": "https://localhost:8080/"
        },
        "id": "vArR_6i7jksU",
        "outputId": "920269bc-dc23-4adc-d347-9e57022df3e4"
      },
      "execution_count": 8,
      "outputs": [
        {
          "output_type": "stream",
          "name": "stdout",
          "text": [
            "Variance = 24.95238095238095\n",
            "Standard Deviation = 4.99523582550223\n"
          ]
        }
      ]
    },
    {
      "cell_type": "markdown",
      "source": [
        "##### Probability Density Function"
      ],
      "metadata": {
        "id": "rxA3cvewX04h"
      }
    },
    {
      "cell_type": "code",
      "source": [
        "# Example 3-9 The normal distribution PDF\n",
        "import math\n",
        "def normal_pdf(x: float, mean: float, std_dev: float):\n",
        "  return (1.0 / (2.0* math.pi * std_dev ** 2) ** 0.5) * math.exp(-1.0 * ((x - mean) ** 2 / (2.0 * std_dev ** 2)))\n",
        "\n",
        "normal_pdf(6.0, 3.0, 1.0)"
      ],
      "metadata": {
        "colab": {
          "base_uri": "https://localhost:8080/"
        },
        "id": "FkxoOJj6ktWr",
        "outputId": "e2b521f5-6825-4cbe-abd6-3397a113102a"
      },
      "execution_count": 9,
      "outputs": [
        {
          "output_type": "execute_result",
          "data": {
            "text/plain": [
              "0.0044318484119380075"
            ]
          },
          "metadata": {},
          "execution_count": 9
        }
      ]
    },
    {
      "cell_type": "markdown",
      "source": [
        "##### Cumulative Density Function"
      ],
      "metadata": {
        "id": "UEDLMUZBY8Ur"
      }
    },
    {
      "cell_type": "code",
      "source": [
        "# Example 3-10. The normal distribution CDF\n",
        "from scipy.stats import norm\n",
        "\n",
        "mean = 64.43\n",
        "sdev = 2.99\n",
        "\n",
        "x = norm.cdf(64.43, mean, sdev)\n",
        "\n",
        "print(x)"
      ],
      "metadata": {
        "colab": {
          "base_uri": "https://localhost:8080/"
        },
        "id": "Ub8Bll00YkKz",
        "outputId": "a9c7b28b-a856-4923-e4ee-1afb1d1bf41c"
      },
      "execution_count": 10,
      "outputs": [
        {
          "output_type": "stream",
          "name": "stdout",
          "text": [
            "0.5\n"
          ]
        }
      ]
    },
    {
      "cell_type": "code",
      "source": [
        "# Example 3-11. Getting a middle range probability using the CDF\n",
        "from scipy.stats import norm\n",
        "\n",
        "mean = 64.43\n",
        "sdev = 2.99\n",
        "\n",
        "x = norm.cdf(66, mean, sdev) - norm.cdf(62, mean, sdev)\n",
        "\n",
        "print(x)"
      ],
      "metadata": {
        "colab": {
          "base_uri": "https://localhost:8080/"
        },
        "id": "MgUANq1NZUK6",
        "outputId": "35f850b0-bcff-40c2-f113-54eae465b451"
      },
      "execution_count": 11,
      "outputs": [
        {
          "output_type": "stream",
          "name": "stdout",
          "text": [
            "0.4920450147062894\n"
          ]
        }
      ]
    },
    {
      "cell_type": "markdown",
      "source": [
        "#### The Inverse CDF"
      ],
      "metadata": {
        "id": "qKFR4eR1Z3Yf"
      }
    },
    {
      "cell_type": "code",
      "source": [
        "# Example 3-12. Using the inverse CDF\n",
        "from scipy.stats import norm\n",
        "\n",
        "x = norm.ppf(.95, loc = 64.43, scale = 2.99)\n",
        "\n",
        "print(x)"
      ],
      "metadata": {
        "id": "ZPB2AQTFZxIl",
        "colab": {
          "base_uri": "https://localhost:8080/"
        },
        "outputId": "ec63934f-5b8d-4f06-9124-acfcdc99d1fc"
      },
      "execution_count": 12,
      "outputs": [
        {
          "output_type": "stream",
          "name": "stdout",
          "text": [
            "69.3481123445849\n"
          ]
        }
      ]
    },
    {
      "cell_type": "code",
      "source": [
        "# Example 3-13. Generating random numbers from a normal distribution\n",
        "import random\n",
        "import matplotlib.pyplot as plt\n",
        "\n",
        "x = []\n",
        "\n",
        "for i in range(0, 1000):\n",
        "  random_p = random.uniform(0.0, 1.0)\n",
        "  random_weight = norm.ppf(random_p, loc = 64.43, scale = 2.99)\n",
        "  x.append(random_weight)\n",
        "\n",
        "plt.hist(x, bins = 50)"
      ],
      "metadata": {
        "colab": {
          "base_uri": "https://localhost:8080/",
          "height": 555
        },
        "id": "uPlBuFw50kxV",
        "outputId": "9e236b7e-2b80-4b69-f23e-5e616954e946"
      },
      "execution_count": 13,
      "outputs": [
        {
          "output_type": "execute_result",
          "data": {
            "text/plain": [
              "(array([ 1.,  0.,  1.,  1.,  1.,  1.,  1.,  2.,  4.,  3.,  4.,  6., 11.,\n",
              "        15., 15.,  6., 25., 24., 29., 30., 42., 53., 42., 51., 57., 59.,\n",
              "        54., 38., 49., 49., 50., 44., 39., 33., 34., 30., 23., 21., 14.,\n",
              "        11.,  6.,  8.,  3.,  3.,  1.,  1.,  1.,  1.,  1.,  2.]),\n",
              " array([53.73451643, 54.13853895, 54.54256146, 54.94658398, 55.35060649,\n",
              "        55.75462901, 56.15865152, 56.56267404, 56.96669655, 57.37071907,\n",
              "        57.77474158, 58.1787641 , 58.58278661, 58.98680912, 59.39083164,\n",
              "        59.79485415, 60.19887667, 60.60289918, 61.0069217 , 61.41094421,\n",
              "        61.81496673, 62.21898924, 62.62301176, 63.02703427, 63.43105679,\n",
              "        63.8350793 , 64.23910182, 64.64312433, 65.04714685, 65.45116936,\n",
              "        65.85519187, 66.25921439, 66.6632369 , 67.06725942, 67.47128193,\n",
              "        67.87530445, 68.27932696, 68.68334948, 69.08737199, 69.49139451,\n",
              "        69.89541702, 70.29943954, 70.70346205, 71.10748457, 71.51150708,\n",
              "        71.9155296 , 72.31955211, 72.72357462, 73.12759714, 73.53161965,\n",
              "        73.93564217]),\n",
              " <a list of 50 Patch objects>)"
            ]
          },
          "metadata": {},
          "execution_count": 13
        },
        {
          "output_type": "display_data",
          "data": {
            "text/plain": [
              "<Figure size 432x288 with 1 Axes>"
            ],
            "image/png": "[encoded data removed]"
          },
          "metadata": {
            "needs_background": "light"
          }
        }
      ]
    },
    {
      "cell_type": "markdown",
      "source": [
        "#### Z-scores"
      ],
      "metadata": {
        "id": "1sSkrVvb6sCh"
      }
    },
    {
      "cell_type": "code",
      "source": [
        "# Example 3-14. TUrn Z-scores into x-values and vice versa\n",
        "\n",
        "def z_score(x, mean, std):\n",
        "  return (x - mean) / std\n",
        "\n",
        "def z_to_x(z, mean, std):\n",
        "  return (z * std) + mean\n",
        "\n",
        "mean = 140000\n",
        "std_dev = 3000\n",
        "x = 150000\n",
        "\n",
        "# Convert to Z-score then back to X\n",
        "z = z_score(x, mean, std_dev)\n",
        "back_to_x = z_to_x(z, mean, std_dev)\n",
        "\n",
        "print(f\"Z-score: {z}\")\n",
        "print(f\"Back to X: {back_to_x}\")"
      ],
      "metadata": {
        "colab": {
          "base_uri": "https://localhost:8080/"
        },
        "id": "jXr-DwIh05c5",
        "outputId": "8ccf4a97-0e34-47b5-df84-795a3c658c18"
      },
      "execution_count": 14,
      "outputs": [
        {
          "output_type": "stream",
          "name": "stdout",
          "text": [
            "Z-score: 3.3333333333333335\n",
            "Back to X: 150000.0\n"
          ]
        }
      ]
    },
    {
      "cell_type": "markdown",
      "source": [
        "### Inferential Statistics"
      ],
      "metadata": {
        "id": "RvNZ-AlH7puW"
      }
    },
    {
      "cell_type": "markdown",
      "source": [
        "#### The Central Limit Theorem"
      ],
      "metadata": {
        "id": "uHTSPRlP7wQr"
      }
    },
    {
      "cell_type": "code",
      "source": [
        "# Example 3-15. Exploring the central limit theorem\n",
        "# Samples of the uniform distribution will average out to a normal distribution\n",
        "import random\n",
        "import plotly.express as px\n",
        "\n",
        "sample_size = 300\n",
        "sample_count = 1000\n",
        "\n",
        "# Central limit theorem, 1000 samples each with 31 random numbers in [0.0, 1.0]\n",
        "x_values = [(sum([random.uniform(0.0, 1.0) for i in range(sample_size)]) / \\\n",
        "                 sample_size) \\\n",
        "             for _ in range(sample_count)]\n",
        "\n",
        "y_values = [1 for _ in range(sample_count)]\n",
        "\n",
        "px.histogram(x = x_values, y = y_values, nbins = 20).show()"
      ],
      "metadata": {
        "colab": {
          "base_uri": "https://localhost:8080/",
          "height": 542
        },
        "id": "t_aZnlyI7ykC",
        "outputId": "05884ef7-c180-4a75-d281-70b5934cf4ea"
      },
      "execution_count": 15,
      "outputs": [
        {
          "output_type": "display_data",
          "data": {
            "text/html": [
              "<html>\n",
              "<head><meta charset=\"utf-8\" /></head>\n",
              "<body>\n",
              "    <div>            <script src=\"https://cdnjs.cloudflare.com/ajax/libs/mathjax/2.7.5/MathJax.js?config=TeX-AMS-MML_SVG\"></script><script type=\"text/javascript\">if (window.MathJax) {MathJax.Hub.Config({SVG: {font: \"STIX-Web\"}});}</script>                <script type=\"text/javascript\">window.PlotlyConfig = {MathJaxConfig: 'local'};</script>\n",
              "        <script src=\"https://cdn.plot.ly/plotly-2.8.3.min.js\"></script>                <div id=\"fc1fca93-ff46-417a-badd-109178a298cc\" class=\"plotly-graph-div\" style=\"height:525px; width:100%;\"></div>            <script type=\"text/javascript\">                                    window.PLOTLYENV=window.PLOTLYENV || {};                                    if (document.getElementById(\"fc1fca93-ff46-417a-badd-109178a298cc\")) {                    Plotly.newPlot(                        \"fc1fca93-ff46-417a-badd-109178a298cc\",                        [{\"alignmentgroup\":\"True\",\"bingroup\":\"x\",\"histfunc\":\"sum\",\"hovertemplate\":\"x=%{x}<br>sum of y=%{y}<extra></extra>\",\"legendgroup\":\"\",\"marker\":{\"color\":\"#636efa\",\"pattern\":{\"shape\":\"\"}},\"name\":\"\",\"nbinsx\":20,\"offsetgroup\":\"\",\"orientation\":\"v\",\"showlegend\":false,\"x\":[0.47434647560244625,0.5172302389419996,0.5351655810022026,0.5139335779857491,0.4917465659607066,0.4855694783610493,0.4944490212818019,0.4844112784031816,0.49790282390072643,0.4800112485400489,0.5115577717085461,0.5039984962447559,0.5149096245416589,0.5215376660184025,0.5349877640216586,0.5048015233739963,0.5153267329610273,0.4923094685787319,0.4753252441259198,0.49164547483027565,0.4979588227561493,0.5008279409108606,0.4903902210973204,0.5417484479605945,0.5038348788906213,0.5312502368817696,0.5055013490366246,0.4916178366671587,0.4953466111857487,0.4873669307203363,0.506686679121202,0.489837224498134,0.48369608428874,0.5345409704789208,0.5144083097936977,0.5033801547563359,0.493391045904784,0.49744581194765364,0.5071438814042385,0.5139734080431863,0.4997126061736133,0.4952783178086754,0.5103445794963816,0.5010263078853104,0.4960748987059898,0.5175437743721814,0.49125170104785243,0.4961869119017449,0.4988737502381746,0.4812689256804394,0.48445253602467847,0.5197513138913294,0.4951516879314864,0.524760371637959,0.4950674976763603,0.4937785016282257,0.49510019303728936,0.4970532697779108,0.5058150902565753,0.5151530594688332,0.4839927639997276,0.4523729692563297,0.4918671494315431,0.5023863786369763,0.4954325064927668,0.5046900336256144,0.5129859660445425,0.4979964748576675,0.5101588212669267,0.5407598517375279,0.5432018517540452,0.4825124753704631,0.5002959043251962,0.49434216095280625,0.474126004845357,0.4664601024391635,0.5137713484983566,0.5116026824284963,0.5007954925078308,0.5390243200344426,0.4950645236037747,0.5025235692945003,0.5166094092236565,0.49738114046060683,0.49390525718709144,0.5120331944687171,0.5043936510278367,0.49915568760849205,0.49712095522672,0.5021369842398018,0.4987373942069731,0.48408192620228097,0.48726862164746715,0.5003296145121374,0.5142021631210674,0.5211809343882122,0.5261770250429764,0.5088764098021175,0.47800317439312967,0.4749809291517147,0.5119831307149176,0.5061190538605485,0.4812835603406661,0.5136391050294736,0.47436309011087513,0.5057842637401209,0.5205649808064261,0.521027404154011,0.4805946374149494,0.48856734322569706,0.5084671002815159,0.5061907945904511,0.4959143317732768,0.5120434234809806,0.5020497974421744,0.5045296876921946,0.49660174824401926,0.4926649081328634,0.4523689468225241,0.5116928498564955,0.5046992655607695,0.5083414830202885,0.49086546632255135,0.5128818794202471,0.523761290294245,0.4826271380289994,0.5128716601298932,0.4998386256482656,0.46068279055705846,0.5285948578015013,0.5046514004841841,0.5046083838449011,0.5190421471936078,0.48521125044910035,0.5136895813863753,0.5241040782940878,0.4887750494286337,0.5209122135416848,0.49367964899065175,0.47405795723120414,0.5129449144954142,0.4911452624382014,0.5027294804102898,0.4951097951989276,0.5172110604055301,0.5209421286465638,0.5000436181669025,0.5294029167869054,0.5098396990170511,0.47931634469184614,0.49405523774103205,0.48678616854963813,0.4949701169396739,0.5245139929752746,0.5266896457215249,0.47641661674993674,0.4998473319540927,0.5073980146918674,0.49188413816289017,0.5045829307080117,0.47590679952857273,0.4938969654033868,0.4665439344902735,0.47901987566865717,0.5020184806207578,0.5185928790280869,0.5058087646909829,0.47928789400982247,0.49262775361455546,0.46535655001998305,0.5100267252307678,0.5134658111045016,0.5017202824057783,0.49989270988046874,0.5250945257239765,0.47932853879604814,0.4687170927263501,0.5231099785810291,0.5162207665736038,0.487477564145907,0.485191249083692,0.472536121466162,0.5216404329963454,0.5057454843474769,0.5007831206346058,0.5140951935938141,0.5232965366648075,0.5306768288648069,0.46259375960982735,0.497301150716616,0.5066658461435686,0.5099716974707414,0.49577675850865743,0.5289587827492775,0.49878297490531975,0.5404529251048255,0.5108828086271544,0.4851559803967922,0.5053847776674288,0.517469417521948,0.48794604200746117,0.5489320584270787,0.5035778776999987,0.4738596804413667,0.5031529319609622,0.49776001854987534,0.5051846253898559,0.5342073342356074,0.48684528717873177,0.5109536367921171,0.4865724327141647,0.4762597242924297,0.49342213301700544,0.4767529271520226,0.46188054623685304,0.49112479109021234,0.47150333505767594,0.4931342930733298,0.4841706502390791,0.4909462191809786,0.4745613200720364,0.5191137279359294,0.5230348396980966,0.515515655573665,0.5123514563308696,0.4451829628510601,0.5107571770198169,0.49128393152235966,0.49395893877340585,0.5019746930794217,0.5164188196155921,0.4988933876718503,0.4950313729920892,0.49182605705741944,0.5047198312515184,0.5207981393788585,0.4846408832605519,0.4999531449505456,0.5112889681637337,0.4774189936029549,0.5397729360102398,0.5097402124150184,0.5024875053646892,0.5102255283984934,0.4622754652485074,0.49562640416385856,0.5217784332212501,0.5024281704035846,0.4895621379331187,0.47598355771295414,0.5086692984143267,0.5038596747479955,0.47492774418033906,0.48777744343410023,0.5204723071939354,0.4997549904363236,0.4862425772040251,0.517383779192865,0.4844571571310803,0.500619225034843,0.49153514907342505,0.509219836937104,0.497471152370422,0.5116653849407622,0.5027796580386623,0.481548336106144,0.49441453353187104,0.4898842069490979,0.5281060210684487,0.5017249928347094,0.4613979022684794,0.5034559857877242,0.4779372133890961,0.5061661684964509,0.4687604154587324,0.4964545168009643,0.4802302398010831,0.5028269229152829,0.4810675954080537,0.4990153700975618,0.49534173482161276,0.4698002197866579,0.5098884367125153,0.5074875987271281,0.5244302945657436,0.4843876862056113,0.5111798971303847,0.5107161564877334,0.4882231574442359,0.4810843518197744,0.5123946010809585,0.48177610763666373,0.5078728015843206,0.5188673613167248,0.4903952439581868,0.513527671356684,0.5010449187636575,0.5029795513796655,0.5148970794831458,0.5300922775941287,0.49091605742503913,0.5230656242107834,0.48143442014621,0.49679588326513274,0.4843895324071569,0.5222211712918015,0.5323148729915097,0.5077537630846325,0.5218629486538215,0.5489653796811714,0.534818858455371,0.4908798148458546,0.5033822592008868,0.5236061984642854,0.48516588989027487,0.5024711938774199,0.47899484059949465,0.5314474444654744,0.5070599946841354,0.4925419651586797,0.5086467319045526,0.5136535081929756,0.532059809709887,0.5125029477453407,0.507432298463546,0.5229294675218049,0.5363390522549621,0.5016130228783324,0.5194216105992903,0.4918075483848842,0.5146233612338517,0.5189489475690149,0.510926341792176,0.5360155966804319,0.49830311079907497,0.5051956061894464,0.508660222387164,0.5114443048587796,0.49284166523917927,0.5065375109440285,0.5057509608640913,0.5187008235001719,0.5123543110315393,0.48359322609643574,0.5026295797489381,0.5098397503303262,0.5150513534126705,0.4822815839335943,0.4866508096370964,0.5125142409136599,0.5300983181316229,0.49210991745882626,0.49701906309507743,0.510485791870878,0.4865937872518039,0.4718447332936172,0.4983855765721299,0.5125703471867381,0.493988583108917,0.5038797425351529,0.4894904164780726,0.5006073799701058,0.5060305773761165,0.49620523721096704,0.4926417709201303,0.4906365494742537,0.5003754408734471,0.4666601123661716,0.5034121993049387,0.49941121364236096,0.5389990547634719,0.5039620727246202,0.49537056973209237,0.5051481332796048,0.4944766132762744,0.5054912070413465,0.49918981685291014,0.47826864565187965,0.4743104570249852,0.49050562519040936,0.5097102000532195,0.49795880711572577,0.5038019513633549,0.5426324684169859,0.5176072202299371,0.5031198024489286,0.5292794252808525,0.4909039703469419,0.48412692502342425,0.5112269588827366,0.48936080595353454,0.48284382397063375,0.493628115060994,0.49539778524200545,0.5036292399098136,0.4796091911654143,0.5037526284983979,0.5159652242875848,0.5264859036975238,0.5200728921271333,0.47339283939170806,0.45999759619008584,0.5087035964123932,0.4857544418890682,0.46745470981249243,0.4960914445960995,0.49945499861033793,0.46177923871236204,0.48638524403103145,0.4823228018897594,0.5203653402438859,0.49984148107601745,0.5206042826018829,0.50890163916323,0.5234177272765143,0.4848399019523686,0.5082631063111696,0.4949550943102304,0.48912588153239844,0.535427979117891,0.5238261712152013,0.5070421447104069,0.5158231909888443,0.48079193478133825,0.5101626157056739,0.48692142572150715,0.505507305115101,0.5174769352693427,0.4931122816122228,0.5107601555263295,0.4818188688505029,0.5041983675350388,0.4773897602791161,0.5418729814223147,0.5015776559088775,0.4773480829197459,0.49121332859903094,0.516934025168044,0.4815384610017217,0.473455796073036,0.4823552487433028,0.4980008699300142,0.4843696354516541,0.5130217713014706,0.48142171889608315,0.5003294391677957,0.5037152567628492,0.5419791701228147,0.5063956209033524,0.5027621342793958,0.49176197540585426,0.4514496117082327,0.5049996995614988,0.5076584172752528,0.49419617434158986,0.49721753831322435,0.4965340648467831,0.5069044048989202,0.4852465260980362,0.5058238342252446,0.49235246007462813,0.5175328893380434,0.5179932586652019,0.4960903976689655,0.5069771247824683,0.4742028788589444,0.5057039817650584,0.4993874314738045,0.525524912110753,0.5292802179704895,0.4888005566896975,0.5072530540663417,0.4752203878909774,0.4630181515148937,0.4924375393115192,0.5044529022742703,0.45425123049465516,0.472145374481787,0.4849223796113435,0.47285423905567664,0.48825837953452655,0.4956035497563748,0.49012821406599005,0.5166928411221785,0.49246537644705074,0.4789005638108737,0.503089309402396,0.5075965915724667,0.5024092346883589,0.500396959726242,0.48439918588462744,0.5224005256752251,0.5398242707281247,0.49327606906933635,0.5104045354296084,0.46920784656364306,0.5030650668156832,0.5235319529536091,0.5001231274636888,0.5080756340402371,0.49454279370043935,0.5072322214237255,0.5008597422174754,0.5348994418742085,0.5052225722344568,0.5019852353052545,0.500993312715776,0.4943804044269924,0.4742879904165295,0.5006432582292287,0.4816687301666724,0.5002453468098463,0.4929942493327726,0.49236931819468416,0.5156588929837947,0.4897506389482167,0.4990161974548072,0.4952453029438626,0.5051203657048311,0.4717089005984581,0.5459808205323579,0.5230685730853094,0.5042988066821211,0.5084904397796569,0.50926372891676,0.4970136300652848,0.49018781405769496,0.5538737836323533,0.4835847963412496,0.48590263640757503,0.4874233737998186,0.4769680406163619,0.5163276480082014,0.4763443014137894,0.4715958410702902,0.517664703907354,0.5065762318346378,0.49005602152294764,0.4991499517507538,0.48685357296553294,0.4855876278753343,0.4817953984842372,0.5027505315699677,0.49507619280920406,0.46681401973552766,0.49201406415850857,0.5265127601704439,0.5160450635643276,0.5120951290549713,0.5099079565934027,0.4945800156193941,0.485251698191344,0.5168914391579355,0.5202955715711364,0.4805503679590611,0.5408250599167258,0.4880164332828366,0.5055774783058186,0.47691976586574025,0.506938188142862,0.48593919178433376,0.48947212205848073,0.5091801182318343,0.5031966733134661,0.5236390171116662,0.4783167140996009,0.49573979233805743,0.5291497438005297,0.5015420710200746,0.4914933523396407,0.4939411949439858,0.5267788590853594,0.475978569110086,0.4900625275416029,0.49950275874401534,0.5126964251373641,0.47728484368057034,0.48816105163857676,0.5212027658001858,0.46223988110609215,0.5006871928826641,0.5074485860361823,0.5042699161189359,0.4965866515556022,0.5165029297284844,0.4905973139414785,0.4799234714441359,0.5187751401167113,0.48974409706920796,0.5040647246659485,0.48411155955367063,0.49175814366778126,0.483571351286097,0.49981281380644826,0.5049386880107838,0.48526526030714195,0.5092125361076832,0.4922901153975416,0.5283202807563265,0.5205823545064631,0.47077024616886604,0.48035725126483103,0.5166180618846483,0.4816358297293111,0.4968212465903594,0.5046717065490349,0.5010837710177014,0.5139135656848882,0.505479656261956,0.4869968704108168,0.5203481134338583,0.5014364440577332,0.5038128612912351,0.513354980014532,0.4925518973703339,0.483461198076999,0.5074664850475518,0.5130137359742675,0.48117330516767365,0.5009563716180137,0.4975544577023733,0.49805144893002734,0.5025884016236722,0.517692227438185,0.4920516317432101,0.48601299536086884,0.5294406431143308,0.48446219666170065,0.4820753184430158,0.5134454623537444,0.5057398080819301,0.4947430526079688,0.506747298825463,0.5098852991385207,0.46664661720272144,0.5151854072027088,0.49406892272675274,0.5101983126290975,0.49578617552297033,0.494563801889055,0.47732018173408847,0.47120194927254044,0.4941853723736291,0.5032125414116593,0.5073055761032852,0.4883990766431831,0.5201046054152528,0.4880975048647436,0.5074701621013302,0.49998476165417544,0.5025052914095058,0.495789257077337,0.48157754707463385,0.4948787516355426,0.4848290575482817,0.4840562938803599,0.49513302148024413,0.4654463316940138,0.4924679886986654,0.5087600661367415,0.5069616792865159,0.5018201083725042,0.5007662323403546,0.5128462085877024,0.4857889681227683,0.503372345881101,0.5139575202867713,0.4903944667951816,0.47334778233385644,0.5113182912926708,0.5042878538811564,0.5025900163371891,0.48157191286108714,0.5109892471576079,0.5037954720188558,0.5015549035578026,0.4970263579442463,0.5245644401866976,0.49446376436971046,0.5184328043829918,0.4985108388703759,0.5196937601212845,0.4868211305020341,0.49725474869698016,0.5165338815512758,0.4893624416153213,0.5559894164602119,0.5359943407231924,0.5107902847961634,0.4619993863606863,0.513333526891478,0.5078970132324396,0.510304072312227,0.4739146822814021,0.5070643247640139,0.49418459298016226,0.5053975266885515,0.4909786909107449,0.505419631415726,0.48773082469808826,0.49991985472880335,0.5260063245356763,0.5068601764679141,0.4817700773097377,0.4918074021884193,0.5025882397518889,0.5011683920323503,0.47966412646796736,0.5141666288031927,0.5029023657338475,0.5192970822417312,0.5226055360541557,0.5326619938687038,0.4909118236533243,0.4970686508017199,0.4890658100683919,0.4937302104415785,0.5235483471192625,0.49998001127206737,0.505209984398607,0.5006297857462976,0.5165828001360756,0.5110111722972271,0.4948950195093702,0.487779791691488,0.49461925040905785,0.4833635721712604,0.5267735076166467,0.4923068090627433,0.48043323745111904,0.5230151627128277,0.4695806758122441,0.48909858431496017,0.48139167613439954,0.5239652638150354,0.496381169400663,0.4858198738481775,0.47915562795917177,0.5291702246400449,0.5017237800855444,0.493233437723882,0.5189797989804873,0.5080273714914093,0.47398449027390493,0.5019086709759943,0.48876827530750167,0.48483623884510657,0.5175639547807539,0.47817103349200824,0.46684060856050136,0.5278883009286172,0.4996319428201279,0.5146398553159413,0.5038008582932287,0.49708155393286496,0.5097244589088734,0.492637972907568,0.5203001717790221,0.485945400003842,0.47873252766873237,0.5133752219166586,0.5182572110548924,0.5078646455280853,0.48621592699202554,0.5076385789889596,0.48123273846201037,0.4778288605492426,0.5185505493730084,0.49551278023343814,0.5148833684915979,0.48157262796992834,0.4843186052972619,0.510891390365277,0.5085868313928124,0.5034422991160006,0.4999911578065129,0.46912857527658486,0.5142137688075696,0.508722102939252,0.49999661457503447,0.4997395957569419,0.4885647308725604,0.5086773831155027,0.5212889134207782,0.5103404710958566,0.5106926320515777,0.5066679006287264,0.5227302757746934,0.47442019084222703,0.47969537347299884,0.5026128580859597,0.5064487274671506,0.48128445847434337,0.4915955484720037,0.4970286413949422,0.4756319524194283,0.4952856765880145,0.4992577953253931,0.47834735653760607,0.5323110805253454,0.49968186424929656,0.498813804823533,0.5057155158351275,0.47523915674201445,0.48078532656732487,0.4992025447628104,0.4963302338431918,0.48520537455778223,0.5166872901383187,0.5121166765122779,0.4843216256528605,0.5179694622152797,0.512939295601924,0.5152274656596598,0.5089843640536681,0.49493181400565145,0.5053070979681826,0.4811129380102287,0.5268464705188518,0.5318337944258135,0.4921530171327234,0.5106065409404791,0.4974941125099784,0.48893059774262765,0.4951908825202531,0.48868677840012764,0.5282760365883015,0.5069173240975087,0.47454855475738594,0.47442562250802267,0.51637422422816,0.5211536864632258,0.5205326791075922,0.4850228511330297,0.5365346167916791,0.46615640178023815,0.49596303134613484,0.49868059271506676,0.5026447711995213,0.5065663352050752,0.5152585988685495,0.4777927911588967,0.4724607331050281,0.5247908522408049,0.46980624402745863,0.5248684220368658,0.5071620858487662,0.499552015179002,0.5119773710290961,0.5150092913724744,0.49669126807088704,0.46502102201894774,0.5125924877924369,0.5115173146055717,0.5266191600477107,0.5016354806317922,0.5065981176911152,0.485113392507104,0.5289207009191953,0.5062760043365827,0.5002358520291319,0.4989328893174237,0.4771620691843671,0.5198173872095597,0.5084027397847843,0.502720466318088,0.5124630798227401,0.47811620422567547,0.49138181282072696,0.500867068900077,0.5255073384616483,0.5200985799972022,0.5037235659902037,0.5284070638509093,0.5218749988886825,0.4854744477091606,0.49299291990698973,0.4917290565710698,0.5060321375283532,0.48754162112800503,0.4894817134602917,0.4705991973663105,0.4956076353525315,0.4782307729803537,0.5025637769231156,0.49736516210519766,0.5098071532248057,0.47651955720783606,0.5216304368243517,0.5183979088512494,0.5145678896257334,0.5500757633541398,0.4923241456186083,0.4688408857222585,0.5038526319404387,0.4842595994837549,0.4959927220792833,0.5193214840368564,0.48494061229607544,0.46834379837539963,0.5151926505682015,0.5063066684932461,0.5034236274888704,0.5082661455375123,0.5051447277302965,0.5179397732981392,0.45304042536608535,0.5005748932012667,0.5102120607556316,0.48126641278158694,0.5297619753167826,0.49854723041066185,0.4998153260454041,0.5177235773133124,0.4769468828144795,0.4750726988902612,0.4730869564931586,0.538036066924801,0.507184785467925,0.5253620597778479,0.5149188312168294,0.5089314795494666,0.49926307660357017,0.49132946882665757,0.46611572322370837,0.4937338306993025,0.5102713947279326,0.4705262070467088,0.5252415108156437,0.4980935858388716,0.4955887815595642,0.49746805539089406,0.49833243536613686,0.49982009318298093,0.505958477690449,0.4971959604077757,0.481644364448935,0.48576322166800207,0.4696640220377739,0.5083537222447837,0.4887067290770099,0.48636404992831783,0.47984428494328296,0.5102296677199916,0.5177258128530084,0.5063796220406096,0.49324658294927143,0.4935552705193569,0.47869283619693137,0.5115451961393377,0.49455840876481477,0.49438611784786085,0.4876905568797941,0.5087040098549983,0.4936776362858356,0.5252545542058155,0.4789549540980158,0.5051217506780983,0.49237993040884664,0.491156388290847,0.48825974921563786,0.5099474173280502,0.47539212489341187,0.5059710731483736,0.49711529878645555,0.5023959966967279,0.5128383233309236,0.5414078415420502,0.4878688638551332,0.5061505888681993,0.5283571748642902,0.48739852612952983,0.5034497464554846,0.4896104086263161,0.5128692391876992,0.5365246715148241,0.49977139265983406,0.5048083990682428,0.5016031301008093,0.5011275787875548,0.4833416670797966,0.5288713528325417,0.467432303227113,0.4790543939309259,0.4953238881009803,0.497925961176289,0.5099966303274516,0.4836178801750511,0.5231178949293257,0.49929049861276315,0.5001713555183186,0.4988063864068195,0.5009585356492274,0.48745509023242317,0.5181281303439488,0.503080659168666,0.46598590971678067,0.5010494902833087,0.4895592218194115,0.48898760225655935],\"xaxis\":\"x\",\"y\":[1,1,1,1,1,1,1,1,1,1,1,1,1,1,1,1,1,1,1,1,1,1,1,1,1,1,1,1,1,1,1,1,1,1,1,1,1,1,1,1,1,1,1,1,1,1,1,1,1,1,1,1,1,1,1,1,1,1,1,1,1,1,1,1,1,1,1,1,1,1,1,1,1,1,1,1,1,1,1,1,1,1,1,1,1,1,1,1,1,1,1,1,1,1,1,1,1,1,1,1,1,1,1,1,1,1,1,1,1,1,1,1,1,1,1,1,1,1,1,1,1,1,1,1,1,1,1,1,1,1,1,1,1,1,1,1,1,1,1,1,1,1,1,1,1,1,1,1,1,1,1,1,1,1,1,1,1,1,1,1,1,1,1,1,1,1,1,1,1,1,1,1,1,1,1,1,1,1,1,1,1,1,1,1,1,1,1,1,1,1,1,1,1,1,1,1,1,1,1,1,1,1,1,1,1,1,1,1,1,1,1,1,1,1,1,1,1,1,1,1,1,1,1,1,1,1,1,1,1,1,1,1,1,1,1,1,1,1,1,1,1,1,1,1,1,1,1,1,1,1,1,1,1,1,1,1,1,1,1,1,1,1,1,1,1,1,1,1,1,1,1,1,1,1,1,1,1,1,1,1,1,1,1,1,1,1,1,1,1,1,1,1,1,1,1,1,1,1,1,1,1,1,1,1,1,1,1,1,1,1,1,1,1,1,1,1,1,1,1,1,1,1,1,1,1,1,1,1,1,1,1,1,1,1,1,1,1,1,1,1,1,1,1,1,1,1,1,1,1,1,1,1,1,1,1,1,1,1,1,1,1,1,1,1,1,1,1,1,1,1,1,1,1,1,1,1,1,1,1,1,1,1,1,1,1,1,1,1,1,1,1,1,1,1,1,1,1,1,1,1,1,1,1,1,1,1,1,1,1,1,1,1,1,1,1,1,1,1,1,1,1,1,1,1,1,1,1,1,1,1,1,1,1,1,1,1,1,1,1,1,1,1,1,1,1,1,1,1,1,1,1,1,1,1,1,1,1,1,1,1,1,1,1,1,1,1,1,1,1,1,1,1,1,1,1,1,1,1,1,1,1,1,1,1,1,1,1,1,1,1,1,1,1,1,1,1,1,1,1,1,1,1,1,1,1,1,1,1,1,1,1,1,1,1,1,1,1,1,1,1,1,1,1,1,1,1,1,1,1,1,1,1,1,1,1,1,1,1,1,1,1,1,1,1,1,1,1,1,1,1,1,1,1,1,1,1,1,1,1,1,1,1,1,1,1,1,1,1,1,1,1,1,1,1,1,1,1,1,1,1,1,1,1,1,1,1,1,1,1,1,1,1,1,1,1,1,1,1,1,1,1,1,1,1,1,1,1,1,1,1,1,1,1,1,1,1,1,1,1,1,1,1,1,1,1,1,1,1,1,1,1,1,1,1,1,1,1,1,1,1,1,1,1,1,1,1,1,1,1,1,1,1,1,1,1,1,1,1,1,1,1,1,1,1,1,1,1,1,1,1,1,1,1,1,1,1,1,1,1,1,1,1,1,1,1,1,1,1,1,1,1,1,1,1,1,1,1,1,1,1,1,1,1,1,1,1,1,1,1,1,1,1,1,1,1,1,1,1,1,1,1,1,1,1,1,1,1,1,1,1,1,1,1,1,1,1,1,1,1,1,1,1,1,1,1,1,1,1,1,1,1,1,1,1,1,1,1,1,1,1,1,1,1,1,1,1,1,1,1,1,1,1,1,1,1,1,1,1,1,1,1,1,1,1,1,1,1,1,1,1,1,1,1,1,1,1,1,1,1,1,1,1,1,1,1,1,1,1,1,1,1,1,1,1,1,1,1,1,1,1,1,1,1,1,1,1,1,1,1,1,1,1,1,1,1,1,1,1,1,1,1,1,1,1,1,1,1,1,1,1,1,1,1,1,1,1,1,1,1,1,1,1,1,1,1,1,1,1,1,1,1,1,1,1,1,1,1,1,1,1,1,1,1,1,1,1,1,1,1,1,1,1,1,1,1,1,1,1,1,1,1,1,1,1,1,1,1,1,1,1,1,1,1,1,1,1,1,1,1,1,1,1,1,1,1,1,1,1,1,1,1,1,1,1,1,1,1,1,1,1,1,1,1,1,1,1,1,1,1,1,1,1,1,1,1,1,1,1,1,1,1,1,1,1,1,1,1,1,1,1,1,1,1,1,1,1,1,1,1,1,1,1,1,1,1,1,1,1,1,1,1,1,1,1,1,1,1,1,1,1],\"yaxis\":\"y\",\"type\":\"histogram\"}],                        {\"template\":{\"data\":{\"bar\":[{\"error_x\":{\"color\":\"#2a3f5f\"},\"error_y\":{\"color\":\"#2a3f5f\"},\"marker\":{\"line\":{\"color\":\"#E5ECF6\",\"width\":0.5},\"pattern\":{\"fillmode\":\"overlay\",\"size\":10,\"solidity\":0.2}},\"type\":\"bar\"}],\"barpolar\":[{\"marker\":{\"line\":{\"color\":\"#E5ECF6\",\"width\":0.5},\"pattern\":{\"fillmode\":\"overlay\",\"size\":10,\"solidity\":0.2}},\"type\":\"barpolar\"}],\"carpet\":[{\"aaxis\":{\"endlinecolor\":\"#2a3f5f\",\"gridcolor\":\"white\",\"linecolor\":\"white\",\"minorgridcolor\":\"white\",\"startlinecolor\":\"#2a3f5f\"},\"baxis\":{\"endlinecolor\":\"#2a3f5f\",\"gridcolor\":\"white\",\"linecolor\":\"white\",\"minorgridcolor\":\"white\",\"startlinecolor\":\"#2a3f5f\"},\"type\":\"carpet\"}],\"choropleth\":[{\"colorbar\":{\"outlinewidth\":0,\"ticks\":\"\"},\"type\":\"choropleth\"}],\"contour\":[{\"colorbar\":{\"outlinewidth\":0,\"ticks\":\"\"},\"colorscale\":[[0.0,\"#0d0887\"],[0.1111111111111111,\"#46039f\"],[0.2222222222222222,\"#7201a8\"],[0.3333333333333333,\"#9c179e\"],[0.4444444444444444,\"#bd3786\"],[0.5555555555555556,\"#d8576b\"],[0.6666666666666666,\"#ed7953\"],[0.7777777777777778,\"#fb9f3a\"],[0.8888888888888888,\"#fdca26\"],[1.0,\"#f0f921\"]],\"type\":\"contour\"}],\"contourcarpet\":[{\"colorbar\":{\"outlinewidth\":0,\"ticks\":\"\"},\"type\":\"contourcarpet\"}],\"heatmap\":[{\"colorbar\":{\"outlinewidth\":0,\"ticks\":\"\"},\"colorscale\":[[0.0,\"#0d0887\"],[0.1111111111111111,\"#46039f\"],[0.2222222222222222,\"#7201a8\"],[0.3333333333333333,\"#9c179e\"],[0.4444444444444444,\"#bd3786\"],[0.5555555555555556,\"#d8576b\"],[0.6666666666666666,\"#ed7953\"],[0.7777777777777778,\"#fb9f3a\"],[0.8888888888888888,\"#fdca26\"],[1.0,\"#f0f921\"]],\"type\":\"heatmap\"}],\"heatmapgl\":[{\"colorbar\":{\"outlinewidth\":0,\"ticks\":\"\"},\"colorscale\":[[0.0,\"#0d0887\"],[0.1111111111111111,\"#46039f\"],[0.2222222222222222,\"#7201a8\"],[0.3333333333333333,\"#9c179e\"],[0.4444444444444444,\"#bd3786\"],[0.5555555555555556,\"#d8576b\"],[0.6666666666666666,\"#ed7953\"],[0.7777777777777778,\"#fb9f3a\"],[0.8888888888888888,\"#fdca26\"],[1.0,\"#f0f921\"]],\"type\":\"heatmapgl\"}],\"histogram\":[{\"marker\":{\"pattern\":{\"fillmode\":\"overlay\",\"size\":10,\"solidity\":0.2}},\"type\":\"histogram\"}],\"histogram2d\":[{\"colorbar\":{\"outlinewidth\":0,\"ticks\":\"\"},\"colorscale\":[[0.0,\"#0d0887\"],[0.1111111111111111,\"#46039f\"],[0.2222222222222222,\"#7201a8\"],[0.3333333333333333,\"#9c179e\"],[0.4444444444444444,\"#bd3786\"],[0.5555555555555556,\"#d8576b\"],[0.6666666666666666,\"#ed7953\"],[0.7777777777777778,\"#fb9f3a\"],[0.8888888888888888,\"#fdca26\"],[1.0,\"#f0f921\"]],\"type\":\"histogram2d\"}],\"histogram2dcontour\":[{\"colorbar\":{\"outlinewidth\":0,\"ticks\":\"\"},\"colorscale\":[[0.0,\"#0d0887\"],[0.1111111111111111,\"#46039f\"],[0.2222222222222222,\"#7201a8\"],[0.3333333333333333,\"#9c179e\"],[0.4444444444444444,\"#bd3786\"],[0.5555555555555556,\"#d8576b\"],[0.6666666666666666,\"#ed7953\"],[0.7777777777777778,\"#fb9f3a\"],[0.8888888888888888,\"#fdca26\"],[1.0,\"#f0f921\"]],\"type\":\"histogram2dcontour\"}],\"mesh3d\":[{\"colorbar\":{\"outlinewidth\":0,\"ticks\":\"\"},\"type\":\"mesh3d\"}],\"parcoords\":[{\"line\":{\"colorbar\":{\"outlinewidth\":0,\"ticks\":\"\"}},\"type\":\"parcoords\"}],\"pie\":[{\"automargin\":true,\"type\":\"pie\"}],\"scatter\":[{\"marker\":{\"colorbar\":{\"outlinewidth\":0,\"ticks\":\"\"}},\"type\":\"scatter\"}],\"scatter3d\":[{\"line\":{\"colorbar\":{\"outlinewidth\":0,\"ticks\":\"\"}},\"marker\":{\"colorbar\":{\"outlinewidth\":0,\"ticks\":\"\"}},\"type\":\"scatter3d\"}],\"scattercarpet\":[{\"marker\":{\"colorbar\":{\"outlinewidth\":0,\"ticks\":\"\"}},\"type\":\"scattercarpet\"}],\"scattergeo\":[{\"marker\":{\"colorbar\":{\"outlinewidth\":0,\"ticks\":\"\"}},\"type\":\"scattergeo\"}],\"scattergl\":[{\"marker\":{\"colorbar\":{\"outlinewidth\":0,\"ticks\":\"\"}},\"type\":\"scattergl\"}],\"scattermapbox\":[{\"marker\":{\"colorbar\":{\"outlinewidth\":0,\"ticks\":\"\"}},\"type\":\"scattermapbox\"}],\"scatterpolar\":[{\"marker\":{\"colorbar\":{\"outlinewidth\":0,\"ticks\":\"\"}},\"type\":\"scatterpolar\"}],\"scatterpolargl\":[{\"marker\":{\"colorbar\":{\"outlinewidth\":0,\"ticks\":\"\"}},\"type\":\"scatterpolargl\"}],\"scatterternary\":[{\"marker\":{\"colorbar\":{\"outlinewidth\":0,\"ticks\":\"\"}},\"type\":\"scatterternary\"}],\"surface\":[{\"colorbar\":{\"outlinewidth\":0,\"ticks\":\"\"},\"colorscale\":[[0.0,\"#0d0887\"],[0.1111111111111111,\"#46039f\"],[0.2222222222222222,\"#7201a8\"],[0.3333333333333333,\"#9c179e\"],[0.4444444444444444,\"#bd3786\"],[0.5555555555555556,\"#d8576b\"],[0.6666666666666666,\"#ed7953\"],[0.7777777777777778,\"#fb9f3a\"],[0.8888888888888888,\"#fdca26\"],[1.0,\"#f0f921\"]],\"type\":\"surface\"}],\"table\":[{\"cells\":{\"fill\":{\"color\":\"#EBF0F8\"},\"line\":{\"color\":\"white\"}},\"header\":{\"fill\":{\"color\":\"#C8D4E3\"},\"line\":{\"color\":\"white\"}},\"type\":\"table\"}]},\"layout\":{\"annotationdefaults\":{\"arrowcolor\":\"#2a3f5f\",\"arrowhead\":0,\"arrowwidth\":1},\"autotypenumbers\":\"strict\",\"coloraxis\":{\"colorbar\":{\"outlinewidth\":0,\"ticks\":\"\"}},\"colorscale\":{\"diverging\":[[0,\"#8e0152\"],[0.1,\"#c51b7d\"],[0.2,\"#de77ae\"],[0.3,\"#f1b6da\"],[0.4,\"#fde0ef\"],[0.5,\"#f7f7f7\"],[0.6,\"#e6f5d0\"],[0.7,\"#b8e186\"],[0.8,\"#7fbc41\"],[0.9,\"#4d9221\"],[1,\"#276419\"]],\"sequential\":[[0.0,\"#0d0887\"],[0.1111111111111111,\"#46039f\"],[0.2222222222222222,\"#7201a8\"],[0.3333333333333333,\"#9c179e\"],[0.4444444444444444,\"#bd3786\"],[0.5555555555555556,\"#d8576b\"],[0.6666666666666666,\"#ed7953\"],[0.7777777777777778,\"#fb9f3a\"],[0.8888888888888888,\"#fdca26\"],[1.0,\"#f0f921\"]],\"sequentialminus\":[[0.0,\"#0d0887\"],[0.1111111111111111,\"#46039f\"],[0.2222222222222222,\"#7201a8\"],[0.3333333333333333,\"#9c179e\"],[0.4444444444444444,\"#bd3786\"],[0.5555555555555556,\"#d8576b\"],[0.6666666666666666,\"#ed7953\"],[0.7777777777777778,\"#fb9f3a\"],[0.8888888888888888,\"#fdca26\"],[1.0,\"#f0f921\"]]},\"colorway\":[\"#636efa\",\"#EF553B\",\"#00cc96\",\"#ab63fa\",\"#FFA15A\",\"#19d3f3\",\"#FF6692\",\"#B6E880\",\"#FF97FF\",\"#FECB52\"],\"font\":{\"color\":\"#2a3f5f\"},\"geo\":{\"bgcolor\":\"white\",\"lakecolor\":\"white\",\"landcolor\":\"#E5ECF6\",\"showlakes\":true,\"showland\":true,\"subunitcolor\":\"white\"},\"hoverlabel\":{\"align\":\"left\"},\"hovermode\":\"closest\",\"mapbox\":{\"style\":\"light\"},\"paper_bgcolor\":\"white\",\"plot_bgcolor\":\"#E5ECF6\",\"polar\":{\"angularaxis\":{\"gridcolor\":\"white\",\"linecolor\":\"white\",\"ticks\":\"\"},\"bgcolor\":\"#E5ECF6\",\"radialaxis\":{\"gridcolor\":\"white\",\"linecolor\":\"white\",\"ticks\":\"\"}},\"scene\":{\"xaxis\":{\"backgroundcolor\":\"#E5ECF6\",\"gridcolor\":\"white\",\"gridwidth\":2,\"linecolor\":\"white\",\"showbackground\":true,\"ticks\":\"\",\"zerolinecolor\":\"white\"},\"yaxis\":{\"backgroundcolor\":\"#E5ECF6\",\"gridcolor\":\"white\",\"gridwidth\":2,\"linecolor\":\"white\",\"showbackground\":true,\"ticks\":\"\",\"zerolinecolor\":\"white\"},\"zaxis\":{\"backgroundcolor\":\"#E5ECF6\",\"gridcolor\":\"white\",\"gridwidth\":2,\"linecolor\":\"white\",\"showbackground\":true,\"ticks\":\"\",\"zerolinecolor\":\"white\"}},\"shapedefaults\":{\"line\":{\"color\":\"#2a3f5f\"}},\"ternary\":{\"aaxis\":{\"gridcolor\":\"white\",\"linecolor\":\"white\",\"ticks\":\"\"},\"baxis\":{\"gridcolor\":\"white\",\"linecolor\":\"white\",\"ticks\":\"\"},\"bgcolor\":\"#E5ECF6\",\"caxis\":{\"gridcolor\":\"white\",\"linecolor\":\"white\",\"ticks\":\"\"}},\"title\":{\"x\":0.05},\"xaxis\":{\"automargin\":true,\"gridcolor\":\"white\",\"linecolor\":\"white\",\"ticks\":\"\",\"title\":{\"standoff\":15},\"zerolinecolor\":\"white\",\"zerolinewidth\":2},\"yaxis\":{\"automargin\":true,\"gridcolor\":\"white\",\"linecolor\":\"white\",\"ticks\":\"\",\"title\":{\"standoff\":15},\"zerolinecolor\":\"white\",\"zerolinewidth\":2}}},\"xaxis\":{\"anchor\":\"y\",\"domain\":[0.0,1.0],\"title\":{\"text\":\"x\"}},\"yaxis\":{\"anchor\":\"x\",\"domain\":[0.0,1.0],\"title\":{\"text\":\"sum of y\"}},\"legend\":{\"tracegroupgap\":0},\"margin\":{\"t\":60},\"barmode\":\"relative\"},                        {\"responsive\": true}                    ).then(function(){\n",
              "                            \n",
              "var gd = document.getElementById('fc1fca93-ff46-417a-badd-109178a298cc');\n",
              "var x = new MutationObserver(function (mutations, observer) {{\n",
              "        var display = window.getComputedStyle(gd).display;\n",
              "        if (!display || display === 'none') {{\n",
              "            console.log([gd, 'removed!']);\n",
              "            Plotly.purge(gd);\n",
              "            observer.disconnect();\n",
              "        }}\n",
              "}});\n",
              "\n",
              "// Listen for the removal of the full notebook cells\n",
              "var notebookContainer = gd.closest('#notebook-container');\n",
              "if (notebookContainer) {{\n",
              "    x.observe(notebookContainer, {childList: true});\n",
              "}}\n",
              "\n",
              "// Listen for the clearing of the current output cell\n",
              "var outputEl = gd.closest('.output');\n",
              "if (outputEl) {{\n",
              "    x.observe(outputEl, {childList: true});\n",
              "}}\n",
              "\n",
              "                        })                };                            </script>        </div>\n",
              "</body>\n",
              "</html>"
            ]
          },
          "metadata": {}
        }
      ]
    },
    {
      "cell_type": "markdown",
      "source": [
        "#### Confidence Intervals"
      ],
      "metadata": {
        "id": "4uTAbxov_2Se"
      }
    },
    {
      "cell_type": "code",
      "source": [
        "# Example 3-16. Retrieving a critical z-value\n",
        "from scipy.stats import norm\n",
        "\n",
        "def critical_z_value(p):\n",
        "  norm_dist = norm(loc = 0.0, scale = 1.0)\n",
        "  lower_area = (1.0 - p) / 2.0\n",
        "  upper_area = 1.0 - ((1.0 - p) / 2.0)\n",
        "  return norm_dist.ppf(lower_area), norm_dist.ppf(upper_area)\n",
        "\n",
        "print(critical_z_value(p = 0.95))"
      ],
      "metadata": {
        "colab": {
          "base_uri": "https://localhost:8080/"
        },
        "id": "J9Oz-tHO9aTC",
        "outputId": "34ba5b58-b499-4b08-80a7-d1e40aed310f"
      },
      "execution_count": 16,
      "outputs": [
        {
          "output_type": "stream",
          "name": "stdout",
          "text": [
            "(-1.959963984540054, 1.959963984540054)\n"
          ]
        }
      ]
    },
    {
      "cell_type": "code",
      "source": [
        "# Example 3-17. Calculating a confidence interval\n",
        "from math import sqrt\n",
        "from scipy.stats import norm\n",
        "\n",
        "def critical_z_value(p):\n",
        "  norm_dist = norm(loc = 0.0, scale = 1.0)\n",
        "  lower_area = (1.0 - p) / 2.0\n",
        "  upper_area = 1.0 - ((1.0 - p) / 2.0)\n",
        "  return norm_dist.ppf(lower_area), norm_dist.ppf(upper_area)\n",
        "\n",
        "def confidence_interval(p, sample_mean, sample_std, n):\n",
        "  lower, upper = critical_z_value(p)\n",
        "  lower_ci = lower * (sample_std / sqrt(n))\n",
        "  upper_ci = upper * (sample_std / sqrt(n))\n",
        "\n",
        "  return sample_mean + lower_ci, sample_mean + upper_ci\n",
        "\n",
        "print(confidence_interval(.95, 64.408, 2.05, 31))"
      ],
      "metadata": {
        "id": "j9Q7lItrAhBJ",
        "colab": {
          "base_uri": "https://localhost:8080/"
        },
        "outputId": "dd6f71cf-4176-45ea-962e-a24572165c2d"
      },
      "execution_count": 17,
      "outputs": [
        {
          "output_type": "stream",
          "name": "stdout",
          "text": [
            "(63.68635915701992, 65.12964084298008)\n"
          ]
        }
      ]
    },
    {
      "cell_type": "markdown",
      "source": [
        "#### Hypothesis Testing"
      ],
      "metadata": {
        "id": "qKqDvWrAfTl_"
      }
    },
    {
      "cell_type": "code",
      "source": [
        "# Example 3-18. Calculating the probability of cold recovery between 15-21 days\n",
        "from scipy.stats import norm\n",
        "\n",
        "# A cold has an 18 day mean recovery, 1.5 std dev\n",
        "mean = 18\n",
        "std_dev = 1.5\n",
        "\n",
        "# 95% probability recovery time takes [15, 21] days\n",
        "x = norm.cdf(21, mean, std_dev) - norm.cdf(15, mean, std_dev)\n",
        "\n",
        "print(x)"
      ],
      "metadata": {
        "colab": {
          "base_uri": "https://localhost:8080/"
        },
        "id": "F9mF2WNmfJSd",
        "outputId": "a7c7c62a-80a3-4f3c-8aac-0cc48a172833"
      },
      "execution_count": 18,
      "outputs": [
        {
          "output_type": "stream",
          "name": "stdout",
          "text": [
            "0.9544997361036416\n"
          ]
        }
      ]
    },
    {
      "cell_type": "markdown",
      "source": [
        "##### One-Tailed Test"
      ],
      "metadata": {
        "id": "Z0dRoJPWg35j"
      }
    },
    {
      "cell_type": "code",
      "source": [
        "# Example 3-19. Getting an x-value with 5% of area behind it\n",
        "from scipy.stats import norm\n",
        "\n",
        "# A cold has an 18 day mean recovery, 1.5 std dev\n",
        "mean = 18\n",
        "std_dev = 1.5\n",
        "\n",
        "# What x-value has 5% of the area behind it?\n",
        "x = norm.ppf(0.05, mean, std_dev)\n",
        "\n",
        "print(x)"
      ],
      "metadata": {
        "colab": {
          "base_uri": "https://localhost:8080/"
        },
        "id": "nDtuEvwbgnGT",
        "outputId": "1747ffa9-26c9-40f1-f9e0-2264db9db520"
      },
      "execution_count": 19,
      "outputs": [
        {
          "output_type": "stream",
          "name": "stdout",
          "text": [
            "15.53271955957279\n"
          ]
        }
      ]
    },
    {
      "cell_type": "code",
      "source": [
        "# Example 3-20. Calculating the one-tailed p-value\n",
        "from scipy.stats import norm\n",
        "\n",
        "# A cold has an 18 day mean recovery, 1.5 std dev\n",
        "mean = 18\n",
        "std_dev = 1.5\n",
        "\n",
        "# Probability of 16 days or less\n",
        "p_value = norm.cdf(16, mean, std_dev)\n",
        "\n",
        "print(p_value)\n"
      ],
      "metadata": {
        "colab": {
          "base_uri": "https://localhost:8080/"
        },
        "id": "rka0H4RxiHqd",
        "outputId": "3d66535d-da64-4ae1-c36c-17071c7ed90d"
      },
      "execution_count": 20,
      "outputs": [
        {
          "output_type": "stream",
          "name": "stdout",
          "text": [
            "0.09121121972586788\n"
          ]
        }
      ]
    },
    {
      "cell_type": "markdown",
      "source": [
        "##### Two-Tailed Test"
      ],
      "metadata": {
        "id": "o_he1kTHlBvz"
      }
    },
    {
      "cell_type": "code",
      "source": [
        "# Example 3-21. Calculating a range for a statistical significance of 5%\n",
        "from scipy.stats import norm\n",
        "\n",
        "# A cold has an 18 day mean recovery, 1.5 std dev\n",
        "mean = 18\n",
        "std_dev = 1.5\n",
        "\n",
        "# What x-value has 2.5% of the area behind it?\n",
        "x1 = norm.ppf(0.025, mean, std_dev)\n",
        "\n",
        "# What x-value has 97.5% of the area behind it?\n",
        "x2 = norm.ppf(0.975, mean, std_dev)\n",
        "\n",
        "print(x1)\n",
        "print(x2)"
      ],
      "metadata": {
        "colab": {
          "base_uri": "https://localhost:8080/"
        },
        "id": "dDyeOOGEk-bA",
        "outputId": "e6e64ab1-d90d-4f16-bc18-ac3e412cb62b"
      },
      "execution_count": 21,
      "outputs": [
        {
          "output_type": "stream",
          "name": "stdout",
          "text": [
            "15.060054023189918\n",
            "20.93994597681008\n"
          ]
        }
      ]
    },
    {
      "cell_type": "code",
      "source": [
        "# Example 3-22. Calculating the two-tailed p-value\n",
        "from scipy.stats import norm\n",
        "\n",
        "# A cold has an 18 day mean recovery, 1.5 std dev\n",
        "mean = 18\n",
        "std_dev = 1.5\n",
        "\n",
        "# Probability of 16 days or less\n",
        "p1 = norm.cdf(16, mean, std_dev)\n",
        "\n",
        "# Probability of 20 or more days\n",
        "p2 = 1.0 - norm.cdf(20, mean, std_dev)\n",
        "\n",
        "# P-value of both tails\n",
        "p_value = p1 + p2\n",
        "\n",
        "print(p_value)"
      ],
      "metadata": {
        "colab": {
          "base_uri": "https://localhost:8080/"
        },
        "id": "fwa_dGJJljFf",
        "outputId": "b17b9ec0-81ce-4968-e3b1-df7006af80d7"
      },
      "execution_count": 22,
      "outputs": [
        {
          "output_type": "stream",
          "name": "stdout",
          "text": [
            "0.18242243945173575\n"
          ]
        }
      ]
    },
    {
      "cell_type": "markdown",
      "source": [
        "### The T-Distribution: Dealing with Small Samples"
      ],
      "metadata": {
        "id": "1My9zDqPtoax"
      }
    },
    {
      "cell_type": "code",
      "source": [
        "# Example 3-23. Getting a critical value range with a t-distribution\n",
        "from scipy.stats import t\n",
        "\n",
        "# Get critical value range for 95% confidence with a sample size of 25\n",
        "n = 25\n",
        "lower = t.ppf(0.025, df = n - 1)\n",
        "upper = t.ppf(0.975, df = n - 1)\n",
        "\n",
        "print(lower, upper)"
      ],
      "metadata": {
        "colab": {
          "base_uri": "https://localhost:8080/"
        },
        "id": "_y4zz5qBmUvT",
        "outputId": "a3c894ce-cc91-4975-9a3b-4b66f460fe43"
      },
      "execution_count": 23,
      "outputs": [
        {
          "output_type": "stream",
          "name": "stdout",
          "text": [
            "-2.063898561628021 2.0638985616280205\n"
          ]
        }
      ]
    },
    {
      "cell_type": "markdown",
      "source": [
        "### Exercises"
      ],
      "metadata": {
        "id": "_8t4yWe7uFV1"
      }
    },
    {
      "cell_type": "markdown",
      "source": [
        "1. You bought a spool of 1.75 mm filament for your 3D printer. You want to measure how close the filament diameter really is to 1.75 mm. You use a caliper tool and ample the diameter five times on the spool:\n",
        "\n",
        "  1.78, 1.75, 1.72, 1.74, 1.77\n",
        "\n",
        "  Calculate the mean and standard deviation for this set of values."
      ],
      "metadata": {
        "id": "2PsQmqxFuHFr"
      }
    },
    {
      "cell_type": "code",
      "source": [
        "from math import sqrt\n",
        "\n",
        "data = [1.78, 1.75, 1.72, 1.74, 1.77]\n",
        "\n",
        "mean = sum(data) / len(data)\n",
        "\n",
        "def std_dev(values, mean):\n",
        "  variance = sum((v - mean) ** 2 for v in values) / len(values)\n",
        "  return sqrt(variance)\n",
        "\n",
        "print(f\"Mean: {mean}\")\n",
        "print(f\"SD: {std_dev(data, mean)}\")"
      ],
      "metadata": {
        "colab": {
          "base_uri": "https://localhost:8080/"
        },
        "id": "nGKjuYOquAME",
        "outputId": "dc8f5b82-5f86-48db-f2d7-1a984d957e6f"
      },
      "execution_count": 24,
      "outputs": [
        {
          "output_type": "stream",
          "name": "stdout",
          "text": [
            "Mean: 1.752\n",
            "SD: 0.02135415650406264\n"
          ]
        }
      ]
    },
    {
      "cell_type": "markdown",
      "source": [
        "2. A manufacturer says the Z-phone smart phone has a mean consumer life of 42 months with a standard deviation of 8 months. Assuming a normal distribution, what is the probability of a given random Z-phone will last between 20 and 30 months?"
      ],
      "metadata": {
        "id": "EmhP03jwvumX"
      }
    },
    {
      "cell_type": "code",
      "source": [
        "from scipy.stats import norm\n",
        "\n",
        "mean = 42\n",
        "std_dev = 8\n",
        "\n",
        "lower = 20\n",
        "upper = 30\n",
        "\n",
        "prob = norm.cdf(upper, mean, std_dev) - norm.cdf(lower, mean, std_dev)\n",
        "\n",
        "print(prob)\n"
      ],
      "metadata": {
        "colab": {
          "base_uri": "https://localhost:8080/"
        },
        "id": "OU86sg_yv-TB",
        "outputId": "a7ae37e1-b3c5-4cc8-a245-21c6de107a2d"
      },
      "execution_count": 25,
      "outputs": [
        {
          "output_type": "stream",
          "name": "stdout",
          "text": [
            "0.06382743803380352\n"
          ]
        }
      ]
    },
    {
      "cell_type": "markdown",
      "source": [
        "3. I am skeptical that my 3D printer filament is not 1.75 mm in average diameter as advertised. I sampled 34 measurements with my tool. The sample mean is 1.715588 and the sample standard deviation is 0.029252. What is the 99% confidence interval for the mean of my entire spool of filament?"
      ],
      "metadata": {
        "id": "F4WV5AciwtfC"
      }
    },
    {
      "cell_type": "code",
      "source": [
        "from math import sqrt\n",
        "from scipy.stats import norm\n",
        "\n",
        "def cv(p, mean = 0.0, std_dev = 1.0):\n",
        "  norm_dist = norm(loc = mean, scale = std_dev)\n",
        "  lower = (1.0 - p) / 2.0\n",
        "  upper = 1.0 - lower\n",
        "  cv_l, cv_u = norm_dist.ppf(lower), norm_dist.ppf(upper)\n",
        "  \n",
        "  return cv_l, cv_u\n",
        "\n",
        "def ci(p, sample_mean, sample_std_dev, n):\n",
        "  lower, upper = cv(p)\n",
        "  ci_l = lower * (sample_std_dev / sqrt(n))\n",
        "  ci_u = upper * (sample_std_dev / sqrt(n))\n",
        "  s_l = sample_mean + ci_l\n",
        "  s_u = sample_mean + ci_u\n",
        "\n",
        "  return s_l, s_u\n",
        "\n",
        "print(f\"The 99% confidence interval is between {ci(0.99, 1.715588, 0.029252, 34)}\")"
      ],
      "metadata": {
        "colab": {
          "base_uri": "https://localhost:8080/"
        },
        "id": "djiMEfmBvRds",
        "outputId": "2cdc6e8f-5dcd-4c01-a1e1-9c81dbec3ac4"
      },
      "execution_count": 26,
      "outputs": [
        {
          "output_type": "stream",
          "name": "stdout",
          "text": [
            "The 99% confidence interval is between (1.7026658973748656, 1.7285101026251342)\n"
          ]
        }
      ]
    },
    {
      "cell_type": "code",
      "source": [
        ""
      ],
      "metadata": {
        "id": "umOY0okl_Y6w"
      },
      "execution_count": 26,
      "outputs": []
    }
  ]
}