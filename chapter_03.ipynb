{
  "nbformat": 4,
  "nbformat_minor": 0,
  "metadata": {
    "colab": {
      "name": "chapter-03.ipynb",
      "provenance": [],
      "collapsed_sections": [],
      "authorship_tag": "ABX9TyOnn9Z3ohYvUyNOW61MwGGu",
      "include_colab_link": true
    },
    "kernelspec": {
      "name": "python3",
      "display_name": "Python 3"
    },
    "language_info": {
      "name": "python"
    }
  },
  "cells": [
    {
      "cell_type": "markdown",
      "metadata": {
        "id": "view-in-github",
        "colab_type": "text"
      },
      "source": [
        "<a href=\"https://colab.research.google.com/github/g-r-a-e-m-e/essential-math-for-data-science/blob/main/chapter_03.ipynb\" target=\"_parent\"><img src=\"https://colab.research.google.com/assets/colab-badge.svg\" alt=\"Open In Colab\"/></a>"
      ]
    },
    {
      "cell_type": "markdown",
      "source": [
        "# Chapter 03\n",
        "\n",
        "## Descriptive and Inferential Statistics"
      ],
      "metadata": {
        "id": "TgrtYkrLcYhJ"
      }
    },
    {
      "cell_type": "markdown",
      "source": [
        "### Descriptive Statistics"
      ],
      "metadata": {
        "id": "W0cLdOmXcfU_"
      }
    },
    {
      "cell_type": "markdown",
      "source": [
        "#### Mean and Weighted Mean"
      ],
      "metadata": {
        "id": "U-eYmIOMciTF"
      }
    },
    {
      "cell_type": "code",
      "execution_count": 1,
      "metadata": {
        "colab": {
          "base_uri": "https://localhost:8080/"
        },
        "id": "LUxNdyJ2cUbH",
        "outputId": "2fc9cd68-d301-4a64-ea8f-85d0325ca270"
      },
      "outputs": [
        {
          "output_type": "stream",
          "name": "stdout",
          "text": [
            "2.875\n"
          ]
        }
      ],
      "source": [
        "# Example 3-1. Calculating mean\n",
        "# Number of pets each person owns\n",
        "sample = [1, 3, 2, 5, 7, 0, 2, 3]\n",
        "\n",
        "mean = sum(sample) / len(sample)\n",
        "\n",
        "print(mean)"
      ]
    },
    {
      "cell_type": "code",
      "source": [
        "# Exampl 3-2. Calculating a weighted mean\n",
        "sample = [90, 80, 63, 87]\n",
        "weights = [.20, .20, .20, .40]\n",
        "\n",
        "weighted_mean = sum(s * w for s, w in zip(sample, weights)) / sum(weights)\n",
        "\n",
        "print(weighted_mean)"
      ],
      "metadata": {
        "colab": {
          "base_uri": "https://localhost:8080/"
        },
        "id": "6iOykly2cwIv",
        "outputId": "10dabe18-8557-4594-fe88-3a6d12b2c995"
      },
      "execution_count": 2,
      "outputs": [
        {
          "output_type": "stream",
          "name": "stdout",
          "text": [
            "81.4\n"
          ]
        }
      ]
    },
    {
      "cell_type": "code",
      "source": [
        "# Example 3-3. Calculating another weighted mean\n",
        "sample = [90, 80, 63, 87]\n",
        "weights = [1.0, 1.0, 1.0, 2.0]\n",
        "\n",
        "weighted_mean = sum(s * w for s, w in zip(sample, weights)) / sum(weights)\n",
        "\n",
        "print(weighted_mean)"
      ],
      "metadata": {
        "colab": {
          "base_uri": "https://localhost:8080/"
        },
        "id": "9UPZx8aeelz-",
        "outputId": "c2fec119-995b-4eac-e49e-efa152fdd4d4"
      },
      "execution_count": 3,
      "outputs": [
        {
          "output_type": "stream",
          "name": "stdout",
          "text": [
            "81.4\n"
          ]
        }
      ]
    },
    {
      "cell_type": "markdown",
      "source": [
        "#### Median"
      ],
      "metadata": {
        "id": "zoY__JF7fE2Y"
      }
    },
    {
      "cell_type": "code",
      "source": [
        "# Example 3-4. Calculating the median\n",
        "# Number of pets each person owns\n",
        "sample = [0, 1, 5, 7, 9, 10, 14]\n",
        "\n",
        "def median(values):\n",
        "  ordered = sorted(values)\n",
        "  print(ordered)\n",
        "  n = len(ordered)\n",
        "  mid = int(n / 2) - 1 if n % 2 == 0 else int(n / 2)\n",
        "\n",
        "  if n % 2 == 0:\n",
        "    return (ordered[mid] + ordered[mid + 1]) / 2.0\n",
        "  else:\n",
        "    return ordered[mid]\n",
        "\n",
        "print(median(sample))"
      ],
      "metadata": {
        "colab": {
          "base_uri": "https://localhost:8080/"
        },
        "id": "FaoEfoBJe_8M",
        "outputId": "d04c569e-b1dd-475b-bcc7-12a07b8e27de"
      },
      "execution_count": 4,
      "outputs": [
        {
          "output_type": "stream",
          "name": "stdout",
          "text": [
            "[0, 1, 5, 7, 9, 10, 14]\n",
            "7\n"
          ]
        }
      ]
    },
    {
      "cell_type": "markdown",
      "source": [
        "#### Mode"
      ],
      "metadata": {
        "id": "iAmqNX5IgPms"
      }
    },
    {
      "cell_type": "code",
      "source": [
        "# Example 3-5. Calculating the mode\n",
        "from collections import defaultdict\n",
        "\n",
        "sample = [1, 3, 2, 5, 7, 0, 2, 3]\n",
        "\n",
        "def mode(values):\n",
        "  counts = defaultdict(lambda: 0)\n",
        "\n",
        "  for s in values:\n",
        "    counts[s] += 1\n",
        "  \n",
        "  max_count = max(counts.values())\n",
        "  modes = [v for v in set(values) if counts[v] == max_count]\n",
        "\n",
        "  return modes\n",
        "\n",
        "print(mode(sample))"
      ],
      "metadata": {
        "colab": {
          "base_uri": "https://localhost:8080/"
        },
        "id": "-iD8OxlJfqn1",
        "outputId": "f6c78e7d-5e3b-4156-f8e1-be8d20b0ad25"
      },
      "execution_count": 5,
      "outputs": [
        {
          "output_type": "stream",
          "name": "stdout",
          "text": [
            "[2, 3]\n"
          ]
        }
      ]
    },
    {
      "cell_type": "markdown",
      "source": [
        "#### Variance and Standard Deviation"
      ],
      "metadata": {
        "id": "tbWan5h3hBBB"
      }
    },
    {
      "cell_type": "code",
      "source": [
        "# Example 3-6: Calculating variance\n",
        "\n",
        "data = [0, 1, 5, 7, 9, 10, 14]\n",
        "\n",
        "def variance(values):\n",
        "  mean = sum(values) / len(values)\n",
        "  _variance = sum((v - mean) ** 2 for v in values) / len(values)\n",
        "  return _variance\n",
        "\n",
        "print(variance(data))"
      ],
      "metadata": {
        "colab": {
          "base_uri": "https://localhost:8080/"
        },
        "id": "2I80jbDpg0jx",
        "outputId": "b22deb51-1edd-4416-ec9a-3414250e516b"
      },
      "execution_count": 6,
      "outputs": [
        {
          "output_type": "stream",
          "name": "stdout",
          "text": [
            "21.387755102040813\n"
          ]
        }
      ]
    },
    {
      "cell_type": "code",
      "source": [
        "# Example 3-7. Calculating standard deviation\n",
        "from math import sqrt\n",
        "\n",
        "data = [0, 1, 5, 7, 9, 10, 14]\n",
        "\n",
        "def variance(values):\n",
        "  mean = sum(values) / len(values)\n",
        "  _variance = sum((v - mean) ** 2 for v in values) / len(values)\n",
        "  return _variance\n",
        "\n",
        "def std_dev(values):\n",
        "  return sqrt(variance(values))\n",
        "\n",
        "print(std_dev(data))"
      ],
      "metadata": {
        "colab": {
          "base_uri": "https://localhost:8080/"
        },
        "id": "7pamHvVHjA0d",
        "outputId": "bc39e14c-6e7c-4ff6-c5ba-7cdd7a7eb184"
      },
      "execution_count": 7,
      "outputs": [
        {
          "output_type": "stream",
          "name": "stdout",
          "text": [
            "4.624689730353898\n"
          ]
        }
      ]
    },
    {
      "cell_type": "markdown",
      "source": [
        "##### Sample Variance and Standard Deviation"
      ],
      "metadata": {
        "id": "dmqw2XoQjvrE"
      }
    },
    {
      "cell_type": "code",
      "source": [
        "# Example 3-8. Calculating standard deviation for a sample\n",
        "from math import sqrt\n",
        "\n",
        "data = [0, 1, 5, 7, 9, 10, 14]\n",
        "\n",
        "def variance(values, is_sample: bool = False):\n",
        "  mean = sum(values) / len(values)\n",
        "  _variance = sum((v - mean) ** 2 for v in values) / (len(values) - (1 if is_sample else 0))\n",
        "  \n",
        "  return _variance\n",
        "\n",
        "def std_dev(values, is_sample: bool = False):\n",
        "  return sqrt(variance(values, is_sample))\n",
        "\n",
        "print(f\"Variance = {variance(data, True)}\")\n",
        "print(f\"Standard Deviation = {std_dev(data, True)}\")"
      ],
      "metadata": {
        "colab": {
          "base_uri": "https://localhost:8080/"
        },
        "id": "vArR_6i7jksU",
        "outputId": "5dafce27-b20e-402b-de20-4c89e6397950"
      },
      "execution_count": 8,
      "outputs": [
        {
          "output_type": "stream",
          "name": "stdout",
          "text": [
            "Variance = 24.95238095238095\n",
            "Standard Deviation = 4.99523582550223\n"
          ]
        }
      ]
    },
    {
      "cell_type": "markdown",
      "source": [
        "##### Probability Density Function"
      ],
      "metadata": {
        "id": "rxA3cvewX04h"
      }
    },
    {
      "cell_type": "code",
      "source": [
        "# Example 3-9 The normal distribution PDF\n",
        "import math\n",
        "def normal_pdf(x: float, mean: float, std_dev: float):\n",
        "  return (1.0 / (2.0* math.pi * std_dev ** 2) ** 0.5) * math.exp(-1.0 * ((x - mean) ** 2 / (2.0 * std_dev ** 2)))\n",
        "\n",
        "normal_pdf(6.0, 3.0, 1.0)"
      ],
      "metadata": {
        "colab": {
          "base_uri": "https://localhost:8080/"
        },
        "id": "FkxoOJj6ktWr",
        "outputId": "a77e99b8-87dc-4f94-b772-2f2bbcb42d37"
      },
      "execution_count": 9,
      "outputs": [
        {
          "output_type": "execute_result",
          "data": {
            "text/plain": [
              "0.0044318484119380075"
            ]
          },
          "metadata": {},
          "execution_count": 9
        }
      ]
    },
    {
      "cell_type": "markdown",
      "source": [
        "##### Cumulative Density Function"
      ],
      "metadata": {
        "id": "UEDLMUZBY8Ur"
      }
    },
    {
      "cell_type": "code",
      "source": [
        "# Example 3-10. The normal distribution CDF\n",
        "from scipy.stats import norm\n",
        "\n",
        "mean = 64.43\n",
        "sdev = 2.99\n",
        "\n",
        "x = norm.cdf(64.43, mean, sdev)\n",
        "\n",
        "print(x)"
      ],
      "metadata": {
        "colab": {
          "base_uri": "https://localhost:8080/"
        },
        "id": "Ub8Bll00YkKz",
        "outputId": "7508a4c7-0748-4b9f-bb70-3712f99d4eae"
      },
      "execution_count": 10,
      "outputs": [
        {
          "output_type": "stream",
          "name": "stdout",
          "text": [
            "0.5\n"
          ]
        }
      ]
    },
    {
      "cell_type": "code",
      "source": [
        "# Example 3-11. Getting a middle range probability using the CDF\n",
        "from scipy.stats import norm\n",
        "\n",
        "mean = 64.43\n",
        "sdev = 2.99\n",
        "\n",
        "x = norm.cdf(66, mean, sdev) - norm.cdf(62, mean, sdev)\n",
        "\n",
        "print(x)"
      ],
      "metadata": {
        "colab": {
          "base_uri": "https://localhost:8080/"
        },
        "id": "MgUANq1NZUK6",
        "outputId": "61a5d667-98ca-4b5d-b1c1-85ba5450a399"
      },
      "execution_count": 11,
      "outputs": [
        {
          "output_type": "stream",
          "name": "stdout",
          "text": [
            "0.4920450147062894\n"
          ]
        }
      ]
    },
    {
      "cell_type": "markdown",
      "source": [
        "#### The Inverse CDF"
      ],
      "metadata": {
        "id": "qKFR4eR1Z3Yf"
      }
    },
    {
      "cell_type": "code",
      "source": [
        "# Example 3-12. Using the inverse CDF\n",
        "from scipy.stats import norm\n",
        "\n",
        "x = norm.ppf(.95, loc = 64.43, scale = 2.99)\n",
        "\n",
        "print(x)"
      ],
      "metadata": {
        "id": "ZPB2AQTFZxIl",
        "colab": {
          "base_uri": "https://localhost:8080/"
        },
        "outputId": "e4cb32a3-1c02-475a-eaa7-4f1114fb50a5"
      },
      "execution_count": 12,
      "outputs": [
        {
          "output_type": "stream",
          "name": "stdout",
          "text": [
            "69.3481123445849\n"
          ]
        }
      ]
    },
    {
      "cell_type": "code",
      "source": [
        "# Example 3-13. Generating random numbers from a normal distribution\n",
        "import random\n",
        "import matplotlib.pyplot as plt\n",
        "\n",
        "x = []\n",
        "\n",
        "for i in range(0, 1000):\n",
        "  random_p = random.uniform(0.0, 1.0)\n",
        "  random_weight = norm.ppf(random_p, loc = 64.43, scale = 2.99)\n",
        "  x.append(random_weight)\n",
        "\n",
        "plt.hist(x, bins = 50)"
      ],
      "metadata": {
        "colab": {
          "base_uri": "https://localhost:8080/",
          "height": 555
        },
        "id": "uPlBuFw50kxV",
        "outputId": "53d560b0-00a1-40fa-e1c4-24795226c32c"
      },
      "execution_count": 13,
      "outputs": [
        {
          "output_type": "execute_result",
          "data": {
            "text/plain": [
              "(array([ 1.,  1.,  1.,  2.,  1.,  2.,  2.,  5.,  5., 10.,  7., 14., 14.,\n",
              "        11., 15., 27., 31., 31., 38., 45., 47., 47., 45., 57., 55., 42.,\n",
              "        49., 48., 37., 38., 46., 38., 39., 27., 25., 29., 13.,  9., 13.,\n",
              "         3.,  9.,  7.,  4.,  2.,  2.,  1.,  2.,  0.,  2.,  1.]),\n",
              " array([54.69945441, 55.0888551 , 55.47825579, 55.86765647, 56.25705716,\n",
              "        56.64645785, 57.03585854, 57.42525923, 57.81465991, 58.2040606 ,\n",
              "        58.59346129, 58.98286198, 59.37226267, 59.76166335, 60.15106404,\n",
              "        60.54046473, 60.92986542, 61.31926611, 61.70866679, 62.09806748,\n",
              "        62.48746817, 62.87686886, 63.26626955, 63.65567023, 64.04507092,\n",
              "        64.43447161, 64.8238723 , 65.21327299, 65.60267368, 65.99207436,\n",
              "        66.38147505, 66.77087574, 67.16027643, 67.54967712, 67.9390778 ,\n",
              "        68.32847849, 68.71787918, 69.10727987, 69.49668056, 69.88608124,\n",
              "        70.27548193, 70.66488262, 71.05428331, 71.443684  , 71.83308468,\n",
              "        72.22248537, 72.61188606, 73.00128675, 73.39068744, 73.78008812,\n",
              "        74.16948881]),\n",
              " <a list of 50 Patch objects>)"
            ]
          },
          "metadata": {},
          "execution_count": 13
        },
        {
          "output_type": "display_data",
          "data": {
            "text/plain": [
              "<Figure size 432x288 with 1 Axes>"
            ],
            "image/png": "[encoded data removed]"
          },
          "metadata": {
            "needs_background": "light"
          }
        }
      ]
    },
    {
      "cell_type": "markdown",
      "source": [
        "#### Z-scores"
      ],
      "metadata": {
        "id": "1sSkrVvb6sCh"
      }
    },
    {
      "cell_type": "code",
      "source": [
        "# Example 3-14. TUrn Z-scores into x-values and vice versa\n",
        "\n",
        "def z_score(x, mean, std):\n",
        "  return (x - mean) / std\n",
        "\n",
        "def z_to_x(z, mean, std):\n",
        "  return (z * std) + mean\n",
        "\n",
        "mean = 140000\n",
        "std_dev = 3000\n",
        "x = 150000\n",
        "\n",
        "# Convert to Z-score then back to X\n",
        "z = z_score(x, mean, std_dev)\n",
        "back_to_x = z_to_x(z, mean, std_dev)\n",
        "\n",
        "print(f\"Z-score: {z}\")\n",
        "print(f\"Back to X: {back_to_x}\")"
      ],
      "metadata": {
        "colab": {
          "base_uri": "https://localhost:8080/"
        },
        "id": "jXr-DwIh05c5",
        "outputId": "9c08deb8-8a24-4e7f-e542-d65da93d1739"
      },
      "execution_count": 14,
      "outputs": [
        {
          "output_type": "stream",
          "name": "stdout",
          "text": [
            "Z-score: 3.3333333333333335\n",
            "Back to X: 150000.0\n"
          ]
        }
      ]
    },
    {
      "cell_type": "markdown",
      "source": [
        "### Inferential Statistics"
      ],
      "metadata": {
        "id": "RvNZ-AlH7puW"
      }
    },
    {
      "cell_type": "markdown",
      "source": [
        "#### The Central Limit Theorem"
      ],
      "metadata": {
        "id": "uHTSPRlP7wQr"
      }
    },
    {
      "cell_type": "code",
      "source": [
        "# Example 3-15. Exploring the central limit theorem\n",
        "# Samples of the uniform distribution will average out to a normal distribution\n",
        "import random\n",
        "import plotly.express as px\n",
        "\n",
        "sample_size = 300\n",
        "sample_count = 1000\n",
        "\n",
        "# Central limit theorem, 1000 samples each with 31 random numbers in [0.0, 1.0]\n",
        "x_values = [(sum([random.uniform(0.0, 1.0) for i in range(sample_size)]) / \\\n",
        "                 sample_size) \\\n",
        "             for _ in range(sample_count)]\n",
        "\n",
        "y_values = [1 for _ in range(sample_count)]\n",
        "\n",
        "px.histogram(x = x_values, y = y_values, nbins = 20).show()"
      ],
      "metadata": {
        "colab": {
          "base_uri": "https://localhost:8080/",
          "height": 542
        },
        "id": "t_aZnlyI7ykC",
        "outputId": "541413ee-540a-423c-c9f0-85e5516b59de"
      },
      "execution_count": 15,
      "outputs": [
        {
          "output_type": "display_data",
          "data": {
            "text/html": [
              "<html>\n",
              "<head><meta charset=\"utf-8\" /></head>\n",
              "<body>\n",
              "    <div>            <script src=\"https://cdnjs.cloudflare.com/ajax/libs/mathjax/2.7.5/MathJax.js?config=TeX-AMS-MML_SVG\"></script><script type=\"text/javascript\">if (window.MathJax) {MathJax.Hub.Config({SVG: {font: \"STIX-Web\"}});}</script>                <script type=\"text/javascript\">window.PlotlyConfig = {MathJaxConfig: 'local'};</script>\n",
              "        <script src=\"https://cdn.plot.ly/plotly-2.8.3.min.js\"></script>                <div id=\"9b65505c-bfab-4788-84e5-c4966e152d55\" class=\"plotly-graph-div\" style=\"height:525px; width:100%;\"></div>            <script type=\"text/javascript\">                                    window.PLOTLYENV=window.PLOTLYENV || {};                                    if (document.getElementById(\"9b65505c-bfab-4788-84e5-c4966e152d55\")) {                    Plotly.newPlot(                        \"9b65505c-bfab-4788-84e5-c4966e152d55\",                        [{\"alignmentgroup\":\"True\",\"bingroup\":\"x\",\"histfunc\":\"sum\",\"hovertemplate\":\"x=%{x}<br>sum of y=%{y}<extra></extra>\",\"legendgroup\":\"\",\"marker\":{\"color\":\"#636efa\",\"pattern\":{\"shape\":\"\"}},\"name\":\"\",\"nbinsx\":20,\"offsetgroup\":\"\",\"orientation\":\"v\",\"showlegend\":false,\"x\":[0.5058714909546722,0.5120020079684409,0.5436565484900652,0.502221449701949,0.5042810850391931,0.483753958747211,0.4768396102496171,0.5235766297720883,0.5026857561281592,0.48723405065047437,0.5031697103980423,0.5035998945218392,0.504091510869038,0.475199844931763,0.5363116367508567,0.47683395113965155,0.47005203727436773,0.49165912179952626,0.48419960300756076,0.5358256088521202,0.5073067917803595,0.5147469120685393,0.5107491176181286,0.4949303398699185,0.4960514317287736,0.5108708042462724,0.4960017465253978,0.5020250322577284,0.4930031434658251,0.48584231407408557,0.5130252569410525,0.5049441390356381,0.49204929016264143,0.5126914934563669,0.4973573753907154,0.5011246972757875,0.4884283246978971,0.539123828090631,0.5199929367890157,0.5219231153517488,0.5013905323825277,0.49579049974436856,0.5102870404838037,0.4647978318298601,0.5097441054077477,0.5054189315496069,0.4929281969101921,0.48140711295885497,0.5087322722820378,0.510290278354676,0.5009994930019505,0.5188258205545103,0.5162756441738726,0.5138207651683098,0.49405533235649424,0.4728679764693888,0.5132942457721529,0.4994772995243205,0.4685787268435915,0.5046988837383577,0.5176720706340882,0.48768953885548855,0.5201008705372355,0.5085499084357962,0.4664665126991192,0.46009581892072426,0.50426409867717,0.47812514648444004,0.502425059302355,0.5301741100084634,0.4896542076533808,0.4971482393577482,0.4950707152981737,0.4965722328323261,0.4675470760830725,0.4756884902234167,0.5351091021749688,0.48976008826148787,0.5158166988468967,0.5175740891116564,0.457089493718712,0.48266541960572584,0.5150037082699741,0.5062756861264485,0.4800517417366233,0.504171871703017,0.5049202054471554,0.5030265677737352,0.5013462619350807,0.522637808550072,0.5177932352738245,0.5107671536314359,0.49324589265362534,0.4848243885418899,0.5091425258831308,0.5043246972253129,0.48769648508072655,0.4944772109110469,0.5220405470382973,0.49982430110432147,0.4951132064294099,0.4950792133707097,0.49302043613727686,0.48995956856829187,0.4691452349411299,0.5171618602097621,0.48027637061046335,0.5103769636562435,0.4979165632339416,0.5112434616133971,0.5051989241150683,0.5072980650276322,0.5051491617410048,0.4670302948372663,0.48113354289928834,0.482525456221512,0.4885353312037311,0.48435721811909493,0.4918011750664462,0.5290966752840137,0.48572744020510955,0.4858673224383831,0.49711408052623957,0.5094860220291617,0.47122554960549434,0.5071171116788136,0.48068400553378343,0.47788072341700805,0.5018192617348123,0.5015137846488211,0.4734671795133754,0.49401191383120163,0.48237455889659475,0.5198282113465318,0.4895164338128792,0.5267037374555069,0.48527902062739836,0.49929807009784316,0.5066128952109518,0.4803099315213808,0.48296921202529625,0.4850829565027419,0.47217429029508406,0.5027546558162767,0.4964872270094688,0.508777731610088,0.5220176665574673,0.4748284567632727,0.49539421336868356,0.5361811772810054,0.5040636378535013,0.5025931893419907,0.4970302050321222,0.49070559509401895,0.4663496977256233,0.49881907516931706,0.4989687344721062,0.507106708239819,0.5146894472086005,0.5245402666806759,0.5045092472601669,0.5392008778597928,0.4922236677113188,0.48324045381291675,0.5293302276581816,0.5057456674051989,0.5016675643796489,0.5151628722056352,0.4965568214482412,0.5127415890407401,0.4888319514745108,0.5248987924462702,0.4736054326506206,0.48038229509467006,0.48460613681062437,0.5067220220082891,0.5089735511439587,0.5045221580801896,0.5337019064941116,0.5087796537035125,0.5097530964870566,0.49584233067018885,0.49745303046420986,0.4908510071650319,0.5007271680329596,0.4891671223163385,0.4941492376370337,0.5014393607221658,0.4962226356357702,0.4962048301786668,0.48203091826538724,0.516299329008062,0.49624130407231914,0.5017750349051106,0.5374149450560591,0.5001122232074975,0.5011201543065312,0.484382961717295,0.4994952675170463,0.4856308419690142,0.49724730429013797,0.5099683873008451,0.5098929348740346,0.48522807585515904,0.5109190873280129,0.4826764480691738,0.5153590654030826,0.4970168898954294,0.47483095728610153,0.4851764629778346,0.482670534462664,0.5343342973659255,0.53152481242613,0.5100950916361048,0.5077026875757821,0.4984614008971574,0.49643129706692124,0.48537491789686016,0.5065853464664727,0.5291066868099709,0.4901488739215789,0.5307646340684234,0.47759299431301677,0.47226420617716164,0.5292746014981524,0.48704122676904915,0.4839013694182911,0.4730672315882983,0.473641826973109,0.5266180335171414,0.49502496565078485,0.5092312968598989,0.4889834730323589,0.4810584689107353,0.5121592844990263,0.47974666917427594,0.4819324553149463,0.5129399168554465,0.5309208185361207,0.5024381926711825,0.48470377006877774,0.5003257041639713,0.4681784307813244,0.49739618102747907,0.5089705211925426,0.4787599700569523,0.5069245283763076,0.4949896206097483,0.4877600421068679,0.5261338310618047,0.49582439097936015,0.48799629734692807,0.5045574173146278,0.4908464697902248,0.4965583477436768,0.5285103888264786,0.47697427950458166,0.5060309370989622,0.4868874094782158,0.5104607183683133,0.5055711874412709,0.5062612350066789,0.5205272826304103,0.5493957991495684,0.5207565574133071,0.5117014037874474,0.4861799955780174,0.49943521621415593,0.484391769520062,0.4996239969819932,0.5037704820273577,0.5130437802430696,0.5232488074475046,0.48987044065747154,0.5356419125266245,0.490622703395921,0.47733090587923216,0.5205479605037958,0.5052120785195684,0.49724691572051216,0.5046437268291524,0.5138953724465044,0.4646546472123401,0.4928811295246326,0.4974629928083358,0.48062526463590377,0.5068316264018655,0.49307825774389413,0.5063775376105898,0.5128122914144837,0.516567449520913,0.505460182295166,0.4988058871977621,0.5151503693606578,0.5036238061303177,0.5401942900999892,0.5128318790375533,0.5116799087980395,0.4728317544684736,0.456193714632961,0.5015634764070817,0.5404491546988027,0.49587731725793577,0.48757694715707267,0.5038189837323374,0.4936074535683612,0.5570638993285719,0.5117476076648798,0.5065375967258262,0.5087268190026044,0.4917819680326863,0.5150535892873629,0.49789960202069156,0.5064226906071239,0.5202808262836133,0.5275383058882366,0.522454143775196,0.4587615098836248,0.5436080972790011,0.48725410769843686,0.523342812255272,0.5025687672471384,0.49132451524092025,0.5119498403331119,0.4841762232491318,0.5015559001632008,0.5205536171420765,0.5150390970358606,0.48355033310724405,0.4904542492745704,0.47637481063094156,0.5262684059264768,0.5100752353449269,0.4915151307408511,0.4921179533650525,0.4831002595737336,0.5123560200705557,0.4996904384980125,0.5072890620523149,0.5131495638897877,0.49738080221523984,0.4951971086684255,0.4695932986317775,0.48571619038282865,0.5037506636378779,0.5059231048087334,0.49239300766759886,0.4983860977142325,0.4764693632450198,0.4930433103906057,0.4958110444343302,0.5151296066201175,0.5021489766269107,0.5272315247142993,0.5064820415078403,0.49431024269011575,0.4908332669728559,0.5095271031083769,0.4975788703788989,0.5232892779098656,0.5056856557775415,0.4877149478314102,0.5153404811718323,0.5100637808768943,0.521452874650068,0.511295776385707,0.5129434764695828,0.4783279530945763,0.5195092840047028,0.5231528398717856,0.5300154859506142,0.5097089677340556,0.5051262447427753,0.5084447978490026,0.5185826525936165,0.5018769334143177,0.48860789928821996,0.47722176306560227,0.4823845191103277,0.5077372859706525,0.5170666909200721,0.4917200060046704,0.5160075404733009,0.46847308116637604,0.5081043887161326,0.4956816951306949,0.5119993428069833,0.5094942548456949,0.4864501330444721,0.5114821092321041,0.4998395784884309,0.5339595432300855,0.4840705996082033,0.5047963667783096,0.4987082220333019,0.5029332863826055,0.47105936485351624,0.5025595050292011,0.4973292976256035,0.504568225824853,0.47708061072106145,0.49869742306831255,0.5317954103701614,0.48092071776490497,0.48296296647945025,0.5432313674179305,0.5093605691968162,0.4891011179984187,0.5045657706819695,0.512642732120233,0.5273255719091818,0.5273390231413828,0.5054831413489437,0.50740321002507,0.4959239252256701,0.5014878287540235,0.4887791298512737,0.49437143105401415,0.4975083110807884,0.49271386588579125,0.4774882160257199,0.49509842384117436,0.4834298440454242,0.4917007277516267,0.4743845914864399,0.5072884746760938,0.49630872543227506,0.5183512350377534,0.4984693883506705,0.48941504252950135,0.4736615985988787,0.5112423736048368,0.4989928965201554,0.5058717071509704,0.5064828552039896,0.5240323846651294,0.4980567043897479,0.4897576724671483,0.48850951523583563,0.5019216827779015,0.498173264711952,0.5077920192756195,0.461946374649667,0.49839491392359814,0.4865550481300953,0.4907044849589563,0.5218171977181223,0.4637670374586538,0.49456909208751426,0.5035975763858975,0.5182319723421409,0.4963371365741699,0.5122782204141497,0.5076598939521673,0.49190001056377025,0.49824844554665515,0.5034725289764408,0.5227136327407673,0.5054855080723281,0.5224873180773014,0.44616534036852573,0.49232149484266746,0.49676754378241367,0.5063904988659287,0.5082753977436113,0.4886999024307455,0.4888387912433539,0.48175057028160184,0.5063907951584762,0.48175926555044074,0.47331494910437405,0.5003468238102354,0.509665595523419,0.4949559158569438,0.47846228365373555,0.5031268678922145,0.5079079413989304,0.5142302218557903,0.4824613407686575,0.47895477676371884,0.5098262404210674,0.4704738658387263,0.49153334352589695,0.46613225516029405,0.4949947315288485,0.5046434145582697,0.513509525394325,0.523971378210119,0.5204188054670579,0.507057550502987,0.4976055338827,0.5004268957788792,0.473582417386307,0.5054750945465082,0.5140655359614986,0.5086875179031458,0.5071633244101615,0.48517212202728266,0.49921445522450947,0.49100781692932194,0.4954255435295818,0.5024095855244582,0.5047674650834915,0.5056281482481464,0.4885883304035428,0.502274138497053,0.47512584323935564,0.5000455153474964,0.5191965691645716,0.5159630936199032,0.5076436188354018,0.5074415014364085,0.518706597150208,0.5260897957369562,0.49699655438417895,0.513772794600054,0.4774742579545574,0.4895825353145966,0.5216088965534553,0.48948758835875966,0.5074356530915438,0.5296088028307628,0.4748917413927784,0.4909647639214333,0.49928424603167465,0.4870534593467724,0.5097275778266941,0.5049584305251176,0.532176292773988,0.46808960627788326,0.5063175913768152,0.47981844827115927,0.49530231283650666,0.4869708863907768,0.5158224454459379,0.4476244286831005,0.5016109368852246,0.509625715101036,0.49771812234261614,0.4790236588145929,0.5196394210894106,0.5363510855408209,0.4753448982284079,0.498740333523558,0.513992261674121,0.4810973737940956,0.5318554324914389,0.49542315234774453,0.4983624156015378,0.5073999203470393,0.46773691338818696,0.4906411907200441,0.48376630849155816,0.48911763387188245,0.4955647312498074,0.5065328100530809,0.5182333355126425,0.4959322054966159,0.47278007034802366,0.4734866228273212,0.5117326628956719,0.4995718247772633,0.49058783494194624,0.5310053986452755,0.5105394194258537,0.48912909503329854,0.5000240949926494,0.5013837608861567,0.5095015819976517,0.49529521198680093,0.5010399880007388,0.49692578439164653,0.5028558682897365,0.49605420838837927,0.48629891582357865,0.47802638290112187,0.48257274800388555,0.48663535424582705,0.5090834268444602,0.48333320075965397,0.49054495943404275,0.49690340783689946,0.4811812871331382,0.5447424479188337,0.5240171506184446,0.5010322494728058,0.4861971846214596,0.4657636467021991,0.5041992666105689,0.5012793540660713,0.5022944049211073,0.5066339130762275,0.5013953967067637,0.48007163800668706,0.5103030259204876,0.5127035127346877,0.47671909141471985,0.506966100416741,0.460181876449885,0.46353341558654165,0.5279479031296321,0.481400841241281,0.5041277714940474,0.5047587818518202,0.4843703248810298,0.5072503162391148,0.45992793819642136,0.4783348711316618,0.4923924831485067,0.49596485706883225,0.4900792165671814,0.4934476176859275,0.5020497966362973,0.5023360162312779,0.5142619078462399,0.48861044060629716,0.5094778351783477,0.49211373775222267,0.4935884784609334,0.5098456811438804,0.48475180766265086,0.5460813351720956,0.5044110133921904,0.5093883954656478,0.5230921393509008,0.47983663716270364,0.5003935027470152,0.4967256459090642,0.5312581498704876,0.5161555582729935,0.48416250504865893,0.500714054231273,0.5107399768707962,0.4839139244583297,0.5195206080229107,0.4876535315250921,0.5131500885441366,0.5061896268213318,0.5167584444499104,0.49797647629043806,0.4961721313670213,0.5034300960558239,0.5107707523265826,0.4862788926057894,0.5017624502413082,0.48804966910543507,0.5292809743632351,0.5087553818138087,0.5033769420392701,0.4868445607337062,0.5070582265430521,0.4875216864392842,0.470368816874146,0.49282341249491424,0.4883389375978728,0.4876688985167141,0.5139390562660427,0.5308481414061996,0.5116665361587641,0.5033431964914589,0.510808800882814,0.5129707118857668,0.4954377446928181,0.4974584677004976,0.5283237768033777,0.49829134227375693,0.48700480405656776,0.510776185888848,0.46789988714222774,0.5200486219275834,0.48070600740816055,0.5006077197932619,0.5316305820055586,0.5002322079602951,0.47862422688227924,0.4869395613259607,0.47421838376273134,0.4768959615840244,0.49648688157034854,0.4807043805204365,0.5031715027658358,0.5081112338200827,0.5115250657992569,0.5043908693247926,0.5212266556620411,0.4945907922547581,0.4924039668600715,0.5218103554903087,0.5000200440938507,0.5044636493194768,0.4868767812802319,0.4822931818292837,0.5149271679628331,0.4963381058684801,0.5107636871932622,0.48331373278622486,0.4954585418168194,0.49210611315186925,0.5373082939862537,0.45803173659184515,0.5042312908089354,0.5011162628127994,0.48793890075589047,0.48111688490505905,0.5199594491147259,0.5100788831937771,0.5013099491703968,0.5057353681185998,0.5117875011560398,0.48702123168806766,0.49012351717350555,0.4854795726546092,0.5156151727884654,0.48639550677340393,0.4773345306632005,0.4926787640703498,0.49776358079052907,0.5047126560292438,0.5282925042516865,0.5024556727461551,0.5128366899207338,0.5070252238135304,0.5205804423015835,0.4917464225980063,0.49461848612451975,0.5296236206039657,0.49802037438938496,0.5137033590068346,0.4645870539067092,0.4880321553114261,0.47334986285206865,0.47415142930481446,0.49046528901573844,0.48529927099276715,0.49999135397776323,0.5370474609699187,0.49083837173236605,0.5305527526901831,0.520997855591804,0.504567379675974,0.4661202196676326,0.49715938840197327,0.51401667192566,0.5119365566532853,0.5053608318125652,0.5075092772773214,0.49426625604918106,0.5052447163488047,0.5067665364365839,0.48805968460629107,0.49708794612770824,0.5077556653627917,0.49859680357837666,0.46522188519318375,0.5047196501451572,0.4936243416063175,0.514403586742767,0.5133178595060728,0.5053439528372438,0.4670514520459441,0.500418848402334,0.5172756788778109,0.5140120045891062,0.5118518595512593,0.5332842867866712,0.4787819691485332,0.47370978946550774,0.5031806231400313,0.5082032259488422,0.5191655789425957,0.48688729676430986,0.48947973631543107,0.4872958833621541,0.49518662062151303,0.5134932690712806,0.47332798244585866,0.4900358023873648,0.5089062230534102,0.45897855015134376,0.4852268752000618,0.5036345690824144,0.4886059044546661,0.5243438392310409,0.47340220658406895,0.4875403836695154,0.5198735883166538,0.5112389990026219,0.49607226897383316,0.4954127607424229,0.47704925811541593,0.5017396681329407,0.5252365311274262,0.4786925913608448,0.5029504017004393,0.5093290855681433,0.5216168190472894,0.5095073356684144,0.49320576134521965,0.5099384872247973,0.5293403873299728,0.522558566084964,0.48067776421938885,0.5146788907829207,0.4730242129226939,0.513098514873152,0.4983012467936975,0.48230827315530644,0.4781916295258885,0.5152894278609244,0.5191890974725586,0.5140267724808724,0.4815259005100191,0.4892856332999772,0.49800681270824254,0.5011053636145649,0.4869601940855254,0.4963962485352216,0.4724530858019706,0.4817092368386664,0.49262856331741117,0.49926693202392947,0.5106442415856574,0.49569825559604547,0.5072633207545179,0.5316092007495455,0.49834233613654144,0.4991017919375154,0.5034058396755615,0.49989927764752146,0.49581438932336663,0.5091367738157973,0.5132607847798295,0.4965792904627893,0.5007984809140889,0.5141342367242847,0.5008522568137139,0.49851902631764244,0.4942551548737106,0.5045888361988348,0.48810775171069776,0.5324262002709197,0.5093226512160182,0.514461550666155,0.48432379584384666,0.48732584933649586,0.4972324492735554,0.4855686416748215,0.48055159620186516,0.5158848979111265,0.5223759801059893,0.49288464276038013,0.4942591437891603,0.49743585974032023,0.4849454781444395,0.5105197083263299,0.4880553194622321,0.5193990633229557,0.4861444917919208,0.4938190885488795,0.504320824932301,0.5007501003631325,0.4886174101242143,0.49714304992224384,0.4958657979231818,0.5008310667040995,0.5011282239184119,0.5132678036181817,0.5283241534185134,0.5117181732001289,0.5051095678013844,0.4728735047906566,0.4961268525276224,0.4992696536526953,0.5285120609680836,0.4704159455467039,0.5197547481082044,0.47629951530148135,0.48886588954043847,0.46570350905727936,0.4944912668891497,0.4970741025638145,0.5048805248490691,0.5037458088886406,0.5272544671778292,0.48494077519907364,0.5159580550484871,0.4873453753213559,0.47225717679554674,0.47419704040763816,0.5159615858994765,0.4887602380332899,0.4833131508722102,0.4987431804186669,0.5046944544826875,0.49795803747435247,0.4999641379097746,0.5157744984417529,0.4949046852089927,0.5030509723193695,0.47760751484388825,0.4923921051828962,0.478083013934632,0.5282723019015841,0.4867674242623991,0.4987816060841191,0.5134239390965847,0.528109466129368,0.5144936335780423,0.505647795773907,0.47367406237602266,0.4940909375548974,0.5045253907686768,0.5133342622372918,0.50833145613687,0.476038465656353,0.4922622817967467,0.5067204510139228,0.48890902428311267,0.5083523131541571,0.4723960843955721,0.5126981299282701,0.47249418102508894,0.501829585303723,0.49255390898679746,0.5239513982451337,0.4944211679924814,0.5128044318134458,0.5025756145918294,0.493977175401044,0.4867466604302508,0.534702226427764,0.5142960774347688,0.5189087700825561,0.49191586694552125,0.5064999659437084,0.4991369881414575,0.498610287464807,0.4925627990331276,0.5098743988901298,0.5198066801233111,0.49917419563171694,0.5072822094461132,0.4927786478961367,0.49939466527874526,0.5036510456166515,0.4906894215468918,0.5138708009223099,0.5117990114225337,0.500228700976983,0.47362750153327277,0.5087204967847484,0.49488340750432824,0.49764927446743407,0.49580912206165134,0.4958062217159473,0.5330393926444068,0.4734283098536694,0.4902245763291514,0.5189443020481087,0.4976576508385642,0.48258678733794247,0.4787588825844167,0.5161072185002854,0.5121747125890874,0.5080407898614795,0.4958641951699698,0.5053420897399244,0.494202708096142,0.48369620835761407,0.4964761059017844,0.4937856982163881,0.4775728745754628,0.49987621664414283,0.492193003621564,0.514951114266899,0.49951323322666963,0.49085366024227123,0.49051053634492947,0.48587716497688244,0.48775160798335804,0.48646871996564206,0.4930771040769059,0.5190177835207188,0.49220759763632554,0.49373446102334345,0.4916780561156844,0.5178531491837963,0.48780350488724944,0.5094106148391093,0.4974230890115161,0.4752063579652177,0.5014685213458641,0.5119165019506542,0.5082491703601892,0.5059345656580687,0.4882552975365678,0.5222228023155778,0.4739129118070362,0.4929601806037538,0.5284444633590878],\"xaxis\":\"x\",\"y\":[1,1,1,1,1,1,1,1,1,1,1,1,1,1,1,1,1,1,1,1,1,1,1,1,1,1,1,1,1,1,1,1,1,1,1,1,1,1,1,1,1,1,1,1,1,1,1,1,1,1,1,1,1,1,1,1,1,1,1,1,1,1,1,1,1,1,1,1,1,1,1,1,1,1,1,1,1,1,1,1,1,1,1,1,1,1,1,1,1,1,1,1,1,1,1,1,1,1,1,1,1,1,1,1,1,1,1,1,1,1,1,1,1,1,1,1,1,1,1,1,1,1,1,1,1,1,1,1,1,1,1,1,1,1,1,1,1,1,1,1,1,1,1,1,1,1,1,1,1,1,1,1,1,1,1,1,1,1,1,1,1,1,1,1,1,1,1,1,1,1,1,1,1,1,1,1,1,1,1,1,1,1,1,1,1,1,1,1,1,1,1,1,1,1,1,1,1,1,1,1,1,1,1,1,1,1,1,1,1,1,1,1,1,1,1,1,1,1,1,1,1,1,1,1,1,1,1,1,1,1,1,1,1,1,1,1,1,1,1,1,1,1,1,1,1,1,1,1,1,1,1,1,1,1,1,1,1,1,1,1,1,1,1,1,1,1,1,1,1,1,1,1,1,1,1,1,1,1,1,1,1,1,1,1,1,1,1,1,1,1,1,1,1,1,1,1,1,1,1,1,1,1,1,1,1,1,1,1,1,1,1,1,1,1,1,1,1,1,1,1,1,1,1,1,1,1,1,1,1,1,1,1,1,1,1,1,1,1,1,1,1,1,1,1,1,1,1,1,1,1,1,1,1,1,1,1,1,1,1,1,1,1,1,1,1,1,1,1,1,1,1,1,1,1,1,1,1,1,1,1,1,1,1,1,1,1,1,1,1,1,1,1,1,1,1,1,1,1,1,1,1,1,1,1,1,1,1,1,1,1,1,1,1,1,1,1,1,1,1,1,1,1,1,1,1,1,1,1,1,1,1,1,1,1,1,1,1,1,1,1,1,1,1,1,1,1,1,1,1,1,1,1,1,1,1,1,1,1,1,1,1,1,1,1,1,1,1,1,1,1,1,1,1,1,1,1,1,1,1,1,1,1,1,1,1,1,1,1,1,1,1,1,1,1,1,1,1,1,1,1,1,1,1,1,1,1,1,1,1,1,1,1,1,1,1,1,1,1,1,1,1,1,1,1,1,1,1,1,1,1,1,1,1,1,1,1,1,1,1,1,1,1,1,1,1,1,1,1,1,1,1,1,1,1,1,1,1,1,1,1,1,1,1,1,1,1,1,1,1,1,1,1,1,1,1,1,1,1,1,1,1,1,1,1,1,1,1,1,1,1,1,1,1,1,1,1,1,1,1,1,1,1,1,1,1,1,1,1,1,1,1,1,1,1,1,1,1,1,1,1,1,1,1,1,1,1,1,1,1,1,1,1,1,1,1,1,1,1,1,1,1,1,1,1,1,1,1,1,1,1,1,1,1,1,1,1,1,1,1,1,1,1,1,1,1,1,1,1,1,1,1,1,1,1,1,1,1,1,1,1,1,1,1,1,1,1,1,1,1,1,1,1,1,1,1,1,1,1,1,1,1,1,1,1,1,1,1,1,1,1,1,1,1,1,1,1,1,1,1,1,1,1,1,1,1,1,1,1,1,1,1,1,1,1,1,1,1,1,1,1,1,1,1,1,1,1,1,1,1,1,1,1,1,1,1,1,1,1,1,1,1,1,1,1,1,1,1,1,1,1,1,1,1,1,1,1,1,1,1,1,1,1,1,1,1,1,1,1,1,1,1,1,1,1,1,1,1,1,1,1,1,1,1,1,1,1,1,1,1,1,1,1,1,1,1,1,1,1,1,1,1,1,1,1,1,1,1,1,1,1,1,1,1,1,1,1,1,1,1,1,1,1,1,1,1,1,1,1,1,1,1,1,1,1,1,1,1,1,1,1,1,1,1,1,1,1,1,1,1,1,1,1,1,1,1,1,1,1,1,1,1,1,1,1,1,1,1,1,1,1,1,1,1,1,1,1,1,1,1,1,1,1,1,1,1,1,1,1,1,1,1,1,1,1,1,1,1,1,1,1,1,1,1,1,1,1,1,1,1,1,1,1,1,1,1,1,1,1,1,1,1,1,1,1,1,1,1,1,1,1,1,1,1,1,1,1,1,1,1,1,1,1,1,1,1,1,1,1,1,1,1,1,1,1,1,1,1,1,1,1,1,1,1,1,1,1,1,1,1,1,1,1,1,1,1,1,1,1,1,1],\"yaxis\":\"y\",\"type\":\"histogram\"}],                        {\"template\":{\"data\":{\"bar\":[{\"error_x\":{\"color\":\"#2a3f5f\"},\"error_y\":{\"color\":\"#2a3f5f\"},\"marker\":{\"line\":{\"color\":\"#E5ECF6\",\"width\":0.5},\"pattern\":{\"fillmode\":\"overlay\",\"size\":10,\"solidity\":0.2}},\"type\":\"bar\"}],\"barpolar\":[{\"marker\":{\"line\":{\"color\":\"#E5ECF6\",\"width\":0.5},\"pattern\":{\"fillmode\":\"overlay\",\"size\":10,\"solidity\":0.2}},\"type\":\"barpolar\"}],\"carpet\":[{\"aaxis\":{\"endlinecolor\":\"#2a3f5f\",\"gridcolor\":\"white\",\"linecolor\":\"white\",\"minorgridcolor\":\"white\",\"startlinecolor\":\"#2a3f5f\"},\"baxis\":{\"endlinecolor\":\"#2a3f5f\",\"gridcolor\":\"white\",\"linecolor\":\"white\",\"minorgridcolor\":\"white\",\"startlinecolor\":\"#2a3f5f\"},\"type\":\"carpet\"}],\"choropleth\":[{\"colorbar\":{\"outlinewidth\":0,\"ticks\":\"\"},\"type\":\"choropleth\"}],\"contour\":[{\"colorbar\":{\"outlinewidth\":0,\"ticks\":\"\"},\"colorscale\":[[0.0,\"#0d0887\"],[0.1111111111111111,\"#46039f\"],[0.2222222222222222,\"#7201a8\"],[0.3333333333333333,\"#9c179e\"],[0.4444444444444444,\"#bd3786\"],[0.5555555555555556,\"#d8576b\"],[0.6666666666666666,\"#ed7953\"],[0.7777777777777778,\"#fb9f3a\"],[0.8888888888888888,\"#fdca26\"],[1.0,\"#f0f921\"]],\"type\":\"contour\"}],\"contourcarpet\":[{\"colorbar\":{\"outlinewidth\":0,\"ticks\":\"\"},\"type\":\"contourcarpet\"}],\"heatmap\":[{\"colorbar\":{\"outlinewidth\":0,\"ticks\":\"\"},\"colorscale\":[[0.0,\"#0d0887\"],[0.1111111111111111,\"#46039f\"],[0.2222222222222222,\"#7201a8\"],[0.3333333333333333,\"#9c179e\"],[0.4444444444444444,\"#bd3786\"],[0.5555555555555556,\"#d8576b\"],[0.6666666666666666,\"#ed7953\"],[0.7777777777777778,\"#fb9f3a\"],[0.8888888888888888,\"#fdca26\"],[1.0,\"#f0f921\"]],\"type\":\"heatmap\"}],\"heatmapgl\":[{\"colorbar\":{\"outlinewidth\":0,\"ticks\":\"\"},\"colorscale\":[[0.0,\"#0d0887\"],[0.1111111111111111,\"#46039f\"],[0.2222222222222222,\"#7201a8\"],[0.3333333333333333,\"#9c179e\"],[0.4444444444444444,\"#bd3786\"],[0.5555555555555556,\"#d8576b\"],[0.6666666666666666,\"#ed7953\"],[0.7777777777777778,\"#fb9f3a\"],[0.8888888888888888,\"#fdca26\"],[1.0,\"#f0f921\"]],\"type\":\"heatmapgl\"}],\"histogram\":[{\"marker\":{\"pattern\":{\"fillmode\":\"overlay\",\"size\":10,\"solidity\":0.2}},\"type\":\"histogram\"}],\"histogram2d\":[{\"colorbar\":{\"outlinewidth\":0,\"ticks\":\"\"},\"colorscale\":[[0.0,\"#0d0887\"],[0.1111111111111111,\"#46039f\"],[0.2222222222222222,\"#7201a8\"],[0.3333333333333333,\"#9c179e\"],[0.4444444444444444,\"#bd3786\"],[0.5555555555555556,\"#d8576b\"],[0.6666666666666666,\"#ed7953\"],[0.7777777777777778,\"#fb9f3a\"],[0.8888888888888888,\"#fdca26\"],[1.0,\"#f0f921\"]],\"type\":\"histogram2d\"}],\"histogram2dcontour\":[{\"colorbar\":{\"outlinewidth\":0,\"ticks\":\"\"},\"colorscale\":[[0.0,\"#0d0887\"],[0.1111111111111111,\"#46039f\"],[0.2222222222222222,\"#7201a8\"],[0.3333333333333333,\"#9c179e\"],[0.4444444444444444,\"#bd3786\"],[0.5555555555555556,\"#d8576b\"],[0.6666666666666666,\"#ed7953\"],[0.7777777777777778,\"#fb9f3a\"],[0.8888888888888888,\"#fdca26\"],[1.0,\"#f0f921\"]],\"type\":\"histogram2dcontour\"}],\"mesh3d\":[{\"colorbar\":{\"outlinewidth\":0,\"ticks\":\"\"},\"type\":\"mesh3d\"}],\"parcoords\":[{\"line\":{\"colorbar\":{\"outlinewidth\":0,\"ticks\":\"\"}},\"type\":\"parcoords\"}],\"pie\":[{\"automargin\":true,\"type\":\"pie\"}],\"scatter\":[{\"marker\":{\"colorbar\":{\"outlinewidth\":0,\"ticks\":\"\"}},\"type\":\"scatter\"}],\"scatter3d\":[{\"line\":{\"colorbar\":{\"outlinewidth\":0,\"ticks\":\"\"}},\"marker\":{\"colorbar\":{\"outlinewidth\":0,\"ticks\":\"\"}},\"type\":\"scatter3d\"}],\"scattercarpet\":[{\"marker\":{\"colorbar\":{\"outlinewidth\":0,\"ticks\":\"\"}},\"type\":\"scattercarpet\"}],\"scattergeo\":[{\"marker\":{\"colorbar\":{\"outlinewidth\":0,\"ticks\":\"\"}},\"type\":\"scattergeo\"}],\"scattergl\":[{\"marker\":{\"colorbar\":{\"outlinewidth\":0,\"ticks\":\"\"}},\"type\":\"scattergl\"}],\"scattermapbox\":[{\"marker\":{\"colorbar\":{\"outlinewidth\":0,\"ticks\":\"\"}},\"type\":\"scattermapbox\"}],\"scatterpolar\":[{\"marker\":{\"colorbar\":{\"outlinewidth\":0,\"ticks\":\"\"}},\"type\":\"scatterpolar\"}],\"scatterpolargl\":[{\"marker\":{\"colorbar\":{\"outlinewidth\":0,\"ticks\":\"\"}},\"type\":\"scatterpolargl\"}],\"scatterternary\":[{\"marker\":{\"colorbar\":{\"outlinewidth\":0,\"ticks\":\"\"}},\"type\":\"scatterternary\"}],\"surface\":[{\"colorbar\":{\"outlinewidth\":0,\"ticks\":\"\"},\"colorscale\":[[0.0,\"#0d0887\"],[0.1111111111111111,\"#46039f\"],[0.2222222222222222,\"#7201a8\"],[0.3333333333333333,\"#9c179e\"],[0.4444444444444444,\"#bd3786\"],[0.5555555555555556,\"#d8576b\"],[0.6666666666666666,\"#ed7953\"],[0.7777777777777778,\"#fb9f3a\"],[0.8888888888888888,\"#fdca26\"],[1.0,\"#f0f921\"]],\"type\":\"surface\"}],\"table\":[{\"cells\":{\"fill\":{\"color\":\"#EBF0F8\"},\"line\":{\"color\":\"white\"}},\"header\":{\"fill\":{\"color\":\"#C8D4E3\"},\"line\":{\"color\":\"white\"}},\"type\":\"table\"}]},\"layout\":{\"annotationdefaults\":{\"arrowcolor\":\"#2a3f5f\",\"arrowhead\":0,\"arrowwidth\":1},\"autotypenumbers\":\"strict\",\"coloraxis\":{\"colorbar\":{\"outlinewidth\":0,\"ticks\":\"\"}},\"colorscale\":{\"diverging\":[[0,\"#8e0152\"],[0.1,\"#c51b7d\"],[0.2,\"#de77ae\"],[0.3,\"#f1b6da\"],[0.4,\"#fde0ef\"],[0.5,\"#f7f7f7\"],[0.6,\"#e6f5d0\"],[0.7,\"#b8e186\"],[0.8,\"#7fbc41\"],[0.9,\"#4d9221\"],[1,\"#276419\"]],\"sequential\":[[0.0,\"#0d0887\"],[0.1111111111111111,\"#46039f\"],[0.2222222222222222,\"#7201a8\"],[0.3333333333333333,\"#9c179e\"],[0.4444444444444444,\"#bd3786\"],[0.5555555555555556,\"#d8576b\"],[0.6666666666666666,\"#ed7953\"],[0.7777777777777778,\"#fb9f3a\"],[0.8888888888888888,\"#fdca26\"],[1.0,\"#f0f921\"]],\"sequentialminus\":[[0.0,\"#0d0887\"],[0.1111111111111111,\"#46039f\"],[0.2222222222222222,\"#7201a8\"],[0.3333333333333333,\"#9c179e\"],[0.4444444444444444,\"#bd3786\"],[0.5555555555555556,\"#d8576b\"],[0.6666666666666666,\"#ed7953\"],[0.7777777777777778,\"#fb9f3a\"],[0.8888888888888888,\"#fdca26\"],[1.0,\"#f0f921\"]]},\"colorway\":[\"#636efa\",\"#EF553B\",\"#00cc96\",\"#ab63fa\",\"#FFA15A\",\"#19d3f3\",\"#FF6692\",\"#B6E880\",\"#FF97FF\",\"#FECB52\"],\"font\":{\"color\":\"#2a3f5f\"},\"geo\":{\"bgcolor\":\"white\",\"lakecolor\":\"white\",\"landcolor\":\"#E5ECF6\",\"showlakes\":true,\"showland\":true,\"subunitcolor\":\"white\"},\"hoverlabel\":{\"align\":\"left\"},\"hovermode\":\"closest\",\"mapbox\":{\"style\":\"light\"},\"paper_bgcolor\":\"white\",\"plot_bgcolor\":\"#E5ECF6\",\"polar\":{\"angularaxis\":{\"gridcolor\":\"white\",\"linecolor\":\"white\",\"ticks\":\"\"},\"bgcolor\":\"#E5ECF6\",\"radialaxis\":{\"gridcolor\":\"white\",\"linecolor\":\"white\",\"ticks\":\"\"}},\"scene\":{\"xaxis\":{\"backgroundcolor\":\"#E5ECF6\",\"gridcolor\":\"white\",\"gridwidth\":2,\"linecolor\":\"white\",\"showbackground\":true,\"ticks\":\"\",\"zerolinecolor\":\"white\"},\"yaxis\":{\"backgroundcolor\":\"#E5ECF6\",\"gridcolor\":\"white\",\"gridwidth\":2,\"linecolor\":\"white\",\"showbackground\":true,\"ticks\":\"\",\"zerolinecolor\":\"white\"},\"zaxis\":{\"backgroundcolor\":\"#E5ECF6\",\"gridcolor\":\"white\",\"gridwidth\":2,\"linecolor\":\"white\",\"showbackground\":true,\"ticks\":\"\",\"zerolinecolor\":\"white\"}},\"shapedefaults\":{\"line\":{\"color\":\"#2a3f5f\"}},\"ternary\":{\"aaxis\":{\"gridcolor\":\"white\",\"linecolor\":\"white\",\"ticks\":\"\"},\"baxis\":{\"gridcolor\":\"white\",\"linecolor\":\"white\",\"ticks\":\"\"},\"bgcolor\":\"#E5ECF6\",\"caxis\":{\"gridcolor\":\"white\",\"linecolor\":\"white\",\"ticks\":\"\"}},\"title\":{\"x\":0.05},\"xaxis\":{\"automargin\":true,\"gridcolor\":\"white\",\"linecolor\":\"white\",\"ticks\":\"\",\"title\":{\"standoff\":15},\"zerolinecolor\":\"white\",\"zerolinewidth\":2},\"yaxis\":{\"automargin\":true,\"gridcolor\":\"white\",\"linecolor\":\"white\",\"ticks\":\"\",\"title\":{\"standoff\":15},\"zerolinecolor\":\"white\",\"zerolinewidth\":2}}},\"xaxis\":{\"anchor\":\"y\",\"domain\":[0.0,1.0],\"title\":{\"text\":\"x\"}},\"yaxis\":{\"anchor\":\"x\",\"domain\":[0.0,1.0],\"title\":{\"text\":\"sum of y\"}},\"legend\":{\"tracegroupgap\":0},\"margin\":{\"t\":60},\"barmode\":\"relative\"},                        {\"responsive\": true}                    ).then(function(){\n",
              "                            \n",
              "var gd = document.getElementById('9b65505c-bfab-4788-84e5-c4966e152d55');\n",
              "var x = new MutationObserver(function (mutations, observer) {{\n",
              "        var display = window.getComputedStyle(gd).display;\n",
              "        if (!display || display === 'none') {{\n",
              "            console.log([gd, 'removed!']);\n",
              "            Plotly.purge(gd);\n",
              "            observer.disconnect();\n",
              "        }}\n",
              "}});\n",
              "\n",
              "// Listen for the removal of the full notebook cells\n",
              "var notebookContainer = gd.closest('#notebook-container');\n",
              "if (notebookContainer) {{\n",
              "    x.observe(notebookContainer, {childList: true});\n",
              "}}\n",
              "\n",
              "// Listen for the clearing of the current output cell\n",
              "var outputEl = gd.closest('.output');\n",
              "if (outputEl) {{\n",
              "    x.observe(outputEl, {childList: true});\n",
              "}}\n",
              "\n",
              "                        })                };                            </script>        </div>\n",
              "</body>\n",
              "</html>"
            ]
          },
          "metadata": {}
        }
      ]
    },
    {
      "cell_type": "markdown",
      "source": [
        "#### Confidence Intervals"
      ],
      "metadata": {
        "id": "4uTAbxov_2Se"
      }
    },
    {
      "cell_type": "code",
      "source": [
        "# Example 3-16. Retrieving a critical z-value\n",
        "from scipy.stats import norm\n",
        "\n",
        "def critical_z_value(p):\n",
        "  norm_dist = norm(loc = 0.0, scale = 1.0)\n",
        "  lower_area = (1.0 - p) / 2.0\n",
        "  upper_area = 1.0 - ((1.0 - p) / 2.0)\n",
        "  return norm_dist.ppf(lower_area), norm_dist.ppf(upper_area)\n",
        "\n",
        "print(critical_z_value(p = 0.95))"
      ],
      "metadata": {
        "colab": {
          "base_uri": "https://localhost:8080/"
        },
        "id": "J9Oz-tHO9aTC",
        "outputId": "f89f7ef2-c0d6-420a-936a-0a43b69eae33"
      },
      "execution_count": 16,
      "outputs": [
        {
          "output_type": "stream",
          "name": "stdout",
          "text": [
            "(-1.959963984540054, 1.959963984540054)\n"
          ]
        }
      ]
    },
    {
      "cell_type": "code",
      "source": [
        "# Example 3-17. Calculating a confidence interval\n",
        "from math import sqrt\n",
        "from scipy.stats import norm\n",
        "\n",
        "def critical_z_value(p):\n",
        "  norm_dist = norm(loc = 0.0, scale = 1.0)\n",
        "  lower_area = (1.0 - p) / 2.0\n",
        "  upper_area = 1.0 - ((1.0 - p) / 2.0)\n",
        "  return norm_dist.ppf(lower_area), norm_dist.ppf(upper_area)\n",
        "\n",
        "def confidence_interval(p, sample_mean, sample_std, n):\n",
        "  lower, upper = critical_z_value(p)\n",
        "  lower_ci = lower * (sample_std / sqrt(n))\n",
        "  upper_ci = upper * (sample_std / sqrt(n))\n",
        "\n",
        "  return sample_mean + lower_ci, sample_mean + upper_ci\n",
        "\n",
        "print(confidence_interval(.95, 64.408, 2.05, 31))"
      ],
      "metadata": {
        "id": "j9Q7lItrAhBJ",
        "colab": {
          "base_uri": "https://localhost:8080/"
        },
        "outputId": "92b2f1ac-3144-4244-ec37-7c1ec42065ce"
      },
      "execution_count": 17,
      "outputs": [
        {
          "output_type": "stream",
          "name": "stdout",
          "text": [
            "(63.68635915701992, 65.12964084298008)\n"
          ]
        }
      ]
    },
    {
      "cell_type": "markdown",
      "source": [
        "#### Hypothesis Testing"
      ],
      "metadata": {
        "id": "qKqDvWrAfTl_"
      }
    },
    {
      "cell_type": "code",
      "source": [
        "# Example 3-18. Calculating the probability of cold recovery between 15-21 days\n",
        "from scipy.stats import norm\n",
        "\n",
        "# A cold has an 18 day mean recovery, 1.5 std dev\n",
        "mean = 18\n",
        "std_dev = 1.5\n",
        "\n",
        "# 95% probability recovery time takes [15, 21] days\n",
        "x = norm.cdf(21, mean, std_dev) - norm.cdf(15, mean, std_dev)\n",
        "\n",
        "print(x)"
      ],
      "metadata": {
        "colab": {
          "base_uri": "https://localhost:8080/"
        },
        "id": "F9mF2WNmfJSd",
        "outputId": "101073f4-1d42-45b3-ecef-c223c18d9987"
      },
      "execution_count": 18,
      "outputs": [
        {
          "output_type": "stream",
          "name": "stdout",
          "text": [
            "0.9544997361036416\n"
          ]
        }
      ]
    },
    {
      "cell_type": "markdown",
      "source": [
        "##### One-Tailed Test"
      ],
      "metadata": {
        "id": "Z0dRoJPWg35j"
      }
    },
    {
      "cell_type": "code",
      "source": [
        "# Example 3-19. Getting an x-value with 5% of area behind it\n",
        "from scipy.stats import norm\n",
        "\n",
        "# A cold has an 18 day mean recovery, 1.5 std dev\n",
        "mean = 18\n",
        "std_dev = 1.5\n",
        "\n",
        "# What x-value has 5% of the area behind it?\n",
        "x = norm.ppf(0.05, mean, std_dev)\n",
        "\n",
        "print(x)"
      ],
      "metadata": {
        "colab": {
          "base_uri": "https://localhost:8080/"
        },
        "id": "nDtuEvwbgnGT",
        "outputId": "449b45ad-2bcb-4bf3-be86-21618c935382"
      },
      "execution_count": 19,
      "outputs": [
        {
          "output_type": "stream",
          "name": "stdout",
          "text": [
            "15.53271955957279\n"
          ]
        }
      ]
    },
    {
      "cell_type": "code",
      "source": [
        "# Example 3-20. Calculating the one-tailed p-value\n",
        "from scipy.stats import norm\n",
        "\n",
        "# A cold has an 18 day mean recovery, 1.5 std dev\n",
        "mean = 18\n",
        "std_dev = 1.5\n",
        "\n",
        "# Probability of 16 days or less\n",
        "p_value = norm.cdf(16, mean, std_dev)\n",
        "\n",
        "print(p_value)\n"
      ],
      "metadata": {
        "colab": {
          "base_uri": "https://localhost:8080/"
        },
        "id": "rka0H4RxiHqd",
        "outputId": "88c8e546-c2bb-42a8-88cf-e4cf543712f8"
      },
      "execution_count": 20,
      "outputs": [
        {
          "output_type": "stream",
          "name": "stdout",
          "text": [
            "0.09121121972586788\n"
          ]
        }
      ]
    },
    {
      "cell_type": "markdown",
      "source": [
        "##### Two-Tailed Test"
      ],
      "metadata": {
        "id": "o_he1kTHlBvz"
      }
    },
    {
      "cell_type": "code",
      "source": [
        "# Example 3-21. Calculating a range for a statistical significance of 5%\n",
        "from scipy.stats import norm\n",
        "\n",
        "# A cold has an 18 day mean recovery, 1.5 std dev\n",
        "mean = 18\n",
        "std_dev = 1.5\n",
        "\n",
        "# What x-value has 2.5% of the area behind it?\n",
        "x1 = norm.ppf(0.025, mean, std_dev)\n",
        "\n",
        "# What x-value has 97.5% of the area behind it?\n",
        "x2 = norm.ppf(0.975, mean, std_dev)\n",
        "\n",
        "print(x1)\n",
        "print(x2)"
      ],
      "metadata": {
        "colab": {
          "base_uri": "https://localhost:8080/"
        },
        "id": "dDyeOOGEk-bA",
        "outputId": "b1848256-a485-4419-b70a-854ef88549a7"
      },
      "execution_count": 21,
      "outputs": [
        {
          "output_type": "stream",
          "name": "stdout",
          "text": [
            "15.060054023189918\n",
            "20.93994597681008\n"
          ]
        }
      ]
    },
    {
      "cell_type": "code",
      "source": [
        "# Example 3-22. Calculating the two-tailed p-value\n",
        "from scipy.stats import norm\n",
        "\n",
        "# A cold has an 18 day mean recovery, 1.5 std dev\n",
        "mean = 18\n",
        "std_dev = 1.5\n",
        "\n",
        "# Probability of 16 days or less\n",
        "p1 = norm.cdf(16, mean, std_dev)\n",
        "\n",
        "# Probability of 20 or more days\n",
        "p2 = 1.0 - norm.cdf(20, mean, std_dev)\n",
        "\n",
        "# P-value of both tails\n",
        "p_value = p1 + p2\n",
        "\n",
        "print(p_value)"
      ],
      "metadata": {
        "colab": {
          "base_uri": "https://localhost:8080/"
        },
        "id": "fwa_dGJJljFf",
        "outputId": "77241706-9864-4826-9ad5-f4aa53e18a36"
      },
      "execution_count": 22,
      "outputs": [
        {
          "output_type": "stream",
          "name": "stdout",
          "text": [
            "0.18242243945173575\n"
          ]
        }
      ]
    },
    {
      "cell_type": "markdown",
      "source": [
        "### The T-Distribution: Dealing with Small Samples"
      ],
      "metadata": {
        "id": "1My9zDqPtoax"
      }
    },
    {
      "cell_type": "code",
      "source": [
        "# Example 3-23. Getting a critical value range with a t-distribution\n",
        "from scipy.stats import t\n",
        "\n",
        "# Get critical value range for 95% confidence with a sample size of 25\n",
        "n = 25\n",
        "lower = t.ppf(0.025, df = n - 1)\n",
        "upper = t.ppf(0.975, df = n - 1)\n",
        "\n",
        "print(lower, upper)"
      ],
      "metadata": {
        "colab": {
          "base_uri": "https://localhost:8080/"
        },
        "id": "_y4zz5qBmUvT",
        "outputId": "66068ac0-a1da-4952-a72a-99a3fcb2b37f"
      },
      "execution_count": 23,
      "outputs": [
        {
          "output_type": "stream",
          "name": "stdout",
          "text": [
            "-2.063898561628021 2.0638985616280205\n"
          ]
        }
      ]
    },
    {
      "cell_type": "markdown",
      "source": [
        "### Exercises"
      ],
      "metadata": {
        "id": "_8t4yWe7uFV1"
      }
    },
    {
      "cell_type": "markdown",
      "source": [
        "1. You bought a spool of 1.75 mm filament for your 3D printer. You want to measure how close the filament diameter really is to 1.75 mm. You use a caliper tool and ample the diameter five times on the spool:\n",
        "\n",
        "  1.78, 1.75, 1.72, 1.74, 1.77\n",
        "\n",
        "  Calculate the mean and standard deviation for this set of values."
      ],
      "metadata": {
        "id": "2PsQmqxFuHFr"
      }
    },
    {
      "cell_type": "code",
      "source": [
        "from math import sqrt\n",
        "\n",
        "data = [1.78, 1.75, 1.72, 1.74, 1.77]\n",
        "\n",
        "mean = sum(data) / len(data)\n",
        "\n",
        "def std_dev(values, mean):\n",
        "  variance = sum((v - mean) ** 2 for v in values) / len(values)\n",
        "  return sqrt(variance)\n",
        "\n",
        "print(f\"Mean: {mean}\")\n",
        "print(f\"SD: {std_dev(data, mean)}\")"
      ],
      "metadata": {
        "colab": {
          "base_uri": "https://localhost:8080/"
        },
        "id": "nGKjuYOquAME",
        "outputId": "48382788-e3c0-48c0-89b2-f782f877479b"
      },
      "execution_count": 24,
      "outputs": [
        {
          "output_type": "stream",
          "name": "stdout",
          "text": [
            "Mean: 1.752\n",
            "SD: 0.02135415650406264\n"
          ]
        }
      ]
    },
    {
      "cell_type": "markdown",
      "source": [
        "2. A manufacturer says the Z-phone smart phone has a mean consumer life of 42 months with a standard deviation of 8 months. Assuming a normal distribution, what is the probability of a given random Z-phone will last between 20 and 30 months?"
      ],
      "metadata": {
        "id": "EmhP03jwvumX"
      }
    },
    {
      "cell_type": "code",
      "source": [
        "from scipy.stats import norm\n",
        "\n",
        "mean = 42\n",
        "std_dev = 8\n",
        "\n",
        "lower = 20\n",
        "upper = 30\n",
        "\n",
        "prob = norm.cdf(upper, mean, std_dev) - norm.cdf(lower, mean, std_dev)\n",
        "\n",
        "print(prob)\n"
      ],
      "metadata": {
        "colab": {
          "base_uri": "https://localhost:8080/"
        },
        "id": "OU86sg_yv-TB",
        "outputId": "4c6f99f4-7e83-4ab2-d647-638167285c41"
      },
      "execution_count": 25,
      "outputs": [
        {
          "output_type": "stream",
          "name": "stdout",
          "text": [
            "0.06382743803380352\n"
          ]
        }
      ]
    },
    {
      "cell_type": "markdown",
      "source": [
        "3. I am skeptical that my 3D printer filament is not 1.75 mm in average diameter as advertised. I sampled 34 measurements with my tool. The sample mean is 1.715588 and the sample standard deviation is 0.029252. What is the 99% confidence interval for the mean of my entire spool of filament?"
      ],
      "metadata": {
        "id": "F4WV5AciwtfC"
      }
    },
    {
      "cell_type": "code",
      "source": [
        "from math import sqrt\n",
        "from scipy.stats import norm\n",
        "\n",
        "def cv(p, mean = 0.0, std_dev = 1.0):\n",
        "  norm_dist = norm(loc = mean, scale = std_dev)\n",
        "  lower = (1.0 - p) / 2.0\n",
        "  upper = 1.0 - lower\n",
        "  cv_l, cv_u = norm_dist.ppf(lower), norm_dist.ppf(upper)\n",
        "  \n",
        "  return cv_l, cv_u\n",
        "\n",
        "def ci(p, sample_mean, sample_std_dev, n):\n",
        "  lower, upper = cv(p)\n",
        "  ci_l = lower * (sample_std_dev / sqrt(n))\n",
        "  ci_u = upper * (sample_std_dev / sqrt(n))\n",
        "  s_l = sample_mean + ci_l\n",
        "  s_u = sample_mean + ci_u\n",
        "\n",
        "  return s_l, s_u\n",
        "\n",
        "print(f\"The 99% confidence interval is between {ci(0.99, 1.715588, 0.029252, 34)}\")"
      ],
      "metadata": {
        "colab": {
          "base_uri": "https://localhost:8080/"
        },
        "id": "djiMEfmBvRds",
        "outputId": "c7f3d219-b76c-47f0-819f-c20cddcf6ed6"
      },
      "execution_count": 26,
      "outputs": [
        {
          "output_type": "stream",
          "name": "stdout",
          "text": [
            "The 99% confidence interval is between (1.7026658973748656, 1.7285101026251342)\n"
          ]
        }
      ]
    },
    {
      "cell_type": "markdown",
      "source": [
        "4. Your marketing department has started a new advertising campaign and wants to know if it affected sales, which in the past averaged 10,345 a day with a standard deviation of 552. The new advertising campaign ran for 45 days and averaged 11,641 in sales. Did the campaign affect sales? Why or why not?"
      ],
      "metadata": {
        "id": "wsRCA7dGEBjM"
      }
    },
    {
      "cell_type": "code",
      "source": [
        "from scipy.stats import norm\n",
        "\n",
        "mean = 10345\n",
        "std_dev = 552\n",
        "\n",
        "x_bar = 11641\n",
        "\n",
        "p_lower = 1.0 - norm.cdf(x_bar, mean, std_dev)\n",
        "p_upper = p_lower\n",
        "\n",
        "p = p_lower + p_upper\n",
        "\n",
        "print(p)"
      ],
      "metadata": {
        "colab": {
          "base_uri": "https://localhost:8080/"
        },
        "id": "umOY0okl_Y6w",
        "outputId": "a31243c4-71e1-44f7-e2bf-209b5baa5ced"
      },
      "execution_count": 27,
      "outputs": [
        {
          "output_type": "stream",
          "name": "stdout",
          "text": [
            "0.01888333596496139\n"
          ]
        }
      ]
    }
  ]
}