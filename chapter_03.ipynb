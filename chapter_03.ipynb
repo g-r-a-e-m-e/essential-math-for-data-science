{
  "nbformat": 4,
  "nbformat_minor": 0,
  "metadata": {
    "colab": {
      "name": "chapter-03.ipynb",
      "provenance": [],
      "collapsed_sections": [],
      "authorship_tag": "ABX9TyOr3NrSitJ+OBlwmElyhhzj",
      "include_colab_link": true
    },
    "kernelspec": {
      "name": "python3",
      "display_name": "Python 3"
    },
    "language_info": {
      "name": "python"
    }
  },
  "cells": [
    {
      "cell_type": "markdown",
      "metadata": {
        "id": "view-in-github",
        "colab_type": "text"
      },
      "source": [
        "<a href=\"https://colab.research.google.com/github/g-r-a-e-m-e/essential-math-for-data-science/blob/main/chapter_03.ipynb\" target=\"_parent\"><img src=\"https://colab.research.google.com/assets/colab-badge.svg\" alt=\"Open In Colab\"/></a>"
      ]
    },
    {
      "cell_type": "markdown",
      "source": [
        "# Chapter 03\n",
        "\n",
        "## Descriptive and Inferential Statistics"
      ],
      "metadata": {
        "id": "TgrtYkrLcYhJ"
      }
    },
    {
      "cell_type": "markdown",
      "source": [
        "### Descriptive Statistics"
      ],
      "metadata": {
        "id": "W0cLdOmXcfU_"
      }
    },
    {
      "cell_type": "markdown",
      "source": [
        "#### Mean and Weighted Mean"
      ],
      "metadata": {
        "id": "U-eYmIOMciTF"
      }
    },
    {
      "cell_type": "code",
      "execution_count": 1,
      "metadata": {
        "colab": {
          "base_uri": "https://localhost:8080/"
        },
        "id": "LUxNdyJ2cUbH",
        "outputId": "3b64ee51-f096-46c5-d4e9-dc59250e35be"
      },
      "outputs": [
        {
          "output_type": "stream",
          "name": "stdout",
          "text": [
            "2.875\n"
          ]
        }
      ],
      "source": [
        "# Example 3-1. Calculating mean\n",
        "# Number of pets each person owns\n",
        "sample = [1, 3, 2, 5, 7, 0, 2, 3]\n",
        "\n",
        "mean = sum(sample) / len(sample)\n",
        "\n",
        "print(mean)"
      ]
    },
    {
      "cell_type": "code",
      "source": [
        "# Exampl 3-2. Calculating a weighted mean\n",
        "sample = [90, 80, 63, 87]\n",
        "weights = [.20, .20, .20, .40]\n",
        "\n",
        "weighted_mean = sum(s * w for s, w in zip(sample, weights)) / sum(weights)\n",
        "\n",
        "print(weighted_mean)"
      ],
      "metadata": {
        "colab": {
          "base_uri": "https://localhost:8080/"
        },
        "id": "6iOykly2cwIv",
        "outputId": "81cddd0e-a6f3-4765-b280-2faae32eeab9"
      },
      "execution_count": 2,
      "outputs": [
        {
          "output_type": "stream",
          "name": "stdout",
          "text": [
            "81.4\n"
          ]
        }
      ]
    },
    {
      "cell_type": "code",
      "source": [
        "# Example 3-3. Calculating another weighted mean\n",
        "sample = [90, 80, 63, 87]\n",
        "weights = [1.0, 1.0, 1.0, 2.0]\n",
        "\n",
        "weighted_mean = sum(s * w for s, w in zip(sample, weights)) / sum(weights)\n",
        "\n",
        "print(weighted_mean)"
      ],
      "metadata": {
        "colab": {
          "base_uri": "https://localhost:8080/"
        },
        "id": "9UPZx8aeelz-",
        "outputId": "d13e7dfd-4880-4079-f8bd-1cb078543c4a"
      },
      "execution_count": 3,
      "outputs": [
        {
          "output_type": "stream",
          "name": "stdout",
          "text": [
            "81.4\n"
          ]
        }
      ]
    },
    {
      "cell_type": "markdown",
      "source": [
        "#### Median"
      ],
      "metadata": {
        "id": "zoY__JF7fE2Y"
      }
    },
    {
      "cell_type": "code",
      "source": [
        "# Example 3-4. Calculating the median\n",
        "# Number of pets each person owns\n",
        "sample = [0, 1, 5, 7, 9, 10, 14]\n",
        "\n",
        "def median(values):\n",
        "  ordered = sorted(values)\n",
        "  print(ordered)\n",
        "  n = len(ordered)\n",
        "  mid = int(n / 2) - 1 if n % 2 == 0 else int(n / 2)\n",
        "\n",
        "  if n % 2 == 0:\n",
        "    return (ordered[mid] + ordered[mid + 1]) / 2.0\n",
        "  else:\n",
        "    return ordered[mid]\n",
        "\n",
        "print(median(sample))"
      ],
      "metadata": {
        "colab": {
          "base_uri": "https://localhost:8080/"
        },
        "id": "FaoEfoBJe_8M",
        "outputId": "afd715a1-676b-4aa3-e41e-49243f454655"
      },
      "execution_count": 4,
      "outputs": [
        {
          "output_type": "stream",
          "name": "stdout",
          "text": [
            "[0, 1, 5, 7, 9, 10, 14]\n",
            "7\n"
          ]
        }
      ]
    },
    {
      "cell_type": "markdown",
      "source": [
        "#### Mode"
      ],
      "metadata": {
        "id": "iAmqNX5IgPms"
      }
    },
    {
      "cell_type": "code",
      "source": [
        "# Example 3-5. Calculating the mode\n",
        "from collections import defaultdict\n",
        "\n",
        "sample = [1, 3, 2, 5, 7, 0, 2, 3]\n",
        "\n",
        "def mode(values):\n",
        "  counts = defaultdict(lambda: 0)\n",
        "\n",
        "  for s in values:\n",
        "    counts[s] += 1\n",
        "  \n",
        "  max_count = max(counts.values())\n",
        "  modes = [v for v in set(values) if counts[v] == max_count]\n",
        "\n",
        "  return modes\n",
        "\n",
        "print(mode(sample))"
      ],
      "metadata": {
        "colab": {
          "base_uri": "https://localhost:8080/"
        },
        "id": "-iD8OxlJfqn1",
        "outputId": "d661aa92-44ba-435a-dfcb-67606200c64a"
      },
      "execution_count": 5,
      "outputs": [
        {
          "output_type": "stream",
          "name": "stdout",
          "text": [
            "[2, 3]\n"
          ]
        }
      ]
    },
    {
      "cell_type": "markdown",
      "source": [
        "#### Variance and Standard Deviation"
      ],
      "metadata": {
        "id": "tbWan5h3hBBB"
      }
    },
    {
      "cell_type": "code",
      "source": [
        "# Example 3-6: Calculating variance\n",
        "\n",
        "data = [0, 1, 5, 7, 9, 10, 14]\n",
        "\n",
        "def variance(values):\n",
        "  mean = sum(values) / len(values)\n",
        "  _variance = sum((v - mean) ** 2 for v in values) / len(values)\n",
        "  return _variance\n",
        "\n",
        "print(variance(data))"
      ],
      "metadata": {
        "colab": {
          "base_uri": "https://localhost:8080/"
        },
        "id": "2I80jbDpg0jx",
        "outputId": "ec160cca-a31a-485f-916f-61b8cf132c5a"
      },
      "execution_count": 6,
      "outputs": [
        {
          "output_type": "stream",
          "name": "stdout",
          "text": [
            "21.387755102040813\n"
          ]
        }
      ]
    },
    {
      "cell_type": "code",
      "source": [
        "# Example 3-7. Calculating standard deviation\n",
        "from math import sqrt\n",
        "\n",
        "data = [0, 1, 5, 7, 9, 10, 14]\n",
        "\n",
        "def variance(values):\n",
        "  mean = sum(values) / len(values)\n",
        "  _variance = sum((v - mean) ** 2 for v in values) / len(values)\n",
        "  return _variance\n",
        "\n",
        "def std_dev(values):\n",
        "  return sqrt(variance(values))\n",
        "\n",
        "print(std_dev(data))"
      ],
      "metadata": {
        "colab": {
          "base_uri": "https://localhost:8080/"
        },
        "id": "7pamHvVHjA0d",
        "outputId": "c1a376e3-67f4-49d7-ba96-1a7157bdd86e"
      },
      "execution_count": 7,
      "outputs": [
        {
          "output_type": "stream",
          "name": "stdout",
          "text": [
            "4.624689730353898\n"
          ]
        }
      ]
    },
    {
      "cell_type": "markdown",
      "source": [
        "##### Sample Variance and Standard Deviation"
      ],
      "metadata": {
        "id": "dmqw2XoQjvrE"
      }
    },
    {
      "cell_type": "code",
      "source": [
        "# Example 3-8. Calculating standard deviation for a sample\n",
        "from math import sqrt\n",
        "\n",
        "data = [0, 1, 5, 7, 9, 10, 14]\n",
        "\n",
        "def variance(values, is_sample: bool = False):\n",
        "  mean = sum(values) / len(values)\n",
        "  _variance = sum((v - mean) ** 2 for v in values) / (len(values) - (1 if is_sample else 0))\n",
        "  \n",
        "  return _variance\n",
        "\n",
        "def std_dev(values, is_sample: bool = False):\n",
        "  return sqrt(variance(values, is_sample))\n",
        "\n",
        "print(f\"Variance = {variance(data, True)}\")\n",
        "print(f\"Standard Deviation = {std_dev(data, True)}\")"
      ],
      "metadata": {
        "colab": {
          "base_uri": "https://localhost:8080/"
        },
        "id": "vArR_6i7jksU",
        "outputId": "7dcd49a9-b7f7-4e0c-8c64-fac8ab8e1952"
      },
      "execution_count": 8,
      "outputs": [
        {
          "output_type": "stream",
          "name": "stdout",
          "text": [
            "Variance = 24.95238095238095\n",
            "Standard Deviation = 4.99523582550223\n"
          ]
        }
      ]
    },
    {
      "cell_type": "markdown",
      "source": [
        "##### Probability Density Function"
      ],
      "metadata": {
        "id": "rxA3cvewX04h"
      }
    },
    {
      "cell_type": "code",
      "source": [
        "# Example 3-9 The normal distribution PDF\n",
        "import math\n",
        "def normal_pdf(x: float, mean: float, std_dev: float):\n",
        "  return (1.0 / (2.0* math.pi * std_dev ** 2) ** 0.5) * math.exp(-1.0 * ((x - mean) ** 2 / (2.0 * std_dev ** 2)))\n",
        "\n",
        "normal_pdf(6.0, 3.0, 1.0)"
      ],
      "metadata": {
        "colab": {
          "base_uri": "https://localhost:8080/"
        },
        "id": "FkxoOJj6ktWr",
        "outputId": "b1a1fc5c-f636-40ee-95a3-59f5a162512a"
      },
      "execution_count": 9,
      "outputs": [
        {
          "output_type": "execute_result",
          "data": {
            "text/plain": [
              "0.0044318484119380075"
            ]
          },
          "metadata": {},
          "execution_count": 9
        }
      ]
    },
    {
      "cell_type": "markdown",
      "source": [
        "##### Cumulative Density Function"
      ],
      "metadata": {
        "id": "UEDLMUZBY8Ur"
      }
    },
    {
      "cell_type": "code",
      "source": [
        "# Example 3-10. The normal distribution CDF\n",
        "from scipy.stats import norm\n",
        "\n",
        "mean = 64.43\n",
        "sdev = 2.99\n",
        "\n",
        "x = norm.cdf(64.43, mean, sdev)\n",
        "\n",
        "print(x)"
      ],
      "metadata": {
        "colab": {
          "base_uri": "https://localhost:8080/"
        },
        "id": "Ub8Bll00YkKz",
        "outputId": "9bf22fab-9b5d-45e8-b97d-0e3746f5c061"
      },
      "execution_count": 10,
      "outputs": [
        {
          "output_type": "stream",
          "name": "stdout",
          "text": [
            "0.5\n"
          ]
        }
      ]
    },
    {
      "cell_type": "code",
      "source": [
        "# Example 3-11. Getting a middle range probability using the CDF\n",
        "from scipy.stats import norm\n",
        "\n",
        "mean = 64.43\n",
        "sdev = 2.99\n",
        "\n",
        "x = norm.cdf(66, mean, sdev) - norm.cdf(62, mean, sdev)\n",
        "\n",
        "print(x)"
      ],
      "metadata": {
        "colab": {
          "base_uri": "https://localhost:8080/"
        },
        "id": "MgUANq1NZUK6",
        "outputId": "3146c15d-7edd-474e-8802-3f46f42956b8"
      },
      "execution_count": 11,
      "outputs": [
        {
          "output_type": "stream",
          "name": "stdout",
          "text": [
            "0.4920450147062894\n"
          ]
        }
      ]
    },
    {
      "cell_type": "markdown",
      "source": [
        "#### The Inverse CDF"
      ],
      "metadata": {
        "id": "qKFR4eR1Z3Yf"
      }
    },
    {
      "cell_type": "code",
      "source": [
        "# Example 3-12. Using the inverse CDF\n",
        "from scipy.stats import norm\n",
        "\n",
        "x = norm.ppf(.95, loc = 64.43, scale = 2.99)\n",
        "\n",
        "print(x)"
      ],
      "metadata": {
        "id": "ZPB2AQTFZxIl",
        "colab": {
          "base_uri": "https://localhost:8080/"
        },
        "outputId": "0cb91e35-66d2-4bdd-ce2c-99488836547e"
      },
      "execution_count": 12,
      "outputs": [
        {
          "output_type": "stream",
          "name": "stdout",
          "text": [
            "69.3481123445849\n"
          ]
        }
      ]
    },
    {
      "cell_type": "code",
      "source": [
        "# Example 3-13. Generating random numbers from a normal distribution\n",
        "import random\n",
        "import matplotlib.pyplot as plt\n",
        "\n",
        "x = []\n",
        "\n",
        "for i in range(0, 1000):\n",
        "  random_p = random.uniform(0.0, 1.0)\n",
        "  random_weight = norm.ppf(random_p, loc = 64.43, scale = 2.99)\n",
        "  x.append(random_weight)\n",
        "\n",
        "plt.hist(x, bins = 50)"
      ],
      "metadata": {
        "colab": {
          "base_uri": "https://localhost:8080/",
          "height": 555
        },
        "id": "uPlBuFw50kxV",
        "outputId": "ab52f848-115c-4f0a-bcd4-ebec2897364d"
      },
      "execution_count": 13,
      "outputs": [
        {
          "output_type": "execute_result",
          "data": {
            "text/plain": [
              "(array([ 1.,  0.,  0.,  0.,  0.,  0.,  1.,  1.,  4.,  0.,  2.,  2.,  4.,\n",
              "        12.,  8., 12., 21., 17., 26., 32., 37., 37., 42., 43., 54., 48.,\n",
              "        58., 47., 60., 66., 50., 39., 41., 40., 46., 25., 23., 20., 18.,\n",
              "        15.,  8.,  9.,  6.,  7.,  6.,  5.,  2.,  0.,  1.,  4.]),\n",
              " array([52.6934517 , 53.11539053, 53.53732935, 53.95926817, 54.381207  ,\n",
              "        54.80314582, 55.22508465, 55.64702347, 56.0689623 , 56.49090112,\n",
              "        56.91283995, 57.33477877, 57.7567176 , 58.17865642, 58.60059524,\n",
              "        59.02253407, 59.44447289, 59.86641172, 60.28835054, 60.71028937,\n",
              "        61.13222819, 61.55416702, 61.97610584, 62.39804466, 62.81998349,\n",
              "        63.24192231, 63.66386114, 64.08579996, 64.50773879, 64.92967761,\n",
              "        65.35161644, 65.77355526, 66.19549408, 66.61743291, 67.03937173,\n",
              "        67.46131056, 67.88324938, 68.30518821, 68.72712703, 69.14906586,\n",
              "        69.57100468, 69.99294351, 70.41488233, 70.83682115, 71.25875998,\n",
              "        71.6806988 , 72.10263763, 72.52457645, 72.94651528, 73.3684541 ,\n",
              "        73.79039293]),\n",
              " <a list of 50 Patch objects>)"
            ]
          },
          "metadata": {},
          "execution_count": 13
        },
        {
          "output_type": "display_data",
          "data": {
            "text/plain": [
              "<Figure size 432x288 with 1 Axes>"
            ],
            "image/png": "[encoded data removed]"
          },
          "metadata": {
            "needs_background": "light"
          }
        }
      ]
    },
    {
      "cell_type": "code",
      "source": [
        ""
      ],
      "metadata": {
        "id": "jXr-DwIh05c5"
      },
      "execution_count": 13,
      "outputs": []
    }
  ]
}