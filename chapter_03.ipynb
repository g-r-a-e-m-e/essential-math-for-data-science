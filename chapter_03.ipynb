{
  "nbformat": 4,
  "nbformat_minor": 0,
  "metadata": {
    "colab": {
      "name": "chapter-03.ipynb",
      "provenance": [],
      "collapsed_sections": [],
      "authorship_tag": "ABX9TyMvfMyvvMyJ1bqMXG6JJKTS",
      "include_colab_link": true
    },
    "kernelspec": {
      "name": "python3",
      "display_name": "Python 3"
    },
    "language_info": {
      "name": "python"
    }
  },
  "cells": [
    {
      "cell_type": "markdown",
      "metadata": {
        "id": "view-in-github",
        "colab_type": "text"
      },
      "source": [
        "<a href=\"https://colab.research.google.com/github/g-r-a-e-m-e/essential-math-for-data-science/blob/main/chapter_03.ipynb\" target=\"_parent\"><img src=\"https://colab.research.google.com/assets/colab-badge.svg\" alt=\"Open In Colab\"/></a>"
      ]
    },
    {
      "cell_type": "markdown",
      "source": [
        "# Chapter 03\n",
        "\n",
        "## Descriptive and Inferential Statistics"
      ],
      "metadata": {
        "id": "TgrtYkrLcYhJ"
      }
    },
    {
      "cell_type": "markdown",
      "source": [
        "### Descriptive Statistics"
      ],
      "metadata": {
        "id": "W0cLdOmXcfU_"
      }
    },
    {
      "cell_type": "markdown",
      "source": [
        "#### Mean and Weighted Mean"
      ],
      "metadata": {
        "id": "U-eYmIOMciTF"
      }
    },
    {
      "cell_type": "code",
      "execution_count": 1,
      "metadata": {
        "colab": {
          "base_uri": "https://localhost:8080/"
        },
        "id": "LUxNdyJ2cUbH",
        "outputId": "ba6f340b-9d17-4e3a-fc31-31dd60ad40f5"
      },
      "outputs": [
        {
          "output_type": "stream",
          "name": "stdout",
          "text": [
            "2.875\n"
          ]
        }
      ],
      "source": [
        "# Example 3-1. Calculating mean\n",
        "# Number of pets each person owns\n",
        "sample = [1, 3, 2, 5, 7, 0, 2, 3]\n",
        "\n",
        "mean = sum(sample) / len(sample)\n",
        "\n",
        "print(mean)"
      ]
    },
    {
      "cell_type": "code",
      "source": [
        "# Exampl 3-2. Calculating a weighted mean\n",
        "sample = [90, 80, 63, 87]\n",
        "weights = [.20, .20, .20, .40]\n",
        "\n",
        "weighted_mean = sum(s * w for s, w in zip(sample, weights)) / sum(weights)\n",
        "\n",
        "print(weighted_mean)"
      ],
      "metadata": {
        "colab": {
          "base_uri": "https://localhost:8080/"
        },
        "id": "6iOykly2cwIv",
        "outputId": "c688f774-62e4-4484-ad90-3fc9b239b02c"
      },
      "execution_count": 2,
      "outputs": [
        {
          "output_type": "stream",
          "name": "stdout",
          "text": [
            "81.4\n"
          ]
        }
      ]
    },
    {
      "cell_type": "code",
      "source": [
        "# Example 3-3. Calculating another weighted mean\n",
        "sample = [90, 80, 63, 87]\n",
        "weights = [1.0, 1.0, 1.0, 2.0]\n",
        "\n",
        "weighted_mean = sum(s * w for s, w in zip(sample, weights)) / sum(weights)\n",
        "\n",
        "print(weighted_mean)"
      ],
      "metadata": {
        "colab": {
          "base_uri": "https://localhost:8080/"
        },
        "id": "9UPZx8aeelz-",
        "outputId": "59f5a624-2619-4f1f-fd3e-340d48c04fb0"
      },
      "execution_count": 3,
      "outputs": [
        {
          "output_type": "stream",
          "name": "stdout",
          "text": [
            "81.4\n"
          ]
        }
      ]
    },
    {
      "cell_type": "markdown",
      "source": [
        "#### Median"
      ],
      "metadata": {
        "id": "zoY__JF7fE2Y"
      }
    },
    {
      "cell_type": "code",
      "source": [
        "# Example 3-4. Calculating the median\n",
        "# Number of pets each person owns\n",
        "sample = [0, 1, 5, 7, 9, 10, 14]\n",
        "\n",
        "def median(values):\n",
        "  ordered = sorted(values)\n",
        "  print(ordered)\n",
        "  n = len(ordered)\n",
        "  mid = int(n / 2) - 1 if n % 2 == 0 else int(n / 2)\n",
        "\n",
        "  if n % 2 == 0:\n",
        "    return (ordered[mid] + ordered[mid + 1]) / 2.0\n",
        "  else:\n",
        "    return ordered[mid]\n",
        "\n",
        "print(median(sample))"
      ],
      "metadata": {
        "colab": {
          "base_uri": "https://localhost:8080/"
        },
        "id": "FaoEfoBJe_8M",
        "outputId": "e6015877-9e58-4ae4-f80e-d6e15c0145fc"
      },
      "execution_count": 4,
      "outputs": [
        {
          "output_type": "stream",
          "name": "stdout",
          "text": [
            "[0, 1, 5, 7, 9, 10, 14]\n",
            "7\n"
          ]
        }
      ]
    },
    {
      "cell_type": "markdown",
      "source": [
        "#### Mode"
      ],
      "metadata": {
        "id": "iAmqNX5IgPms"
      }
    },
    {
      "cell_type": "code",
      "source": [
        "# Example 3-5. Calculating the mode\n",
        "from collections import defaultdict\n",
        "\n",
        "sample = [1, 3, 2, 5, 7, 0, 2, 3]\n",
        "\n",
        "def mode(values):\n",
        "  counts = defaultdict(lambda: 0)\n",
        "\n",
        "  for s in values:\n",
        "    counts[s] += 1\n",
        "  \n",
        "  max_count = max(counts.values())\n",
        "  modes = [v for v in set(values) if counts[v] == max_count]\n",
        "\n",
        "  return modes\n",
        "\n",
        "print(mode(sample))"
      ],
      "metadata": {
        "colab": {
          "base_uri": "https://localhost:8080/"
        },
        "id": "-iD8OxlJfqn1",
        "outputId": "7f36442a-cced-45a3-bf4f-bcda5beae8b7"
      },
      "execution_count": 5,
      "outputs": [
        {
          "output_type": "stream",
          "name": "stdout",
          "text": [
            "[2, 3]\n"
          ]
        }
      ]
    },
    {
      "cell_type": "markdown",
      "source": [
        "#### Variance and Standard Deviation"
      ],
      "metadata": {
        "id": "tbWan5h3hBBB"
      }
    },
    {
      "cell_type": "code",
      "source": [
        "# Example 3-6: Calculating variance\n",
        "\n",
        "data = [0, 1, 5, 7, 9, 10, 14]\n",
        "\n",
        "def variance(values):\n",
        "  mean = sum(values) / len(values)\n",
        "  _variance = sum((v - mean) ** 2 for v in values) / len(values)\n",
        "  return _variance\n",
        "\n",
        "print(variance(data))"
      ],
      "metadata": {
        "colab": {
          "base_uri": "https://localhost:8080/"
        },
        "id": "2I80jbDpg0jx",
        "outputId": "21fdcb9c-03f0-4c16-d345-ef6f7be0d74f"
      },
      "execution_count": 6,
      "outputs": [
        {
          "output_type": "stream",
          "name": "stdout",
          "text": [
            "21.387755102040813\n"
          ]
        }
      ]
    },
    {
      "cell_type": "code",
      "source": [
        "# Example 3-7. Calculating standard deviation\n",
        "from math import sqrt\n",
        "\n",
        "data = [0, 1, 5, 7, 9, 10, 14]\n",
        "\n",
        "def variance(values):\n",
        "  mean = sum(values) / len(values)\n",
        "  _variance = sum((v - mean) ** 2 for v in values) / len(values)\n",
        "  return _variance\n",
        "\n",
        "def std_dev(values):\n",
        "  return sqrt(variance(values))\n",
        "\n",
        "print(std_dev(data))"
      ],
      "metadata": {
        "colab": {
          "base_uri": "https://localhost:8080/"
        },
        "id": "7pamHvVHjA0d",
        "outputId": "aca77584-f3b5-4d10-dbe0-db880d55c98b"
      },
      "execution_count": 7,
      "outputs": [
        {
          "output_type": "stream",
          "name": "stdout",
          "text": [
            "4.624689730353898\n"
          ]
        }
      ]
    },
    {
      "cell_type": "markdown",
      "source": [
        "##### Sample Variance and Standard Deviation"
      ],
      "metadata": {
        "id": "dmqw2XoQjvrE"
      }
    },
    {
      "cell_type": "code",
      "source": [
        "# Example 3-8. Calculating standard deviation for a sample\n",
        "from math import sqrt\n",
        "\n",
        "data = [0, 1, 5, 7, 9, 10, 14]\n",
        "\n",
        "def variance(values, is_sample: bool = False):\n",
        "  mean = sum(values) / len(values)\n",
        "  _variance = sum((v - mean) ** 2 for v in values) / (len(values) - (1 if is_sample else 0))\n",
        "  \n",
        "  return _variance\n",
        "\n",
        "def std_dev(values, is_sample: bool = False):\n",
        "  return sqrt(variance(values, is_sample))\n",
        "\n",
        "print(f\"Variance = {variance(data, True)}\")\n",
        "print(f\"Standard Deviation = {std_dev(data, True)}\")"
      ],
      "metadata": {
        "colab": {
          "base_uri": "https://localhost:8080/"
        },
        "id": "vArR_6i7jksU",
        "outputId": "4a36910d-018e-4178-807c-d1425c479182"
      },
      "execution_count": 8,
      "outputs": [
        {
          "output_type": "stream",
          "name": "stdout",
          "text": [
            "Variance = 24.95238095238095\n",
            "Standard Deviation = 4.99523582550223\n"
          ]
        }
      ]
    },
    {
      "cell_type": "markdown",
      "source": [
        "##### Probability Density Function"
      ],
      "metadata": {
        "id": "rxA3cvewX04h"
      }
    },
    {
      "cell_type": "code",
      "source": [
        "# Example 3-9 The normal distribution PDF\n",
        "import math\n",
        "def normal_pdf(x: float, mean: float, std_dev: float):\n",
        "  return (1.0 / (2.0* math.pi * std_dev ** 2) ** 0.5) * math.exp(-1.0 * ((x - mean) ** 2 / (2.0 * std_dev ** 2)))\n",
        "\n",
        "normal_pdf(6.0, 3.0, 1.0)"
      ],
      "metadata": {
        "colab": {
          "base_uri": "https://localhost:8080/"
        },
        "id": "FkxoOJj6ktWr",
        "outputId": "feea6e87-3e8d-49c6-84b0-0444f9c8a3c8"
      },
      "execution_count": 10,
      "outputs": [
        {
          "output_type": "execute_result",
          "data": {
            "text/plain": [
              "0.13342551183994403"
            ]
          },
          "metadata": {},
          "execution_count": 10
        }
      ]
    },
    {
      "cell_type": "markdown",
      "source": [
        "##### Cumulative Density Function"
      ],
      "metadata": {
        "id": "UEDLMUZBY8Ur"
      }
    },
    {
      "cell_type": "code",
      "source": [
        "# Example 3-10. The normal distribution CDF\n",
        "from scipy.stats import norm\n",
        "\n",
        "mean = 64.43\n",
        "sdev = 2.99\n",
        "\n",
        "x = norm.cdf(64.43, mean, sdev)\n",
        "\n",
        "print(x)"
      ],
      "metadata": {
        "colab": {
          "base_uri": "https://localhost:8080/"
        },
        "id": "Ub8Bll00YkKz",
        "outputId": "7f116771-d5f3-4189-cef5-99eb058cb715"
      },
      "execution_count": 11,
      "outputs": [
        {
          "output_type": "stream",
          "name": "stdout",
          "text": [
            "0.5\n"
          ]
        }
      ]
    },
    {
      "cell_type": "code",
      "source": [
        "# Example 3-11. Getting a middle range probability using the CDF\n",
        "from scipy.stats import norm\n",
        "\n",
        "mean = 64.43\n",
        "sdev = 2.99\n",
        "\n",
        "x = norm.cdf(66, mean, sdev) - norm.cdf(62, mean, sdev)\n",
        "\n",
        "print(x)"
      ],
      "metadata": {
        "colab": {
          "base_uri": "https://localhost:8080/"
        },
        "id": "MgUANq1NZUK6",
        "outputId": "842fe374-96f7-467d-8939-49eecd62c1f4"
      },
      "execution_count": 12,
      "outputs": [
        {
          "output_type": "stream",
          "name": "stdout",
          "text": [
            "0.4920450147062894\n"
          ]
        }
      ]
    },
    {
      "cell_type": "markdown",
      "source": [
        "#### The Inverse CDF"
      ],
      "metadata": {
        "id": "qKFR4eR1Z3Yf"
      }
    },
    {
      "cell_type": "code",
      "source": [
        ""
      ],
      "metadata": {
        "id": "ZPB2AQTFZxIl"
      },
      "execution_count": null,
      "outputs": []
    }
  ]
}