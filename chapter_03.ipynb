{
  "nbformat": 4,
  "nbformat_minor": 0,
  "metadata": {
    "colab": {
      "name": "chapter-03.ipynb",
      "provenance": [],
      "collapsed_sections": [],
      "authorship_tag": "ABX9TyN1QKD7CjSfnILVtMpc9Let",
      "include_colab_link": true
    },
    "kernelspec": {
      "name": "python3",
      "display_name": "Python 3"
    },
    "language_info": {
      "name": "python"
    }
  },
  "cells": [
    {
      "cell_type": "markdown",
      "metadata": {
        "id": "view-in-github",
        "colab_type": "text"
      },
      "source": [
        "<a href=\"https://colab.research.google.com/github/g-r-a-e-m-e/essential-math-for-data-science/blob/main/chapter_03.ipynb\" target=\"_parent\"><img src=\"https://colab.research.google.com/assets/colab-badge.svg\" alt=\"Open In Colab\"/></a>"
      ]
    },
    {
      "cell_type": "markdown",
      "source": [
        "# Chapter 03\n",
        "\n",
        "## Descriptive and Inferential Statistics"
      ],
      "metadata": {
        "id": "TgrtYkrLcYhJ"
      }
    },
    {
      "cell_type": "markdown",
      "source": [
        "### Descriptive Statistics"
      ],
      "metadata": {
        "id": "W0cLdOmXcfU_"
      }
    },
    {
      "cell_type": "markdown",
      "source": [
        "#### Mean and Weighted Mean"
      ],
      "metadata": {
        "id": "U-eYmIOMciTF"
      }
    },
    {
      "cell_type": "code",
      "execution_count": 1,
      "metadata": {
        "colab": {
          "base_uri": "https://localhost:8080/"
        },
        "id": "LUxNdyJ2cUbH",
        "outputId": "4780cb48-47fe-4642-dd37-7836257ec147"
      },
      "outputs": [
        {
          "output_type": "stream",
          "name": "stdout",
          "text": [
            "2.875\n"
          ]
        }
      ],
      "source": [
        "# Example 3-1. Calculating mean\n",
        "# Number of pets each person owns\n",
        "sample = [1, 3, 2, 5, 7, 0, 2, 3]\n",
        "\n",
        "mean = sum(sample) / len(sample)\n",
        "\n",
        "print(mean)"
      ]
    },
    {
      "cell_type": "code",
      "source": [
        "# Exampl 3-2. Calculating a weighted mean\n",
        "sample = [90, 80, 63, 87]\n",
        "weights = [.20, .20, .20, .40]\n",
        "\n",
        "weighted_mean = sum(s * w for s, w in zip(sample, weights)) / sum(weights)\n",
        "\n",
        "print(weighted_mean)"
      ],
      "metadata": {
        "colab": {
          "base_uri": "https://localhost:8080/"
        },
        "id": "6iOykly2cwIv",
        "outputId": "c4a09ce2-d8fe-45cd-9231-8bcb311ab7d2"
      },
      "execution_count": 2,
      "outputs": [
        {
          "output_type": "stream",
          "name": "stdout",
          "text": [
            "81.4\n"
          ]
        }
      ]
    },
    {
      "cell_type": "code",
      "source": [
        "# Example 3-3. Calculating another weighted mean\n",
        "sample = [90, 80, 63, 87]\n",
        "weights = [1.0, 1.0, 1.0, 2.0]\n",
        "\n",
        "weighted_mean = sum(s * w for s, w in zip(sample, weights)) / sum(weights)\n",
        "\n",
        "print(weighted_mean)"
      ],
      "metadata": {
        "colab": {
          "base_uri": "https://localhost:8080/"
        },
        "id": "9UPZx8aeelz-",
        "outputId": "af6be69f-e2bc-443b-a41f-bb4473b98a0d"
      },
      "execution_count": 3,
      "outputs": [
        {
          "output_type": "stream",
          "name": "stdout",
          "text": [
            "81.4\n"
          ]
        }
      ]
    },
    {
      "cell_type": "markdown",
      "source": [
        "#### Median"
      ],
      "metadata": {
        "id": "zoY__JF7fE2Y"
      }
    },
    {
      "cell_type": "code",
      "source": [
        "# Example 3-4. Calculating the median\n",
        "# Number of pets each person owns\n",
        "sample = [0, 1, 5, 7, 9, 10, 14]\n",
        "\n",
        "def median(values):\n",
        "  ordered = sorted(values)\n",
        "  print(ordered)\n",
        "  n = len(ordered)\n",
        "  mid = int(n / 2) - 1 if n % 2 == 0 else int(n / 2)\n",
        "\n",
        "  if n % 2 == 0:\n",
        "    return (ordered[mid] + ordered[mid + 1]) / 2.0\n",
        "  else:\n",
        "    return ordered[mid]\n",
        "\n",
        "print(median(sample))"
      ],
      "metadata": {
        "colab": {
          "base_uri": "https://localhost:8080/"
        },
        "id": "FaoEfoBJe_8M",
        "outputId": "f128385b-a8d6-41a1-e533-7eccd3f9cec4"
      },
      "execution_count": 4,
      "outputs": [
        {
          "output_type": "stream",
          "name": "stdout",
          "text": [
            "[0, 1, 5, 7, 9, 10, 14]\n",
            "7\n"
          ]
        }
      ]
    },
    {
      "cell_type": "markdown",
      "source": [
        "#### Mode"
      ],
      "metadata": {
        "id": "iAmqNX5IgPms"
      }
    },
    {
      "cell_type": "code",
      "source": [
        "# Example 3-5. Calculating the mode\n",
        "from collections import defaultdict\n",
        "\n",
        "sample = [1, 3, 2, 5, 7, 0, 2, 3]\n",
        "\n",
        "def mode(values):\n",
        "  counts = defaultdict(lambda: 0)\n",
        "\n",
        "  for s in values:\n",
        "    counts[s] += 1\n",
        "  \n",
        "  max_count = max(counts.values())\n",
        "  modes = [v for v in set(values) if counts[v] == max_count]\n",
        "\n",
        "  return modes\n",
        "\n",
        "print(mode(sample))"
      ],
      "metadata": {
        "colab": {
          "base_uri": "https://localhost:8080/"
        },
        "id": "-iD8OxlJfqn1",
        "outputId": "363a0915-b9c6-42f6-d96c-55fab04cc386"
      },
      "execution_count": 5,
      "outputs": [
        {
          "output_type": "stream",
          "name": "stdout",
          "text": [
            "[2, 3]\n"
          ]
        }
      ]
    },
    {
      "cell_type": "markdown",
      "source": [
        "#### Variance and Standard Deviation"
      ],
      "metadata": {
        "id": "tbWan5h3hBBB"
      }
    },
    {
      "cell_type": "code",
      "source": [
        "# Example 3-6: Calculating variance\n",
        "\n",
        "data = [0, 1, 5, 7, 9, 10, 14]\n",
        "\n",
        "def variance(values):\n",
        "  mean = sum(values) / len(values)\n",
        "  _variance = sum((v - mean) ** 2 for v in values) / len(values)\n",
        "  return _variance\n",
        "\n",
        "print(variance(data))"
      ],
      "metadata": {
        "colab": {
          "base_uri": "https://localhost:8080/"
        },
        "id": "2I80jbDpg0jx",
        "outputId": "b115fb61-154a-40f9-a48b-aeb5feebb053"
      },
      "execution_count": 6,
      "outputs": [
        {
          "output_type": "stream",
          "name": "stdout",
          "text": [
            "21.387755102040813\n"
          ]
        }
      ]
    },
    {
      "cell_type": "code",
      "source": [
        "# Example 3-7. Calculating standard deviation\n",
        "from math import sqrt\n",
        "\n",
        "data = [0, 1, 5, 7, 9, 10, 14]\n",
        "\n",
        "def variance(values):\n",
        "  mean = sum(values) / len(values)\n",
        "  _variance = sum((v - mean) ** 2 for v in values) / len(values)\n",
        "  return _variance\n",
        "\n",
        "def std_dev(values):\n",
        "  return sqrt(variance(values))\n",
        "\n",
        "print(std_dev(data))"
      ],
      "metadata": {
        "colab": {
          "base_uri": "https://localhost:8080/"
        },
        "id": "7pamHvVHjA0d",
        "outputId": "316ee2bb-cfa7-4de4-8c14-a22858f7bf51"
      },
      "execution_count": 7,
      "outputs": [
        {
          "output_type": "stream",
          "name": "stdout",
          "text": [
            "4.624689730353898\n"
          ]
        }
      ]
    },
    {
      "cell_type": "markdown",
      "source": [
        "##### Sample Variance and Standard Deviation"
      ],
      "metadata": {
        "id": "dmqw2XoQjvrE"
      }
    },
    {
      "cell_type": "code",
      "source": [
        "# Example 3-8. Calculating standard deviation for a sample\n",
        "from math import sqrt\n",
        "\n",
        "data = [0, 1, 5, 7, 9, 10, 14]\n",
        "\n",
        "def variance(values, is_sample: bool = False):\n",
        "  mean = sum(values) / len(values)\n",
        "  _variance = sum((v - mean) ** 2 for v in values) / (len(values) - (1 if is_sample else 0))\n",
        "  \n",
        "  return _variance\n",
        "\n",
        "def std_dev(values, is_sample: bool = False):\n",
        "  return sqrt(variance(values, is_sample))\n",
        "\n",
        "print(f\"Variance = {variance(data, True)}\")\n",
        "print(f\"Standard Deviation = {std_dev(data, True)}\")"
      ],
      "metadata": {
        "colab": {
          "base_uri": "https://localhost:8080/"
        },
        "id": "vArR_6i7jksU",
        "outputId": "587023b0-958d-4fd0-f59a-8b5afbb1b323"
      },
      "execution_count": 8,
      "outputs": [
        {
          "output_type": "stream",
          "name": "stdout",
          "text": [
            "Variance = 24.95238095238095\n",
            "Standard Deviation = 4.99523582550223\n"
          ]
        }
      ]
    },
    {
      "cell_type": "markdown",
      "source": [
        "##### Probability Density Function"
      ],
      "metadata": {
        "id": "rxA3cvewX04h"
      }
    },
    {
      "cell_type": "code",
      "source": [
        "# Example 3-9 The normal distribution PDF\n",
        "import math\n",
        "def normal_pdf(x: float, mean: float, std_dev: float):\n",
        "  return (1.0 / (2.0* math.pi * std_dev ** 2) ** 0.5) * math.exp(-1.0 * ((x - mean) ** 2 / (2.0 * std_dev ** 2)))\n",
        "\n",
        "normal_pdf(6.0, 3.0, 1.0)"
      ],
      "metadata": {
        "colab": {
          "base_uri": "https://localhost:8080/"
        },
        "id": "FkxoOJj6ktWr",
        "outputId": "bc576ea0-03de-4426-9f43-6f5148c30d1c"
      },
      "execution_count": 9,
      "outputs": [
        {
          "output_type": "execute_result",
          "data": {
            "text/plain": [
              "0.0044318484119380075"
            ]
          },
          "metadata": {},
          "execution_count": 9
        }
      ]
    },
    {
      "cell_type": "markdown",
      "source": [
        "##### Cumulative Density Function"
      ],
      "metadata": {
        "id": "UEDLMUZBY8Ur"
      }
    },
    {
      "cell_type": "code",
      "source": [
        "# Example 3-10. The normal distribution CDF\n",
        "from scipy.stats import norm\n",
        "\n",
        "mean = 64.43\n",
        "sdev = 2.99\n",
        "\n",
        "x = norm.cdf(64.43, mean, sdev)\n",
        "\n",
        "print(x)"
      ],
      "metadata": {
        "colab": {
          "base_uri": "https://localhost:8080/"
        },
        "id": "Ub8Bll00YkKz",
        "outputId": "99775a54-e147-4e1e-f2d4-44600b533b28"
      },
      "execution_count": 10,
      "outputs": [
        {
          "output_type": "stream",
          "name": "stdout",
          "text": [
            "0.5\n"
          ]
        }
      ]
    },
    {
      "cell_type": "code",
      "source": [
        "# Example 3-11. Getting a middle range probability using the CDF\n",
        "from scipy.stats import norm\n",
        "\n",
        "mean = 64.43\n",
        "sdev = 2.99\n",
        "\n",
        "x = norm.cdf(66, mean, sdev) - norm.cdf(62, mean, sdev)\n",
        "\n",
        "print(x)"
      ],
      "metadata": {
        "colab": {
          "base_uri": "https://localhost:8080/"
        },
        "id": "MgUANq1NZUK6",
        "outputId": "0bd334d4-fd7f-4ef6-c3c5-15e5c258068e"
      },
      "execution_count": 11,
      "outputs": [
        {
          "output_type": "stream",
          "name": "stdout",
          "text": [
            "0.4920450147062894\n"
          ]
        }
      ]
    },
    {
      "cell_type": "markdown",
      "source": [
        "#### The Inverse CDF"
      ],
      "metadata": {
        "id": "qKFR4eR1Z3Yf"
      }
    },
    {
      "cell_type": "code",
      "source": [
        "# Example 3-12. Using the inverse CDF\n",
        "from scipy.stats import norm\n",
        "\n",
        "x = norm.ppf(.95, loc = 64.43, scale = 2.99)\n",
        "\n",
        "print(x)"
      ],
      "metadata": {
        "id": "ZPB2AQTFZxIl",
        "colab": {
          "base_uri": "https://localhost:8080/"
        },
        "outputId": "8833e1ae-5f5d-4cfe-ebc6-c4c5017bfb42"
      },
      "execution_count": 12,
      "outputs": [
        {
          "output_type": "stream",
          "name": "stdout",
          "text": [
            "69.3481123445849\n"
          ]
        }
      ]
    },
    {
      "cell_type": "code",
      "source": [
        "# Example 3-13. Generating random numbers from a normal distribution\n",
        "import random\n",
        "import matplotlib.pyplot as plt\n",
        "\n",
        "x = []\n",
        "\n",
        "for i in range(0, 1000):\n",
        "  random_p = random.uniform(0.0, 1.0)\n",
        "  random_weight = norm.ppf(random_p, loc = 64.43, scale = 2.99)\n",
        "  x.append(random_weight)\n",
        "\n",
        "plt.hist(x, bins = 50)"
      ],
      "metadata": {
        "colab": {
          "base_uri": "https://localhost:8080/",
          "height": 555
        },
        "id": "uPlBuFw50kxV",
        "outputId": "2c98d803-f813-4e23-d3f3-26c37050662e"
      },
      "execution_count": 13,
      "outputs": [
        {
          "output_type": "execute_result",
          "data": {
            "text/plain": [
              "(array([ 1.,  0.,  1.,  0.,  0.,  0.,  1.,  1.,  0.,  1.,  0.,  2.,  3.,\n",
              "         4.,  4.,  9., 15.,  9., 14., 29., 23., 25., 39., 38., 49., 36.,\n",
              "        53., 58., 62., 55., 53., 52., 44., 53., 38., 45., 32., 29., 33.,\n",
              "        28., 12.,  9., 14.,  8., 10.,  1.,  2.,  2.,  2.,  1.]),\n",
              " array([52.05503457, 52.47009292, 52.88515127, 53.30020962, 53.71526797,\n",
              "        54.13032631, 54.54538466, 54.96044301, 55.37550136, 55.7905597 ,\n",
              "        56.20561805, 56.6206764 , 57.03573475, 57.4507931 , 57.86585144,\n",
              "        58.28090979, 58.69596814, 59.11102649, 59.52608483, 59.94114318,\n",
              "        60.35620153, 60.77125988, 61.18631823, 61.60137657, 62.01643492,\n",
              "        62.43149327, 62.84655162, 63.26160997, 63.67666831, 64.09172666,\n",
              "        64.50678501, 64.92184336, 65.3369017 , 65.75196005, 66.1670184 ,\n",
              "        66.58207675, 66.9971351 , 67.41219344, 67.82725179, 68.24231014,\n",
              "        68.65736849, 69.07242684, 69.48748518, 69.90254353, 70.31760188,\n",
              "        70.73266023, 71.14771857, 71.56277692, 71.97783527, 72.39289362,\n",
              "        72.80795197]),\n",
              " <a list of 50 Patch objects>)"
            ]
          },
          "metadata": {},
          "execution_count": 13
        },
        {
          "output_type": "display_data",
          "data": {
            "text/plain": [
              "<Figure size 432x288 with 1 Axes>"
            ],
            "image/png": "[encoded data removed]"
          },
          "metadata": {
            "needs_background": "light"
          }
        }
      ]
    },
    {
      "cell_type": "markdown",
      "source": [
        "#### Z-scores"
      ],
      "metadata": {
        "id": "1sSkrVvb6sCh"
      }
    },
    {
      "cell_type": "code",
      "source": [
        "# Example 3-14. TUrn Z-scores into x-values and vice versa\n",
        "\n",
        "def z_score(x, mean, std):\n",
        "  return (x - mean) / std\n",
        "\n",
        "def z_to_x(z, mean, std):\n",
        "  return (z * std) + mean\n",
        "\n",
        "mean = 140000\n",
        "std_dev = 3000\n",
        "x = 150000\n",
        "\n",
        "# Convert to Z-score then back to X\n",
        "z = z_score(x, mean, std_dev)\n",
        "back_to_x = z_to_x(z, mean, std_dev)\n",
        "\n",
        "print(f\"Z-score: {z}\")\n",
        "print(f\"Back to X: {back_to_x}\")"
      ],
      "metadata": {
        "colab": {
          "base_uri": "https://localhost:8080/"
        },
        "id": "jXr-DwIh05c5",
        "outputId": "0ab2d4d2-7031-4430-f397-7c535ea19e25"
      },
      "execution_count": 14,
      "outputs": [
        {
          "output_type": "stream",
          "name": "stdout",
          "text": [
            "Z-score: 3.3333333333333335\n",
            "Back to X: 150000.0\n"
          ]
        }
      ]
    },
    {
      "cell_type": "markdown",
      "source": [
        "### Inferential Statistics"
      ],
      "metadata": {
        "id": "RvNZ-AlH7puW"
      }
    },
    {
      "cell_type": "markdown",
      "source": [
        "#### The Central Limit Theorem"
      ],
      "metadata": {
        "id": "uHTSPRlP7wQr"
      }
    },
    {
      "cell_type": "code",
      "source": [
        "# Example 3-15. Exploring the central limit theorem\n",
        "# Samples of the uniform distribution will average out to a normal distribution\n",
        "import random\n",
        "import plotly.express as px\n",
        "\n",
        "sample_size = 300\n",
        "sample_count = 1000\n",
        "\n",
        "# Central limit theorem, 1000 samples each with 31 random numbers in [0.0, 1.0]\n",
        "x_values = [(sum([random.uniform(0.0, 1.0) for i in range(sample_size)]) / \\\n",
        "                 sample_size) \\\n",
        "             for _ in range(sample_count)]\n",
        "\n",
        "y_values = [1 for _ in range(sample_count)]\n",
        "\n",
        "px.histogram(x = x_values, y = y_values, nbins = 20).show()"
      ],
      "metadata": {
        "colab": {
          "base_uri": "https://localhost:8080/",
          "height": 542
        },
        "id": "t_aZnlyI7ykC",
        "outputId": "37ca3397-9521-4b33-c5f0-18a40cca5b84"
      },
      "execution_count": 15,
      "outputs": [
        {
          "output_type": "display_data",
          "data": {
            "text/html": [
              "<html>\n",
              "<head><meta charset=\"utf-8\" /></head>\n",
              "<body>\n",
              "    <div>            <script src=\"https://cdnjs.cloudflare.com/ajax/libs/mathjax/2.7.5/MathJax.js?config=TeX-AMS-MML_SVG\"></script><script type=\"text/javascript\">if (window.MathJax) {MathJax.Hub.Config({SVG: {font: \"STIX-Web\"}});}</script>                <script type=\"text/javascript\">window.PlotlyConfig = {MathJaxConfig: 'local'};</script>\n",
              "        <script src=\"https://cdn.plot.ly/plotly-2.8.3.min.js\"></script>                <div id=\"2b89adb4-18c6-4b78-bb9d-11d74064ce97\" class=\"plotly-graph-div\" style=\"height:525px; width:100%;\"></div>            <script type=\"text/javascript\">                                    window.PLOTLYENV=window.PLOTLYENV || {};                                    if (document.getElementById(\"2b89adb4-18c6-4b78-bb9d-11d74064ce97\")) {                    Plotly.newPlot(                        \"2b89adb4-18c6-4b78-bb9d-11d74064ce97\",                        [{\"alignmentgroup\":\"True\",\"bingroup\":\"x\",\"histfunc\":\"sum\",\"hovertemplate\":\"x=%{x}<br>sum of y=%{y}<extra></extra>\",\"legendgroup\":\"\",\"marker\":{\"color\":\"#636efa\",\"pattern\":{\"shape\":\"\"}},\"name\":\"\",\"nbinsx\":20,\"offsetgroup\":\"\",\"orientation\":\"v\",\"showlegend\":false,\"x\":[0.4822742308509865,0.510924191200922,0.5059360601083995,0.511123921372328,0.5009433727725152,0.5076607103722789,0.4933219925195465,0.5124684877887583,0.5253083337729749,0.4918812562173243,0.4689862888228014,0.5186343576334445,0.5104281246552109,0.5024166017361755,0.5041935244194437,0.5072228119992743,0.49291192232534664,0.4991850868008016,0.4982627240508244,0.49656972798890675,0.48811783819316135,0.5064435958881707,0.5179753901776298,0.5054946882944008,0.5171807899788767,0.4772505647268215,0.4848101742947779,0.507204755995216,0.4927634764501773,0.4712237185146133,0.5106306010529382,0.5102340955546805,0.4832256412206913,0.4871466466945388,0.4706447448568535,0.47136323543592196,0.5174668101101877,0.5236615744330511,0.49996352732165056,0.5058872115122122,0.4933387480303104,0.4767266531132995,0.4924322881088415,0.491161130228987,0.4968649383454537,0.48082735627976064,0.5354011088525155,0.5180402943543368,0.47635181968034707,0.5145872465322218,0.50490703112978,0.5201943319487244,0.5149232618522542,0.5088470707046776,0.5129504682126869,0.4976856738811454,0.5125318442440772,0.4822333239503419,0.5001748690393719,0.4915514074345699,0.5002352646360158,0.4929998852485081,0.5149628598039693,0.5006512313588649,0.5101879168403972,0.5183798982636819,0.4886400876405338,0.47755225166937143,0.5289072846482951,0.4937078283014769,0.4879671939191098,0.5160100601454249,0.5138962542569605,0.48688082640990077,0.47417422811131726,0.5085265317448969,0.51996567124507,0.47542656871752076,0.47564848217385425,0.464360818834461,0.5274135371497446,0.5046430256957941,0.5019448267438965,0.4825853195286455,0.48634455035118074,0.48044092479379896,0.5013050493977659,0.5105067403247013,0.5033927909786021,0.5064966063767561,0.5246480894341545,0.5259652828276139,0.5149344060503773,0.48515986808518163,0.519811585207809,0.5247001861090778,0.4747675496812095,0.4815487802228092,0.500639221353855,0.5109208701252254,0.5083757844968494,0.5143286009179394,0.48232103410140903,0.4911963106046697,0.5190507044588224,0.5181799431638303,0.4588235443940558,0.4996011480421391,0.527857571945017,0.5138186623589621,0.5072091631490883,0.48702345736350877,0.4719602645141641,0.5043078050169845,0.5063822937055789,0.4924202147203357,0.5118632691767404,0.4963361581316023,0.5098791286892419,0.5227400699975386,0.5152959461816816,0.505929933561476,0.5238548000582505,0.4871991798464854,0.5044459385514258,0.49610171907149675,0.4715766133832605,0.4969055400249605,0.519169219714182,0.5118618906333673,0.4633676750417591,0.48381024067521033,0.49551152433127704,0.5040157120608669,0.48583219565009794,0.48374525258761,0.4952675046909644,0.5167486293791841,0.4806210627491341,0.4802484375006403,0.5075065723326622,0.5048617222362735,0.4743053092083278,0.5314846721707734,0.5093028000406999,0.49978346376669597,0.4969434098047247,0.5176928620174899,0.5058719253288683,0.500990375689861,0.5200477047736036,0.48837444266318764,0.5171766382031006,0.48435565002707825,0.4958331524541009,0.5292815735261877,0.4981238700937847,0.4967558522665514,0.4904057046693555,0.49555850176856714,0.48039277745889203,0.504598345615925,0.5225621419231502,0.5078730228027407,0.489544581547777,0.4807004791063955,0.4907474956876209,0.4620400530055577,0.4981923086518325,0.5118233407603296,0.511243065726974,0.45595076608444923,0.4581267116915799,0.5023192922748863,0.48927252662592347,0.4902118938151185,0.49582097683321036,0.5001038075926411,0.5013693357323873,0.5175393278107827,0.5167740451498245,0.48622405718202427,0.4718236643840623,0.4864543184517301,0.5195237206221544,0.49327517836958207,0.5112376904026822,0.46175397273476176,0.4890363411575417,0.5299884161902466,0.49836595515796017,0.4784619383258235,0.5022560662920073,0.4821167619054803,0.4820919085844081,0.49842322568170433,0.5026873971490766,0.4909246169671575,0.49002779498658167,0.5135397931754464,0.5057654997618799,0.4562611063833437,0.4859688066068392,0.49262492819730513,0.4811326716824746,0.4747392287738444,0.5198567578671818,0.488135521356146,0.49275320813856394,0.49437811389931974,0.5080570208291356,0.4933390447632753,0.49259221732202574,0.504325020041707,0.5004417353351656,0.49586093883674454,0.5250160055690777,0.5241562728406668,0.515729502675018,0.49873833440533183,0.48447883376936934,0.4789992662194761,0.4796084820428038,0.48818002889847995,0.4836126173478972,0.5062467936525374,0.49818728934159706,0.5026945243521223,0.509421921495007,0.505750994435249,0.4998275117995725,0.5244774063053186,0.5465917361136551,0.5222379278239946,0.503655148952533,0.49327364184610284,0.5288833537986886,0.5215953493974513,0.5242583996523174,0.4751564293835251,0.5166248358861042,0.5093514951331338,0.46320848978254103,0.4863975581693291,0.48598378651793117,0.5236274987327831,0.487795851911038,0.5095846347897107,0.4928378950119794,0.5311378505934208,0.49102125523917445,0.5039343473601733,0.5030763615282003,0.46550714560733475,0.5107064836753779,0.4870509269930509,0.4995798085706473,0.48263871585134127,0.5045665114057986,0.4708389666983836,0.5124106063461423,0.4856511573175511,0.49947427033124714,0.5086793414592903,0.5256965804702264,0.47875493300191324,0.5193265391114021,0.5039519835754019,0.5433979141435495,0.5255310609877252,0.5136707935301339,0.5012731498042746,0.5056373463452306,0.48034133565193715,0.5282296781259175,0.49994962398883636,0.5022587854496937,0.5081221425401631,0.5185822406485934,0.49255574959336085,0.5369514497917999,0.5023079926641817,0.4785354818361449,0.49417127653857307,0.4999495631381542,0.4783722600023425,0.5098888038493347,0.5184607657863581,0.49440452763426823,0.5126880063324096,0.4885068564948029,0.48862484867441786,0.5075439786884587,0.4944958159186776,0.511640930887015,0.4982717942558812,0.5078799185665068,0.4710169804314211,0.5125369794201551,0.4857209778670306,0.48223226336992087,0.5036225330768002,0.5396154987707171,0.5128062639689872,0.5170158122814669,0.5040740445968281,0.5373153661925293,0.4534954447400809,0.4913023404109425,0.5128009969789865,0.496649651519683,0.4858360077796428,0.48697187489431637,0.5110188647207949,0.5016636567151628,0.4876635149579469,0.5171528700831577,0.5106366941142834,0.47654976676499805,0.4983756084196244,0.5003044396464191,0.5038129277586978,0.5016311071597492,0.48412792670405763,0.5126431187170017,0.4914551773663528,0.5113707699480973,0.48229234661144926,0.49881039340383687,0.49417604897887124,0.49709443616830734,0.5387599755254938,0.48722150292113864,0.4956464177889723,0.4912515244578291,0.46901770580928076,0.4829595416768648,0.5044923715160099,0.49901697522293254,0.5078240116576227,0.49393968992415127,0.5115790524294962,0.4829671389361814,0.5444553858265688,0.5065435091697371,0.48291880911987356,0.49700686176852493,0.5125703596372605,0.5103541596098423,0.5090686652543241,0.5004894718182092,0.508021494198698,0.5114154395701945,0.4894245968764833,0.47348303636000605,0.5003304685196781,0.48133034334639974,0.517458479491503,0.47898473210070996,0.48908064004799245,0.48219135542359265,0.4999523971407456,0.4849650508261806,0.4990869778402966,0.49465726654741843,0.4873168816135069,0.5303515031148,0.5104619826272732,0.5181535250524437,0.5231022730271394,0.5276958498959058,0.5388368046040096,0.47789091058962707,0.4863603039158958,0.49784825950709566,0.4861946776786476,0.4865679019392573,0.4781720986906859,0.49515063839860846,0.4881238540967029,0.52230941555169,0.48553063927918194,0.5358809651561144,0.5050833403689226,0.5150124416875703,0.5100321548915504,0.500735153211761,0.5087863120970311,0.5085051496035883,0.5125037235049485,0.46014891020511234,0.4857298540273495,0.5294443591718708,0.4985252524495399,0.5003283069018194,0.522529782374319,0.48439930434883527,0.5061047109287644,0.48382095482477294,0.5155475015871203,0.4974561502227199,0.5099941993261942,0.532147257148517,0.4938903175848629,0.5063698731013027,0.49799067509877837,0.5106621890230169,0.5015335172189854,0.5253058680698737,0.5122268588296399,0.5170883524934058,0.49219761450051874,0.5115452164774186,0.5050886976411318,0.47524778239020277,0.5297430552248321,0.4869173213509484,0.521939221317868,0.5076104707426174,0.5080736267378094,0.5072559691371131,0.4919506395830673,0.522519543652233,0.4832313590720176,0.4987520074706656,0.5023411414341724,0.5030521688555182,0.4846252440610058,0.5136089092970496,0.4942873287323387,0.4780104229397363,0.5251397920490863,0.5021377383609582,0.509002018703507,0.5137140571221482,0.49480272298046873,0.5146858431215041,0.48156668345300896,0.4936209607948555,0.45784881272542566,0.49574117350325936,0.5010916684015058,0.4960412538574849,0.5134918471454879,0.5000049012989751,0.4992940088082407,0.4969077322977814,0.5131909765618142,0.4840571123558615,0.5011595033375739,0.502086880560405,0.5194925615478733,0.481959709894609,0.5000817106486118,0.5421316782772402,0.49847224614691965,0.5038897155911303,0.472824416849611,0.48914950434495513,0.5009182829627867,0.52389687942833,0.5103357176675699,0.49401881737819003,0.46461429946453514,0.5138816045868265,0.4501640960146159,0.48081007606226855,0.47689549126438363,0.5018107235418126,0.47715669999694627,0.48055379269569426,0.5175699905015845,0.4714143908508373,0.5298452046358215,0.46572605622579594,0.503879952936698,0.47966576589155085,0.5144607627102199,0.5050701664112313,0.512753870624741,0.5229462644718922,0.48797075343731017,0.4805407890562671,0.5049174410546684,0.5118074861685232,0.5278873093790853,0.5217700913848707,0.5184185402658296,0.514750331130343,0.500281187384497,0.5021373475250538,0.48463269200029996,0.5235233081968178,0.5011024334226631,0.4744039880182028,0.5070005896339054,0.49118237998397957,0.4803497930796382,0.5052861254583916,0.5242717097284708,0.4877134743358071,0.482317387774602,0.5319698150348798,0.49259200301908257,0.5214432735214678,0.5182828283904098,0.5151189328477038,0.5227900174643778,0.513032343025608,0.4698023442010334,0.4767165689088721,0.5073440142519523,0.5117476455636595,0.4882158031767074,0.5149346155854629,0.4786992467067674,0.48966898793338376,0.5246815642169826,0.4862391172012582,0.5022033256541626,0.4914210357541517,0.48936471051329733,0.48552928597701195,0.49996699126395916,0.45944473641224853,0.5065265855733836,0.48229197966007026,0.5051744921267696,0.49884848800383536,0.5349831716334295,0.49865310398612206,0.4411933939625642,0.45868674609094756,0.4885328126526792,0.5339160993295811,0.5052324869804817,0.4934599726463362,0.5204325042525153,0.49261105479842304,0.4824673148961004,0.5107553596541572,0.4827589561686011,0.4888937212319993,0.5065872639819398,0.48801009058926326,0.48510517430340805,0.48897231676898845,0.5102762015080249,0.5060055934129473,0.48862456238873475,0.4917815410345018,0.4890993462175419,0.5316291138372498,0.5019039853604286,0.5224523141243886,0.49228161649507596,0.5194102208302097,0.5103847521722291,0.5107273574109548,0.5164030505835857,0.5111213757297733,0.4853662505723819,0.5150816304488742,0.46611729594233403,0.5049488952110112,0.47311976307021525,0.5208410927308171,0.4721393186325327,0.4991713963042704,0.4826492602918184,0.4997381380204697,0.501415953464736,0.473669681762878,0.5267434917117306,0.4891088508968714,0.5300474877684133,0.471466473771836,0.4827555763580682,0.5086226401342185,0.5211236544736777,0.489309722456674,0.5061108467710385,0.48955247273724695,0.5269629662612407,0.5149761812652088,0.5043142064648475,0.46121308917030907,0.4928911067825531,0.5199877809527261,0.4828643032730136,0.5097373051687922,0.5157780521446361,0.4851456192694628,0.48931334941195803,0.5080986605866726,0.5186050630881973,0.5180690682824275,0.49240590794182104,0.47057357400211497,0.5119397887304513,0.4875337101418058,0.4673382419132371,0.5012932356920018,0.5283234336324618,0.4815008853423565,0.5232728826381264,0.49183869851363105,0.5166918934400557,0.5263351405113544,0.5169424513227002,0.5091041929016067,0.4821427550108181,0.512140648014083,0.47761403621393544,0.5227660731445234,0.477895319265196,0.5300890536023286,0.48556245076350374,0.4962733236722209,0.5409457969681108,0.5054105387242034,0.4901767387216226,0.4816736168214263,0.4760086265716941,0.4970785589226988,0.4878468905066005,0.5107609540770602,0.49924882497271794,0.4978950698249557,0.5203039126916953,0.4902222291249915,0.46482815776998554,0.5221393159186473,0.49608541552695007,0.48667279716202405,0.4885191333129645,0.4952871084306237,0.48355037415813323,0.49103455516277233,0.5072621952780249,0.5050977359085493,0.501589104664841,0.4940406205448491,0.5100423559460687,0.5228672704963838,0.5005562851584401,0.5266502932121025,0.5118686885204528,0.5135774173151045,0.49990327837242404,0.5091040615484435,0.5023749742954412,0.4895135869386188,0.5334748320114524,0.49825925458805054,0.49857370604668005,0.49482761399454567,0.5074461978117084,0.4878694324357676,0.48433399664419796,0.4773147192112836,0.5448400217220172,0.5023030428620691,0.4711797194814856,0.5109908185775137,0.4847148117624224,0.4755682603947654,0.5101607690943246,0.48753002846513604,0.46474521106174504,0.5028439763406545,0.5200182949999316,0.4599969411616804,0.4792009968338843,0.496664525350917,0.5174941722770245,0.5099991119478421,0.49922407467390123,0.5055799239997457,0.5059068908088665,0.5126105737379851,0.48576448715964354,0.4893781155736043,0.4900782535580505,0.5020262520122639,0.46970633722348376,0.5321700770134756,0.4988950547385954,0.4982919233341229,0.521697783330974,0.523561048577405,0.48758158062344875,0.4800435746541789,0.5186169103629417,0.5106178649070058,0.4751522537584692,0.5018961765913545,0.5108079843052934,0.5424111955760527,0.4672418824470782,0.46765588234927197,0.485307743661374,0.48289173713362016,0.5117909940122379,0.4696404816444861,0.47901808798507317,0.5030436728130515,0.4984053567346684,0.4951734332840971,0.5147141293359025,0.4888395070519174,0.4828364615146119,0.5140867252877642,0.5175939656945441,0.5069942210565344,0.48397798649346374,0.4888973694668391,0.5111818595782794,0.4745975168866118,0.5002639221592068,0.4660937942481487,0.5073068892396565,0.5147787400823545,0.4988434192669213,0.4896257186306866,0.47163515438894343,0.5083099788040827,0.4966297947208349,0.510764974816422,0.48305669877071483,0.49503278478293633,0.5048996266091372,0.5127389173513541,0.5082063150613308,0.4884541300990165,0.5179847820734239,0.5116270403862501,0.5194382720339789,0.49279467871660737,0.4884520637618782,0.5006486414028973,0.5035509532188044,0.4928865313853544,0.4782340873529869,0.5007293690779955,0.5063678769266764,0.5150050576924838,0.5033030872501224,0.4933382684616479,0.4855157513445462,0.5260387472040364,0.48824293567065696,0.4988087559529177,0.505091945857011,0.5108843613920803,0.4985354793552822,0.5151178946089547,0.5184619622329688,0.4623385417501845,0.490409609617236,0.515698172207543,0.503267628561802,0.5219465038873728,0.46489387721890674,0.4961447483566686,0.523563669952858,0.5032763504351693,0.5080635709796082,0.5177324112894345,0.49896165474780435,0.488903703174164,0.49613364477123906,0.4950148686436568,0.5028417471859354,0.49619285229436105,0.4955674994816047,0.5091872455964115,0.4813901104281634,0.5082150336414916,0.4987451347775727,0.5020525616427135,0.5158837825260486,0.48585859631215716,0.5220525687072524,0.5291892104470196,0.4958200058433712,0.5479696632046014,0.5233123346222239,0.46482376848118245,0.513048620805941,0.4960203400967755,0.48654561159737125,0.5111057480322613,0.5035350444504023,0.5116625081068148,0.5298329622676204,0.5036128820320948,0.48660892712347437,0.5207159787361931,0.51364109516478,0.4948855663207318,0.5172378559341143,0.5151347437679595,0.5082592945006774,0.5111435576155663,0.5102638708174543,0.47724288023339567,0.507870566282686,0.4839804826527787,0.44613105401955316,0.48883608854233046,0.5004000913631566,0.4872337086458958,0.4872576497429868,0.4877847365213545,0.479251613941325,0.4770179613459834,0.4954593640251924,0.4902083376262689,0.49476133812101875,0.508470537902936,0.47104339144133517,0.5237491703261555,0.4853115077555746,0.5169516421842446,0.48970015954794427,0.48292342395814464,0.520340607809803,0.49507820495827437,0.51907275280613,0.5054062646105228,0.4792859567092875,0.49663910168874614,0.5240470677229705,0.5087433676479501,0.5523822425315171,0.48335236717155755,0.48871887073784376,0.49211626746744475,0.5246964413133444,0.5047961341756633,0.48885134786105605,0.4977661564090952,0.5043566537140156,0.4911571987103363,0.5082586808904113,0.5247928080066989,0.5260949941184672,0.49895067959762285,0.5017741838953197,0.5212301012675973,0.5186830081386122,0.5050779282611305,0.5183242245455039,0.4997048111148738,0.4966179848311523,0.4778572445756021,0.5075315435518148,0.5021544086288683,0.5072650484193467,0.46978320505242654,0.5224244681650914,0.4917404151103662,0.5152078683671308,0.49980006159171114,0.5010782545637517,0.4984961813221626,0.5096778577947247,0.4911486878051327,0.4751486748332047,0.4812305473052438,0.514236901260984,0.48637092717334224,0.476447951863167,0.5204491277565252,0.5164354874903992,0.49243253805105447,0.48943709974031663,0.4976661688091008,0.5110538202518149,0.49732598398465105,0.47860233590864854,0.501955728334632,0.4981802672631522,0.514278246813011,0.5080247912878358,0.5007874770538164,0.5281366862644712,0.5126758571075949,0.5196625460872766,0.526697553358645,0.5028353297986793,0.5154505588818044,0.5025590258551419,0.4887037076969592,0.5132991336098746,0.4875895853793813,0.4979639934872241,0.489987538512806,0.5147525163949914,0.5009200959151603,0.4940602595339136,0.4616945514309547,0.5142873397827888,0.46928272349135614,0.5295220295930047,0.5195913163034543,0.49322537770570485,0.5276910616521339,0.4792294600320616,0.4935223370803818,0.47587442554741605,0.4857703822111466,0.5016416263662057,0.4849204518080728,0.49412857739165533,0.5168608428931003,0.4910339429813818,0.5081051431665772,0.4778940403730718,0.49712447414710803,0.5016845818925564,0.4872210671941003,0.5059943293270466,0.48136329909949627,0.49243770406166903,0.48458464707084203,0.47716060069741095,0.5221522844700163,0.4740365141278709,0.5154942005233314,0.4662443278103751,0.5047785990901292,0.5155696320434037,0.5136397354191529,0.49449629582144694,0.49408955101381197,0.504993058192981,0.503342898927701,0.5006480679622349,0.49892812784392987,0.5120468536751479,0.5006537686086462,0.5275898683205588,0.5207036529144788,0.4955034637676487,0.5011571220205407,0.5146083710149876,0.5034578467226282,0.48453540114842886,0.5172350291275997,0.5094603967344389,0.4893988635660696,0.4467287633315324,0.5116390212813816,0.5271405682578572,0.49318080302543243,0.4969747856949212,0.4660027358515538,0.5200912055954942,0.5016787982956104,0.5035171973928243,0.49105241949862555,0.49367049479983016,0.5404029696081594,0.4878647046823667,0.4796802892418911,0.5137824069884089,0.5133365897846871,0.5022837743870315,0.4874651905182121,0.5061423990384156,0.5090878579066385,0.4775432992301799,0.49305384166373795,0.4996568696032709,0.5227449830667895,0.4781723698817555,0.47199376510072844,0.4919114398190652,0.5052834577942208,0.5150988564603941,0.5229087596004524,0.5444969289627013,0.5135828488382709,0.5064455934452577,0.5159915280572053,0.4855994351972451,0.5044200846390384,0.4792564554067372,0.5028730920815647,0.5131854776318664,0.5363340306398835,0.4743191854846096,0.5049170420509126,0.5113852244635374,0.5221478539032135,0.514341419410303,0.48331353689241646,0.48972141680784376],\"xaxis\":\"x\",\"y\":[1,1,1,1,1,1,1,1,1,1,1,1,1,1,1,1,1,1,1,1,1,1,1,1,1,1,1,1,1,1,1,1,1,1,1,1,1,1,1,1,1,1,1,1,1,1,1,1,1,1,1,1,1,1,1,1,1,1,1,1,1,1,1,1,1,1,1,1,1,1,1,1,1,1,1,1,1,1,1,1,1,1,1,1,1,1,1,1,1,1,1,1,1,1,1,1,1,1,1,1,1,1,1,1,1,1,1,1,1,1,1,1,1,1,1,1,1,1,1,1,1,1,1,1,1,1,1,1,1,1,1,1,1,1,1,1,1,1,1,1,1,1,1,1,1,1,1,1,1,1,1,1,1,1,1,1,1,1,1,1,1,1,1,1,1,1,1,1,1,1,1,1,1,1,1,1,1,1,1,1,1,1,1,1,1,1,1,1,1,1,1,1,1,1,1,1,1,1,1,1,1,1,1,1,1,1,1,1,1,1,1,1,1,1,1,1,1,1,1,1,1,1,1,1,1,1,1,1,1,1,1,1,1,1,1,1,1,1,1,1,1,1,1,1,1,1,1,1,1,1,1,1,1,1,1,1,1,1,1,1,1,1,1,1,1,1,1,1,1,1,1,1,1,1,1,1,1,1,1,1,1,1,1,1,1,1,1,1,1,1,1,1,1,1,1,1,1,1,1,1,1,1,1,1,1,1,1,1,1,1,1,1,1,1,1,1,1,1,1,1,1,1,1,1,1,1,1,1,1,1,1,1,1,1,1,1,1,1,1,1,1,1,1,1,1,1,1,1,1,1,1,1,1,1,1,1,1,1,1,1,1,1,1,1,1,1,1,1,1,1,1,1,1,1,1,1,1,1,1,1,1,1,1,1,1,1,1,1,1,1,1,1,1,1,1,1,1,1,1,1,1,1,1,1,1,1,1,1,1,1,1,1,1,1,1,1,1,1,1,1,1,1,1,1,1,1,1,1,1,1,1,1,1,1,1,1,1,1,1,1,1,1,1,1,1,1,1,1,1,1,1,1,1,1,1,1,1,1,1,1,1,1,1,1,1,1,1,1,1,1,1,1,1,1,1,1,1,1,1,1,1,1,1,1,1,1,1,1,1,1,1,1,1,1,1,1,1,1,1,1,1,1,1,1,1,1,1,1,1,1,1,1,1,1,1,1,1,1,1,1,1,1,1,1,1,1,1,1,1,1,1,1,1,1,1,1,1,1,1,1,1,1,1,1,1,1,1,1,1,1,1,1,1,1,1,1,1,1,1,1,1,1,1,1,1,1,1,1,1,1,1,1,1,1,1,1,1,1,1,1,1,1,1,1,1,1,1,1,1,1,1,1,1,1,1,1,1,1,1,1,1,1,1,1,1,1,1,1,1,1,1,1,1,1,1,1,1,1,1,1,1,1,1,1,1,1,1,1,1,1,1,1,1,1,1,1,1,1,1,1,1,1,1,1,1,1,1,1,1,1,1,1,1,1,1,1,1,1,1,1,1,1,1,1,1,1,1,1,1,1,1,1,1,1,1,1,1,1,1,1,1,1,1,1,1,1,1,1,1,1,1,1,1,1,1,1,1,1,1,1,1,1,1,1,1,1,1,1,1,1,1,1,1,1,1,1,1,1,1,1,1,1,1,1,1,1,1,1,1,1,1,1,1,1,1,1,1,1,1,1,1,1,1,1,1,1,1,1,1,1,1,1,1,1,1,1,1,1,1,1,1,1,1,1,1,1,1,1,1,1,1,1,1,1,1,1,1,1,1,1,1,1,1,1,1,1,1,1,1,1,1,1,1,1,1,1,1,1,1,1,1,1,1,1,1,1,1,1,1,1,1,1,1,1,1,1,1,1,1,1,1,1,1,1,1,1,1,1,1,1,1,1,1,1,1,1,1,1,1,1,1,1,1,1,1,1,1,1,1,1,1,1,1,1,1,1,1,1,1,1,1,1,1,1,1,1,1,1,1,1,1,1,1,1,1,1,1,1,1,1,1,1,1,1,1,1,1,1,1,1,1,1,1,1,1,1,1,1,1,1,1,1,1,1,1,1,1,1,1,1,1,1,1,1,1,1,1,1,1,1,1,1,1,1,1,1,1,1,1,1,1,1,1,1,1,1,1,1,1,1,1,1,1,1,1,1,1,1,1,1,1,1,1,1,1,1,1,1,1,1,1,1,1,1,1,1,1,1,1,1,1,1,1,1,1,1,1,1,1,1,1,1,1,1,1,1,1,1,1,1,1,1,1,1,1,1,1,1,1,1],\"yaxis\":\"y\",\"type\":\"histogram\"}],                        {\"template\":{\"data\":{\"bar\":[{\"error_x\":{\"color\":\"#2a3f5f\"},\"error_y\":{\"color\":\"#2a3f5f\"},\"marker\":{\"line\":{\"color\":\"#E5ECF6\",\"width\":0.5},\"pattern\":{\"fillmode\":\"overlay\",\"size\":10,\"solidity\":0.2}},\"type\":\"bar\"}],\"barpolar\":[{\"marker\":{\"line\":{\"color\":\"#E5ECF6\",\"width\":0.5},\"pattern\":{\"fillmode\":\"overlay\",\"size\":10,\"solidity\":0.2}},\"type\":\"barpolar\"}],\"carpet\":[{\"aaxis\":{\"endlinecolor\":\"#2a3f5f\",\"gridcolor\":\"white\",\"linecolor\":\"white\",\"minorgridcolor\":\"white\",\"startlinecolor\":\"#2a3f5f\"},\"baxis\":{\"endlinecolor\":\"#2a3f5f\",\"gridcolor\":\"white\",\"linecolor\":\"white\",\"minorgridcolor\":\"white\",\"startlinecolor\":\"#2a3f5f\"},\"type\":\"carpet\"}],\"choropleth\":[{\"colorbar\":{\"outlinewidth\":0,\"ticks\":\"\"},\"type\":\"choropleth\"}],\"contour\":[{\"colorbar\":{\"outlinewidth\":0,\"ticks\":\"\"},\"colorscale\":[[0.0,\"#0d0887\"],[0.1111111111111111,\"#46039f\"],[0.2222222222222222,\"#7201a8\"],[0.3333333333333333,\"#9c179e\"],[0.4444444444444444,\"#bd3786\"],[0.5555555555555556,\"#d8576b\"],[0.6666666666666666,\"#ed7953\"],[0.7777777777777778,\"#fb9f3a\"],[0.8888888888888888,\"#fdca26\"],[1.0,\"#f0f921\"]],\"type\":\"contour\"}],\"contourcarpet\":[{\"colorbar\":{\"outlinewidth\":0,\"ticks\":\"\"},\"type\":\"contourcarpet\"}],\"heatmap\":[{\"colorbar\":{\"outlinewidth\":0,\"ticks\":\"\"},\"colorscale\":[[0.0,\"#0d0887\"],[0.1111111111111111,\"#46039f\"],[0.2222222222222222,\"#7201a8\"],[0.3333333333333333,\"#9c179e\"],[0.4444444444444444,\"#bd3786\"],[0.5555555555555556,\"#d8576b\"],[0.6666666666666666,\"#ed7953\"],[0.7777777777777778,\"#fb9f3a\"],[0.8888888888888888,\"#fdca26\"],[1.0,\"#f0f921\"]],\"type\":\"heatmap\"}],\"heatmapgl\":[{\"colorbar\":{\"outlinewidth\":0,\"ticks\":\"\"},\"colorscale\":[[0.0,\"#0d0887\"],[0.1111111111111111,\"#46039f\"],[0.2222222222222222,\"#7201a8\"],[0.3333333333333333,\"#9c179e\"],[0.4444444444444444,\"#bd3786\"],[0.5555555555555556,\"#d8576b\"],[0.6666666666666666,\"#ed7953\"],[0.7777777777777778,\"#fb9f3a\"],[0.8888888888888888,\"#fdca26\"],[1.0,\"#f0f921\"]],\"type\":\"heatmapgl\"}],\"histogram\":[{\"marker\":{\"pattern\":{\"fillmode\":\"overlay\",\"size\":10,\"solidity\":0.2}},\"type\":\"histogram\"}],\"histogram2d\":[{\"colorbar\":{\"outlinewidth\":0,\"ticks\":\"\"},\"colorscale\":[[0.0,\"#0d0887\"],[0.1111111111111111,\"#46039f\"],[0.2222222222222222,\"#7201a8\"],[0.3333333333333333,\"#9c179e\"],[0.4444444444444444,\"#bd3786\"],[0.5555555555555556,\"#d8576b\"],[0.6666666666666666,\"#ed7953\"],[0.7777777777777778,\"#fb9f3a\"],[0.8888888888888888,\"#fdca26\"],[1.0,\"#f0f921\"]],\"type\":\"histogram2d\"}],\"histogram2dcontour\":[{\"colorbar\":{\"outlinewidth\":0,\"ticks\":\"\"},\"colorscale\":[[0.0,\"#0d0887\"],[0.1111111111111111,\"#46039f\"],[0.2222222222222222,\"#7201a8\"],[0.3333333333333333,\"#9c179e\"],[0.4444444444444444,\"#bd3786\"],[0.5555555555555556,\"#d8576b\"],[0.6666666666666666,\"#ed7953\"],[0.7777777777777778,\"#fb9f3a\"],[0.8888888888888888,\"#fdca26\"],[1.0,\"#f0f921\"]],\"type\":\"histogram2dcontour\"}],\"mesh3d\":[{\"colorbar\":{\"outlinewidth\":0,\"ticks\":\"\"},\"type\":\"mesh3d\"}],\"parcoords\":[{\"line\":{\"colorbar\":{\"outlinewidth\":0,\"ticks\":\"\"}},\"type\":\"parcoords\"}],\"pie\":[{\"automargin\":true,\"type\":\"pie\"}],\"scatter\":[{\"marker\":{\"colorbar\":{\"outlinewidth\":0,\"ticks\":\"\"}},\"type\":\"scatter\"}],\"scatter3d\":[{\"line\":{\"colorbar\":{\"outlinewidth\":0,\"ticks\":\"\"}},\"marker\":{\"colorbar\":{\"outlinewidth\":0,\"ticks\":\"\"}},\"type\":\"scatter3d\"}],\"scattercarpet\":[{\"marker\":{\"colorbar\":{\"outlinewidth\":0,\"ticks\":\"\"}},\"type\":\"scattercarpet\"}],\"scattergeo\":[{\"marker\":{\"colorbar\":{\"outlinewidth\":0,\"ticks\":\"\"}},\"type\":\"scattergeo\"}],\"scattergl\":[{\"marker\":{\"colorbar\":{\"outlinewidth\":0,\"ticks\":\"\"}},\"type\":\"scattergl\"}],\"scattermapbox\":[{\"marker\":{\"colorbar\":{\"outlinewidth\":0,\"ticks\":\"\"}},\"type\":\"scattermapbox\"}],\"scatterpolar\":[{\"marker\":{\"colorbar\":{\"outlinewidth\":0,\"ticks\":\"\"}},\"type\":\"scatterpolar\"}],\"scatterpolargl\":[{\"marker\":{\"colorbar\":{\"outlinewidth\":0,\"ticks\":\"\"}},\"type\":\"scatterpolargl\"}],\"scatterternary\":[{\"marker\":{\"colorbar\":{\"outlinewidth\":0,\"ticks\":\"\"}},\"type\":\"scatterternary\"}],\"surface\":[{\"colorbar\":{\"outlinewidth\":0,\"ticks\":\"\"},\"colorscale\":[[0.0,\"#0d0887\"],[0.1111111111111111,\"#46039f\"],[0.2222222222222222,\"#7201a8\"],[0.3333333333333333,\"#9c179e\"],[0.4444444444444444,\"#bd3786\"],[0.5555555555555556,\"#d8576b\"],[0.6666666666666666,\"#ed7953\"],[0.7777777777777778,\"#fb9f3a\"],[0.8888888888888888,\"#fdca26\"],[1.0,\"#f0f921\"]],\"type\":\"surface\"}],\"table\":[{\"cells\":{\"fill\":{\"color\":\"#EBF0F8\"},\"line\":{\"color\":\"white\"}},\"header\":{\"fill\":{\"color\":\"#C8D4E3\"},\"line\":{\"color\":\"white\"}},\"type\":\"table\"}]},\"layout\":{\"annotationdefaults\":{\"arrowcolor\":\"#2a3f5f\",\"arrowhead\":0,\"arrowwidth\":1},\"autotypenumbers\":\"strict\",\"coloraxis\":{\"colorbar\":{\"outlinewidth\":0,\"ticks\":\"\"}},\"colorscale\":{\"diverging\":[[0,\"#8e0152\"],[0.1,\"#c51b7d\"],[0.2,\"#de77ae\"],[0.3,\"#f1b6da\"],[0.4,\"#fde0ef\"],[0.5,\"#f7f7f7\"],[0.6,\"#e6f5d0\"],[0.7,\"#b8e186\"],[0.8,\"#7fbc41\"],[0.9,\"#4d9221\"],[1,\"#276419\"]],\"sequential\":[[0.0,\"#0d0887\"],[0.1111111111111111,\"#46039f\"],[0.2222222222222222,\"#7201a8\"],[0.3333333333333333,\"#9c179e\"],[0.4444444444444444,\"#bd3786\"],[0.5555555555555556,\"#d8576b\"],[0.6666666666666666,\"#ed7953\"],[0.7777777777777778,\"#fb9f3a\"],[0.8888888888888888,\"#fdca26\"],[1.0,\"#f0f921\"]],\"sequentialminus\":[[0.0,\"#0d0887\"],[0.1111111111111111,\"#46039f\"],[0.2222222222222222,\"#7201a8\"],[0.3333333333333333,\"#9c179e\"],[0.4444444444444444,\"#bd3786\"],[0.5555555555555556,\"#d8576b\"],[0.6666666666666666,\"#ed7953\"],[0.7777777777777778,\"#fb9f3a\"],[0.8888888888888888,\"#fdca26\"],[1.0,\"#f0f921\"]]},\"colorway\":[\"#636efa\",\"#EF553B\",\"#00cc96\",\"#ab63fa\",\"#FFA15A\",\"#19d3f3\",\"#FF6692\",\"#B6E880\",\"#FF97FF\",\"#FECB52\"],\"font\":{\"color\":\"#2a3f5f\"},\"geo\":{\"bgcolor\":\"white\",\"lakecolor\":\"white\",\"landcolor\":\"#E5ECF6\",\"showlakes\":true,\"showland\":true,\"subunitcolor\":\"white\"},\"hoverlabel\":{\"align\":\"left\"},\"hovermode\":\"closest\",\"mapbox\":{\"style\":\"light\"},\"paper_bgcolor\":\"white\",\"plot_bgcolor\":\"#E5ECF6\",\"polar\":{\"angularaxis\":{\"gridcolor\":\"white\",\"linecolor\":\"white\",\"ticks\":\"\"},\"bgcolor\":\"#E5ECF6\",\"radialaxis\":{\"gridcolor\":\"white\",\"linecolor\":\"white\",\"ticks\":\"\"}},\"scene\":{\"xaxis\":{\"backgroundcolor\":\"#E5ECF6\",\"gridcolor\":\"white\",\"gridwidth\":2,\"linecolor\":\"white\",\"showbackground\":true,\"ticks\":\"\",\"zerolinecolor\":\"white\"},\"yaxis\":{\"backgroundcolor\":\"#E5ECF6\",\"gridcolor\":\"white\",\"gridwidth\":2,\"linecolor\":\"white\",\"showbackground\":true,\"ticks\":\"\",\"zerolinecolor\":\"white\"},\"zaxis\":{\"backgroundcolor\":\"#E5ECF6\",\"gridcolor\":\"white\",\"gridwidth\":2,\"linecolor\":\"white\",\"showbackground\":true,\"ticks\":\"\",\"zerolinecolor\":\"white\"}},\"shapedefaults\":{\"line\":{\"color\":\"#2a3f5f\"}},\"ternary\":{\"aaxis\":{\"gridcolor\":\"white\",\"linecolor\":\"white\",\"ticks\":\"\"},\"baxis\":{\"gridcolor\":\"white\",\"linecolor\":\"white\",\"ticks\":\"\"},\"bgcolor\":\"#E5ECF6\",\"caxis\":{\"gridcolor\":\"white\",\"linecolor\":\"white\",\"ticks\":\"\"}},\"title\":{\"x\":0.05},\"xaxis\":{\"automargin\":true,\"gridcolor\":\"white\",\"linecolor\":\"white\",\"ticks\":\"\",\"title\":{\"standoff\":15},\"zerolinecolor\":\"white\",\"zerolinewidth\":2},\"yaxis\":{\"automargin\":true,\"gridcolor\":\"white\",\"linecolor\":\"white\",\"ticks\":\"\",\"title\":{\"standoff\":15},\"zerolinecolor\":\"white\",\"zerolinewidth\":2}}},\"xaxis\":{\"anchor\":\"y\",\"domain\":[0.0,1.0],\"title\":{\"text\":\"x\"}},\"yaxis\":{\"anchor\":\"x\",\"domain\":[0.0,1.0],\"title\":{\"text\":\"sum of y\"}},\"legend\":{\"tracegroupgap\":0},\"margin\":{\"t\":60},\"barmode\":\"relative\"},                        {\"responsive\": true}                    ).then(function(){\n",
              "                            \n",
              "var gd = document.getElementById('2b89adb4-18c6-4b78-bb9d-11d74064ce97');\n",
              "var x = new MutationObserver(function (mutations, observer) {{\n",
              "        var display = window.getComputedStyle(gd).display;\n",
              "        if (!display || display === 'none') {{\n",
              "            console.log([gd, 'removed!']);\n",
              "            Plotly.purge(gd);\n",
              "            observer.disconnect();\n",
              "        }}\n",
              "}});\n",
              "\n",
              "// Listen for the removal of the full notebook cells\n",
              "var notebookContainer = gd.closest('#notebook-container');\n",
              "if (notebookContainer) {{\n",
              "    x.observe(notebookContainer, {childList: true});\n",
              "}}\n",
              "\n",
              "// Listen for the clearing of the current output cell\n",
              "var outputEl = gd.closest('.output');\n",
              "if (outputEl) {{\n",
              "    x.observe(outputEl, {childList: true});\n",
              "}}\n",
              "\n",
              "                        })                };                            </script>        </div>\n",
              "</body>\n",
              "</html>"
            ]
          },
          "metadata": {}
        }
      ]
    },
    {
      "cell_type": "markdown",
      "source": [
        "#### Confidence Intervals"
      ],
      "metadata": {
        "id": "4uTAbxov_2Se"
      }
    },
    {
      "cell_type": "code",
      "source": [
        "# Example 3-16. Retrieving a critical z-value\n",
        "from scipy.stats import norm\n",
        "\n",
        "def critical_z_value(p):\n",
        "  norm_dist = norm(loc = 0.0, scale = 1.0)\n",
        "  lower_area = (1.0 - p) / 2.0\n",
        "  upper_area = 1.0 - ((1.0 - p) / 2.0)\n",
        "  return norm_dist.ppf(lower_area), norm_dist.ppf(upper_area)\n",
        "\n",
        "print(critical_z_value(p = 0.95))"
      ],
      "metadata": {
        "colab": {
          "base_uri": "https://localhost:8080/"
        },
        "id": "J9Oz-tHO9aTC",
        "outputId": "cdd5f689-5baa-4d9c-fa71-498d7e8e027c"
      },
      "execution_count": 16,
      "outputs": [
        {
          "output_type": "stream",
          "name": "stdout",
          "text": [
            "(-1.959963984540054, 1.959963984540054)\n"
          ]
        }
      ]
    },
    {
      "cell_type": "code",
      "source": [
        "# Example 3-17. Calculating a confidence interval\n",
        "from math import sqrt\n",
        "from scipy.stats import norm\n",
        "\n",
        "def critical_z_value(p):\n",
        "  norm_dist = norm(loc = 0.0, scale = 1.0)\n",
        "  lower_area = (1.0 - p) / 2.0\n",
        "  upper_area = 1.0 - ((1.0 - p) / 2.0)\n",
        "  return norm_dist.ppf(lower_area), norm_dist.ppf(upper_area)\n",
        "\n",
        "def confidence_interval(p, sample_mean, sample_std, n):\n",
        "  lower, upper = critical_z_value(p)\n",
        "  lower_ci = lower * (sample_std / sqrt(n))\n",
        "  upper_ci = upper * (sample_std / sqrt(n))\n",
        "\n",
        "  return sample_mean + lower_ci, sample_mean + upper_ci\n",
        "\n",
        "print(confidence_interval(.95, 64.408, 2.05, 31))"
      ],
      "metadata": {
        "id": "j9Q7lItrAhBJ",
        "colab": {
          "base_uri": "https://localhost:8080/"
        },
        "outputId": "a11d1f56-deae-4369-8d53-c7c499f01036"
      },
      "execution_count": 17,
      "outputs": [
        {
          "output_type": "stream",
          "name": "stdout",
          "text": [
            "(63.68635915701992, 65.12964084298008)\n"
          ]
        }
      ]
    },
    {
      "cell_type": "markdown",
      "source": [
        "#### Hypothesis Testing"
      ],
      "metadata": {
        "id": "qKqDvWrAfTl_"
      }
    },
    {
      "cell_type": "code",
      "source": [
        "# Example 3-18. Calculating the probability of cold recovery between 15-21 days\n",
        "from scipy.stats import norm\n",
        "\n",
        "# A cold has an 18 day mean recovery, 1.5 std dev\n",
        "mean = 18\n",
        "std_dev = 1.5\n",
        "\n",
        "# 95% probability recovery time takes [15, 21] days\n",
        "x = norm.cdf(21, mean, std_dev) - norm.cdf(15, mean, std_dev)\n",
        "\n",
        "print(x)"
      ],
      "metadata": {
        "colab": {
          "base_uri": "https://localhost:8080/"
        },
        "id": "F9mF2WNmfJSd",
        "outputId": "5be66b72-93a2-427b-dd8e-5b5b8a198a74"
      },
      "execution_count": 18,
      "outputs": [
        {
          "output_type": "stream",
          "name": "stdout",
          "text": [
            "0.9544997361036416\n"
          ]
        }
      ]
    },
    {
      "cell_type": "markdown",
      "source": [
        "##### One-Tailed Test"
      ],
      "metadata": {
        "id": "Z0dRoJPWg35j"
      }
    },
    {
      "cell_type": "code",
      "source": [
        ""
      ],
      "metadata": {
        "id": "nDtuEvwbgnGT"
      },
      "execution_count": null,
      "outputs": []
    }
  ]
}